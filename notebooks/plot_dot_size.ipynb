{
 "cells": [
  {
   "cell_type": "code",
   "execution_count": 1,
   "metadata": {},
   "outputs": [],
   "source": [
    "# %matplotlib inline\n",
    "from matplotlib.gridspec import GridSpec\n",
    "import matplotlib.pyplot as plt\n",
    "import matplotlib as mpl\n",
    "import seaborn as sns\n",
    "mpl.style.use('seaborn-white')\n",
    "import multiprocess as mp\n",
    "import numpy as np\n",
    "import pandas as pd\n",
    "import bioframe\n",
    "import cooltools\n",
    "import cooler\n",
    "#import bbi\n",
    "from cooltools import snipping\n",
    "import sys\n"
   ]
  },
  {
   "cell_type": "code",
   "execution_count": 3,
   "metadata": {},
   "outputs": [
    {
     "name": "stderr",
     "output_type": "stream",
     "text": [
      "/home/ba69w/tools/miniconda3/envs/cooler-env/lib/python3.7/site-packages/ipykernel_launcher.py:26: FutureWarning: read_table is deprecated, use read_csv instead, passing sep='\\t'.\n"
     ]
    },
    {
     "name": "stdout",
     "output_type": "stream",
     "text": [
      "(3950, 19)\n",
      "(13017, 19)\n",
      "(22507, 19)\n"
     ]
    },
    {
     "name": "stderr",
     "output_type": "stream",
     "text": [
      "/home/ba69w/tools/miniconda3/envs/cooler-env/lib/python3.7/site-packages/ipykernel_launcher.py:39: UserWarning: Attempted to set non-positive left xlim on a log-scaled axis.\n",
      "Invalid limit will be ignored.\n"
     ]
    },
    {
     "data": {
      "image/png": "[encoded data removed]",
      "text/plain": [
       "<Figure size 252x252 with 1 Axes>"
      ]
     },
     "metadata": {
      "needs_background": "light"
     },
     "output_type": "display_data"
    }
   ],
   "source": [
    "dot_file_FA ='/nl/umw_job_dekker/users/ba69w/HiC_Analysis/U54_deep/snakedots/U54-ESC4DN-FA-DpnII-R1-R2_hg38/combineddots/cloops_U54-ESC4DN-FA-DpnII-R1-R2_hg38.mapq_30.1000.mcool.combined.bedpe.postproc'\n",
    "dot_file_DSG='/nl/umw_job_dekker/users/ba69w/HiC_Analysis/U54_deep/snakedots/U54-ESC4DN-DSG-DpnII-R1-R2_hg38/combineddots/cloops_U54-ESC4DN-DSG-DpnII-R1-R2_hg38.mapq_30.1000.mcool.combined.bedpe.postproc'\n",
    "dot_file_MNase='/nl/umw_job_dekker/users/ba69w/HiC_Analysis/U54_deep/snakedots/U54-H1ESC4DN-FA-DSG-MNase-R1-R2_hg38/combineddots/cloops_U54-H1ESC4DN-FA-DSG-MNase-R1-R2_hg38.mapq_30.1000.mcool.combined.bedpe.postproc'\n",
    "\n",
    "#dot_file_FA ='/nl/umw_job_dekker/users/ba69w/HiC_Analysis/U54_deep/snakedots/U54-HFFc6-FA-DpnII-R1-R2_hg38/combineddots/cloops_U54-HFFc6-FA-DpnII-R1-R2_hg38.mapq_30.1000.mcool.combined.bedpe.postproc'\n",
    "#dot_file_DSG='/nl/umw_job_dekker/users/ba69w/HiC_Analysis/U54_deep/snakedots/U54-HFFc6-DSG-DpnII-R1-R2_hg38/combineddots/cloops_U54-HFFc6-DSG-DpnII-R1-R2_hg38.mapq_30.1000.mcool.combined.bedpe.postproc'\n",
    "#dot_file_MNase='/nl/umw_job_dekker/users/ba69w/HiC_Analysis/U54_deep/snakedots/U54-HFFc6-FA-DSG-MNase-R1-R3.hg38/combineddots/cloops_U54-HFFc6-FA-DSG-MNase-R1-R3.hg38.mapq_30.1000.mcool.combined.bedpe.postproc'\n",
    "\n",
    "\n",
    "ddd = [dot_file_FA,dot_file_DSG,dot_file_MNase]\n",
    "lll = ['Hi-C-FA-DpnII','Hi-C-DSG-DpnII','Micro-C-DSG-MNase']\n",
    "col=['r','b','g']\n",
    "def dot_size_hist(dot_files,labels):\n",
    "    resolution=10000\n",
    "    plt.figure(figsize=(3.5 , 3.5))\n",
    "    w=7\n",
    "    s=(2*w-2)*resolution\n",
    "    bins=np.geomspace(s,20000000,num=50)\n",
    "    hist_keys = {\"histtype\":'step',\n",
    "                 \"cumulative\":True,\n",
    "                 \"density\":True,\n",
    "                 \"linewidth\":2,}\n",
    "    ax=plt.subplot(1,1,1)\n",
    "    i=0\n",
    "    for dot_file,label in zip(dot_files,labels):\n",
    "        sites = pd.read_table(dot_file)\n",
    "        # print(sites.head(6))\n",
    "        dists=(sites['start2']-sites['start1'])\n",
    "        #ax.set_xlim(0, 3000000)\n",
    "        ax.hist(dists,bins=bins,color=col[i],label=label,**hist_keys)\n",
    "        print(sites.shape)\n",
    "        i=i+1\n",
    "\n",
    "    ax.set_xscale('log')\n",
    "    ax.set_ylabel('Frequency')\n",
    "    ax.set_xlabel('Dot size')\n",
    "    #plt.savefig('U54-HFF-DSG_dotsize.png')\n",
    "\n",
    "    ax.set_xlim(0, 3000000)\n",
    "    #plt.savefig('U54-HFF-DSG_dotsize.png')\n",
    "    # plt.legend(loc=\"best\")\n",
    "    plt.legend(loc=\"lower right\")\n",
    "\n",
    "\n",
    "\n",
    "dot_size_hist(ddd,lll)\n",
    "plt.savefig(\"Dotsize_ESC.pdf\")"
   ]
  },
  {
   "cell_type": "code",
   "execution_count": 9,
   "metadata": {
    "scrolled": false
   },
   "outputs": [
    {
     "name": "stderr",
     "output_type": "stream",
     "text": [
      "/home/ba69w/tools/miniconda3/envs/cooler-env/lib/python3.7/site-packages/ipykernel_launcher.py:31: FutureWarning: read_table is deprecated, use read_csv instead, passing sep='\\t'.\n"
     ]
    },
    {
     "name": "stdout",
     "output_type": "stream",
     "text": [
      "(19210, 19)\n",
      "(30403, 19)\n"
     ]
    },
    {
     "name": "stderr",
     "output_type": "stream",
     "text": [
      "/home/ba69w/tools/miniconda3/envs/cooler-env/lib/python3.7/site-packages/ipykernel_launcher.py:44: UserWarning: Attempted to set non-positive left xlim on a log-scaled axis.\n",
      "Invalid limit will be ignored.\n"
     ]
    },
    {
     "data": {
      "image/png": "[encoded data removed]",
      "text/plain": [
       "<Figure size 252x252 with 1 Axes>"
      ]
     },
     "metadata": {
      "needs_background": "light"
     },
     "output_type": "display_data"
    }
   ],
   "source": [
    "#dot_file_FA = \"/nl/umw_job_dekker/users/ba69w/HiC_Analysis/U54_deep/snakedots/comp_dots/U54_ESC4DN_FA_DpnII_R1_R2_hg38_uniq_comp_to_U54_ESC4DN_DSG_DpnII_R1_R2_hg38.txt\"\n",
    "#dot_file_DSG = \"/nl/umw_job_dekker/users/ba69w/HiC_Analysis/U54_deep/snakedots/comp_dots/U54_ESC4DN_DSG_DpnII_R1_R2_hg38_uniq_comp_to_U54_ESC4DN_FA_DpnII_R1_R2_hg38.txt\"\n",
    "\n",
    "#dot_file_FA ='/nl/umw_job_dekker/users/ba69w/HiC_Analysis/U54_deep/snakedots/U54-ESC4DN-FA-DpnII-R1-R2_hg38/combineddots/cloops_U54-ESC4DN-FA-DpnII-R1-R2_hg38.mapq_30.1000.mcool.combined.bedpe.postproc'\n",
    "#dot_file_DSG='/nl/umw_job_dekker/users/ba69w/HiC_Analysis/U54_deep/snakedots/U54-ESC4DN-DSG-DpnII-R1-R2_hg38/combineddots/cloops_U54-ESC4DN-DSG-DpnII-R1-R2_hg38.mapq_30.1000.mcool.combined.bedpe.postproc'\n",
    "#dot_file_MNase='/nl/umw_job_dekker/users/ba69w/HiC_Analysis/U54_deep/snakedots/U54-H1ESC4DN-FA-DSG-MNase-R1-R2_hg38/combineddots/cloops_U54-H1ESC4DN-FA-DSG-MNase-R1-R2_hg38.mapq_30.1000.mcool.combined.bedpe.postproc'\n",
    "\n",
    "dot_file_FA ='/nl/umw_job_dekker/users/ba69w/HiC_Analysis/U54_deep/snakedots/U54-HFFc6-FA-DpnII-R1-R2_hg38/combineddots/cloops_U54-HFFc6-FA-DpnII-R1-R2_hg38.mapq_30.1000.mcool.combined.bedpe.postproc'\n",
    "dot_file_DSG='/nl/umw_job_dekker/users/ba69w/HiC_Analysis/U54_deep/snakedots/U54-HFFc6-DSG-DpnII-R1-R2_hg38/combineddots/cloops_U54-HFFc6-DSG-DpnII-R1-R2_hg38.mapq_30.1000.mcool.combined.bedpe.postproc'\n",
    "#dot_file_MNase='/nl/umw_job_dekker/users/ba69w/HiC_Analysis/U54_deep/snakedots/U54-HFFc6-FA-DSG-MNase-R1-R3.hg38/combineddots/cloops_U54-HFFc6-FA-DSG-MNase-R1-R3.hg38.mapq_30.1000.mcool.combined.bedpe.postproc'\n",
    "\n",
    "\n",
    "\n",
    "\n",
    "ddd = [dot_file_DSG,dot_file_MNase]\n",
    "lll = ['Hi-C-FA-DpnII','Hi-C-DSG-DpnII']\n",
    "col=['r','b']\n",
    "def dot_size_hist(dot_files,labels):\n",
    "    resolution=10000\n",
    "    plt.figure(figsize=(3.5 , 3.5))\n",
    "    w=7\n",
    "    s=(2*w-2)*resolution\n",
    "    bins=np.geomspace(s,20000000,num=50)\n",
    "    hist_keys = {\"histtype\":'step',\n",
    "                 \"cumulative\":True,\n",
    "                 \"density\":True,\n",
    "                 \"linewidth\":2,}\n",
    "    ax=plt.subplot(1,1,1)\n",
    "    i=0\n",
    "    for dot_file,label in zip(dot_files,labels):\n",
    "        sites = pd.read_table(dot_file)\n",
    "        # print(sites.head(6))\n",
    "        dists=(sites['start2']-sites['start1'])\n",
    "        #ax.set_xlim(0, 3000000)\n",
    "        ax.hist(dists,bins=bins,color=col[i],label=label,**hist_keys)\n",
    "        print(sites.shape)\n",
    "        i=i+1\n",
    "\n",
    "    ax.set_xscale('log')\n",
    "    ax.set_ylabel('Frequency')\n",
    "    ax.set_xlabel('Dot size')\n",
    "    #plt.savefig('U54-HFF-DSG_dotsize.png')\n",
    "\n",
    "    ax.set_xlim(0, 3000000)\n",
    "    #plt.savefig('U54-HFF-DSG_dotsize.png')\n",
    "    # plt.legend(loc=\"best\")\n",
    "    plt.legend(loc=\"lower right\")\n",
    "\n",
    "\n",
    "\n",
    "dot_size_hist(ddd,lll)\n"
   ]
  },
  {
   "cell_type": "code",
   "execution_count": null,
   "metadata": {},
   "outputs": [],
   "source": []
  }
 ],
 "metadata": {
  "kernelspec": {
   "display_name": "Python 3",
   "language": "python",
   "name": "python3"
  },
  "language_info": {
   "codemirror_mode": {
    "name": "ipython",
    "version": 3
   },
   "file_extension": ".py",
   "mimetype": "text/x-python",
   "name": "python",
   "nbconvert_exporter": "python",
   "pygments_lexer": "ipython3",
   "version": "3.7.1"
  }
 },
 "nbformat": 4,
 "nbformat_minor": 2
}
