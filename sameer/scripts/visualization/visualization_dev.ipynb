{
 "cells": [
  {
   "cell_type": "code",
   "execution_count": 2,
   "metadata": {
    "collapsed": true
   },
   "outputs": [],
   "source": [
    "os.environ['DISPLAY'] = 'localhost:10.0'"
   ]
  },
  {
   "cell_type": "code",
   "execution_count": 29,
   "metadata": {},
   "outputs": [],
   "source": [
    "%matplotlib qt5\n",
    "import mirnylib\n",
    "import mirnylib.plotting\n",
    "from mirnylib.numutils import observedOverExpected\n",
    "from mirnylib.genome import Genome\n",
    "import cooler\n",
    "import dekker\n",
    "import h5py"
   ]
  },
  {
   "cell_type": "code",
   "execution_count": 62,
   "metadata": {
    "collapsed": true
   },
   "outputs": [],
   "source": [
    "imp.reload(dekker)\n",
    "dek = dekker.DekkerLib()"
   ]
  },
  {
   "cell_type": "code",
   "execution_count": 82,
   "metadata": {},
   "outputs": [
    {
     "data": {
      "text/html": [
       "<div>\n",
       "<style>\n",
       "    .dataframe thead tr:only-child th {\n",
       "        text-align: right;\n",
       "    }\n",
       "\n",
       "    .dataframe thead th {\n",
       "        text-align: left;\n",
       "    }\n",
       "\n",
       "    .dataframe tbody tr th {\n",
       "        vertical-align: top;\n",
       "    }\n",
       "</style>\n",
       "<table border=\"1\" class=\"dataframe\">\n",
       "  <thead>\n",
       "    <tr style=\"text-align: right;\">\n",
       "      <th></th>\n",
       "      <th>enzyme</th>\n",
       "      <th>%trans</th>\n",
       "    </tr>\n",
       "    <tr>\n",
       "      <th>ind</th>\n",
       "      <th></th>\n",
       "      <th></th>\n",
       "    </tr>\n",
       "  </thead>\n",
       "  <tbody>\n",
       "    <tr>\n",
       "      <th>0</th>\n",
       "      <td>DdeI</td>\n",
       "      <td>45.35</td>\n",
       "    </tr>\n",
       "    <tr>\n",
       "      <th>1</th>\n",
       "      <td>DpnII</td>\n",
       "      <td>52.18</td>\n",
       "    </tr>\n",
       "    <tr>\n",
       "      <th>2</th>\n",
       "      <td>HindIII</td>\n",
       "      <td>38.39</td>\n",
       "    </tr>\n",
       "    <tr>\n",
       "      <th>3</th>\n",
       "      <td>NcoI</td>\n",
       "      <td>35.76</td>\n",
       "    </tr>\n",
       "  </tbody>\n",
       "</table>\n",
       "</div>"
      ],
      "text/plain": [
       "      enzyme  %trans\n",
       "ind                 \n",
       "0       DdeI   45.35\n",
       "1      DpnII   52.18\n",
       "2    HindIII   38.39\n",
       "3       NcoI   35.76"
      ]
     },
     "execution_count": 82,
     "metadata": {},
     "output_type": "execute_result"
    }
   ],
   "source": [
    "subset = dek.filter_lib({'cell type':'PFE','crosslinker':'FA'})\n",
    "subset[['enzyme','%trans']]"
   ]
  },
  {
   "cell_type": "code",
   "execution_count": 83,
   "metadata": {},
   "outputs": [],
   "source": [
    "loops = dekker.get_loops(subset)"
   ]
  },
  {
   "cell_type": "code",
   "execution_count": 84,
   "metadata": {},
   "outputs": [
    {
     "data": {
      "text/html": [
       "<div>\n",
       "<style>\n",
       "    .dataframe thead tr:only-child th {\n",
       "        text-align: right;\n",
       "    }\n",
       "\n",
       "    .dataframe thead th {\n",
       "        text-align: left;\n",
       "    }\n",
       "\n",
       "    .dataframe tbody tr th {\n",
       "        vertical-align: top;\n",
       "    }\n",
       "</style>\n",
       "<table border=\"1\" class=\"dataframe\">\n",
       "  <thead>\n",
       "    <tr style=\"text-align: right;\">\n",
       "      <th></th>\n",
       "      <th>name</th>\n",
       "      <th>mask</th>\n",
       "      <th>totals</th>\n",
       "    </tr>\n",
       "  </thead>\n",
       "  <tbody>\n",
       "    <tr>\n",
       "      <th>0</th>\n",
       "      <td>U54-PFE-FA-20161031-DdeI__08NOV16_PE50_C-Monster</td>\n",
       "      <td>[[[451.0, 455.0, 457.0, 454.0, 452.0, 458.0, 4...</td>\n",
       "      <td>[[[383.845564103, 452.753935582, 385.545134354...</td>\n",
       "    </tr>\n",
       "    <tr>\n",
       "      <th>1</th>\n",
       "      <td>U54-PFE-FA-DpnII-20161118__22NOV16_PE50_C-Monster</td>\n",
       "      <td>[[[452.0, 453.0, 453.0, 451.0, 450.0, 456.0, 4...</td>\n",
       "      <td>[[[475.548243609, 397.711737747, 365.362027884...</td>\n",
       "    </tr>\n",
       "    <tr>\n",
       "      <th>2</th>\n",
       "      <td>U54-PFE-FA-HindIII-20161206__13DEC16_C-Monster...</td>\n",
       "      <td>[[[460.0, 455.0, 458.0, 457.0, 456.0, 459.0, 4...</td>\n",
       "      <td>[[[411.101617095, 361.01766396, 397.673730584,...</td>\n",
       "    </tr>\n",
       "    <tr>\n",
       "      <th>3</th>\n",
       "      <td>U54-PFE-FA-NcoI-20161014__18OCT16_PE50_HCKFGBB</td>\n",
       "      <td>[[[303.0, 304.0, 302.0, 306.0, 294.0, 286.0, 3...</td>\n",
       "      <td>[[[323.800944781, 279.192073471, 316.685854591...</td>\n",
       "    </tr>\n",
       "  </tbody>\n",
       "</table>\n",
       "</div>"
      ],
      "text/plain": [
       "                                                name  \\\n",
       "0   U54-PFE-FA-20161031-DdeI__08NOV16_PE50_C-Monster   \n",
       "1  U54-PFE-FA-DpnII-20161118__22NOV16_PE50_C-Monster   \n",
       "2  U54-PFE-FA-HindIII-20161206__13DEC16_C-Monster...   \n",
       "3     U54-PFE-FA-NcoI-20161014__18OCT16_PE50_HCKFGBB   \n",
       "\n",
       "                                                mask  \\\n",
       "0  [[[451.0, 455.0, 457.0, 454.0, 452.0, 458.0, 4...   \n",
       "1  [[[452.0, 453.0, 453.0, 451.0, 450.0, 456.0, 4...   \n",
       "2  [[[460.0, 455.0, 458.0, 457.0, 456.0, 459.0, 4...   \n",
       "3  [[[303.0, 304.0, 302.0, 306.0, 294.0, 286.0, 3...   \n",
       "\n",
       "                                              totals  \n",
       "0  [[[383.845564103, 452.753935582, 385.545134354...  \n",
       "1  [[[475.548243609, 397.711737747, 365.362027884...  \n",
       "2  [[[411.101617095, 361.01766396, 397.673730584,...  \n",
       "3  [[[323.800944781, 279.192073471, 316.685854591...  "
      ]
     },
     "execution_count": 84,
     "metadata": {},
     "output_type": "execute_result"
    }
   ],
   "source": [
    "loops"
   ]
  },
  {
   "cell_type": "code",
   "execution_count": 38,
   "metadata": {},
   "outputs": [],
   "source": [
    "def factors(n, inv):\n",
    "#    if all(n % i for i in range(2, n)):\n",
    "    if n ==3:\n",
    "        if inv:\n",
    "            return (3,1)\n",
    "        return (1,3)\n",
    "    else:\n",
    "        n_list = list(range(n,n+2))\n",
    "        most_sq = []\n",
    "        for num in n_list:\n",
    "            a = list((i, num//i) for i in range(1, int(num**0.5) + 1) if num % i == 0)\n",
    "            b = [y-x for x,y in a]\n",
    "            most_sq.append(a[b.index(min(b))])\n",
    "\n",
    "        b = [y-x for x,y in most_sq]\n",
    "        most_sq = most_sq[b.index(min(b))]\n",
    "        if inv:\n",
    "            return most_sq[::-1]\n",
    "        return most_sq\n",
    "#     else:\n",
    "#         a = list((i, n//i) for i in range(1, int(n**0.5) + 1) if n % i == 0)[-1]\n",
    "#         if inv:\n",
    "#             return a[::-1]\n",
    "#        return a\n",
    "\n",
    "\n",
    "\n",
    "def weight_func(matrix, power):\n",
    "    lgth = len(matrix)\n",
    "    if isinstance(power,(int, float)):\n",
    "        power = float(power)\n",
    "        ar = np.arange(0,lgth)\n",
    "        wt_mat = 1 / (1 + np.abs(ar[:,None] - ar[None,:])) ** power\n",
    "        matrix = matrix/wt_mat\n",
    "        return matrix\n",
    "            \n",
    "    elif callable(power):\n",
    "        return power(matrix)\n",
    "    \n",
    "    else:\n",
    "        med = []\n",
    "        for i, row in enumerate(matrix):\n",
    "            if i-1 < 0:\n",
    "                arr = row[(i+1):]\n",
    "            elif i+1 > len(row)-1:\n",
    "                arr = row[0:(i-1)]\n",
    "            else:\n",
    "                arr = np.concatenate((row[0:(i-1)],row[(i+1):]))\n",
    "            med.append(arr.sum())\n",
    "        matrix = matrix/np.median(med)\n",
    "        return matrix\n",
    "    \n",
    "    \n",
    "def lim_func(matrix, lim, func='max'):\n",
    "    if isinstance(lim, (int,float)):\n",
    "        return lim\n",
    "    elif isinstance(lim, str):\n",
    "        return np.diagonal(matrix, float(lim[1:])).mean()\n",
    "    else:\n",
    "        return None\n",
    "\n",
    "\n",
    "def visualize(array, weight='', lim=(None,None), colormap='fall', log=True, inv=False):\n",
    "    if log:\n",
    "        f = np.log\n",
    "    else:\n",
    "        f = lambda x: x\n",
    "        \n",
    "    num = len(array)\n",
    "    row,col = (4,12)#factors(num,inv)\n",
    "    fig = plt.figure(figsize=(25,20))\n",
    "    ax = [None]*num\n",
    "    \n",
    "    vmax = lim[0]\n",
    "    vmin = lim[1]\n",
    "    \n",
    "#     title = []\n",
    "#     ax_title_keys = []\n",
    "#     for key in ['cell type','condition','crosslinker','enzyme']:\n",
    "#         key_list = file_df[key].unique()\n",
    "#         if len(key_list)==1:\n",
    "#             if key_list[0] != '':\n",
    "#                 title.append(key+': '+key_list[0])\n",
    "#         else:\n",
    "#             ax_title_keys.append(key)\n",
    "#     title = ', '.join(title)\n",
    "#     ax_title_keys+=['res', '%trans']\n",
    "        \n",
    "    for i, matrix in enumerate(array):\n",
    "        \n",
    "        matrix = weight_func(matrix, weight)\n",
    "        vmax = lim_func(matrix, vmax,func='max')\n",
    "        vmin = lim_func(matrix, vmin,func='min')\n",
    "        if i==0:\n",
    "            ax[i] = fig.add_subplot(row,col,i+1)#, facecolor='k')\n",
    "        else:\n",
    "            ax[i] = fig.add_subplot(row,col,i+1, sharex=ax[0], sharey=ax[0])#, facecolor='k')\n",
    "        ax[i].set_adjustable('box-forced')\n",
    "        ax[i].set_aspect(1)\n",
    "#         ax_title = []\n",
    "#         for key in ax_title_keys:\n",
    "#             ax_title.append(key+': '+str(file[key]))\n",
    "#         ax_title = ', '.join(ax_title)\n",
    "#         ax[i].set_title(ax_title)\n",
    "\n",
    "        ax[i].set_yticklabels([])\n",
    "        ax[i].set_xticklabels([])\n",
    "        im = ax[i].imshow(f(matrix), cmap=colormap, vmax=vmax, vmin=vmin)\n",
    "        \n",
    "    \n",
    "    left = (row-1)*col\n",
    "    right = row*col-1\n",
    "    #ax[left].set_ylabel(r[0])\n",
    "    \n",
    "    cax = fig.add_axes([0.98, 0.25, 0.005, 0.5])\n",
    "    fig.colorbar(im, cax=cax, orientation='vertical',ticklocation='left')\n",
    "    \n",
    "\n",
    "#     if weight == '':\n",
    "#         fig.suptitle(title+'. Weighting: Median of marginals. Colorscale: '+('log'*log+'linear'*(not log)), fontsize=18, y=1)\n",
    "#     elif weight == observedOverExpected:\n",
    "#         fig.suptitle(title+'. Weighting: Observed over Expected. Colorscale: '+('log'*log+'linear'*(not log)), fontsize=18, y=1)\n",
    "#     elif isinstance(weight,int):\n",
    "#         fig.suptitle(title+'. Weighting: Diagonals weighted by s^'+int(weight)+' scaling. Colorscale: '+('log'*log+'linear'*(not log)), fontsize=18, y=1)\n",
    "    fig.tight_layout(rect=(0,0,0.97,0.97), w_pad=1)\n",
    "    plt.show()"
   ]
  },
  {
   "cell_type": "code",
   "execution_count": 86,
   "metadata": {
    "scrolled": true
   },
   "outputs": [
    {
     "name": "stderr",
     "output_type": "stream",
     "text": [
      "/home/sameer/miniconda3/lib/python3.6/site-packages/ipykernel_launcher.py:50: RuntimeWarning: invalid value encountered in true_divide\n",
      "/home/sameer/miniconda3/lib/python3.6/site-packages/matplotlib/figure.py:1742: UserWarning: This figure includes Axes that are not compatible with tight_layout, so its results might be incorrect.\n",
      "  warnings.warn(\"This figure includes Axes that are not \"\n",
      "/home/sameer/miniconda3/lib/python3.6/site-packages/matplotlib/colors.py:821: UserWarning: Warning: converting a masked element to nan.\n",
      "  dtype = np.min_scalar_type(value)\n",
      "/home/sameer/miniconda3/lib/python3.6/site-packages/numpy/ma/core.py:2809: UserWarning: Warning: converting a masked element to nan.\n",
      "  order=order, subok=True, ndmin=ndmin)\n"
     ]
    }
   ],
   "source": [
    "for pu in loops['totals'].values:\n",
    "    visualize(pu,log=False)"
   ]
  },
  {
   "cell_type": "code",
   "execution_count": 76,
   "metadata": {},
   "outputs": [
    {
     "data": {
      "text/plain": [
       "array([5, 1])"
      ]
     },
     "execution_count": 76,
     "metadata": {},
     "output_type": "execute_result"
    }
   ],
   "source": [
    "a = np.array([5,1])[-2:]\n",
    "a"
   ]
  },
  {
   "cell_type": "code",
   "execution_count": 77,
   "metadata": {
    "collapsed": true
   },
   "outputs": [],
   "source": [
    "a.sort()"
   ]
  },
  {
   "cell_type": "code",
   "execution_count": 78,
   "metadata": {},
   "outputs": [
    {
     "data": {
      "text/plain": [
       "array([1, 5])"
      ]
     },
     "execution_count": 78,
     "metadata": {},
     "output_type": "execute_result"
    }
   ],
   "source": [
    "a"
   ]
  },
  {
   "cell_type": "code",
   "execution_count": 80,
   "metadata": {},
   "outputs": [
    {
     "name": "stdout",
     "output_type": "stream",
     "text": [
      "/home/sameer/scalings_project/dekkerHires/coolers/loops/U54-PFE-FA-20161031-DdeI.5000.hdf5\r\n",
      "/home/sameer/scalings_project/dekkerHires/coolers/loops/U54-PFE-FA-DpnII-20161118.5000.hdf5\r\n",
      "/home/sameer/scalings_project/dekkerHires/coolers/loops/U54-PFE-FA-HindIII-20161206.5000.hdf5\r\n",
      "/home/sameer/scalings_project/dekkerHires/coolers/loops/U54-PFE-FA-NcoI-20161014.5000.hdf5\r\n"
     ]
    }
   ],
   "source": [
    "!ls /home/sameer/scalings_project/dekkerHires/coolers/loops/*PFE*FA*"
   ]
  },
  {
   "cell_type": "code",
   "execution_count": null,
   "metadata": {
    "collapsed": true
   },
   "outputs": [],
   "source": []
  }
 ],
 "metadata": {
  "kernelspec": {
   "display_name": "Python 3",
   "language": "python",
   "name": "python3"
  },
  "language_info": {
   "codemirror_mode": {
    "name": "ipython",
    "version": 3
   },
   "file_extension": ".py",
   "mimetype": "text/x-python",
   "name": "python",
   "nbconvert_exporter": "python",
   "pygments_lexer": "ipython3",
   "version": "3.6.2"
  }
 },
 "nbformat": 4,
 "nbformat_minor": 2
}
