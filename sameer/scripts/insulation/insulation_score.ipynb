{
 "cells": [
  {
   "cell_type": "code",
   "execution_count": 1,
   "metadata": {},
   "outputs": [],
   "source": [
    "import sys\n",
    "# print(sys.path)\n",
    "import numpy as np\n",
    "import pandas as pd\n",
    "import matplotlib.pyplot as plt\n",
    "import cooler\n",
    "from mirnylib.genome import Genome\n",
    "import cooltools.insulation as cool_insul\n",
    "from bioframe import bedslice\n",
    "%matplotlib qt5\n",
    "\n",
    "import warnings\n",
    "from cooltools.lib import peaks, numutils"
   ]
  },
  {
   "cell_type": "code",
   "execution_count": 2,
   "metadata": {},
   "outputs": [
    {
     "name": "stdout",
     "output_type": "stream",
     "text": [
      "/net/levsha/share/lab/dekkerU54/coolers/U54-ESC-EGS-DdeI-20161118.10000.cool\r\n"
     ]
    }
   ],
   "source": [
    "! ls /net/levsha/share/lab/dekkerU54/coolers/U54-ESC-EGS-DdeI-20161118.10000.cool"
   ]
  },
  {
   "cell_type": "code",
   "execution_count": 2,
   "metadata": {},
   "outputs": [],
   "source": [
    "c = cooler.Cooler('/net/levsha/share/lab/dekkerU54/coolers/U54-ESC-EGS-DdeI-20161118.10000.cool')"
   ]
  },
  {
   "cell_type": "code",
   "execution_count": 3,
   "metadata": {},
   "outputs": [],
   "source": [
    "def get_chrom_arms(c, gen_name):\n",
    "# Uses Genome class to get chromosomal regions\n",
    "    genome = Genome('/net/levsha/share/lab/genomes/'+gen_name)\n",
    "\n",
    "    name = []\n",
    "    start = []\n",
    "    end = []\n",
    "\n",
    "    for ind, val in enumerate(genome.chrmArmLens):\n",
    "        if ind%2==0:\n",
    "            start.append(0)\n",
    "            end.append(val)\n",
    "            a = val\n",
    "        else:\n",
    "            start.append(a)\n",
    "            end.append(val+a)\n",
    "        name.append(c.chromnames[ind//2])\n",
    "    \n",
    "    del name[-1]\n",
    "    end[-2] = end[-1]\n",
    "    del end[-1]\n",
    "    del start[-1]\n",
    "    \n",
    "    regions = list(zip(name, start, end))\n",
    "\n",
    "    return regions\n",
    "# regions = get_chrom_arms(c, 'hg19')\n",
    "# region = regions[0]"
   ]
  },
  {
   "cell_type": "markdown",
   "metadata": {},
   "source": [
    "## Testing Single Window Insulation Score from Cooltools"
   ]
  },
  {
   "cell_type": "markdown",
   "metadata": {},
   "source": [
    "Testing full insulating code"
   ]
  },
  {
   "cell_type": "code",
   "execution_count": 4,
   "metadata": {},
   "outputs": [],
   "source": [
    "result = cool_insul.find_insulating_boundaries(c, window_bp=[50000, 100000], min_dist_bad_bin=2, \n",
    "                                                         balance='weight', ignore_diags=None, \n",
    "                                                         chromosomes=None)"
   ]
  },
  {
   "cell_type": "code",
   "execution_count": 5,
   "metadata": {},
   "outputs": [],
   "source": [
    "reg_res = bedslice(result.groupby('chrom'), region[0], region[1], region[2])"
   ]
  },
  {
   "cell_type": "markdown",
   "metadata": {},
   "source": [
    "Testing insulating diamond code"
   ]
  },
  {
   "cell_type": "code",
   "execution_count": null,
   "metadata": {},
   "outputs": [],
   "source": [
    "pix = c.matrix(balance=True, as_pixels=True).fetch(region,region)\n",
    "bins = c.bins().fetch(region)"
   ]
  },
  {
   "cell_type": "code",
   "execution_count": null,
   "metadata": {},
   "outputs": [],
   "source": [
    "ig_d = c._load_attrs(c.root.rstrip('/')+'/bins/weight')['ignore_diags']"
   ]
  },
  {
   "cell_type": "code",
   "execution_count": null,
   "metadata": {},
   "outputs": [],
   "source": [
    "diam_res = cool_insul.insul_diamond(pix, bins, window=10, ignore_diags=ig_d, balanced=True, norm_by_median=True)\n",
    "diam_res[diam_res==0] = np.nan\n",
    "diam_res = np.log2(diam_res)"
   ]
  },
  {
   "cell_type": "markdown",
   "metadata": {},
   "source": [
    "Compare both results"
   ]
  },
  {
   "cell_type": "code",
   "execution_count": null,
   "metadata": {},
   "outputs": [],
   "source": [
    "plt.plot(diam_res)"
   ]
  },
  {
   "cell_type": "code",
   "execution_count": null,
   "metadata": {},
   "outputs": [],
   "source": [
    "reg_res['log2_insulation_score_50000'].plot()"
   ]
  },
  {
   "cell_type": "markdown",
   "metadata": {},
   "source": [
    "## Modifying find_insulating_boundaries so that it can iterate through multiple window sizes"
   ]
  },
  {
   "cell_type": "code",
   "execution_count": null,
   "metadata": {},
   "outputs": [],
   "source": [
    "def find_insulating_boundaries(\n",
    "    clr,\n",
    "    window_bp=100000,\n",
    "    min_dist_bad_bin=2, \n",
    "    balance='weight',\n",
    "    ignore_diags=None,\n",
    "    chromosomes=None,\n",
    "):\n",
    "    '''Calculate the diamond insulation scores and call insulating boundaries.\n",
    "\n",
    "    Parameters\n",
    "    ----------\n",
    "    c : cooler.Cooler\n",
    "        A cooler with balanced Hi-C data.\n",
    "    window_bp : int or list\n",
    "        The size of the sliding diamond window used to calculate the insulation\n",
    "        score. If a list is provided, then a insulation score if done for each\n",
    "        value of window_bp.\n",
    "    min_dist_bad_bin : int\n",
    "        The minimal allowed distance to a bad bin. Do not calculate insulation\n",
    "        scores for bins having a bad bin closer than this distance.\n",
    "    ignore_diags : int\n",
    "        The number of diagonals to ignore. If None, equals the number of \n",
    "        diagonals ignored during IC balancing.\n",
    "\n",
    "    Returns\n",
    "    -------\n",
    "    ins_table : pandas.DataFrame\n",
    "        A table containing the insulation scores of the genomic bins and \n",
    "        the insulating boundary strengths.\n",
    "    '''\n",
    "    if chromosomes is None:\n",
    "        chromosomes = clr.chromnames\n",
    "\n",
    "    bin_size = clr.info['bin-size']\n",
    "    ignore_diags = (ignore_diags \n",
    "        if ignore_diags is not None \n",
    "        else clr._load_attrs(clr.root.rstrip('/')+'/bins/weight')['ignore_diags'] )\n",
    "    \n",
    "    if isinstance(window_bp, int):\n",
    "        window_bp = [window_bp]\n",
    "    window_bp = np.array(window_bp)\n",
    "    window_bins = window_bp // bin_size\n",
    "    \n",
    "    bad_win_sizes = window_bp % bin_size !=0 \n",
    "    if np.any(bad_win_sizes):\n",
    "        raise Exception(\n",
    "            'The window sizes {} has to be a multiple of the bin size {}'.format(\n",
    "                window_bp[bad_win_sizes], bin_size))\n",
    "        \n",
    "    ins_chrom_tables = []\n",
    "    for chrom in chromosomes:\n",
    "        chrom_bins = clr.bins().fetch(chrom)\n",
    "        chrom_pixels = clr.matrix(as_pixels=True, balance=balance).fetch(chrom)\n",
    "        \n",
    "        is_bad_bin = np.isnan(chrom_bins['weight'].values)\n",
    "        bad_bin_neighbor = np.zeros_like(is_bad_bin)\n",
    "        for i in range(0, min_dist_bad_bin):\n",
    "            if i == 0:\n",
    "                bad_bin_neighbor = bad_bin_neighbor | is_bad_bin\n",
    "            else:\n",
    "                bad_bin_neighbor = bad_bin_neighbor | np.r_[[True]*i, is_bad_bin[:-i]]\n",
    "                bad_bin_neighbor = bad_bin_neighbor | np.r_[is_bad_bin[i:], [True]*i]            \n",
    "\n",
    "        ins_chrom = chrom_bins[['chrom', 'start', 'end']].copy()\n",
    "        ins_chrom['bad_bin_masked'] = bad_bin_neighbor\n",
    "        \n",
    "        for j, win_bin in enumerate(window_bins):        \n",
    "            with warnings.catch_warnings():                      \n",
    "                warnings.simplefilter(\"ignore\", RuntimeWarning)  \n",
    "                ins_track = cool_insul.insul_diamond(chrom_pixels, chrom_bins, \n",
    "                    window=win_bin, ignore_diags=ignore_diags)\n",
    "                ins_track[ins_track==0] = np.nan\n",
    "                ins_track = np.log2(ins_track)\n",
    "\n",
    "            ins_track[bad_bin_neighbor] = np.nan\n",
    "            ins_track[~np.isfinite(ins_track)] = np.nan\n",
    "\n",
    "            ins_chrom['log2_insulation_score_{}'.format(window_bp[j])] = ins_track\n",
    "\n",
    "            poss, proms = peaks.find_peak_prominence(-ins_track)\n",
    "            ins_prom_track = np.zeros_like(ins_track) * np.nan\n",
    "            ins_prom_track[poss] = proms\n",
    "            ins_chrom['boundary_strength_{}'.format(window_bp[j])] = ins_prom_track\n",
    "\n",
    "        ins_chrom_tables.append(ins_chrom)\n",
    "\n",
    "    ins_table = pd.concat(ins_chrom_tables)\n",
    "    return ins_table"
   ]
  },
  {
   "cell_type": "code",
   "execution_count": null,
   "metadata": {},
   "outputs": [],
   "source": [
    "%%time\n",
    "result = cool_insul.find_insulating_boundaries(c, window_bp=[10000, 20000, 50000, 100000], min_dist_bad_bin=2, \n",
    "                                                         balance='weight', ignore_diags=None, \n",
    "                                                         chromosomes=None)"
   ]
  },
  {
   "cell_type": "code",
   "execution_count": null,
   "metadata": {},
   "outputs": [],
   "source": [
    "reg_res = bedslice(result.groupby('chrom'), region[0], region[1], region[2])"
   ]
  },
  {
   "cell_type": "markdown",
   "metadata": {},
   "source": [
    "Testing insulating diamond code"
   ]
  },
  {
   "cell_type": "code",
   "execution_count": null,
   "metadata": {},
   "outputs": [],
   "source": [
    "pix = c.matrix(balance=True, as_pixels=True).fetch(region,region)\n",
    "bins = c.bins().fetch(region)"
   ]
  },
  {
   "cell_type": "code",
   "execution_count": null,
   "metadata": {},
   "outputs": [],
   "source": [
    "ig_d = c._load_attrs(c.root.rstrip('/')+'/bins/weight')['ignore_diags']"
   ]
  },
  {
   "cell_type": "code",
   "execution_count": null,
   "metadata": {},
   "outputs": [],
   "source": [
    "diam_res = cool_insul.insul_diamond(pix, bins, window=2, ignore_diags=ig_d, balanced=True, norm_by_median=True)\n",
    "diam_res[diam_res==0] = np.nan\n",
    "diam_res = np.log2(diam_res)"
   ]
  },
  {
   "cell_type": "markdown",
   "metadata": {},
   "source": [
    "Compare both results"
   ]
  },
  {
   "cell_type": "code",
   "execution_count": null,
   "metadata": {},
   "outputs": [],
   "source": [
    "plt.plot(diam_res)"
   ]
  },
  {
   "cell_type": "code",
   "execution_count": null,
   "metadata": {},
   "outputs": [],
   "source": [
    "reg_res['log2_insulation_score_20000'].plot()"
   ]
  },
  {
   "cell_type": "markdown",
   "metadata": {},
   "source": [
    "## Comparing insulations scores of Hi-C and Micro-C"
   ]
  },
  {
   "cell_type": "markdown",
   "metadata": {},
   "source": [
    "Hi-C for HFF cells"
   ]
  },
  {
   "cell_type": "code",
   "execution_count": 4,
   "metadata": {},
   "outputs": [
    {
     "name": "stdout",
     "output_type": "stream",
     "text": [
      "/net/levsha/share/lab/dekkerU54/coolers/U54-ESC-DSG-20160722-DpnII.10000.cool\r\n",
      "/net/levsha/share/lab/dekkerU54/coolers/U54-ESC-DSG-DdeI-20161014.10000.cool\r\n",
      "/net/levsha/share/lab/dekkerU54/coolers/U54-ESC-DSG-DpnII-20170119.10000.cool\r\n",
      "/net/levsha/share/lab/dekkerU54/coolers/U54-ESC-DSG-HindIII-20161206.10000.cool\r\n",
      "/net/levsha/share/lab/dekkerU54/coolers/U54-ESC-EGS-20160812-DpnII.10000.cool\r\n",
      "/net/levsha/share/lab/dekkerU54/coolers/U54-ESC-EGS-DdeI-20161118.10000.cool\r\n",
      "/net/levsha/share/lab/dekkerU54/coolers/U54-ESC-EGS-DpnII-20170119.10000.cool\r\n",
      "/net/levsha/share/lab/dekkerU54/coolers/U54-ESC-EGS-HindIII-20161206.10000.cool\r\n",
      "/net/levsha/share/lab/dekkerU54/coolers/U54-ESC-FA-20160812-DpnII.10000.cool\r\n",
      "/net/levsha/share/lab/dekkerU54/coolers/U54-ESC-FA81216DpnII-Hi.10000.cool\r\n",
      "/net/levsha/share/lab/dekkerU54/coolers/U54-ESC-FA81216DpnII-Lo.10000.cool\r\n",
      "/net/levsha/share/lab/dekkerU54/coolers/U54-ESC-FA81216DpnII-wash-Hi.10000.cool\r\n",
      "/net/levsha/share/lab/dekkerU54/coolers/U54-ESC-FA81216DpnII-wash-Lo.10000.cool\r\n",
      "/net/levsha/share/lab/dekkerU54/coolers/U54-ESC-FA-DdeI-20161014.10000.cool\r\n",
      "/net/levsha/share/lab/dekkerU54/coolers/U54-ESC-FA-DpnII-20170119.10000.cool\r\n",
      "/net/levsha/share/lab/dekkerU54/coolers/U54-ESC-FA-NcoI-20161014.10000.cool\r\n",
      "/net/levsha/share/lab/dekkerU54/coolers/U54M-031116-ESC-R1.10000.cool\r\n"
     ]
    }
   ],
   "source": [
    "! ls /net/levsha/share/lab/dekkerU54/coolers/*ESC*.10000.cool"
   ]
  },
  {
   "cell_type": "code",
   "execution_count": null,
   "metadata": {},
   "outputs": [],
   "source": [
    "clr = cooler.Cooler('/net/levsha/share/lab/dekkerU54/coolers/U54-ESC-EGS-DdeI-20161118.10000.cool')"
   ]
  },
  {
   "cell_type": "code",
   "execution_count": null,
   "metadata": {},
   "outputs": [],
   "source": []
  },
  {
   "cell_type": "code",
   "execution_count": null,
   "metadata": {},
   "outputs": [],
   "source": []
  },
  {
   "cell_type": "code",
   "execution_count": null,
   "metadata": {},
   "outputs": [],
   "source": []
  },
  {
   "cell_type": "code",
   "execution_count": null,
   "metadata": {
    "scrolled": true
   },
   "outputs": [],
   "source": []
  },
  {
   "cell_type": "code",
   "execution_count": null,
   "metadata": {},
   "outputs": [],
   "source": []
  }
 ],
 "metadata": {
  "kernelspec": {
   "display_name": "Python 3",
   "language": "python",
   "name": "python3"
  },
  "language_info": {
   "codemirror_mode": {
    "name": "ipython",
    "version": 3
   },
   "file_extension": ".py",
   "mimetype": "text/x-python",
   "name": "python",
   "nbconvert_exporter": "python",
   "pygments_lexer": "ipython3",
   "version": "3.6.2"
  }
 },
 "nbformat": 4,
 "nbformat_minor": 2
}
