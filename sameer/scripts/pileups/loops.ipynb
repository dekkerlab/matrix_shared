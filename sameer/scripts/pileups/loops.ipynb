{
 "cells": [
  {
   "cell_type": "markdown",
   "metadata": {},
   "source": [
    "Wish to investigate different ways to calculate loop signal. So far I've been computing it by adding the totals and masks from all chromosomes and taking the ratio to get an average pileup. Then I extract the main diagonal that contains the loop and take the ratio of the peak to the outside region. My issue with this technique is that it's one dimensional possibly misrepresents the data which is two dimensional.\n",
    "\n",
    "Goal 1: Come up with a 2D way of calculating loop signal.\n",
    "1) Use a edge filter to extract loop and flame region\n",
    "2) Isolate loop peak\n",
    "3) Take average of loop to average of outside area\n",
    "Bonus: Do the same of the flame\n",
    "\n",
    "Max looked at the loop metrics I calculated using Johan's data and noticed that for HFF plate with PspXI enzyme, the loop signal is ridiculously high. He figures this might be due to the fact that PspXI is an experimental enzyme so it's coverage could be low leading to ratios of two region in the average being high. He suggest taking the ratio of the totals rather than the ratio of averages.\n",
    "\n",
    "Goal 2: Run both techiniques of calculating loops signals to see if the loop strength changes."
   ]
  },
  {
   "cell_type": "code",
   "execution_count": 312,
   "metadata": {},
   "outputs": [],
   "source": [
    "%matplotlib qt5\n",
    "import dekker\n",
    "import importlib as imp\n",
    "imp.reload(dekker)\n",
    "from scipy.ndimage.filters import gaussian_filter, sobel, median_filter\n",
    "plt.rcParams[\"axes.grid\"] = False"
   ]
  },
  {
   "cell_type": "code",
   "execution_count": 81,
   "metadata": {},
   "outputs": [],
   "source": [
    "dek = dekker.DekkerLib()"
   ]
  },
  {
   "cell_type": "code",
   "execution_count": 82,
   "metadata": {},
   "outputs": [],
   "source": [
    "data = dek.data[dek.data['cell_type']=='HFF plate']"
   ]
  },
  {
   "cell_type": "code",
   "execution_count": 250,
   "metadata": {},
   "outputs": [
    {
     "name": "stdout",
     "output_type": "stream",
     "text": [
      "{'END': 12, 'ESC': 17, 'HFF beads': 22, 'HFF plate': 25, 'PFE': 7}\n"
     ]
    },
    {
     "name": "stderr",
     "output_type": "stream",
     "text": [
      "/home/sameer/miniconda3/lib/python3.6/site-packages/matplotlib/pyplot.py:524: RuntimeWarning: More than 20 figures have been opened. Figures created through the pyplot interface (`matplotlib.pyplot.figure`) are retained until explicitly closed and may consume too much memory. (To control this warning, see the rcParam `figure.max_open_warning`).\n",
      "  max_open_warning, RuntimeWarning)\n"
     ]
    }
   ],
   "source": [
    "dekker.boxplot(dek.data, 'loop_strength', 'cell_type','enzyme')"
   ]
  },
  {
   "cell_type": "code",
   "execution_count": 83,
   "metadata": {},
   "outputs": [
    {
     "data": {
      "text/html": [
       "<div>\n",
       "<style>\n",
       "    .dataframe thead tr:only-child th {\n",
       "        text-align: right;\n",
       "    }\n",
       "\n",
       "    .dataframe thead th {\n",
       "        text-align: left;\n",
       "    }\n",
       "\n",
       "    .dataframe tbody tr th {\n",
       "        vertical-align: top;\n",
       "    }\n",
       "</style>\n",
       "<table border=\"1\" class=\"dataframe\">\n",
       "  <thead>\n",
       "    <tr style=\"text-align: right;\">\n",
       "      <th></th>\n",
       "      <th>name</th>\n",
       "      <th>cell_type</th>\n",
       "      <th>crosslinker</th>\n",
       "      <th>enzyme</th>\n",
       "      <th>date</th>\n",
       "      <th>flowcell_date</th>\n",
       "      <th>flowcell</th>\n",
       "      <th>Repeat</th>\n",
       "      <th>remarks</th>\n",
       "      <th>genome</th>\n",
       "      <th>...</th>\n",
       "      <th>%internal</th>\n",
       "      <th>error</th>\n",
       "      <th>%error</th>\n",
       "      <th>redundantInteractions</th>\n",
       "      <th>%redundantInteractions</th>\n",
       "      <th>nonRedundantInteractions</th>\n",
       "      <th>%nonRedundantInteractions</th>\n",
       "      <th>comp_sig</th>\n",
       "      <th>TAD_strength</th>\n",
       "      <th>loop_strength</th>\n",
       "    </tr>\n",
       "    <tr>\n",
       "      <th>index</th>\n",
       "      <th></th>\n",
       "      <th></th>\n",
       "      <th></th>\n",
       "      <th></th>\n",
       "      <th></th>\n",
       "      <th></th>\n",
       "      <th></th>\n",
       "      <th></th>\n",
       "      <th></th>\n",
       "      <th></th>\n",
       "      <th></th>\n",
       "      <th></th>\n",
       "      <th></th>\n",
       "      <th></th>\n",
       "      <th></th>\n",
       "      <th></th>\n",
       "      <th></th>\n",
       "      <th></th>\n",
       "      <th></th>\n",
       "      <th></th>\n",
       "      <th></th>\n",
       "    </tr>\n",
       "  </thead>\n",
       "  <tbody>\n",
       "    <tr>\n",
       "      <th>70</th>\n",
       "      <td>U54-031116-PspXI-R1__22MAR16_BH7JCHBB_PE50</td>\n",
       "      <td>HFF plate</td>\n",
       "      <td>FA</td>\n",
       "      <td>PspXI</td>\n",
       "      <td>2016-03-11</td>\n",
       "      <td>2016-03-22</td>\n",
       "      <td>BH7JCHBB_PE50</td>\n",
       "      <td>R1</td>\n",
       "      <td>NaN</td>\n",
       "      <td>hg19</td>\n",
       "      <td>...</td>\n",
       "      <td>99.97</td>\n",
       "      <td>338899</td>\n",
       "      <td>0.17</td>\n",
       "      <td>129985271</td>\n",
       "      <td>331.76</td>\n",
       "      <td>69207358</td>\n",
       "      <td>176.64</td>\n",
       "      <td>3.812377</td>\n",
       "      <td>1.302106</td>\n",
       "      <td>65.60667</td>\n",
       "    </tr>\n",
       "  </tbody>\n",
       "</table>\n",
       "<p>1 rows × 43 columns</p>\n",
       "</div>"
      ],
      "text/plain": [
       "                                             name  cell_type crosslinker  \\\n",
       "index                                                                      \n",
       "70     U54-031116-PspXI-R1__22MAR16_BH7JCHBB_PE50  HFF plate          FA   \n",
       "\n",
       "      enzyme        date flowcell_date       flowcell Repeat remarks genome  \\\n",
       "index                                                                         \n",
       "70     PspXI  2016-03-11    2016-03-22  BH7JCHBB_PE50     R1     NaN   hg19   \n",
       "\n",
       "           ...        %internal   error  %error  redundantInteractions  \\\n",
       "index      ...                                                           \n",
       "70         ...            99.97  338899    0.17              129985271   \n",
       "\n",
       "       %redundantInteractions  nonRedundantInteractions  \\\n",
       "index                                                     \n",
       "70                     331.76                  69207358   \n",
       "\n",
       "       %nonRedundantInteractions  comp_sig  TAD_strength  loop_strength  \n",
       "index                                                                    \n",
       "70                        176.64  3.812377      1.302106       65.60667  \n",
       "\n",
       "[1 rows x 43 columns]"
      ]
     },
     "execution_count": 83,
     "metadata": {},
     "output_type": "execute_result"
    }
   ],
   "source": [
    "data[data['enzyme']=='PspXI']"
   ]
  },
  {
   "cell_type": "code",
   "execution_count": 104,
   "metadata": {},
   "outputs": [],
   "source": [
    "data = dek.data[dek.data['cell_type']=='HFF plate']\n",
    "loop_df = dekker.get_loops(data)\n",
    "loop_df = loop_df.merge(data[['name','cell_type', 'crosslinker', 'enzyme']], on='name', how='outer')"
   ]
  },
  {
   "cell_type": "code",
   "execution_count": 106,
   "metadata": {},
   "outputs": [],
   "source": [
    "loop_df = loop_df.merge(data[['name','cell_type', 'crosslinker', 'enzyme']], on='name', how='outer')"
   ]
  },
  {
   "cell_type": "code",
   "execution_count": 122,
   "metadata": {},
   "outputs": [
    {
     "data": {
      "text/plain": [
       "name           U54-HFF-DSG-DpnII-20161118-plate__07DEC16_C-Mo...\n",
       "mask           [[[460.0, 461.0, 464.0, 463.0, 464.0, 463.0, 4...\n",
       "totals         [[[366.178864895, 403.79591191, 387.90909623, ...\n",
       "cell_type                                              HFF plate\n",
       "crosslinker                                                  DSG\n",
       "enzyme                                                     DpnII\n",
       "Name: 1, dtype: object"
      ]
     },
     "execution_count": 122,
     "metadata": {},
     "output_type": "execute_result"
    }
   ],
   "source": [
    "loop_df.loc[1]"
   ]
  },
  {
   "cell_type": "code",
   "execution_count": 119,
   "metadata": {},
   "outputs": [],
   "source": []
  },
  {
   "cell_type": "code",
   "execution_count": 143,
   "metadata": {},
   "outputs": [],
   "source": [
    "tot = df['totals'].values[0]\n",
    "mas = df['mask'].values[0]"
   ]
  },
  {
   "cell_type": "code",
   "execution_count": 146,
   "metadata": {},
   "outputs": [
    {
     "name": "stdout",
     "output_type": "stream",
     "text": [
      "False False\n",
      "True True\n"
     ]
    }
   ],
   "source": [
    "print(np.any(np.isnan(tot)), np.any(np.isnan(mas)))\n",
    "print(np.any(tot==0), np.any(mas==0))"
   ]
  },
  {
   "cell_type": "code",
   "execution_count": 271,
   "metadata": {},
   "outputs": [],
   "source": [
    "def plot_pileups(df, q= 99.99):\n",
    "\n",
    "    for i, row in df.iterrows():\n",
    "        total = np.nansum(row['totals'], axis=0) \n",
    "        if len(total.shape) == 0:\n",
    "            continue\n",
    "    \n",
    "        mask = np.nansum(row['mask'], axis=0)\n",
    "        pileup = total/mask\n",
    "        f = gaussian_filter(pileup,1)\n",
    "\n",
    "        fig = plt.figure()\n",
    "        fig.suptitle('Cell type: '+row['cell_type']+' Enzyme: '+row['enzyme']+' Crosslinker: '+row['crosslinker']\n",
    "                     +'\\n%tran: '+str(row['%trans'])+' loop '+'{:.2f}'.format(row['loop_strength']))\n",
    "        ax = fig.add_subplot(221)\n",
    "        ax.set_title('Totals')\n",
    "        im = ax.imshow(total, vmax=np.percentile(total, q), cmap=matplotlib.cm.get_cmap('plasma'))\n",
    "        # cax = fig.add_axes([0.95, 0.2, 0.02, 0.6])\n",
    "        # cb = fig.colorbar(im, cax=cax)\n",
    "\n",
    "        ax = fig.add_subplot(222)\n",
    "        ax.set_title('Mask')\n",
    "        im = ax.imshow(mask, vmax=np.percentile(mask, q), cmap=matplotlib.cm.get_cmap('plasma'))\n",
    "        # cax = fig.add_axes([0.95, 0.2, 0.02, 0.6])\n",
    "        # cb = fig.colorbar(im, cax=cax)\n",
    "\n",
    "        ax = fig.add_subplot(223)\n",
    "        ax.set_title('Ratio')\n",
    "        im = ax.imshow(pileup, vmax=np.percentile(pileup, q), cmap=matplotlib.cm.get_cmap('plasma'))\n",
    "        cax = fig.add_axes([0.9, 0.2, 0.02, 0.6])\n",
    "        cb = fig.colorbar(im, cax=cax)\n",
    "\n",
    "        ax = fig.add_subplot(224)\n",
    "        ax.set_title('Filtered Ratio')\n",
    "        im = ax.imshow(f, vmax=np.percentile(f, q), cmap=matplotlib.cm.get_cmap('plasma'))\n",
    "        # cax = fig.add_axes([0.95, 0.2, 0.02, 0.6])\n",
    "        # cb = fig.colorbar(im, cax=cax)"
   ]
  },
  {
   "cell_type": "code",
   "execution_count": 276,
   "metadata": {},
   "outputs": [
    {
     "name": "stderr",
     "output_type": "stream",
     "text": [
      "/home/sameer/miniconda3/lib/python3.6/site-packages/matplotlib/pyplot.py:524: RuntimeWarning: More than 20 figures have been opened. Figures created through the pyplot interface (`matplotlib.pyplot.figure`) are retained until explicitly closed and may consume too much memory. (To control this warning, see the rcParam `figure.max_open_warning`).\n",
      "  max_open_warning, RuntimeWarning)\n"
     ]
    }
   ],
   "source": [
    "data = dek.data[dek.data['cell_type']=='HFF plate'].sort_values(by=['enzyme'])\n",
    "loop_df = dekker.get_loops(data)\n",
    "loop_df = loop_df.merge(data[['name','cell_type', 'crosslinker', \n",
    "                              'enzyme', '%trans', 'loop_strength']], on='name', how='outer')\n",
    "df = loop_df#[loop_df['enzyme']=='DdeI']\n",
    "plot_pileups(df)"
   ]
  },
  {
   "cell_type": "code",
   "execution_count": 370,
   "metadata": {},
   "outputs": [
    {
     "name": "stdout",
     "output_type": "stream",
     "text": [
      "Metric 1:  2.6850733419\n",
      "Metric 2:  2.67107844444\n"
     ]
    }
   ],
   "source": [
    "df = loop_df[loop_df['enzyme']=='HindIII']\n",
    "df = df.loc[df.index[0]]\n",
    "total = np.nansum(df['totals'], axis=0) \n",
    "mask = np.nansum(df['mask'], axis=0)\n",
    "pileup = total/mask\n",
    "# f = gaussian_filter(total,1)\n",
    "\n",
    "fig = plt.figure()\n",
    "ax = fig.add_subplot(111)\n",
    "ax.imshow(total, cmap=matplotlib.cm.get_cmap('plasma'))\n",
    "\n",
    "mid = len(total)/2-1\n",
    "span = 8\n",
    "low = np.floor(mid-span/2).astype(int)\n",
    "up = np.floor(mid+span/2).astype(int)\n",
    "\n",
    "region1 = total[0:low,0:low]\n",
    "inner = total[low:up,low:up]\n",
    "region2 = total[up:,up:]\n",
    "\n",
    "mid = len(region1)/2-1\n",
    "span = 8\n",
    "low = np.floor(mid-span/2).astype(int)\n",
    "up = np.floor(mid+span/2).astype(int)\n",
    "outer = (region1[low:up,low:up]+region2[low:up,low:up])/2\n",
    "print('Metric 1: ',np.mean(inner/outer))\n",
    "\n",
    "\n",
    "mid = len(pileup)/2-1\n",
    "span = 8\n",
    "low = np.floor(mid-span/2).astype(int)\n",
    "up = np.floor(mid+span/2).astype(int)\n",
    "\n",
    "region1 = pileup[0:low,0:low]\n",
    "inner = pileup[low:up,low:up]\n",
    "region2 = pileup[up:,up:]\n",
    "\n",
    "mid = len(region1)/2-1\n",
    "span = 8\n",
    "low = np.floor(mid-span/2).astype(int)\n",
    "up = np.floor(mid+span/2).astype(int)\n",
    "outer = (region1[low:up,low:up]+region2[low:up,low:up])/2\n",
    "print('Metric 2: ',np.mean(inner/outer))"
   ]
  },
  {
   "cell_type": "code",
   "execution_count": 371,
   "metadata": {},
   "outputs": [
    {
     "name": "stdout",
     "output_type": "stream",
     "text": [
      "Metric 1:  2.55699316313\n",
      "Metric 2:  2.54195872903\n"
     ]
    }
   ],
   "source": [
    "mid = len(total)/2-1\n",
    "span = 8\n",
    "low = np.floor(mid-span/2).astype(int)\n",
    "up = np.floor(mid+span/2).astype(int)\n",
    "\n",
    "region1 = total[0:low,0:low]\n",
    "inner = total[low:up,low:up]\n",
    "region2 = total[up:,up:]\n",
    "\n",
    "outer = (np.mean(region1)+np.mean(region2))/2\n",
    "print('Metric 1: ',np.mean(inner)/outer)\n",
    "\n",
    "mid = len(pileup)/2-1\n",
    "span = 8\n",
    "low = np.floor(mid-span/2).astype(int)\n",
    "up = np.floor(mid+span/2).astype(int)\n",
    "\n",
    "region1 = pileup[0:low,0:low]\n",
    "inner = pileup[low:up,low:up]\n",
    "region2 = pileup[up:,up:]\n",
    "\n",
    "outer = (np.mean(region1)+np.mean(region2))/2\n",
    "print('Metric 2: ',np.mean(inner)/outer)"
   ]
  },
  {
   "cell_type": "markdown",
   "metadata": {},
   "source": [
    "Still need to do:\n",
    "1) Average of small sections of region 1,2 for the outer\n",
    "2) Compare "
   ]
  },
  {
   "cell_type": "code",
   "execution_count": 353,
   "metadata": {},
   "outputs": [
    {
     "data": {
      "text/plain": [
       "2.6276356407243373"
      ]
     },
     "execution_count": 353,
     "metadata": {},
     "output_type": "execute_result"
    }
   ],
   "source": []
  },
  {
   "cell_type": "code",
   "execution_count": null,
   "metadata": {
    "collapsed": true
   },
   "outputs": [],
   "source": []
  }
 ],
 "metadata": {
  "kernelspec": {
   "display_name": "Python 3",
   "language": "python",
   "name": "python3"
  },
  "language_info": {
   "codemirror_mode": {
    "name": "ipython",
    "version": 3
   },
   "file_extension": ".py",
   "mimetype": "text/x-python",
   "name": "python",
   "nbconvert_exporter": "python",
   "pygments_lexer": "ipython3",
   "version": "3.6.1"
  }
 },
 "nbformat": 4,
 "nbformat_minor": 2
}
