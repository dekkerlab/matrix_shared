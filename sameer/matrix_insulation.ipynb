{
 "cells": [
  {
   "cell_type": "code",
   "execution_count": 1,
   "metadata": {
    "ExecuteTime": {
     "end_time": "2020-06-02T16:32:33.811317Z",
     "start_time": "2020-06-02T16:32:33.280555Z"
    }
   },
   "outputs": [],
   "source": [
    "from cooltools import insulation, snipping\n",
    "import pyBigWig\n",
    "\n",
    "from dask.array.chunk import coarsen\n",
    "\n",
    "from scipy.ndimage import gaussian_filter1d\n",
    "from sklearn.mixture import GaussianMixture\n",
    "\n",
    "import DNA_info\n",
    "import matrix_manager as mm\n",
    "%matplotlib inline"
   ]
  },
  {
   "cell_type": "markdown",
   "metadata": {
    "ExecuteTime": {
     "end_time": "2019-12-01T22:17:03.598172Z",
     "start_time": "2019-12-01T22:16:58.898739Z"
    },
    "scrolled": true
   },
   "source": [
    "# Generating insulation tracks for fixed window size (in bp)"
   ]
  },
  {
   "cell_type": "code",
   "execution_count": 2,
   "metadata": {
    "ExecuteTime": {
     "end_time": "2020-06-02T16:32:34.927380Z",
     "start_time": "2020-06-02T16:32:34.921283Z"
    },
    "code_folding": [],
    "scrolled": true
   },
   "outputs": [],
   "source": [
    "# res_window = {\n",
    "#                 200000:[(50000,4), (25000,8), (10000,20)],\n",
    "#                 500000:[(50000,10), (25000,20), (10000,50)],\n",
    "#              }\n",
    "\n",
    "# window_size = 200000\n",
    "# ins_parameters = res_window[window_size]\n",
    "# folder = f'{mm.analysis_path}insulation/window_{window_size}/'\n",
    "\n",
    "# data = mm.Dataset()\n",
    "# table = data.get_tables()\n",
    "\n",
    "# for res, window_px in ins_parameters:\n",
    "#     print(res, window_px)\n",
    "#     table = mm.get_coolers(table, res=res)\n",
    "    \n",
    "#     savepath = f'{folder}{res}_{window_px}px/'\n",
    "#     os.makedirs(savepath, exist_ok=True)\n",
    "#     for i, row in table.iterrows():\n",
    "#         name = row['lib_name']\n",
    "#         cool = row[f'cooler_{res}']\n",
    "\n",
    "#         print('\\t', name)\n",
    "#         ins_table = insulation.calculate_insulation_score(cool, window_size)\n",
    "#         ins_table = insulation.find_boundaries(ins_table)\n",
    "\n",
    "#         ins = np.log10(ins_table[f'boundary_strength_{window_size}'].values)\n",
    "#         good_bins = ~np.isnan(ins)\n",
    "#         a = ins[good_bins]\n",
    "#         model = GaussianMixture(n_components=2, covariance_type='full')\n",
    "#         model.fit(a.reshape(-1,1))    \n",
    "\n",
    "#         mus = tuple(model.means_.reshape(-1))\n",
    "#         true_peak_inds = np.argmax(mus)\n",
    "#         full_labels = np.nan*np.ones(len(ins))\n",
    "#         full_labels[good_bins] = model.predict(a.reshape(-1,1))\n",
    "\n",
    "#         ins_table['category'] = full_labels\n",
    "#         ins_table['category'] = ins_table['category'].apply(lambda x: np.nan if np.isnan(x) \n",
    "#                                                             else 'strong' if x == true_peak_inds \n",
    "#                                                             else 'weak')\n",
    "\n",
    "#         ins_table.to_csv(f'{savepath}{name}.txt', sep='\\t', header=True, index=False)"
   ]
  },
  {
   "cell_type": "code",
   "execution_count": 20,
   "metadata": {
    "ExecuteTime": {
     "end_time": "2020-06-02T16:48:22.214358Z",
     "start_time": "2020-06-02T16:48:22.168346Z"
    },
    "scrolled": true
   },
   "outputs": [
    {
     "data": {
      "text/html": [
       "<div>\n",
       "<style scoped>\n",
       "    .dataframe tbody tr th:only-of-type {\n",
       "        vertical-align: middle;\n",
       "    }\n",
       "\n",
       "    .dataframe tbody tr th {\n",
       "        vertical-align: top;\n",
       "    }\n",
       "\n",
       "    .dataframe thead th {\n",
       "        text-align: right;\n",
       "    }\n",
       "</style>\n",
       "<table border=\"1\" class=\"dataframe\">\n",
       "  <thead>\n",
       "    <tr style=\"text-align: right;\">\n",
       "      <th></th>\n",
       "      <th>lib_name</th>\n",
       "      <th>seq</th>\n",
       "      <th>celltype</th>\n",
       "      <th>xlink</th>\n",
       "      <th>enzyme</th>\n",
       "      <th>cycle</th>\n",
       "    </tr>\n",
       "  </thead>\n",
       "  <tbody>\n",
       "    <tr>\n",
       "      <th>29</th>\n",
       "      <td>U54-HFF-plate-DSG-DdeI-20160812-R1-T1__hg38</td>\n",
       "      <td>control</td>\n",
       "      <td>HFF</td>\n",
       "      <td>DSG</td>\n",
       "      <td>DdeI</td>\n",
       "      <td>NS</td>\n",
       "    </tr>\n",
       "  </tbody>\n",
       "</table>\n",
       "</div>"
      ],
      "text/plain": [
       "                                       lib_name      seq celltype xlink  \\\n",
       "29  U54-HFF-plate-DSG-DdeI-20160812-R1-T1__hg38  control      HFF   DSG   \n",
       "\n",
       "   enzyme cycle  \n",
       "29   DdeI    NS  "
      ]
     },
     "execution_count": 20,
     "metadata": {},
     "output_type": "execute_result"
    }
   ],
   "source": [
    "db = mm.Database('./metadata/U54_matrix_info')\n",
    "table = db.get_tables()\n",
    "table = mm.filter_data(table, filter_dict={'celltype':'HFF',\n",
    "                                                   'xlink':'DSG',\n",
    "                                                   'enzyme':'DdeI',\n",
    "                                                   'seq':'control',\n",
    "                                                  })\n",
    "table"
   ]
  },
  {
   "cell_type": "markdown",
   "metadata": {},
   "source": [
    "### Histograms of boundary scores for different (resolution, window_pixel) combinations"
   ]
  },
  {
   "cell_type": "code",
   "execution_count": 4,
   "metadata": {
    "ExecuteTime": {
     "end_time": "2020-06-02T16:32:38.310716Z",
     "start_time": "2020-06-02T16:32:35.963917Z"
    }
   },
   "outputs": [
    {
     "data": {
      "image/png": "[encoded data removed]",
      "text/plain": [
       "<Figure size 648x432 with 6 Axes>"
      ]
     },
     "metadata": {
      "needs_background": "light"
     },
     "output_type": "display_data"
    }
   ],
   "source": [
    "res_window = {\n",
    "                200000:[(50000,4), (25000,8), (10000,20)],\n",
    "                500000:[(50000,10), (25000,20), (10000,50)],\n",
    "             }\n",
    "\n",
    "dens = False\n",
    "bins = np.linspace(-2,2,100)\n",
    "\n",
    "# lib_name = 'U54-HFFc6-DSG-DdeI-R1-R2_hg38'\n",
    "lib_name = 'U54-HFF-plate-DSG-DdeI-20160812-R1-T1__hg38'\n",
    "\n",
    "fig, ax = plt.subplots(nrows=2, ncols=3,\n",
    "                   sharey=True, sharex=True, constrained_layout=True,\n",
    "                   figsize=(9,6)\n",
    "                  )\n",
    "fig.suptitle(lib_name, fontsize=15)\n",
    "\n",
    "for i, window_size in enumerate([200000, 500000]):\n",
    "    ax[i,0].set_ylabel(f'Window (bp): {window_size}', fontweight='bold')\n",
    "#     ax[0,0].set_xlim([-3,3])\n",
    "    ax[i,0].set_ylim([0,700])\n",
    "    for j, (res, win_px) in enumerate(res_window[window_size]):\n",
    "        \n",
    "        df = db.get_insulations(table, \n",
    "                                subdir=f'insulation/window_{window_size}/{res}_{win_px}px/',\n",
    "                                col_name='insulation',\n",
    "                                )\n",
    "\n",
    "        ins_table = df.iloc[0]['insulation']\n",
    "            \n",
    "        if 'HelaS3' in lib_name:\n",
    "            mask = ins_table['chrom'].apply(lambda chrom: chrom in mm.hela_chroms)\n",
    "            ins_table = ins_table.loc[mask]\n",
    "            \n",
    "        ins_table = ins_table.rename(columns={f'boundary_strength_{window_size}':'strength',\n",
    "                                             f'log2_insulation_score_{window_size}':'log2_score'}).dropna()\n",
    "    \n",
    "        if not i:\n",
    "            ax[i,j].set_title(f'Window (pixels): {win_px}', fontweight='bold', fontsize=12)\n",
    "        else:\n",
    "            ax[i,j].set_xlabel('log10( boundary strength )', fontsize=10)\n",
    "        \n",
    "        x = np.log10(ins_table.loc[ins_table['category']=='strong', 'strength'].values)\n",
    "        _ = ax[i,j].hist(x, bins=bins, color='r', histtype='step', density=dens, label='strong')\n",
    "\n",
    "        x = np.log10(ins_table.loc[ins_table['category']=='weak', 'strength'].values)\n",
    "        _ = ax[i,j].hist(x, bins=bins, color='b', histtype='step', density=dens, label='weak')\n",
    "# fig.savefig(f'/home/sameer/Dropbox (MIT)/{lib_name}.png')"
   ]
  },
  {
   "cell_type": "code",
   "execution_count": 21,
   "metadata": {
    "ExecuteTime": {
     "end_time": "2020-06-02T16:48:29.243215Z",
     "start_time": "2020-06-02T16:48:24.912869Z"
    }
   },
   "outputs": [
    {
     "data": {
      "text/plain": [
       "<matplotlib.legend.Legend at 0x7f8f1b15ac90>"
      ]
     },
     "execution_count": 21,
     "metadata": {},
     "output_type": "execute_result"
    },
    {
     "data": {
      "image/png": "[encoded data removed]",
      "text/plain": [
       "<Figure size 648x432 with 12 Axes>"
      ]
     },
     "metadata": {
      "needs_background": "light"
     },
     "output_type": "display_data"
    }
   ],
   "source": [
    "window_size = 500000\n",
    "res, win_px = (50000,10)\n",
    "assert window_size == res*win_px\n",
    "\n",
    "celltype = 'HFF'\n",
    "dens = False\n",
    "filt = 'union'\n",
    "\n",
    "table = db.get_tables()\n",
    "table = mm.filter_data(table, filter_dict={'celltype':celltype,'seq':['control', '-']})\n",
    "table = db.get_insulations(table, subdir=f'insulation/window_{window_size}/{res}_{win_px}px/')\n",
    "\n",
    "master_df = None\n",
    "for _, row in table.iterrows():\n",
    "    name = row['lib_name']\n",
    "\n",
    "    xlink = row['xlink']\n",
    "    enz = row['enzyme']\n",
    "    \n",
    "    ins_table = row['insulation']\n",
    "    ins_table = ins_table.rename(columns={f'boundary_strength_{window_size}':f'{xlink}-{enz}'}\n",
    "                                )\n",
    "    ins_table = ins_table[['chrom','start','end',f'{xlink}-{enz}']]\n",
    "    if master_df is None:\n",
    "        master_df = ins_table.copy()\n",
    "    else:\n",
    "        master_df = master_df.merge(ins_table, on=['chrom','start','end'], how='outer')\n",
    "\n",
    "if celltype == 'HelaS3':\n",
    "    mask = master_df['chrom'].apply(lambda chrom: chrom in mm.hela_chroms)\n",
    "    master_df = master_df.loc[mask]\n",
    "\n",
    "how = 'any'\n",
    "if filt == 'union':\n",
    "    how = 'all'\n",
    "master_df = master_df.dropna(axis=0, how=how, subset=master_df.columns[3:])\n",
    "\n",
    "\n",
    "ncols = table['enzyme'].unique().shape[0]\n",
    "fig, ax = plt.subplots(nrows=table['xlink'].unique().shape[0], ncols=ncols,\n",
    "                   sharey=True, sharex=True, constrained_layout=True,\n",
    "                   figsize=(9,6)\n",
    "                  )\n",
    "ax[0,0].set_xlim([-3,3])\n",
    "fig.suptitle(f'{celltype} (Res: {res//1000}kb, Window: {win_px}bins)\\n{filt} of all boundaries', fontsize=15)\n",
    "\n",
    "bins = np.linspace(-2,2,100)\n",
    "for i, (xl, group) in enumerate(table.groupby('xlink')):\n",
    "    group = group.reset_index(drop=True)\n",
    "    ax[i,0].set_ylabel(xl, fontweight='bold', fontsize=12)\n",
    "    \n",
    "    for j, row in group.iterrows():\n",
    "        name = row['lib_name']\n",
    "        enz = row['enzyme']\n",
    "        if not i:\n",
    "            ax[i,j].set_title(enz, fontweight='bold', fontsize=12)\n",
    "        elif i==2:\n",
    "            ax[i,j].set_xlabel('log2( insulation )', fontsize=10)\n",
    "\n",
    "        ins_table = row['insulation']\n",
    "        ins_table = ins_table.rename(columns={f'log2_insulation_score_{window_size}':'log2_score'})\n",
    "        ins_table['category'] = ins_table['category'].apply(lambda x: x if isinstance(x, str) else 'absent')\n",
    "        ins_table = master_df.merge(ins_table, on=['chrom','start','end'], how='left')\n",
    "\n",
    "        x = ins_table.loc[ins_table['category']=='strong', 'log2_score'].values\n",
    "        _ = ax[i,j].hist(x, bins=bins, color='r', histtype='step', density=dens, label='strong')\n",
    "\n",
    "        x = ins_table.loc[ins_table['category']=='weak', 'log2_score'].values\n",
    "        _ = ax[i,j].hist(x, bins=bins, color='b', histtype='step', density=dens, label='weak')\n",
    "\n",
    "        x = ins_table.loc[ins_table['category']=='absent', 'log2_score'].values\n",
    "        _ = ax[i,j].hist(x, bins=bins, color='g', histtype='step', density=dens, label='absent')\n",
    "\n",
    "ax[0,ncols-1].legend(loc='best', fontsize='small')"
   ]
  },
  {
   "cell_type": "code",
   "execution_count": 23,
   "metadata": {
    "ExecuteTime": {
     "end_time": "2020-06-02T16:48:58.179137Z",
     "start_time": "2020-06-02T16:48:55.486926Z"
    }
   },
   "outputs": [
    {
     "name": "stdout",
     "output_type": "stream",
     "text": [
      "[1 1 4 ... 3 6 4]\n"
     ]
    },
    {
     "data": {
      "image/png": "[encoded data removed]",
      "text/plain": [
       "<Figure size 648x432 with 12 Axes>"
      ]
     },
     "metadata": {
      "needs_background": "light"
     },
     "output_type": "display_data"
    }
   ],
   "source": [
    "a = master_df[master_df.columns[3:]].apply(lambda ser: np.isfinite(ser.values).sum(), axis=1).values\n",
    "fig, ax = plt.subplots(nrows=table['xlink'].unique().shape[0], ncols=ncols,\n",
    "                           sharey=True, sharex=True, constrained_layout=True,\n",
    "                           figsize=(9,6)\n",
    "                          )\n",
    "print(a)\n",
    "ax[0,0].set_xticks(np.arange(0,13))\n",
    "# ax[0,0].set_xticklabels(np.arange(1,13), fontsize=12)\n",
    "xl_loc = {'DSG':0,'EGS':1,'FA':2}\n",
    "enz_loc = {'DdeI':0,'DpnII':1,'HindIII':2,'MNase':3}\n",
    "for col in master_df.columns[3:]:\n",
    "    xl, enz = tuple(col.split('-'))\n",
    "    b = master_df[col].apply(lambda x: np.isfinite(x)).values\n",
    "    \n",
    "    ax[xl_loc[xl], enz_loc[enz]].set_title(col)\n",
    "    _ = ax[xl_loc[xl], enz_loc[enz]].hist(a[b], bins=12, density=False)\n"
   ]
  },
  {
   "cell_type": "markdown",
   "metadata": {},
   "source": [
    "## Bryan style analysis"
   ]
  },
  {
   "cell_type": "code",
   "execution_count": 28,
   "metadata": {
    "ExecuteTime": {
     "end_time": "2020-06-02T16:50:11.101440Z",
     "start_time": "2020-06-02T16:50:11.049917Z"
    },
    "scrolled": true
   },
   "outputs": [],
   "source": [
    "db = mm.Database('./metadata/U54_matrix_info')\n",
    "table = db.get_tables()\n",
    "table = mm.filter_data(table, filter_dict={'celltype':'HFF','seq':'deep','enzyme':'double'})\n",
    "\n",
    "res = 10000\n",
    "table = db.get_coolers(table, res=res)\n",
    "cool = table.iloc[0][f'cooler_{res}']"
   ]
  },
  {
   "cell_type": "code",
   "execution_count": 30,
   "metadata": {
    "ExecuteTime": {
     "end_time": "2020-06-02T16:50:48.586326Z",
     "start_time": "2020-06-02T16:50:47.412159Z"
    }
   },
   "outputs": [
    {
     "name": "stderr",
     "output_type": "stream",
     "text": [
      "INFO:numexpr.utils:Note: NumExpr detected 40 cores but \"NUMEXPR_MAX_THREADS\" not set, so enforcing safe limit of 8.\n"
     ]
    }
   ],
   "source": [
    "arm = DNA_info.get_chromosome_arms('hg38')[1]\n",
    "folder = f'{db.analysis_path}insulation/HFF_double_chr1_10kb/'\n",
    "# os.makedirs(folder, exist_ok=True)\n",
    "\n",
    "# for win_px in np.arange(2, 101):\n",
    "#     print('\\n', win_px)\n",
    "#     ins_table = insulation.calculate_insulation_score(cool, int(win_px*res), \n",
    "#                                                       chromosomes=[arm], verbose=True)\n",
    "#     ins_table.to_csv(f'{folder}pixels_{win_px}.txt', sep='\\t', header=True, index=False)"
   ]
  },
  {
   "cell_type": "code",
   "execution_count": 31,
   "metadata": {
    "ExecuteTime": {
     "end_time": "2020-06-02T16:50:53.383694Z",
     "start_time": "2020-06-02T16:50:52.531371Z"
    },
    "code_folding": [],
    "scrolled": true
   },
   "outputs": [
    {
     "data": {
      "text/plain": [
       "array([[nan, nan, nan, ..., nan, nan, nan],\n",
       "       [nan, nan, nan, ..., nan, nan, nan],\n",
       "       [nan, nan, nan, ..., nan, nan, nan],\n",
       "       ...,\n",
       "       [nan, nan, nan, ..., nan, nan, nan],\n",
       "       [nan, nan, nan, ..., nan, nan, nan],\n",
       "       [nan, nan, nan, ..., nan, nan, nan]])"
      ]
     },
     "execution_count": 31,
     "metadata": {},
     "output_type": "execute_result"
    }
   ],
   "source": [
    "result = []\n",
    "for win_px in np.arange(2, 101):\n",
    "    df = pd.read_csv(f'{folder}pixels_{win_px}.txt', sep='\\t')\n",
    "    result.append(df[f'log2_insulation_score_{res*win_px}'].values)\n",
    "    if win_px == 20:\n",
    "        boundaries = insulation.find_boundaries(df)\n",
    "result = np.vstack(tuple(result))\n",
    "result"
   ]
  },
  {
   "cell_type": "code",
   "execution_count": 33,
   "metadata": {
    "ExecuteTime": {
     "end_time": "2020-06-02T16:51:04.942940Z",
     "start_time": "2020-06-02T16:51:04.922521Z"
    }
   },
   "outputs": [],
   "source": [
    "df = boundaries.dropna().copy()\n",
    "df.loc[:, 'category'] = False\n",
    "df.loc[df['boundary_strength_200000'].apply(lambda x: np.log10(x) >=-1), 'category'] = True"
   ]
  },
  {
   "cell_type": "code",
   "execution_count": 36,
   "metadata": {
    "ExecuteTime": {
     "end_time": "2020-06-02T16:51:50.390581Z",
     "start_time": "2020-06-02T16:51:48.115092Z"
    }
   },
   "outputs": [
    {
     "data": {
      "text/plain": [
       "(-1, 300)"
      ]
     },
     "execution_count": 36,
     "metadata": {},
     "output_type": "execute_result"
    },
    {
     "data": {
      "image/png": "[encoded data removed]",
      "text/plain": [
       "<Figure size 432x288 with 2 Axes>"
      ]
     },
     "metadata": {
      "needs_background": "light"
     },
     "output_type": "display_data"
    }
   ],
   "source": [
    "from scipy.signal import argrelmin\n",
    "\n",
    "fig, ax = plt.subplots(nrows=2, sharex=True, gridspec_kw={'height_ratios':[75,25]})\n",
    "ax[0].imshow(result, aspect='auto', cmap='coolwarm', vmin=-2, vmax=2)\n",
    "\n",
    "ax[0].set_xlim([4000, 8000])\n",
    "\n",
    "sig = np.nansum(2**result, axis=0)\n",
    "\n",
    "# ax[0].imshow(sig, aspect='auto', cmap='coolwarm', vmin=0, vmax=100)\n",
    "# sig = scipy.ndimage.gaussian_filter1d(sig, 1)\n",
    "ax[1].scatter(np.arange(len(sig)), sig, s=0.5)\n",
    "\n",
    "inds = argrelmin(sig, order=10)\n",
    "ax[1].scatter(inds, sig[inds], s=2, color='r')\n",
    "\n",
    "bounds = df.loc[df['category']==True].index.values\n",
    "for b in bounds:\n",
    "    ax[1].scatter(b, 10, s=5, color='g')\n",
    "    \n",
    "bounds = df.loc[df['category']==False].index.values\n",
    "for b in bounds:\n",
    "    ax[1].scatter(b, 10, s=5, color='m')\n",
    "    \n",
    "ax[1].set_ylim([-1,300])"
   ]
  },
  {
   "cell_type": "code",
   "execution_count": null,
   "metadata": {
    "ExecuteTime": {
     "end_time": "2020-06-01T12:20:51.422905Z",
     "start_time": "2020-06-01T12:20:51.413885Z"
    }
   },
   "outputs": [],
   "source": []
  },
  {
   "cell_type": "code",
   "execution_count": 37,
   "metadata": {
    "ExecuteTime": {
     "end_time": "2020-06-02T16:51:58.853885Z",
     "start_time": "2020-06-02T16:51:58.703148Z"
    },
    "scrolled": false
   },
   "outputs": [
    {
     "name": "stderr",
     "output_type": "stream",
     "text": [
      "/home/sameer/anaconda3/lib/python3.7/site-packages/numpy/lib/histograms.py:839: RuntimeWarning: invalid value encountered in greater_equal\n",
      "  keep = (tmp_a >= first_edge)\n",
      "/home/sameer/anaconda3/lib/python3.7/site-packages/numpy/lib/histograms.py:840: RuntimeWarning: invalid value encountered in less_equal\n",
      "  keep &= (tmp_a <= last_edge)\n",
      "/home/sameer/anaconda3/lib/python3.7/site-packages/numpy/lib/histograms.py:839: RuntimeWarning: invalid value encountered in greater_equal\n",
      "  keep = (tmp_a >= first_edge)\n",
      "/home/sameer/anaconda3/lib/python3.7/site-packages/numpy/lib/histograms.py:840: RuntimeWarning: invalid value encountered in less_equal\n",
      "  keep &= (tmp_a <= last_edge)\n"
     ]
    },
    {
     "data": {
      "image/png": "[encoded data removed]",
      "text/plain": [
       "<Figure size 432x288 with 1 Axes>"
      ]
     },
     "metadata": {
      "needs_background": "light"
     },
     "output_type": "display_data"
    }
   ],
   "source": [
    "fig, ax = plt.subplots()\n",
    "\n",
    "arr = np.log10(boundaries.iloc[inds]['boundary_strength_200000'].values)\n",
    "_ = ax.hist(arr, bins=100, histtype='step')\n",
    "\n",
    "arr = np.log10(boundaries['boundary_strength_200000'].values)\n",
    "_ = ax.hist(arr, bins=100, histtype='step')\n"
   ]
  },
  {
   "cell_type": "markdown",
   "metadata": {},
   "source": [
    "### Accessing data for deep tracks "
   ]
  },
  {
   "cell_type": "code",
   "execution_count": 42,
   "metadata": {
    "ExecuteTime": {
     "end_time": "2020-06-02T16:59:49.266706Z",
     "start_time": "2020-06-02T16:59:49.128880Z"
    },
    "scrolled": true
   },
   "outputs": [],
   "source": [
    "table = db.get_tables()"
   ]
  },
  {
   "cell_type": "code",
   "execution_count": null,
   "metadata": {
    "ExecuteTime": {
     "end_time": "2020-02-01T22:30:31.691984Z",
     "start_time": "2020-02-01T22:29:07.833282Z"
    },
    "scrolled": true
   },
   "outputs": [],
   "source": [
    "for _, row in table.iterrows():\n",
    "    name = row['lib_name']\n",
    "    \n",
    "    fig, ax = plt.subplots(nrows=3, ncols=3, figsize=(9,7), sharex=True, sharey=False, constrained_layout=True)\n",
    "    fig.suptitle(name)\n",
    "    for i, res in enumerate([1000, 10000, 25000]):\n",
    "        for j, win_px in enumerate([5, 10, 20]):\n",
    "            ins = row[f'insulation_{res}_win{win_px}'].dropna()\n",
    "            x = np.log10(ins[f'boundary_strength_{res*win_px}'].values)\n",
    "            bins = np.linspace(x.min(), x.max(), num=100)\n",
    "            if (res == 10000) and (win_px == 10):\n",
    "                col = 'category'\n",
    "            else:\n",
    "                col = 'peak_cat'\n",
    "            mask = ins[col].values == 'strong'\n",
    "            ax[i,j].set_xlabel('log10 boundary strength')\n",
    "            ax[i,j].set_title(f'Res: {res}, Window: {win_px}')\n",
    "            _ = ax[i,j].hist(x[mask], bins=bins, color='r')\n",
    "            _ = ax[i,j].hist(x[~mask], bins=bins, color='b')\n",
    "            \n",
    "#     fig.savefig(f'/home/sameer/Dropbox (MIT)/Research/U54_matrix/insulation/{name}_histogram.png')"
   ]
  },
  {
   "cell_type": "markdown",
   "metadata": {
    "ExecuteTime": {
     "end_time": "2019-12-02T00:07:01.448035Z",
     "start_time": "2019-12-02T00:07:01.443964Z"
    }
   },
   "source": [
    "#### Visualizing histograms"
   ]
  },
  {
   "cell_type": "code",
   "execution_count": 44,
   "metadata": {
    "ExecuteTime": {
     "end_time": "2020-06-02T17:01:02.261069Z",
     "start_time": "2020-06-02T17:01:00.622931Z"
    }
   },
   "outputs": [],
   "source": [
    "table = db.get_tables()\n",
    "table = mm.filter_data(table, filter_dict={'seq':'deep'})\n",
    "table = db.get_insulations(table, subdir=f'insulation/window_200000/10000_20px/')"
   ]
  },
  {
   "cell_type": "code",
   "execution_count": 56,
   "metadata": {
    "ExecuteTime": {
     "end_time": "2020-06-02T17:09:53.778026Z",
     "start_time": "2020-06-02T17:09:46.654435Z"
    }
   },
   "outputs": [
    {
     "name": "stdout",
     "output_type": "stream",
     "text": [
      "U54-END4DN-FA-DSG-MNase-R1-R2_hg38\n",
      "U54-END-FA-DpnII-R1-R2_hg38\n",
      "U54-ESC4DN-DSG-DpnII-R1-R2_hg38\n",
      "U54-H1ESC4DN-FA-DSG-MNase-R1-R2_hg38\n",
      "U54-ESC4DN-FA-DpnII-R1-R2_hg38\n",
      "U54-HFFc6-DSG-DdeI-R1-R2_hg38\n",
      "U54-HFFc6-DSG-DpnII-R1-R2_hg38\n",
      "U54-HFFc6-FA-DSG-MNase-R1-R3_hg38\n",
      "U54-HFFc6-DSG-DdeI-DpnII-20190711-R1-R3_hg38\n",
      "U54-HFFc6-FA-DpnII-R1-R2_hg38\n",
      "HelaS3-FA-DpnII-R1-R2_hg38\n"
     ]
    },
    {
     "data": {
      "image/png": "[encoded data removed]",
      "text/plain": [
       "<Figure size 576x216 with 2 Axes>"
      ]
     },
     "metadata": {
      "needs_background": "light"
     },
     "output_type": "display_data"
    },
    {
     "data": {
      "image/png": "[encoded data removed]",
      "text/plain": [
       "<Figure size 864x216 with 3 Axes>"
      ]
     },
     "metadata": {
      "needs_background": "light"
     },
     "output_type": "display_data"
    },
    {
     "data": {
      "image/png": "[encoded data removed]",
      "text/plain": [
       "<Figure size 1440x216 with 5 Axes>"
      ]
     },
     "metadata": {
      "needs_background": "light"
     },
     "output_type": "display_data"
    },
    {
     "data": {
      "image/png": "[encoded data removed]",
      "text/plain": [
       "<Figure size 288x216 with 1 Axes>"
      ]
     },
     "metadata": {
      "needs_background": "light"
     },
     "output_type": "display_data"
    }
   ],
   "source": [
    "celltypes = table.celltype.unique()\n",
    "for ct in celltypes:\n",
    "    df = mm.filter_data(table, filter_dict={'celltype':ct}).reset_index(drop=True)\n",
    "    \n",
    "    fig, ax = plt.subplots(ncols=len(df), figsize=(4*len(df), 3), constrained_layout=True,\n",
    "                           sharex=True, sharey=True)\n",
    "    fig.suptitle(ct)\n",
    "    \n",
    "    for i, row in df.iterrows():\n",
    "        print(row['lib_name'])\n",
    "        xlink = row['xlink']\n",
    "        enz = row['enzyme']\n",
    "        \n",
    "        ins = row['insulation'].dropna()\n",
    "        x = np.log10(ins['boundary_strength_200000'].values)\n",
    "        bins = np.linspace(x.min(), x.max(), num=100)\n",
    "        mask = ins['category'].values == 'strong'\n",
    "        \n",
    "        if ct != 'HelaS3':\n",
    "            ax[i].set_xlabel('log10(boundary strength)')\n",
    "            ax[i].set_title(f'{xlink}-{enz}')\n",
    "            _ = ax[i].hist(x[mask], bins=bins, color='r')\n",
    "            _ = ax[i].hist(x[~mask], bins=bins, color='b')\n",
    "        else:\n",
    "            ax.set_xlabel('log10(boundary strength)')\n",
    "            ax.set_title(f'{xlink}-{enz}')\n",
    "            _ = ax.hist(x[mask], bins=bins, color='r')\n",
    "            _ = ax.hist(x[~mask], bins=bins, color='b')\n",
    "\n",
    "#     fig.savefig(f'/home/sameer/Dropbox (MIT)/Research/U54_matrix/insulation/{ct}_histogram.png')"
   ]
  },
  {
   "cell_type": "markdown",
   "metadata": {},
   "source": [
    "#### Visualizing average stackup of peaks"
   ]
  },
  {
   "cell_type": "code",
   "execution_count": 58,
   "metadata": {
    "ExecuteTime": {
     "end_time": "2020-06-02T17:11:25.510579Z",
     "start_time": "2020-06-02T17:11:24.996092Z"
    }
   },
   "outputs": [
    {
     "data": {
      "text/html": [
       "<div>\n",
       "<style scoped>\n",
       "    .dataframe tbody tr th:only-of-type {\n",
       "        vertical-align: middle;\n",
       "    }\n",
       "\n",
       "    .dataframe tbody tr th {\n",
       "        vertical-align: top;\n",
       "    }\n",
       "\n",
       "    .dataframe thead th {\n",
       "        text-align: right;\n",
       "    }\n",
       "</style>\n",
       "<table border=\"1\" class=\"dataframe\">\n",
       "  <thead>\n",
       "    <tr style=\"text-align: right;\">\n",
       "      <th></th>\n",
       "      <th>lib_name</th>\n",
       "      <th>seq</th>\n",
       "      <th>celltype</th>\n",
       "      <th>xlink</th>\n",
       "      <th>enzyme</th>\n",
       "      <th>cycle</th>\n",
       "      <th>insulation</th>\n",
       "    </tr>\n",
       "  </thead>\n",
       "  <tbody>\n",
       "    <tr>\n",
       "      <th>0</th>\n",
       "      <td>U54-HFF-plate-DSG-HindIII-20160226-R1-T1__hg38</td>\n",
       "      <td>-</td>\n",
       "      <td>HFF</td>\n",
       "      <td>DSG</td>\n",
       "      <td>HindIII</td>\n",
       "      <td>NS</td>\n",
       "      <td>chrom     start       end  is_bad_bin  ...</td>\n",
       "    </tr>\n",
       "    <tr>\n",
       "      <th>1</th>\n",
       "      <td>U54-HFF-plate-EGS-HindIII-20190718-R2-T1__hg38</td>\n",
       "      <td>-</td>\n",
       "      <td>HFF</td>\n",
       "      <td>EGS</td>\n",
       "      <td>HindIII</td>\n",
       "      <td>NS</td>\n",
       "      <td>chrom     start       end  is_bad_bin  ...</td>\n",
       "    </tr>\n",
       "    <tr>\n",
       "      <th>2</th>\n",
       "      <td>U54-HFF-plate-FA-HindIIII-20160226-R2-T1__hg38</td>\n",
       "      <td>-</td>\n",
       "      <td>HFF</td>\n",
       "      <td>FA</td>\n",
       "      <td>HindIII</td>\n",
       "      <td>NS</td>\n",
       "      <td>chrom     start       end  is_bad_bin  ...</td>\n",
       "    </tr>\n",
       "  </tbody>\n",
       "</table>\n",
       "</div>"
      ],
      "text/plain": [
       "                                         lib_name seq celltype xlink   enzyme  \\\n",
       "0  U54-HFF-plate-DSG-HindIII-20160226-R1-T1__hg38   -      HFF   DSG  HindIII   \n",
       "1  U54-HFF-plate-EGS-HindIII-20190718-R2-T1__hg38   -      HFF   EGS  HindIII   \n",
       "2  U54-HFF-plate-FA-HindIIII-20160226-R2-T1__hg38   -      HFF    FA  HindIII   \n",
       "\n",
       "  cycle                                         insulation  \n",
       "0    NS         chrom     start       end  is_bad_bin  ...  \n",
       "1    NS         chrom     start       end  is_bad_bin  ...  \n",
       "2    NS         chrom     start       end  is_bad_bin  ...  "
      ]
     },
     "execution_count": 58,
     "metadata": {},
     "output_type": "execute_result"
    }
   ],
   "source": [
    "table = db.get_tables()\n",
    "table = mm.filter_data(table, filter_dict={'celltype':'HFF', 'enzyme':'HindIII', 'seq':['-','control']}).sort_index()\n",
    "table = db.get_insulations(table, f'insulation/window_200000/10000_20px/')\n",
    "table = table.reset_index(drop=True)\n",
    "table"
   ]
  },
  {
   "cell_type": "code",
   "execution_count": 59,
   "metadata": {
    "ExecuteTime": {
     "end_time": "2020-06-02T17:13:20.920363Z",
     "start_time": "2020-06-02T17:11:55.034300Z"
    },
    "scrolled": false
   },
   "outputs": [
    {
     "name": "stdout",
     "output_type": "stream",
     "text": [
      "0\n",
      "1\n",
      "2\n"
     ]
    },
    {
     "data": {
      "image/png": "[encoded data removed]",
      "text/plain": [
       "<Figure size 648x216 with 3 Axes>"
      ]
     },
     "metadata": {
      "needs_background": "light"
     },
     "output_type": "display_data"
    }
   ],
   "source": [
    "fig, ax = plt.subplots(nrows=1, ncols=len(table), figsize=(3*len(table), 3), sharex=True, sharey=True, constrained_layout=True)\n",
    "\n",
    "data_df = None\n",
    "for i, row in table.iterrows():\n",
    "    ct = row['celltype']\n",
    "    enzyme = row['enzyme']\n",
    "    xlink = row['xlink']\n",
    "    ins = row['insulation']\n",
    "    ins = ins.rename(columns={'boundary_strength_200000':'strength', \n",
    "                                'log2_insulation_score_200000':'insul'})\n",
    "    ins = ins[['chrom','start','end','insul','strength','category']]\n",
    "    peak_list = ins[ins.category.apply(lambda x: isinstance(x,str))]\n",
    "\n",
    "    ax[i].set_title(f'{ct}-{xlink}-{enzyme}')\n",
    "    signal = []\n",
    "\n",
    "    for ind, _ in peak_list.iterrows():\n",
    "        signal = np.append(signal, ins.loc[ind-20:ind+20, 'insul'].values)\n",
    "            \n",
    "    signal = np.nanmean(np.reshape(signal, (-1, 41)), axis=0)\n",
    "    if data_df is None:\n",
    "        data_df = pd.DataFrame({enzyme:signal})\n",
    "    else:\n",
    "        data_df = data_df.merge(pd.DataFrame({enzyme:signal}), left_index=True, right_index=True)\n",
    "    ax[i].plot(signal)\n",
    "    ax[i].set_yticks([])\n",
    "    ax[i].set_xticklabels(['-20','-10','0','10','20'])\n",
    "            \n",
    "# data_df.to_csv(f'/net/wiz/home/sameer/Dropbox (MIT)/Research/U54_matrix/betul/insulation/{ct}_{enzyme}_data.txt', \n",
    "#                sep='\\t', header=True, index=False)\n",
    "# fig.savefig(f'/net/wiz/home/sameer/Dropbox (MIT)/Research/U54_matrix/betul/insulation/{ct}_{enzyme}.png')"
   ]
  },
  {
   "cell_type": "markdown",
   "metadata": {},
   "source": [
    "## Comparing insulation peaks and eigenvectors"
   ]
  },
  {
   "cell_type": "code",
   "execution_count": 68,
   "metadata": {
    "ExecuteTime": {
     "end_time": "2020-06-02T17:19:22.261679Z",
     "start_time": "2020-06-02T17:19:18.459975Z"
    }
   },
   "outputs": [
    {
     "data": {
      "text/html": [
       "<div>\n",
       "<style scoped>\n",
       "    .dataframe tbody tr th:only-of-type {\n",
       "        vertical-align: middle;\n",
       "    }\n",
       "\n",
       "    .dataframe tbody tr th {\n",
       "        vertical-align: top;\n",
       "    }\n",
       "\n",
       "    .dataframe thead th {\n",
       "        text-align: right;\n",
       "    }\n",
       "</style>\n",
       "<table border=\"1\" class=\"dataframe\">\n",
       "  <thead>\n",
       "    <tr style=\"text-align: right;\">\n",
       "      <th></th>\n",
       "      <th>lib_name</th>\n",
       "      <th>seq</th>\n",
       "      <th>celltype</th>\n",
       "      <th>xlink</th>\n",
       "      <th>enzyme</th>\n",
       "      <th>cycle</th>\n",
       "      <th>insulation</th>\n",
       "      <th>lams_10000</th>\n",
       "      <th>vectors_10000</th>\n",
       "    </tr>\n",
       "  </thead>\n",
       "  <tbody>\n",
       "    <tr>\n",
       "      <th>0</th>\n",
       "      <td>U54-END4DN-FA-DSG-MNase-R1-R2_hg38</td>\n",
       "      <td>deep</td>\n",
       "      <td>END</td>\n",
       "      <td>DSG</td>\n",
       "      <td>MNase</td>\n",
       "      <td>NS</td>\n",
       "      <td>chrom     start       end  is_bad_bin  ...</td>\n",
       "      <td>eigval1      eig...</td>\n",
       "      <td>chrom     start       end  gene_count  ...</td>\n",
       "    </tr>\n",
       "    <tr>\n",
       "      <th>1</th>\n",
       "      <td>U54-END-FA-DpnII-R1-R2_hg38</td>\n",
       "      <td>deep</td>\n",
       "      <td>END</td>\n",
       "      <td>FA</td>\n",
       "      <td>DpnII</td>\n",
       "      <td>NS</td>\n",
       "      <td>chrom     start       end  is_bad_bin  ...</td>\n",
       "      <td>eigval1      eig...</td>\n",
       "      <td>chrom     start       end  gene_count  ...</td>\n",
       "    </tr>\n",
       "    <tr>\n",
       "      <th>3</th>\n",
       "      <td>U54-H1ESC4DN-FA-DSG-MNase-R1-R2_hg38</td>\n",
       "      <td>deep</td>\n",
       "      <td>ESC</td>\n",
       "      <td>DSG</td>\n",
       "      <td>MNase</td>\n",
       "      <td>NS</td>\n",
       "      <td>chrom     start       end  is_bad_bin  ...</td>\n",
       "      <td>eigval1      eig...</td>\n",
       "      <td>chrom     start       end  gene_count  ...</td>\n",
       "    </tr>\n",
       "    <tr>\n",
       "      <th>5</th>\n",
       "      <td>U54-HFFc6-DSG-DdeI-R1-R2_hg38</td>\n",
       "      <td>deep</td>\n",
       "      <td>HFF</td>\n",
       "      <td>DSG</td>\n",
       "      <td>DdeI</td>\n",
       "      <td>NS</td>\n",
       "      <td>chrom     start       end  is_bad_bin  ...</td>\n",
       "      <td>eigval1      eig...</td>\n",
       "      <td>chrom     start       end  gene_count  ...</td>\n",
       "    </tr>\n",
       "    <tr>\n",
       "      <th>6</th>\n",
       "      <td>U54-HFFc6-DSG-DpnII-R1-R2_hg38</td>\n",
       "      <td>deep</td>\n",
       "      <td>HFF</td>\n",
       "      <td>DSG</td>\n",
       "      <td>DpnII</td>\n",
       "      <td>NS</td>\n",
       "      <td>chrom     start       end  is_bad_bin  ...</td>\n",
       "      <td>eigval1      eig...</td>\n",
       "      <td>chrom     start       end  gene_count  ...</td>\n",
       "    </tr>\n",
       "    <tr>\n",
       "      <th>9</th>\n",
       "      <td>U54-HFFc6-FA-DpnII-R1-R2_hg38</td>\n",
       "      <td>deep</td>\n",
       "      <td>HFF</td>\n",
       "      <td>FA</td>\n",
       "      <td>DpnII</td>\n",
       "      <td>NS</td>\n",
       "      <td>chrom     start       end  is_bad_bin  ...</td>\n",
       "      <td>eigval1      eig...</td>\n",
       "      <td>chrom     start       end  gene_count  ...</td>\n",
       "    </tr>\n",
       "  </tbody>\n",
       "</table>\n",
       "</div>"
      ],
      "text/plain": [
       "                               lib_name   seq celltype xlink enzyme cycle  \\\n",
       "0    U54-END4DN-FA-DSG-MNase-R1-R2_hg38  deep      END   DSG  MNase    NS   \n",
       "1           U54-END-FA-DpnII-R1-R2_hg38  deep      END    FA  DpnII    NS   \n",
       "3  U54-H1ESC4DN-FA-DSG-MNase-R1-R2_hg38  deep      ESC   DSG  MNase    NS   \n",
       "5         U54-HFFc6-DSG-DdeI-R1-R2_hg38  deep      HFF   DSG   DdeI    NS   \n",
       "6        U54-HFFc6-DSG-DpnII-R1-R2_hg38  deep      HFF   DSG  DpnII    NS   \n",
       "9         U54-HFFc6-FA-DpnII-R1-R2_hg38  deep      HFF    FA  DpnII    NS   \n",
       "\n",
       "                                          insulation  \\\n",
       "0         chrom     start       end  is_bad_bin  ...   \n",
       "1         chrom     start       end  is_bad_bin  ...   \n",
       "3         chrom     start       end  is_bad_bin  ...   \n",
       "5         chrom     start       end  is_bad_bin  ...   \n",
       "6         chrom     start       end  is_bad_bin  ...   \n",
       "9         chrom     start       end  is_bad_bin  ...   \n",
       "\n",
       "                                          lams_10000  \\\n",
       "0                                eigval1      eig...   \n",
       "1                                eigval1      eig...   \n",
       "3                                eigval1      eig...   \n",
       "5                                eigval1      eig...   \n",
       "6                                eigval1      eig...   \n",
       "9                                eigval1      eig...   \n",
       "\n",
       "                                       vectors_10000  \n",
       "0         chrom     start       end  gene_count  ...  \n",
       "1         chrom     start       end  gene_count  ...  \n",
       "3         chrom     start       end  gene_count  ...  \n",
       "5         chrom     start       end  gene_count  ...  \n",
       "6         chrom     start       end  gene_count  ...  \n",
       "9         chrom     start       end  gene_count  ...  "
      ]
     },
     "execution_count": 68,
     "metadata": {},
     "output_type": "execute_result"
    }
   ],
   "source": [
    "table = db.get_tables()\n",
    "table = mm.filter_data(table, filter_dict={'seq':'deep'})\n",
    "table = db.get_insulations(table, f'insulation/window_200000/10000_20px/')\n",
    "table = db.get_eigendecomps(table, res=10000).dropna()\n",
    "table"
   ]
  },
  {
   "cell_type": "markdown",
   "metadata": {},
   "source": [
    "### Histograms of eigenvector values at boundaries"
   ]
  },
  {
   "cell_type": "code",
   "execution_count": 69,
   "metadata": {
    "ExecuteTime": {
     "end_time": "2020-06-02T17:19:28.295097Z",
     "start_time": "2020-06-02T17:19:24.417325Z"
    },
    "scrolled": false
   },
   "outputs": [
    {
     "name": "stderr",
     "output_type": "stream",
     "text": [
      "/home/sameer/anaconda3/lib/python3.7/site-packages/numpy/lib/histograms.py:839: RuntimeWarning: invalid value encountered in greater_equal\n",
      "  keep = (tmp_a >= first_edge)\n",
      "/home/sameer/anaconda3/lib/python3.7/site-packages/numpy/lib/histograms.py:840: RuntimeWarning: invalid value encountered in less_equal\n",
      "  keep &= (tmp_a <= last_edge)\n",
      "/home/sameer/anaconda3/lib/python3.7/site-packages/numpy/lib/histograms.py:839: RuntimeWarning: invalid value encountered in greater_equal\n",
      "  keep = (tmp_a >= first_edge)\n",
      "/home/sameer/anaconda3/lib/python3.7/site-packages/numpy/lib/histograms.py:840: RuntimeWarning: invalid value encountered in less_equal\n",
      "  keep &= (tmp_a <= last_edge)\n",
      "/home/sameer/anaconda3/lib/python3.7/site-packages/numpy/lib/histograms.py:839: RuntimeWarning: invalid value encountered in greater_equal\n",
      "  keep = (tmp_a >= first_edge)\n",
      "/home/sameer/anaconda3/lib/python3.7/site-packages/numpy/lib/histograms.py:840: RuntimeWarning: invalid value encountered in less_equal\n",
      "  keep &= (tmp_a <= last_edge)\n",
      "/home/sameer/anaconda3/lib/python3.7/site-packages/numpy/lib/histograms.py:839: RuntimeWarning: invalid value encountered in greater_equal\n",
      "  keep = (tmp_a >= first_edge)\n",
      "/home/sameer/anaconda3/lib/python3.7/site-packages/numpy/lib/histograms.py:840: RuntimeWarning: invalid value encountered in less_equal\n",
      "  keep &= (tmp_a <= last_edge)\n",
      "/home/sameer/anaconda3/lib/python3.7/site-packages/numpy/lib/histograms.py:839: RuntimeWarning: invalid value encountered in greater_equal\n",
      "  keep = (tmp_a >= first_edge)\n",
      "/home/sameer/anaconda3/lib/python3.7/site-packages/numpy/lib/histograms.py:840: RuntimeWarning: invalid value encountered in less_equal\n",
      "  keep &= (tmp_a <= last_edge)\n",
      "/home/sameer/anaconda3/lib/python3.7/site-packages/numpy/lib/histograms.py:839: RuntimeWarning: invalid value encountered in greater_equal\n",
      "  keep = (tmp_a >= first_edge)\n",
      "/home/sameer/anaconda3/lib/python3.7/site-packages/numpy/lib/histograms.py:840: RuntimeWarning: invalid value encountered in less_equal\n",
      "  keep &= (tmp_a <= last_edge)\n",
      "/home/sameer/anaconda3/lib/python3.7/site-packages/numpy/lib/histograms.py:839: RuntimeWarning: invalid value encountered in greater_equal\n",
      "  keep = (tmp_a >= first_edge)\n",
      "/home/sameer/anaconda3/lib/python3.7/site-packages/numpy/lib/histograms.py:840: RuntimeWarning: invalid value encountered in less_equal\n",
      "  keep &= (tmp_a <= last_edge)\n",
      "/home/sameer/anaconda3/lib/python3.7/site-packages/numpy/lib/histograms.py:839: RuntimeWarning: invalid value encountered in greater_equal\n",
      "  keep = (tmp_a >= first_edge)\n",
      "/home/sameer/anaconda3/lib/python3.7/site-packages/numpy/lib/histograms.py:840: RuntimeWarning: invalid value encountered in less_equal\n",
      "  keep &= (tmp_a <= last_edge)\n",
      "/home/sameer/anaconda3/lib/python3.7/site-packages/numpy/lib/histograms.py:839: RuntimeWarning: invalid value encountered in greater_equal\n",
      "  keep = (tmp_a >= first_edge)\n",
      "/home/sameer/anaconda3/lib/python3.7/site-packages/numpy/lib/histograms.py:840: RuntimeWarning: invalid value encountered in less_equal\n",
      "  keep &= (tmp_a <= last_edge)\n",
      "/home/sameer/anaconda3/lib/python3.7/site-packages/numpy/lib/histograms.py:839: RuntimeWarning: invalid value encountered in greater_equal\n",
      "  keep = (tmp_a >= first_edge)\n",
      "/home/sameer/anaconda3/lib/python3.7/site-packages/numpy/lib/histograms.py:840: RuntimeWarning: invalid value encountered in less_equal\n",
      "  keep &= (tmp_a <= last_edge)\n",
      "/home/sameer/anaconda3/lib/python3.7/site-packages/numpy/lib/histograms.py:839: RuntimeWarning: invalid value encountered in greater_equal\n",
      "  keep = (tmp_a >= first_edge)\n",
      "/home/sameer/anaconda3/lib/python3.7/site-packages/numpy/lib/histograms.py:840: RuntimeWarning: invalid value encountered in less_equal\n",
      "  keep &= (tmp_a <= last_edge)\n",
      "/home/sameer/anaconda3/lib/python3.7/site-packages/numpy/lib/histograms.py:839: RuntimeWarning: invalid value encountered in greater_equal\n",
      "  keep = (tmp_a >= first_edge)\n",
      "/home/sameer/anaconda3/lib/python3.7/site-packages/numpy/lib/histograms.py:840: RuntimeWarning: invalid value encountered in less_equal\n",
      "  keep &= (tmp_a <= last_edge)\n",
      "/home/sameer/anaconda3/lib/python3.7/site-packages/numpy/lib/histograms.py:839: RuntimeWarning: invalid value encountered in greater_equal\n",
      "  keep = (tmp_a >= first_edge)\n",
      "/home/sameer/anaconda3/lib/python3.7/site-packages/numpy/lib/histograms.py:840: RuntimeWarning: invalid value encountered in less_equal\n",
      "  keep &= (tmp_a <= last_edge)\n",
      "/home/sameer/anaconda3/lib/python3.7/site-packages/numpy/lib/histograms.py:839: RuntimeWarning: invalid value encountered in greater_equal\n",
      "  keep = (tmp_a >= first_edge)\n",
      "/home/sameer/anaconda3/lib/python3.7/site-packages/numpy/lib/histograms.py:840: RuntimeWarning: invalid value encountered in less_equal\n",
      "  keep &= (tmp_a <= last_edge)\n",
      "/home/sameer/anaconda3/lib/python3.7/site-packages/numpy/lib/histograms.py:839: RuntimeWarning: invalid value encountered in greater_equal\n",
      "  keep = (tmp_a >= first_edge)\n",
      "/home/sameer/anaconda3/lib/python3.7/site-packages/numpy/lib/histograms.py:840: RuntimeWarning: invalid value encountered in less_equal\n",
      "  keep &= (tmp_a <= last_edge)\n",
      "/home/sameer/anaconda3/lib/python3.7/site-packages/numpy/lib/histograms.py:839: RuntimeWarning: invalid value encountered in greater_equal\n",
      "  keep = (tmp_a >= first_edge)\n",
      "/home/sameer/anaconda3/lib/python3.7/site-packages/numpy/lib/histograms.py:840: RuntimeWarning: invalid value encountered in less_equal\n",
      "  keep &= (tmp_a <= last_edge)\n",
      "/home/sameer/anaconda3/lib/python3.7/site-packages/numpy/lib/histograms.py:839: RuntimeWarning: invalid value encountered in greater_equal\n",
      "  keep = (tmp_a >= first_edge)\n",
      "/home/sameer/anaconda3/lib/python3.7/site-packages/numpy/lib/histograms.py:840: RuntimeWarning: invalid value encountered in less_equal\n",
      "  keep &= (tmp_a <= last_edge)\n",
      "/home/sameer/anaconda3/lib/python3.7/site-packages/numpy/lib/histograms.py:839: RuntimeWarning: invalid value encountered in greater_equal\n",
      "  keep = (tmp_a >= first_edge)\n",
      "/home/sameer/anaconda3/lib/python3.7/site-packages/numpy/lib/histograms.py:840: RuntimeWarning: invalid value encountered in less_equal\n",
      "  keep &= (tmp_a <= last_edge)\n",
      "/home/sameer/anaconda3/lib/python3.7/site-packages/numpy/lib/histograms.py:839: RuntimeWarning: invalid value encountered in greater_equal\n",
      "  keep = (tmp_a >= first_edge)\n",
      "/home/sameer/anaconda3/lib/python3.7/site-packages/numpy/lib/histograms.py:840: RuntimeWarning: invalid value encountered in less_equal\n",
      "  keep &= (tmp_a <= last_edge)\n",
      "/home/sameer/anaconda3/lib/python3.7/site-packages/numpy/lib/histograms.py:839: RuntimeWarning: invalid value encountered in greater_equal\n",
      "  keep = (tmp_a >= first_edge)\n",
      "/home/sameer/anaconda3/lib/python3.7/site-packages/numpy/lib/histograms.py:840: RuntimeWarning: invalid value encountered in less_equal\n",
      "  keep &= (tmp_a <= last_edge)\n",
      "/home/sameer/anaconda3/lib/python3.7/site-packages/numpy/lib/histograms.py:839: RuntimeWarning: invalid value encountered in greater_equal\n",
      "  keep = (tmp_a >= first_edge)\n",
      "/home/sameer/anaconda3/lib/python3.7/site-packages/numpy/lib/histograms.py:840: RuntimeWarning: invalid value encountered in less_equal\n",
      "  keep &= (tmp_a <= last_edge)\n"
     ]
    },
    {
     "data": {
      "text/plain": [
       "(-3, 3)"
      ]
     },
     "execution_count": 69,
     "metadata": {},
     "output_type": "execute_result"
    },
    {
     "data": {
      "image/png": "[encoded data removed]",
      "text/plain": [
       "<Figure size 648x360 with 12 Axes>"
      ]
     },
     "metadata": {
      "needs_background": "light"
     },
     "output_type": "display_data"
    }
   ],
   "source": [
    "fig, ax_list = plt.subplots(nrows=3, ncols=4, figsize=(9,5), sharex=True, sharey=False, constrained_layout=True)\n",
    "ind = 0\n",
    "for ct, group in table.groupby('celltype'):\n",
    "\n",
    "    for i, row in group.reset_index(drop=True).iterrows():\n",
    "\n",
    "        name = f\"{row['xlink']}-{row['enzyme']}\"\n",
    "        ins = row['insulation']\n",
    "        vec = row['vectors_10000']\n",
    "        \n",
    "        merged = ins[['chrom','start','end','boundary_strength_200000','category']].merge(\n",
    "                            vec[['chrom','start','end','E1']], on=['chrom','start','end'], how='inner'\n",
    "                                                        )\n",
    "        ax = ax_list[ind, i]\n",
    "        if i == 0:\n",
    "            ax.set_ylabel(ct, fontweight='bold', fontsize=12)\n",
    "        ax.set_title(name)\n",
    "        if ind == 2:\n",
    "            ax.set_xlabel('Eigenvector')\n",
    "        for cat, df in merged.groupby('category'):\n",
    "            y = df['E1'].values\n",
    "            _ = ax.hist(y, bins=100, histtype='step', label=cat, density=True)\n",
    "        y = merged['E1'].values\n",
    "        _ = ax.hist(y, bins=100, histtype='step', label='All E1', density=True)\n",
    "    ind += 1\n",
    "    \n",
    "for cat, df in merged.groupby('category'):\n",
    "    y = df['E1'].values\n",
    "    _ = ax_list[0,3].hist(y, bins=100, histtype='step', label=cat, density=True) \n",
    "    \n",
    "y = merged['E1'].values\n",
    "_ = ax_list[0,3].hist(y, bins=100, histtype='step', label='All E1', density=True)\n",
    "ax_list[0,3].legend()\n",
    "ax_list[0,3].set_title('Dummy')\n",
    "ax_list[0,3].set_xlim([-3, 3])\n",
    "\n",
    "# fig.savefig(f'/home/sameer/Dropbox (MIT)/Research/U54_matrix/insulation/eig_hist_dense.png')"
   ]
  },
  {
   "cell_type": "markdown",
   "metadata": {},
   "source": [
    "### Histograms of boundary strengths values in compartments"
   ]
  },
  {
   "cell_type": "code",
   "execution_count": null,
   "metadata": {
    "ExecuteTime": {
     "end_time": "2020-01-24T14:48:32.143634Z",
     "start_time": "2020-01-24T14:48:29.541777Z"
    },
    "scrolled": false
   },
   "outputs": [],
   "source": [
    "fig, ax_list = plt.subplots(nrows=3, ncols=4, figsize=(9,5), sharex=True, sharey=False, constrained_layout=True)\n",
    "ind = 0\n",
    "for ct, group in table.groupby('celltype'):\n",
    "\n",
    "    for i, row in group.reset_index(drop=True).iterrows():\n",
    "\n",
    "        name = f\"{row['xlink']}-{row['enzyme']}\"\n",
    "        ins = row['insulation_10000']\n",
    "        vec = row['vectors_10000']\n",
    "        \n",
    "        merged = ins[['chrom','start','end','boundary_strength_100000','category']].merge(\n",
    "                            vec[['chrom','start','end','E1']], on=['chrom','start','end'], how='inner'\n",
    "                                                        )\n",
    "        merged['comp'] = merged['E1'].apply(lambda x: 'A comp' if x>=0 else 'B comp')\n",
    "        \n",
    "        ax = ax_list[ind, i]\n",
    "        if i == 0:\n",
    "            ax.set_ylabel(ct, fontweight='bold', fontsize=12)\n",
    "        ax.set_title(name)\n",
    "        if ind == 2:\n",
    "            ax.set_xlabel('log10(Boundary Strength)')\n",
    "        for cat, df in merged.groupby('comp'):\n",
    "            y = df['boundary_strength_100000'].values\n",
    "            y = np.log10(y)\n",
    "            _ = ax.hist(y, bins=100, histtype='step', label=cat, density=False)\n",
    "            \n",
    "        y = merged['boundary_strength_100000'].values\n",
    "        y = np.log10(y)\n",
    "        _ = ax.hist(y, bins=100, histtype='step', label='All boundaries', density=False)\n",
    "    ind += 1\n",
    "    \n",
    "for cat, df in merged.groupby('comp'):\n",
    "    y = df['boundary_strength_100000'].values\n",
    "    y = np.log10(y)\n",
    "    _ = ax_list[0,3].hist(y, bins=100, histtype='step', label=cat, density=False) \n",
    "    \n",
    "y = merged['boundary_strength_100000'].values\n",
    "y = np.log10(y)\n",
    "_ = ax_list[0,3].hist(y, bins=100, histtype='step', label='All Boundaries', density=True)\n",
    "ax_list[0,3].legend()\n",
    "ax_list[0,3].set_title('Dummy')\n",
    "# ax_list[0,3].set_xlim([-3, 3])\n",
    "\n",
    "# fig.savefig(f'/home/sameer/Dropbox (MIT)/Research/U54_matrix/insulation/bound_hist.png')"
   ]
  },
  {
   "cell_type": "code",
   "execution_count": null,
   "metadata": {
    "ExecuteTime": {
     "end_time": "2019-12-21T19:29:02.204321Z",
     "start_time": "2019-12-21T19:27:13.993348Z"
    },
    "scrolled": true
   },
   "outputs": [],
   "source": [
    "celltypes = table.celltype.unique()\n",
    "for ct in celltypes:\n",
    "    if ct =='HelaS3':\n",
    "        continue\n",
    "    df = table[table.celltype==ct].reset_index(drop=True)\n",
    "\n",
    "    fig, ax = plt.subplots(nrows=2, ncols=len(df), figsize=(3*len(df), 4), constrained_layout=True,\n",
    "                       sharex=True, sharey=True)\n",
    "    fig.suptitle(f'Celltype: {ct}')\n",
    "    \n",
    "    for i, row in df.iterrows():\n",
    "        print(row['lib_name'])\n",
    "        name = f\"{row['xlink']}-{row['enzyme']}\"\n",
    "        \n",
    "        ins = row['insulation_10000']\n",
    "        ins = ins.rename(columns={'boundary_strength_100000':'strength', \n",
    "                            'log2_insulation_score_100000':'insul'})\n",
    "        vec = row['vectors_10000']\n",
    "        \n",
    "        merged = ins[['chrom','start','end','strength','insul']].merge(\n",
    "                            vec[['chrom','start','end','E1']], on=['chrom','start','end'], how='inner'\n",
    "                                                        ).dropna()\n",
    "        merged['comp'] = merged['E1'].apply(lambda x: 'A comp' if x>=0 else 'B comp')\n",
    "        ax[0, i].set_title(name)\n",
    "        for j, comp in enumerate(['A comp', 'B comp']):\n",
    "            ax[j, i].set_ylabel(comp)\n",
    "            df1 = merged[merged['comp'] == comp]\n",
    "            sig = []\n",
    "            \n",
    "            for ind, row1 in df1.iterrows():\n",
    "                if np.isnan(row1['strength']):\n",
    "                    continue\n",
    "                    \n",
    "                sig = np.append(sig, ins.loc[ind-20:ind+20, 'insul'].values)\n",
    "            sig = np.nanmean(np.reshape(sig, (-1, 41)), axis=0)\n",
    "            ax[j, i].plot(sig)\n",
    "\n",
    "\n",
    "#     fig.savefig(f'/home/sameer/Dropbox (MIT)/Research/U54_matrix/insulation/eigenvector/{ct}_eig_insul.png')\n"
   ]
  },
  {
   "cell_type": "markdown",
   "metadata": {},
   "source": [
    "## Overlap of insulation peaks with dot anchors"
   ]
  },
  {
   "cell_type": "markdown",
   "metadata": {
    "ExecuteTime": {
     "end_time": "2019-12-01T22:46:10.017886Z",
     "start_time": "2019-12-01T22:46:10.013881Z"
    },
    "code_folding": []
   },
   "source": [
    "### Clustering dot anchors"
   ]
  },
  {
   "cell_type": "code",
   "execution_count": null,
   "metadata": {
    "ExecuteTime": {
     "end_time": "2019-12-04T22:05:12.774351Z",
     "start_time": "2019-12-04T22:05:12.768131Z"
    },
    "code_folding": [
     0
    ]
   },
   "outputs": [],
   "source": [
    "# def cluster_dot_anchors(dots, radius):\n",
    "#     # collapse dot records into one record per anchor\n",
    "#     anchors = pd.concat([\n",
    "#         (dots[['chrom1', 'start1', 'end1']]\n",
    "#             .rename(columns=lambda x: x.replace('1', ''))\n",
    "#             .assign(dot_id=dots.index, side=1)),\n",
    "#         (dots[['chrom2', 'start2', 'end2']]\n",
    "#             .rename(columns=lambda x: x.replace('2', ''))\n",
    "#             .assign(dot_id=dots.index, side=2)),\n",
    "#     ])\n",
    "    \n",
    "#     # sort them for clustering\n",
    "#     anchors = anchors.sort_values(['chrom', 'start', 'end'])\n",
    "    \n",
    "#     # cluster them\n",
    "#     with tsv(anchors) as i:\n",
    "#         clustered = bedtools.cluster(i=i.name, d=radius)\n",
    "#         clustered.columns = list(anchors.columns) + ['clust_id']\n",
    "        \n",
    "#     return clustered"
   ]
  },
  {
   "cell_type": "code",
   "execution_count": null,
   "metadata": {
    "ExecuteTime": {
     "end_time": "2019-12-04T22:18:35.906301Z",
     "start_time": "2019-12-04T22:18:35.902193Z"
    },
    "code_folding": [
     0
    ],
    "scrolled": true
   },
   "outputs": [],
   "source": [
    "# dot_paths = glob.glob('/net/levsha/share/lab/U54/2019_mapping_hg38/U54_deep/snakedots/*/combineddots/*postproc')\n",
    "# radius = 10000\n",
    "# for rad in [5000, 10000, 20000]:\n",
    "#     print('\\n', rad, '\\n')\n",
    "    \n",
    "#     for path in dot_paths:\n",
    "#         print(path.split('/')[-1])\n",
    "#         dots = pd.read_csv(path, sep='\\t')\n",
    "#         anchors = cluster_dot_anchors(dots, 10000)\n",
    "#         anchors.to_csv(f'{path}.anchors_{rad}', sep='\\t', header=True, index=False)\n"
   ]
  },
  {
   "cell_type": "markdown",
   "metadata": {},
   "source": [
    "### Intersecting dot anchors and insulation peaks"
   ]
  },
  {
   "cell_type": "code",
   "execution_count": null,
   "metadata": {
    "ExecuteTime": {
     "end_time": "2020-01-24T16:45:06.345844Z",
     "start_time": "2020-01-24T16:45:00.101129Z"
    }
   },
   "outputs": [],
   "source": [
    "imp.reload(mm)\n",
    "ds = mm.Dataset()\n",
    "table = ds.get_tables()\n",
    "table = mm.filter_data(table, filter_dict={'seq':'deep'})\n",
    "table = mm.get_insulation(table, res=10000)\n",
    "table = mm.get_dot_calls(table, anchors=True, anchor_rad=10000)\n",
    "table = mm.get_compartments(table, res=10000).dropna()\n",
    "table"
   ]
  },
  {
   "cell_type": "code",
   "execution_count": null,
   "metadata": {
    "ExecuteTime": {
     "end_time": "2020-01-24T14:56:49.594833Z",
     "start_time": "2020-01-24T14:56:49.563031Z"
    }
   },
   "outputs": [],
   "source": [
    "table.loc[0, 'insulation_10000'].category.unique()"
   ]
  },
  {
   "cell_type": "code",
   "execution_count": null,
   "metadata": {
    "ExecuteTime": {
     "end_time": "2020-01-24T14:55:14.798781Z",
     "start_time": "2020-01-24T14:55:14.793184Z"
    },
    "code_folding": [
     0
    ],
    "scrolled": false
   },
   "outputs": [],
   "source": [
    "## All libraries anchor sizes do NOT changes when varying anchor radii\n",
    "\n",
    "# imp.reload(mm)\n",
    "# ds = mm.Dataset()\n",
    "# table = ds.get_tables()\n",
    "# table = mm.filter_data(table, filter_dict={'seq':'deep'}).reset_index()\n",
    "\n",
    "# ind = 7\n",
    "# print(table.loc[ind, 'lib_name'])\n",
    "# fig, ax = plt.subplots()\n",
    "# for rad in [5000, 10000, 20000]:\n",
    "    \n",
    "#     table = mm.get_dot_calls(table, anchors=True, anchor_rad=rad).dropna()\n",
    "#     df = table.loc[ind, f'anchors_{rad}']\n",
    "#     anchors = df.groupby('clust_id').aggregate({'chrom':'first','start':'min', 'end':'max', 'dot_id':'count'})\n",
    "#     anchors = anchors.rename(columns={'dot_id':'count'}).reset_index()\n",
    "#     anchors['length'] = anchors['end'] - anchors['start']\n",
    "#     print(anchors['length'].unique())\n",
    "\n",
    "#     _ = ax.hist(anchors['length'].values, bins=20, histtype='step', label=rad)\n",
    "    \n",
    "# ax.legend()"
   ]
  },
  {
   "cell_type": "code",
   "execution_count": null,
   "metadata": {
    "ExecuteTime": {
     "end_time": "2020-01-24T14:58:45.995931Z",
     "start_time": "2020-01-24T14:58:38.879796Z"
    },
    "scrolled": true
   },
   "outputs": [],
   "source": [
    "celltypes = table.celltype.unique()\n",
    "bins = np.linspace(-6, 1, 100)\n",
    "\n",
    "for ct in celltypes:\n",
    "    if ct =='HelaS3':\n",
    "        continue\n",
    "    df = table[table.celltype==ct].reset_index(drop=True)\n",
    "\n",
    "    fig, ax = plt.subplots(nrows=2, ncols=len(df), figsize=(2*len(df), 4), constrained_layout=True,\n",
    "                       sharex=True, sharey=True)\n",
    "    fig.suptitle(f'Celltype: {ct}')\n",
    "\n",
    "    for i, row in df.iterrows():\n",
    "\n",
    "        ins = row['insulation_10000'].dropna().reset_index(drop=True)\n",
    "        ins = ins.rename(columns={'log2_insulation_score_100000':'insulation',\n",
    "                                  'boundary_strength_100000':'strength'})\n",
    "        ins = ins[['chrom','start','end', 'insulation', 'strength', 'category']]\n",
    "        anchors = row['anchors_10000']\n",
    "        anchors = anchors.groupby('clust_id').aggregate({'chrom':'first','start':'min', 'end':'max', 'dot_id':'count'})\n",
    "        anchors = anchors.rename(columns={'dot_id':'count'}).reset_index(drop=True)\n",
    "\n",
    "        with tsv(ins) as a, tsv(anchors) as b:\n",
    "            out = bedtools.intersect(a=a.name, b=b.name, loj=True, wa=True, wb=True)\n",
    "            out.columns = [x for x in ins.columns] + ['dot_'+x for x in anchors.columns]\n",
    "\n",
    "        out['dot_count'] = out['dot_count'].apply(lambda x: 0 if x == '.' else int(x))\n",
    "        out = out[['chrom', 'start', 'end', 'insulation', 'strength', 'category', 'dot_count']]\n",
    "        out['dot_occ'] = out['dot_count'].apply(lambda x: False if x==0 else True)\n",
    "        \n",
    "        if not i:\n",
    "            ax[0,i].set_ylabel('With dot anchors')\n",
    "            ax[1,i].set_ylabel('NO dot anchors')\n",
    "        \n",
    "        ax[0,i].set_title(f\"{row['xlink']}-{row['enzyme']}\")\n",
    "        x = out.loc[out.dot_occ & (out['category'] == 'weak'), 'strength'].values\n",
    "        x = np.log10(x)\n",
    "        _ = ax[0,i].hist(x, bins=bins, label='weak', color='royalblue')#, histtype='step')\n",
    "        x = out.loc[out.dot_occ & (out['category'] == 'strong'), 'strength'].values\n",
    "        x = np.log10(x)\n",
    "        _ = ax[0,i].hist(x, bins=bins, label='strong',color='darkorange')#, histtype='step')\n",
    "\n",
    "        x = out.loc[(~out.dot_occ) & (out['category'] == 'weak'), 'strength'].values\n",
    "        x = np.log10(x)\n",
    "        _ = ax[1,i].hist(x, bins=bins, label='weak', color='royalblue')#, histtype='step')\n",
    "        x = out.loc[(~out.dot_occ) & (out['category'] == 'strong'), 'strength'].values\n",
    "        x = np.log10(x)\n",
    "        _ = ax[1,i].hist(x, bins=bins, label='strong',color='darkorange')#', histtype='step')\n",
    "\n",
    "        x = out.loc[(out['category'] == 'weak'), 'strength'].values\n",
    "        x = np.log10(x)\n",
    "        _ = ax[0,i].hist(x, bins=bins, label='weak', color='royalblue', histtype='step')\n",
    "        _ = ax[1,i].hist(x, bins=bins, label='weak', color='royalblue', histtype='step')\n",
    "        x = out.loc[(out['category'] == 'strong'), 'strength'].values\n",
    "        x = np.log10(x)\n",
    "        _ = ax[0,i].hist(x, bins=bins, label='strong', color='darkorange', histtype='step')\n",
    "        _ = ax[1,i].hist(x, bins=bins, label='strong', color='darkorange', histtype='step')\n",
    "#     fig.savefig(f'/home/sameer/Dropbox (MIT)/Research/U54_matrix/insulation/dot_anchors/{ct}_hist.png')"
   ]
  },
  {
   "cell_type": "code",
   "execution_count": null,
   "metadata": {},
   "outputs": [],
   "source": []
  },
  {
   "cell_type": "code",
   "execution_count": null,
   "metadata": {
    "ExecuteTime": {
     "end_time": "2020-03-09T00:47:55.058421Z",
     "start_time": "2020-03-09T00:47:46.864934Z"
    },
    "scrolled": true
   },
   "outputs": [],
   "source": []
  },
  {
   "cell_type": "code",
   "execution_count": null,
   "metadata": {
    "ExecuteTime": {
     "end_time": "2020-03-09T00:48:02.589596Z",
     "start_time": "2020-03-09T00:48:02.532330Z"
    }
   },
   "outputs": [],
   "source": []
  },
  {
   "cell_type": "code",
   "execution_count": null,
   "metadata": {
    "ExecuteTime": {
     "end_time": "2020-03-09T00:48:57.405469Z",
     "start_time": "2020-03-09T00:48:53.157385Z"
    },
    "scrolled": true
   },
   "outputs": [],
   "source": []
  },
  {
   "cell_type": "code",
   "execution_count": null,
   "metadata": {
    "ExecuteTime": {
     "end_time": "2020-03-09T03:39:04.534677Z",
     "start_time": "2020-03-09T03:39:04.007077Z"
    }
   },
   "outputs": [],
   "source": []
  },
  {
   "cell_type": "code",
   "execution_count": null,
   "metadata": {
    "ExecuteTime": {
     "end_time": "2020-03-09T05:23:24.164808Z",
     "start_time": "2020-03-09T05:23:10.992812Z"
    },
    "scrolled": false
   },
   "outputs": [],
   "source": []
  },
  {
   "cell_type": "code",
   "execution_count": null,
   "metadata": {
    "ExecuteTime": {
     "end_time": "2020-03-09T14:22:42.518378Z",
     "start_time": "2020-03-09T05:24:11.578284Z"
    }
   },
   "outputs": [],
   "source": []
  },
  {
   "cell_type": "code",
   "execution_count": null,
   "metadata": {
    "ExecuteTime": {
     "end_time": "2020-03-09T04:40:05.266410Z",
     "start_time": "2020-03-09T04:40:05.255180Z"
    }
   },
   "outputs": [],
   "source": []
  },
  {
   "cell_type": "code",
   "execution_count": null,
   "metadata": {
    "ExecuteTime": {
     "end_time": "2020-03-09T03:47:14.332067Z",
     "start_time": "2020-03-09T03:47:14.322626Z"
    }
   },
   "outputs": [],
   "source": []
  },
  {
   "cell_type": "code",
   "execution_count": null,
   "metadata": {
    "ExecuteTime": {
     "end_time": "2020-03-09T04:17:27.420298Z",
     "start_time": "2020-03-09T04:17:27.397009Z"
    }
   },
   "outputs": [],
   "source": []
  },
  {
   "cell_type": "code",
   "execution_count": null,
   "metadata": {},
   "outputs": [],
   "source": []
  },
  {
   "cell_type": "code",
   "execution_count": null,
   "metadata": {
    "ExecuteTime": {
     "end_time": "2020-03-09T04:17:52.488676Z",
     "start_time": "2020-03-09T04:17:52.471331Z"
    }
   },
   "outputs": [],
   "source": []
  },
  {
   "cell_type": "code",
   "execution_count": null,
   "metadata": {
    "ExecuteTime": {
     "end_time": "2020-03-09T02:10:53.651056Z",
     "start_time": "2020-03-09T02:10:53.218185Z"
    }
   },
   "outputs": [],
   "source": []
  },
  {
   "cell_type": "code",
   "execution_count": null,
   "metadata": {
    "ExecuteTime": {
     "end_time": "2019-08-29T19:41:23.744147Z",
     "start_time": "2019-08-29T19:41:23.579515Z"
    }
   },
   "outputs": [],
   "source": []
  },
  {
   "cell_type": "code",
   "execution_count": null,
   "metadata": {
    "ExecuteTime": {
     "end_time": "2019-08-29T19:41:51.835402Z",
     "start_time": "2019-08-29T19:41:47.107986Z"
    },
    "scrolled": true
   },
   "outputs": [],
   "source": []
  },
  {
   "cell_type": "code",
   "execution_count": null,
   "metadata": {
    "ExecuteTime": {
     "end_time": "2019-07-29T12:44:40.549535Z",
     "start_time": "2019-07-29T12:44:40.397176Z"
    }
   },
   "outputs": [],
   "source": []
  },
  {
   "cell_type": "code",
   "execution_count": null,
   "metadata": {
    "ExecuteTime": {
     "end_time": "2019-07-29T12:57:51.176907Z",
     "start_time": "2019-07-29T12:57:48.058450Z"
    },
    "scrolled": false
   },
   "outputs": [],
   "source": []
  },
  {
   "cell_type": "code",
   "execution_count": null,
   "metadata": {},
   "outputs": [],
   "source": []
  }
 ],
 "metadata": {
  "kernelspec": {
   "display_name": "Python 3",
   "language": "python",
   "name": "python3"
  },
  "language_info": {
   "codemirror_mode": {
    "name": "ipython",
    "version": 3
   },
   "file_extension": ".py",
   "mimetype": "text/x-python",
   "name": "python",
   "nbconvert_exporter": "python",
   "pygments_lexer": "ipython3",
   "version": "3.7.6"
  }
 },
 "nbformat": 4,
 "nbformat_minor": 2
}
