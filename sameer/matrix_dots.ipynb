{
 "cells": [
  {
   "cell_type": "code",
   "execution_count": 20,
   "metadata": {
    "ExecuteTime": {
     "end_time": "2020-03-27T17:36:43.415209Z",
     "start_time": "2020-03-27T17:36:43.374133Z"
    }
   },
   "outputs": [],
   "source": [
    "import os\n",
    "import sys\n",
    "    \n",
    "import multiprocess as mp\n",
    "import numpy as np\n",
    "import pandas as pd\n",
    "from dask.array.chunk import coarsen\n",
    "\n",
    "import mirnylib.plotting\n",
    "import cooler\n",
    "import cooltools\n",
    "from cooltools import snipping, expected\n",
    "import bioframe\n",
    "from sklearn.mixture import GaussianMixture\n",
    "\n",
    "import DNA_info\n",
    "import matrix_manager as mm\n",
    "import cooltools_pileups\n",
    "\n",
    "from matplotlib.gridspec import GridSpec\n",
    "from matplotlib import patches\n",
    "\n",
    "%matplotlib notebook"
   ]
  },
  {
   "cell_type": "code",
   "execution_count": 4,
   "metadata": {
    "ExecuteTime": {
     "end_time": "2020-03-27T17:19:17.207731Z",
     "start_time": "2020-03-27T17:19:15.390422Z"
    }
   },
   "outputs": [],
   "source": [
    "res = 5000\n",
    "paths = {'ESC':'/net/levsha/share/lab/U54/2019_mapping_hg38/U54_deep/upset_dots/ESC/',\n",
    "         'HFF':'/net/levsha/share/lab/U54/2019_mapping_hg38/U54_deep/upset_dots/HFF/',\n",
    "         'double_digest':'/net/levsha/share/lab/U54/2019_mapping_hg38/U54_deep/upset_dots/double_digest/'\n",
    "        }\n",
    "arms = DNA_info.get_chromosome_arms('hg38')"
   ]
  },
  {
   "cell_type": "code",
   "execution_count": 7,
   "metadata": {
    "ExecuteTime": {
     "end_time": "2020-03-27T17:20:30.711692Z",
     "start_time": "2020-03-27T17:20:30.688589Z"
    }
   },
   "outputs": [
    {
     "data": {
      "text/html": [
       "<div>\n",
       "<style scoped>\n",
       "    .dataframe tbody tr th:only-of-type {\n",
       "        vertical-align: middle;\n",
       "    }\n",
       "\n",
       "    .dataframe tbody tr th {\n",
       "        vertical-align: top;\n",
       "    }\n",
       "\n",
       "    .dataframe thead th {\n",
       "        text-align: right;\n",
       "    }\n",
       "</style>\n",
       "<table border=\"1\" class=\"dataframe\">\n",
       "  <thead>\n",
       "    <tr style=\"text-align: right;\">\n",
       "      <th></th>\n",
       "      <th>lib_name</th>\n",
       "      <th>seq</th>\n",
       "      <th>celltype</th>\n",
       "      <th>xlink</th>\n",
       "      <th>enzyme</th>\n",
       "      <th>cycle</th>\n",
       "    </tr>\n",
       "  </thead>\n",
       "  <tbody>\n",
       "    <tr>\n",
       "      <th>16</th>\n",
       "      <td>U54-ESC4DN-DSG-DpnII-R1-R2_hg38</td>\n",
       "      <td>deep</td>\n",
       "      <td>ESC</td>\n",
       "      <td>DSG</td>\n",
       "      <td>DpnII</td>\n",
       "      <td>NS</td>\n",
       "    </tr>\n",
       "    <tr>\n",
       "      <th>19</th>\n",
       "      <td>U54-H1ESC4DN-FA-DSG-MNase-R1-R2_hg38</td>\n",
       "      <td>deep</td>\n",
       "      <td>ESC</td>\n",
       "      <td>DSG</td>\n",
       "      <td>MNase</td>\n",
       "      <td>NS</td>\n",
       "    </tr>\n",
       "    <tr>\n",
       "      <th>26</th>\n",
       "      <td>U54-ESC4DN-FA-DpnII-R1-R2_hg38</td>\n",
       "      <td>deep</td>\n",
       "      <td>ESC</td>\n",
       "      <td>FA</td>\n",
       "      <td>DpnII</td>\n",
       "      <td>NS</td>\n",
       "    </tr>\n",
       "  </tbody>\n",
       "</table>\n",
       "</div>"
      ],
      "text/plain": [
       "                                lib_name   seq celltype xlink enzyme cycle\n",
       "16       U54-ESC4DN-DSG-DpnII-R1-R2_hg38  deep      ESC   DSG  DpnII    NS\n",
       "19  U54-H1ESC4DN-FA-DSG-MNase-R1-R2_hg38  deep      ESC   DSG  MNase    NS\n",
       "26        U54-ESC4DN-FA-DpnII-R1-R2_hg38  deep      ESC    FA  DpnII    NS"
      ]
     },
     "execution_count": 7,
     "metadata": {},
     "output_type": "execute_result"
    }
   ],
   "source": [
    "db = mm.Dataset()\n",
    "table = db.get_tables()\n",
    "mm.filter_data(table, filter_dict={'seq':'deep', 'celltype':'ESC'})"
   ]
  },
  {
   "cell_type": "code",
   "execution_count": 44,
   "metadata": {
    "ExecuteTime": {
     "end_time": "2020-03-23T02:09:29.032130Z",
     "start_time": "2020-03-23T02:03:14.143617Z"
    }
   },
   "outputs": [
    {
     "name": "stdout",
     "output_type": "stream",
     "text": [
      "DdeI-union-DpnII__double-digest \n",
      "\n",
      "\t U54-HFFc6-DSG-DdeI-R1-R2_hg38\n",
      "('chr1', 0, 123479591) ('chr1', 0, 123479591)\n",
      "('chr1', 123479591, 248956422) ('chr1', 123479591, 248956422)\n",
      "('chr10', 40640101, 133797422) ('chr10', 40640101, 133797422)\n",
      "('chr10', 0, 40640101) ('chr10', 0, 40640101)\n",
      "('chr11', 0, 52751711) ('chr11', 0, 52751711)\n",
      "('chr11', 52751711, 135086622) ('chr11', 52751711, 135086622)\n",
      "('chr12', 0, 35977329) ('chr12', 0, 35977329)\n",
      "('chr12', 35977329, 133275309) ('chr12', 35977329, 133275309)\n",
      "('chr13', 17025624, 114364328) ('chr13', 17025624, 114364328)\n",
      "('chr14', 17086761, 107043718) ('chr14', 17086761, 107043718)\n",
      "('chr15', 18404463, 101991189) ('chr15', 18404463, 101991189)\n",
      "('chr16', 0, 37288413) ('chr16', 0, 37288413)\n",
      "('chr16', 37288413, 90338345) ('chr16', 37288413, 90338345)\n",
      "('chr17', 0, 24714921) ('chr17', 0, 24714921)\n",
      "('chr17', 24714921, 83257441) ('chr17', 24714921, 83257441)\n",
      "('chr18', 0, 18161052) ('chr18', 0, 18161052)\n",
      "('chr18', 18161052, 80373285) ('chr18', 18161052, 80373285)\n",
      "('chr19', 0, 25844927) ('chr19', 0, 25844927)\n",
      "('chr19', 25844927, 58617616) ('chr19', 25844927, 58617616)\n",
      "('chr2', 0, 93139351) ('chr2', 0, 93139351)\n"
     ]
    },
    {
     "name": "stderr",
     "output_type": "stream",
     "text": [
      "/net/levsha/share/sameer/github/mirnylab-experimental/sameer/pileups/cooltools_pileups.py:82: RuntimeWarning: invalid value encountered in true_divide\n",
      "  coarse_expected = log_scaling[1:]/log_count[1:]\n"
     ]
    },
    {
     "name": "stdout",
     "output_type": "stream",
     "text": [
      "('chr2', 93139351, 242193529) ('chr2', 93139351, 242193529)\n",
      "('chr20', 0, 28237290) ('chr20', 0, 28237290)\n",
      "('chr20', 28237290, 64444167) ('chr20', 28237290, 64444167)\n",
      "('chr21', 11890184, 46709983) ('chr21', 11890184, 46709983)\n"
     ]
    },
    {
     "name": "stderr",
     "output_type": "stream",
     "text": [
      "/net/levsha/share/sameer/github/mirnylab-experimental/sameer/pileups/cooltools_pileups.py:82: RuntimeWarning: invalid value encountered in true_divide\n",
      "  coarse_expected = log_scaling[1:]/log_count[1:]\n"
     ]
    },
    {
     "name": "stdout",
     "output_type": "stream",
     "text": [
      "('chr22', 14004553, 50818468) ('chr22', 14004553, 50818468)\n",
      "('chr3', 0, 92214016) ('chr3', 0, 92214016)\n",
      "('chr3', 92214016, 198295559) ('chr3', 92214016, 198295559)\n",
      "('chr4', 0, 50728006) ('chr4', 0, 50728006)\n",
      "('chr4', 50728006, 190214555) ('chr4', 50728006, 190214555)\n",
      "('chr5', 0, 48272853) ('chr5', 0, 48272853)\n",
      "('chr5', 48272853, 181538259) ('chr5', 48272853, 181538259)\n",
      "('chr6', 0, 59191911) ('chr6', 0, 59191911)\n",
      "('chr6', 59191911, 170805979) ('chr6', 59191911, 170805979)\n",
      "('chr7', 0, 59848836) ('chr7', 0, 59848836)\n",
      "('chr7', 59848836, 159345973) ('chr7', 59848836, 159345973)\n",
      "('chr8', 0, 44955504) ('chr8', 0, 44955504)\n",
      "('chr8', 44955504, 145138636) ('chr8', 44955504, 145138636)\n",
      "('chr9', 0, 44454096) ('chr9', 0, 44454096)\n",
      "('chr9', 44454096, 138394717) ('chr9', 44454096, 138394717)\n",
      "('chrX', 0, 60509060) ('chrX', 0, 60509060)\n",
      "('chrX', 60509060, 156040895) ('chrX', 60509060, 156040895)\n"
     ]
    },
    {
     "name": "stderr",
     "output_type": "stream",
     "text": [
      "/net/levsha/share/sameer/github/mirnylab-experimental/sameer/pileups/cooltools_pileups.py:82: RuntimeWarning: invalid value encountered in true_divide\n",
      "  coarse_expected = log_scaling[1:]/log_count[1:]\n"
     ]
    },
    {
     "name": "stdout",
     "output_type": "stream",
     "text": [
      "Saved to: pileups/dots/upset_plot/double_digest/DdeI-union-DpnII__double-digest/U54-HFFc6-DSG-DdeI-R1-R2_hg38.5000.npy\n",
      "\n",
      "\t U54-HFFc6-DSG-DpnII-R1-R2_hg38\n",
      "('chr1', 0, 123479591) ('chr1', 0, 123479591)\n",
      "('chr1', 123479591, 248956422) ('chr1', 123479591, 248956422)\n",
      "('chr10', 0, 40640101) ('chr10', 0, 40640101)\n",
      "('chr10', 40640101, 133797422) ('chr10', 40640101, 133797422)\n",
      "('chr12', 0, 35977329) ('chr12', 0, 35977329)\n",
      "('chr11', 52751711, 135086622) ('chr11', 52751711, 135086622)\n",
      "('chr11', 0, 52751711) ('chr11', 0, 52751711)\n",
      "('chr12', 35977329, 133275309) ('chr12', 35977329, 133275309)\n",
      "('chr13', 17025624, 114364328) ('chr13', 17025624, 114364328)\n",
      "('chr14', 17086761, 107043718) ('chr14', 17086761, 107043718)\n",
      "('chr15', 18404463, 101991189) ('chr15', 18404463, 101991189)\n",
      "('chr16', 0, 37288413) ('chr16', 0, 37288413)\n",
      "('chr16', 37288413, 90338345) ('chr16', 37288413, 90338345)\n",
      "('chr17', 0, 24714921) ('chr17', 0, 24714921)\n",
      "('chr17', 24714921, 83257441) ('chr17', 24714921, 83257441)\n",
      "('chr18', 0, 18161052) ('chr18', 0, 18161052)\n",
      "('chr18', 18161052, 80373285) ('chr18', 18161052, 80373285)\n",
      "('chr19', 0, 25844927) ('chr19', 0, 25844927)\n",
      "('chr19', 25844927, 58617616) ('chr19', 25844927, 58617616)\n",
      "('chr2', 0, 93139351) ('chr2', 0, 93139351)\n"
     ]
    },
    {
     "name": "stderr",
     "output_type": "stream",
     "text": [
      "/net/levsha/share/sameer/github/mirnylab-experimental/sameer/pileups/cooltools_pileups.py:82: RuntimeWarning: invalid value encountered in true_divide\n",
      "  coarse_expected = log_scaling[1:]/log_count[1:]\n"
     ]
    },
    {
     "name": "stdout",
     "output_type": "stream",
     "text": [
      "('chr2', 93139351, 242193529) ('chr2', 93139351, 242193529)\n",
      "('chr20', 0, 28237290) ('chr20', 0, 28237290)\n",
      "('chr20', 28237290, 64444167) ('chr20', 28237290, 64444167)\n",
      "('chr21', 11890184, 46709983) ('chr21', 11890184, 46709983)\n",
      "('chr22', 14004553, 50818468) ('chr22', 14004553, 50818468)\n"
     ]
    },
    {
     "name": "stderr",
     "output_type": "stream",
     "text": [
      "/net/levsha/share/sameer/github/mirnylab-experimental/sameer/pileups/cooltools_pileups.py:82: RuntimeWarning: invalid value encountered in true_divide\n",
      "  coarse_expected = log_scaling[1:]/log_count[1:]\n"
     ]
    },
    {
     "name": "stdout",
     "output_type": "stream",
     "text": [
      "('chr3', 0, 92214016) ('chr3', 0, 92214016)\n",
      "('chr3', 92214016, 198295559) ('chr3', 92214016, 198295559)\n",
      "('chr4', 0, 50728006) ('chr4', 0, 50728006)\n",
      "('chr4', 50728006, 190214555) ('chr4', 50728006, 190214555)\n",
      "('chr5', 0, 48272853) ('chr5', 0, 48272853)\n",
      "('chr5', 48272853, 181538259) ('chr5', 48272853, 181538259)\n",
      "('chr6', 0, 59191911) ('chr6', 0, 59191911)\n",
      "('chr6', 59191911, 170805979) ('chr6', 59191911, 170805979)\n",
      "('chr7', 0, 59848836) ('chr7', 0, 59848836)\n",
      "('chr7', 59848836, 159345973) ('chr7', 59848836, 159345973)\n",
      "('chr8', 0, 44955504) ('chr8', 0, 44955504)\n",
      "('chr8', 44955504, 145138636) ('chr8', 44955504, 145138636)\n",
      "('chr9', 0, 44454096) ('chr9', 0, 44454096)\n",
      "('chr9', 44454096, 138394717) ('chr9', 44454096, 138394717)\n",
      "('chrX', 0, 60509060) ('chrX', 0, 60509060)\n",
      "('chrX', 60509060, 156040895) ('chrX', 60509060, 156040895)\n"
     ]
    },
    {
     "name": "stderr",
     "output_type": "stream",
     "text": [
      "/net/levsha/share/sameer/github/mirnylab-experimental/sameer/pileups/cooltools_pileups.py:82: RuntimeWarning: invalid value encountered in true_divide\n",
      "  coarse_expected = log_scaling[1:]/log_count[1:]\n"
     ]
    },
    {
     "name": "stdout",
     "output_type": "stream",
     "text": [
      "Saved to: pileups/dots/upset_plot/double_digest/DdeI-union-DpnII__double-digest/U54-HFFc6-DSG-DpnII-R1-R2_hg38.5000.npy\n",
      "\n",
      "\t U54-HFFc6-FA-DSG-MNase-R1-R3_hg38\n",
      "('chr1', 0, 123479591) ('chr1', 0, 123479591)\n",
      "('chr1', 123479591, 248956422) ('chr1', 123479591, 248956422)\n",
      "('chr10', 0, 40640101) ('chr10', 0, 40640101)\n",
      "('chr11', 0, 52751711) ('chr11', 0, 52751711)\n",
      "('chr10', 40640101, 133797422) ('chr10', 40640101, 133797422)\n",
      "('chr11', 52751711, 135086622) ('chr11', 52751711, 135086622)\n",
      "('chr12', 0, 35977329) ('chr12', 0, 35977329)\n",
      "('chr12', 35977329, 133275309) ('chr12', 35977329, 133275309)\n",
      "('chr13', 17025624, 114364328) ('chr13', 17025624, 114364328)\n",
      "('chr14', 17086761, 107043718) ('chr14', 17086761, 107043718)\n",
      "('chr15', 18404463, 101991189) ('chr15', 18404463, 101991189)\n",
      "('chr16', 0, 37288413) ('chr16', 0, 37288413)\n",
      "('chr16', 37288413, 90338345) ('chr16', 37288413, 90338345)\n",
      "('chr17', 0, 24714921) ('chr17', 0, 24714921)\n",
      "('chr17', 24714921, 83257441) ('chr17', 24714921, 83257441)\n",
      "('chr18', 0, 18161052) ('chr18', 0, 18161052)\n",
      "('chr18', 18161052, 80373285) ('chr18', 18161052, 80373285)\n",
      "('chr19', 0, 25844927) ('chr19', 0, 25844927)\n",
      "('chr19', 25844927, 58617616) ('chr19', 25844927, 58617616)\n",
      "('chr2', 0, 93139351) ('chr2', 0, 93139351)\n"
     ]
    },
    {
     "name": "stderr",
     "output_type": "stream",
     "text": [
      "/net/levsha/share/sameer/github/mirnylab-experimental/sameer/pileups/cooltools_pileups.py:84: RuntimeWarning: divide by zero encountered in log10\n",
      "  f = interp1d(np.log10(bin_mids), np.log10(coarse_expected), kind='linear')\n",
      "/net/levsha/share/sameer/github/mirnylab-experimental/sameer/pileups/cooltools_pileups.py:89: RuntimeWarning: invalid value encountered in double_scalars\n",
      "  yremaining = y[-1] + ((y[-1]-y[-2])/(x[-1]-x[-2]))*(xremaining - x[-1])\n",
      "/net/levsha/share/sameer/github/mirnylab-experimental/sameer/pileups/cooltools_pileups.py:105: RuntimeWarning: divide by zero encountered in true_divide\n",
      "  matrix.data = data/fine_expected[diff]\n",
      "/net/levsha/share/sameer/github/mirnylab-experimental/sameer/pileups/cooltools_pileups.py:105: RuntimeWarning: invalid value encountered in true_divide\n",
      "  matrix.data = data/fine_expected[diff]\n"
     ]
    },
    {
     "name": "stdout",
     "output_type": "stream",
     "text": [
      "('chr2', 93139351, 242193529) ('chr2', 93139351, 242193529)\n",
      "('chr20', 0, 28237290) ('chr20', 0, 28237290)\n",
      "('chr20', 28237290, 64444167) ('chr20', 28237290, 64444167)\n",
      "('chr21', 11890184, 46709983) ('chr21', 11890184, 46709983)\n",
      "('chr22', 14004553, 50818468) ('chr22', 14004553, 50818468)\n",
      "('chr3', 0, 92214016) ('chr3', 0, 92214016)\n"
     ]
    },
    {
     "name": "stderr",
     "output_type": "stream",
     "text": [
      "/net/levsha/share/sameer/github/mirnylab-experimental/sameer/pileups/cooltools_pileups.py:82: RuntimeWarning: invalid value encountered in true_divide\n",
      "  coarse_expected = log_scaling[1:]/log_count[1:]\n"
     ]
    },
    {
     "name": "stdout",
     "output_type": "stream",
     "text": [
      "('chr3', 92214016, 198295559) ('chr3', 92214016, 198295559)\n",
      "('chr4', 0, 50728006) ('chr4', 0, 50728006)\n",
      "('chr4', 50728006, 190214555) ('chr4', 50728006, 190214555)\n",
      "('chr5', 0, 48272853) ('chr5', 0, 48272853)\n",
      "('chr5', 48272853, 181538259) ('chr5', 48272853, 181538259)\n",
      "('chr6', 0, 59191911) ('chr6', 0, 59191911)\n",
      "('chr6', 59191911, 170805979) ('chr6', 59191911, 170805979)\n",
      "('chr7', 0, 59848836) ('chr7', 0, 59848836)\n",
      "('chr7', 59848836, 159345973) ('chr7', 59848836, 159345973)\n",
      "('chr8', 0, 44955504) ('chr8', 0, 44955504)\n",
      "('chr8', 44955504, 145138636) ('chr8', 44955504, 145138636)\n",
      "('chr9', 0, 44454096) ('chr9', 0, 44454096)\n",
      "('chr9', 44454096, 138394717) ('chr9', 44454096, 138394717)\n",
      "('chrX', 0, 60509060) ('chrX', 0, 60509060)\n",
      "('chrX', 60509060, 156040895) ('chrX', 60509060, 156040895)\n"
     ]
    },
    {
     "name": "stderr",
     "output_type": "stream",
     "text": [
      "/net/levsha/share/sameer/github/mirnylab-experimental/sameer/pileups/cooltools_pileups.py:82: RuntimeWarning: invalid value encountered in true_divide\n",
      "  coarse_expected = log_scaling[1:]/log_count[1:]\n"
     ]
    },
    {
     "name": "stdout",
     "output_type": "stream",
     "text": [
      "Saved to: pileups/dots/upset_plot/double_digest/DdeI-union-DpnII__double-digest/U54-HFFc6-FA-DSG-MNase-R1-R3_hg38.5000.npy\n",
      "\n",
      "\t U54-HFFc6-DSG-DdeI-DpnII-20190711-R1-R3_hg38\n",
      "('chr1', 0, 123479591) ('chr1', 0, 123479591)\n",
      "('chr1', 123479591, 248956422) ('chr1', 123479591, 248956422)\n",
      "('chr10', 0, 40640101) ('chr10', 0, 40640101)\n",
      "('chr10', 40640101, 133797422) ('chr10', 40640101, 133797422)\n",
      "('chr11', 0, 52751711) ('chr11', 0, 52751711)\n",
      "('chr12', 0, 35977329) ('chr12', 0, 35977329)\n",
      "('chr11', 52751711, 135086622) ('chr11', 52751711, 135086622)\n",
      "('chr13', 17025624, 114364328) ('chr13', 17025624, 114364328)\n",
      "('chr12', 35977329, 133275309) ('chr12', 35977329, 133275309)\n",
      "('chr14', 17086761, 107043718) ('chr14', 17086761, 107043718)\n",
      "('chr15', 18404463, 101991189) ('chr15', 18404463, 101991189)\n",
      "('chr16', 0, 37288413) ('chr16', 0, 37288413)\n",
      "('chr16', 37288413, 90338345) ('chr16', 37288413, 90338345)\n",
      "('chr17', 0, 24714921) ('chr17', 0, 24714921)\n",
      "('chr17', 24714921, 83257441) ('chr17', 24714921, 83257441)\n",
      "('chr18', 0, 18161052) ('chr18', 0, 18161052)\n",
      "('chr18', 18161052, 80373285) ('chr18', 18161052, 80373285)\n",
      "('chr19', 0, 25844927) ('chr19', 0, 25844927)\n",
      "('chr19', 25844927, 58617616) ('chr19', 25844927, 58617616)\n",
      "('chr2', 0, 93139351) ('chr2', 0, 93139351)\n"
     ]
    },
    {
     "name": "stderr",
     "output_type": "stream",
     "text": [
      "/net/levsha/share/sameer/github/mirnylab-experimental/sameer/pileups/cooltools_pileups.py:82: RuntimeWarning: invalid value encountered in true_divide\n",
      "  coarse_expected = log_scaling[1:]/log_count[1:]\n"
     ]
    },
    {
     "name": "stdout",
     "output_type": "stream",
     "text": [
      "('chr2', 93139351, 242193529) ('chr2', 93139351, 242193529)\n",
      "('chr20', 0, 28237290) ('chr20', 0, 28237290)\n",
      "('chr20', 28237290, 64444167) ('chr20', 28237290, 64444167)\n"
     ]
    },
    {
     "name": "stderr",
     "output_type": "stream",
     "text": [
      "/net/levsha/share/sameer/github/mirnylab-experimental/sameer/pileups/cooltools_pileups.py:82: RuntimeWarning: invalid value encountered in true_divide\n",
      "  coarse_expected = log_scaling[1:]/log_count[1:]\n"
     ]
    },
    {
     "name": "stdout",
     "output_type": "stream",
     "text": [
      "('chr21', 11890184, 46709983) ('chr21', 11890184, 46709983)\n",
      "('chr22', 14004553, 50818468) ('chr22', 14004553, 50818468)\n",
      "('chr3', 0, 92214016) ('chr3', 0, 92214016)\n",
      "('chr3', 92214016, 198295559) ('chr3', 92214016, 198295559)\n",
      "('chr4', 0, 50728006) ('chr4', 0, 50728006)\n",
      "('chr4', 50728006, 190214555) ('chr4', 50728006, 190214555)\n",
      "('chr5', 0, 48272853) ('chr5', 0, 48272853)\n",
      "('chr5', 48272853, 181538259) ('chr5', 48272853, 181538259)\n",
      "('chr6', 0, 59191911) ('chr6', 0, 59191911)\n",
      "('chr6', 59191911, 170805979) ('chr6', 59191911, 170805979)\n",
      "('chr7', 0, 59848836) ('chr7', 0, 59848836)\n",
      "('chr7', 59848836, 159345973) ('chr7', 59848836, 159345973)\n",
      "('chr8', 0, 44955504) ('chr8', 0, 44955504)\n",
      "('chr8', 44955504, 145138636) ('chr8', 44955504, 145138636)\n",
      "('chr9', 0, 44454096) ('chr9', 0, 44454096)\n",
      "('chr9', 44454096, 138394717) ('chr9', 44454096, 138394717)\n",
      "('chrX', 0, 60509060) ('chrX', 0, 60509060)\n",
      "('chrX', 60509060, 156040895) ('chrX', 60509060, 156040895)\n"
     ]
    },
    {
     "name": "stderr",
     "output_type": "stream",
     "text": [
      "/net/levsha/share/sameer/github/mirnylab-experimental/sameer/pileups/cooltools_pileups.py:82: RuntimeWarning: invalid value encountered in true_divide\n",
      "  coarse_expected = log_scaling[1:]/log_count[1:]\n"
     ]
    },
    {
     "name": "stdout",
     "output_type": "stream",
     "text": [
      "Saved to: pileups/dots/upset_plot/double_digest/DdeI-union-DpnII__double-digest/U54-HFFc6-DSG-DdeI-DpnII-20190711-R1-R3_hg38.5000.npy\n",
      "\n",
      "\n",
      "\n",
      "\n",
      "DdeI-union-DpnII__MNase \n",
      "\n",
      "\t U54-HFFc6-DSG-DdeI-R1-R2_hg38\n",
      "('chr1', 0, 123479591) ('chr1', 0, 123479591)\n",
      "('chr1', 123479591, 248956422) ('chr1', 123479591, 248956422)\n",
      "('chr10', 40640101, 133797422) ('chr10', 40640101, 133797422)\n",
      "('chr10', 0, 40640101) ('chr10', 0, 40640101)\n",
      "('chr11', 0, 52751711) ('chr11', 0, 52751711)\n",
      "('chr11', 52751711, 135086622) ('chr11', 52751711, 135086622)\n",
      "('chr12', 0, 35977329) ('chr12', 0, 35977329)\n",
      "('chr12', 35977329, 133275309) ('chr12', 35977329, 133275309)\n",
      "('chr13', 17025624, 114364328) ('chr13', 17025624, 114364328)\n",
      "('chr14', 17086761, 107043718) ('chr14', 17086761, 107043718)\n",
      "('chr15', 18404463, 101991189) ('chr15', 18404463, 101991189)\n",
      "('chr16', 0, 37288413) ('chr16', 0, 37288413)\n",
      "('chr16', 37288413, 90338345) ('chr16', 37288413, 90338345)\n",
      "('chr17', 0, 24714921) ('chr17', 0, 24714921)\n",
      "('chr17', 24714921, 83257441) ('chr17', 24714921, 83257441)\n",
      "('chr18', 0, 18161052) ('chr18', 0, 18161052)\n",
      "('chr18', 18161052, 80373285) ('chr18', 18161052, 80373285)\n",
      "('chr19', 0, 25844927) ('chr19', 0, 25844927)\n",
      "('chr19', 25844927, 58617616) ('chr19', 25844927, 58617616)\n",
      "('chr2', 0, 93139351) ('chr2', 0, 93139351)\n"
     ]
    },
    {
     "name": "stderr",
     "output_type": "stream",
     "text": [
      "/net/levsha/share/sameer/github/mirnylab-experimental/sameer/pileups/cooltools_pileups.py:82: RuntimeWarning: invalid value encountered in true_divide\n",
      "  coarse_expected = log_scaling[1:]/log_count[1:]\n"
     ]
    },
    {
     "name": "stdout",
     "output_type": "stream",
     "text": [
      "('chr2', 93139351, 242193529) ('chr2', 93139351, 242193529)\n",
      "('chr20', 0, 28237290) ('chr20', 0, 28237290)\n",
      "('chr20', 28237290, 64444167) ('chr20', 28237290, 64444167)\n",
      "('chr21', 11890184, 46709983) ('chr21', 11890184, 46709983)\n",
      "('chr22', 14004553, 50818468) ('chr22', 14004553, 50818468)\n"
     ]
    },
    {
     "name": "stderr",
     "output_type": "stream",
     "text": [
      "/net/levsha/share/sameer/github/mirnylab-experimental/sameer/pileups/cooltools_pileups.py:82: RuntimeWarning: invalid value encountered in true_divide\n",
      "  coarse_expected = log_scaling[1:]/log_count[1:]\n"
     ]
    },
    {
     "name": "stdout",
     "output_type": "stream",
     "text": [
      "('chr3', 0, 92214016) ('chr3', 0, 92214016)\n",
      "('chr3', 92214016, 198295559) ('chr3', 92214016, 198295559)\n",
      "('chr4', 0, 50728006) ('chr4', 0, 50728006)\n",
      "('chr4', 50728006, 190214555) ('chr4', 50728006, 190214555)\n",
      "('chr5', 0, 48272853) ('chr5', 0, 48272853)\n",
      "('chr5', 48272853, 181538259) ('chr5', 48272853, 181538259)\n",
      "('chr6', 0, 59191911) ('chr6', 0, 59191911)\n",
      "('chr6', 59191911, 170805979) ('chr6', 59191911, 170805979)\n",
      "('chr7', 0, 59848836) ('chr7', 0, 59848836)\n",
      "('chr7', 59848836, 159345973) ('chr7', 59848836, 159345973)\n",
      "('chr8', 0, 44955504) ('chr8', 0, 44955504)\n",
      "('chr8', 44955504, 145138636) ('chr8', 44955504, 145138636)\n",
      "('chr9', 0, 44454096) ('chr9', 0, 44454096)\n",
      "('chr9', 44454096, 138394717) ('chr9', 44454096, 138394717)\n",
      "('chrX', 0, 60509060) ('chrX', 0, 60509060)\n",
      "('chrX', 60509060, 156040895) ('chrX', 60509060, 156040895)\n"
     ]
    },
    {
     "name": "stderr",
     "output_type": "stream",
     "text": [
      "/net/levsha/share/sameer/github/mirnylab-experimental/sameer/pileups/cooltools_pileups.py:82: RuntimeWarning: invalid value encountered in true_divide\n",
      "  coarse_expected = log_scaling[1:]/log_count[1:]\n"
     ]
    },
    {
     "name": "stdout",
     "output_type": "stream",
     "text": [
      "Saved to: pileups/dots/upset_plot/double_digest/DdeI-union-DpnII__MNase/U54-HFFc6-DSG-DdeI-R1-R2_hg38.5000.npy\n",
      "\n",
      "\t U54-HFFc6-DSG-DpnII-R1-R2_hg38\n",
      "('chr1', 0, 123479591) ('chr1', 0, 123479591)\n",
      "('chr1', 123479591, 248956422) ('chr1', 123479591, 248956422)\n",
      "('chr10', 0, 40640101) ('chr10', 0, 40640101)\n",
      "('chr11', 0, 52751711) ('chr11', 0, 52751711)\n",
      "('chr10', 40640101, 133797422) ('chr10', 40640101, 133797422)\n",
      "('chr12', 0, 35977329) ('chr12', 0, 35977329)\n",
      "('chr11', 52751711, 135086622) ('chr11', 52751711, 135086622)\n",
      "('chr12', 35977329, 133275309) ('chr12', 35977329, 133275309)\n",
      "('chr13', 17025624, 114364328) ('chr13', 17025624, 114364328)\n",
      "('chr14', 17086761, 107043718) ('chr14', 17086761, 107043718)\n",
      "('chr15', 18404463, 101991189) ('chr15', 18404463, 101991189)\n",
      "('chr16', 0, 37288413) ('chr16', 0, 37288413)\n",
      "('chr16', 37288413, 90338345) ('chr16', 37288413, 90338345)\n",
      "('chr17', 0, 24714921) ('chr17', 0, 24714921)\n",
      "('chr17', 24714921, 83257441) ('chr17', 24714921, 83257441)\n",
      "('chr18', 0, 18161052) ('chr18', 0, 18161052)\n",
      "('chr18', 18161052, 80373285) ('chr18', 18161052, 80373285)\n",
      "('chr19', 0, 25844927) ('chr19', 0, 25844927)\n",
      "('chr19', 25844927, 58617616) ('chr19', 25844927, 58617616)\n",
      "('chr2', 0, 93139351) ('chr2', 0, 93139351)\n"
     ]
    },
    {
     "name": "stderr",
     "output_type": "stream",
     "text": [
      "/net/levsha/share/sameer/github/mirnylab-experimental/sameer/pileups/cooltools_pileups.py:82: RuntimeWarning: invalid value encountered in true_divide\n",
      "  coarse_expected = log_scaling[1:]/log_count[1:]\n"
     ]
    },
    {
     "name": "stdout",
     "output_type": "stream",
     "text": [
      "('chr2', 93139351, 242193529) ('chr2', 93139351, 242193529)\n",
      "('chr20', 0, 28237290) ('chr20', 0, 28237290)\n",
      "('chr20', 28237290, 64444167) ('chr20', 28237290, 64444167)\n",
      "('chr21', 11890184, 46709983) ('chr21', 11890184, 46709983)\n",
      "('chr22', 14004553, 50818468) ('chr22', 14004553, 50818468)\n"
     ]
    },
    {
     "name": "stderr",
     "output_type": "stream",
     "text": [
      "/net/levsha/share/sameer/github/mirnylab-experimental/sameer/pileups/cooltools_pileups.py:82: RuntimeWarning: invalid value encountered in true_divide\n",
      "  coarse_expected = log_scaling[1:]/log_count[1:]\n"
     ]
    },
    {
     "name": "stdout",
     "output_type": "stream",
     "text": [
      "('chr3', 0, 92214016) ('chr3', 0, 92214016)\n",
      "('chr3', 92214016, 198295559) ('chr3', 92214016, 198295559)\n",
      "('chr4', 0, 50728006) ('chr4', 0, 50728006)\n",
      "('chr4', 50728006, 190214555) ('chr4', 50728006, 190214555)\n",
      "('chr5', 0, 48272853) ('chr5', 0, 48272853)\n",
      "('chr5', 48272853, 181538259) ('chr5', 48272853, 181538259)\n",
      "('chr6', 0, 59191911) ('chr6', 0, 59191911)\n",
      "('chr6', 59191911, 170805979) ('chr6', 59191911, 170805979)\n",
      "('chr7', 0, 59848836) ('chr7', 0, 59848836)\n",
      "('chr7', 59848836, 159345973) ('chr7', 59848836, 159345973)\n",
      "('chr8', 0, 44955504) ('chr8', 0, 44955504)\n",
      "('chr8', 44955504, 145138636) ('chr8', 44955504, 145138636)\n",
      "('chr9', 0, 44454096) ('chr9', 0, 44454096)\n",
      "('chr9', 44454096, 138394717) ('chr9', 44454096, 138394717)\n",
      "('chrX', 0, 60509060) ('chrX', 0, 60509060)\n",
      "('chrX', 60509060, 156040895) ('chrX', 60509060, 156040895)\n"
     ]
    },
    {
     "name": "stderr",
     "output_type": "stream",
     "text": [
      "/net/levsha/share/sameer/github/mirnylab-experimental/sameer/pileups/cooltools_pileups.py:82: RuntimeWarning: invalid value encountered in true_divide\n",
      "  coarse_expected = log_scaling[1:]/log_count[1:]\n"
     ]
    },
    {
     "name": "stdout",
     "output_type": "stream",
     "text": [
      "Saved to: pileups/dots/upset_plot/double_digest/DdeI-union-DpnII__MNase/U54-HFFc6-DSG-DpnII-R1-R2_hg38.5000.npy\n",
      "\n",
      "\t U54-HFFc6-FA-DSG-MNase-R1-R3_hg38\n",
      "('chr1', 0, 123479591) ('chr1', 0, 123479591)\n",
      "('chr1', 123479591, 248956422) ('chr1', 123479591, 248956422)\n",
      "('chr10', 0, 40640101) ('chr10', 0, 40640101)\n",
      "('chr10', 40640101, 133797422) ('chr10', 40640101, 133797422)\n",
      "('chr11', 52751711, 135086622) ('chr11', 52751711, 135086622)\n",
      "('chr11', 0, 52751711) ('chr11', 0, 52751711)\n",
      "('chr12', 0, 35977329) ('chr12', 0, 35977329)\n",
      "('chr12', 35977329, 133275309) ('chr12', 35977329, 133275309)\n",
      "('chr14', 17086761, 107043718) ('chr14', 17086761, 107043718)\n",
      "('chr13', 17025624, 114364328) ('chr13', 17025624, 114364328)\n",
      "('chr15', 18404463, 101991189) ('chr15', 18404463, 101991189)\n",
      "('chr16', 0, 37288413) ('chr16', 0, 37288413)\n",
      "('chr16', 37288413, 90338345) ('chr16', 37288413, 90338345)\n",
      "('chr17', 0, 24714921) ('chr17', 0, 24714921)\n",
      "('chr17', 24714921, 83257441) ('chr17', 24714921, 83257441)\n",
      "('chr18', 0, 18161052) ('chr18', 0, 18161052)\n",
      "('chr18', 18161052, 80373285) ('chr18', 18161052, 80373285)\n",
      "('chr19', 0, 25844927) ('chr19', 0, 25844927)\n",
      "('chr19', 25844927, 58617616) ('chr19', 25844927, 58617616)\n",
      "('chr2', 0, 93139351) ('chr2', 0, 93139351)\n"
     ]
    },
    {
     "name": "stderr",
     "output_type": "stream",
     "text": [
      "/net/levsha/share/sameer/github/mirnylab-experimental/sameer/pileups/cooltools_pileups.py:84: RuntimeWarning: divide by zero encountered in log10\n",
      "  f = interp1d(np.log10(bin_mids), np.log10(coarse_expected), kind='linear')\n",
      "/net/levsha/share/sameer/github/mirnylab-experimental/sameer/pileups/cooltools_pileups.py:89: RuntimeWarning: invalid value encountered in double_scalars\n",
      "  yremaining = y[-1] + ((y[-1]-y[-2])/(x[-1]-x[-2]))*(xremaining - x[-1])\n",
      "/net/levsha/share/sameer/github/mirnylab-experimental/sameer/pileups/cooltools_pileups.py:105: RuntimeWarning: divide by zero encountered in true_divide\n",
      "  matrix.data = data/fine_expected[diff]\n",
      "/net/levsha/share/sameer/github/mirnylab-experimental/sameer/pileups/cooltools_pileups.py:105: RuntimeWarning: invalid value encountered in true_divide\n",
      "  matrix.data = data/fine_expected[diff]\n"
     ]
    },
    {
     "name": "stdout",
     "output_type": "stream",
     "text": [
      "('chr2', 93139351, 242193529) ('chr2', 93139351, 242193529)\n",
      "('chr20', 0, 28237290) ('chr20', 0, 28237290)\n",
      "('chr20', 28237290, 64444167) ('chr20', 28237290, 64444167)\n",
      "('chr21', 11890184, 46709983) ('chr21', 11890184, 46709983)\n",
      "('chr22', 14004553, 50818468) ('chr22', 14004553, 50818468)\n",
      "('chr3', 0, 92214016) ('chr3', 0, 92214016)\n",
      "('chr3', 92214016, 198295559) ('chr3', 92214016, 198295559)\n",
      "('chr4', 0, 50728006) ('chr4', 0, 50728006)\n",
      "('chr4', 50728006, 190214555) ('chr4', 50728006, 190214555)\n"
     ]
    },
    {
     "name": "stderr",
     "output_type": "stream",
     "text": [
      "/net/levsha/share/sameer/github/mirnylab-experimental/sameer/pileups/cooltools_pileups.py:82: RuntimeWarning: invalid value encountered in true_divide\n",
      "  coarse_expected = log_scaling[1:]/log_count[1:]\n"
     ]
    },
    {
     "name": "stdout",
     "output_type": "stream",
     "text": [
      "('chr5', 0, 48272853) ('chr5', 0, 48272853)\n",
      "('chr5', 48272853, 181538259) ('chr5', 48272853, 181538259)\n",
      "('chr6', 0, 59191911) ('chr6', 0, 59191911)\n",
      "('chr6', 59191911, 170805979) ('chr6', 59191911, 170805979)\n",
      "('chr7', 0, 59848836) ('chr7', 0, 59848836)\n",
      "('chr7', 59848836, 159345973) ('chr7', 59848836, 159345973)\n",
      "('chr8', 0, 44955504) ('chr8', 0, 44955504)\n",
      "('chr8', 44955504, 145138636) ('chr8', 44955504, 145138636)\n",
      "('chr9', 0, 44454096) ('chr9', 0, 44454096)\n",
      "('chr9', 44454096, 138394717) ('chr9', 44454096, 138394717)\n",
      "('chrX', 0, 60509060) ('chrX', 0, 60509060)\n",
      "('chrX', 60509060, 156040895) ('chrX', 60509060, 156040895)\n"
     ]
    },
    {
     "name": "stderr",
     "output_type": "stream",
     "text": [
      "/net/levsha/share/sameer/github/mirnylab-experimental/sameer/pileups/cooltools_pileups.py:82: RuntimeWarning: invalid value encountered in true_divide\n",
      "  coarse_expected = log_scaling[1:]/log_count[1:]\n"
     ]
    },
    {
     "name": "stdout",
     "output_type": "stream",
     "text": [
      "Saved to: pileups/dots/upset_plot/double_digest/DdeI-union-DpnII__MNase/U54-HFFc6-FA-DSG-MNase-R1-R3_hg38.5000.npy\n",
      "\n",
      "\t U54-HFFc6-DSG-DdeI-DpnII-20190711-R1-R3_hg38\n",
      "('chr1', 0, 123479591) ('chr1', 0, 123479591)\n",
      "('chr10', 0, 40640101) ('chr10', 0, 40640101)\n",
      "('chr1', 123479591, 248956422) ('chr1', 123479591, 248956422)\n",
      "('chr10', 40640101, 133797422) ('chr10', 40640101, 133797422)\n",
      "('chr11', 0, 52751711) ('chr11', 0, 52751711)\n",
      "('chr12', 0, 35977329) ('chr12', 0, 35977329)\n",
      "('chr11', 52751711, 135086622) ('chr11', 52751711, 135086622)\n",
      "('chr12', 35977329, 133275309) ('chr12', 35977329, 133275309)\n",
      "('chr13', 17025624, 114364328) ('chr13', 17025624, 114364328)\n",
      "('chr14', 17086761, 107043718) ('chr14', 17086761, 107043718)\n",
      "('chr15', 18404463, 101991189) ('chr15', 18404463, 101991189)\n",
      "('chr16', 0, 37288413) ('chr16', 0, 37288413)\n",
      "('chr16', 37288413, 90338345) ('chr16', 37288413, 90338345)\n",
      "('chr17', 0, 24714921) ('chr17', 0, 24714921)\n",
      "('chr17', 24714921, 83257441) ('chr17', 24714921, 83257441)\n",
      "('chr18', 0, 18161052) ('chr18', 0, 18161052)\n",
      "('chr18', 18161052, 80373285) ('chr18', 18161052, 80373285)\n",
      "('chr19', 0, 25844927) ('chr19', 0, 25844927)\n",
      "('chr19', 25844927, 58617616) ('chr19', 25844927, 58617616)\n",
      "('chr2', 0, 93139351) ('chr2', 0, 93139351)\n"
     ]
    },
    {
     "name": "stderr",
     "output_type": "stream",
     "text": [
      "/net/levsha/share/sameer/github/mirnylab-experimental/sameer/pileups/cooltools_pileups.py:82: RuntimeWarning: invalid value encountered in true_divide\n",
      "  coarse_expected = log_scaling[1:]/log_count[1:]\n"
     ]
    },
    {
     "name": "stdout",
     "output_type": "stream",
     "text": [
      "('chr2', 93139351, 242193529) ('chr2', 93139351, 242193529)\n",
      "('chr20', 0, 28237290) ('chr20', 0, 28237290)\n",
      "('chr20', 28237290, 64444167) ('chr20', 28237290, 64444167)\n",
      "('chr21', 11890184, 46709983) ('chr21', 11890184, 46709983)\n",
      "('chr22', 14004553, 50818468) ('chr22', 14004553, 50818468)\n"
     ]
    },
    {
     "name": "stderr",
     "output_type": "stream",
     "text": [
      "/net/levsha/share/sameer/github/mirnylab-experimental/sameer/pileups/cooltools_pileups.py:82: RuntimeWarning: invalid value encountered in true_divide\n",
      "  coarse_expected = log_scaling[1:]/log_count[1:]\n"
     ]
    },
    {
     "name": "stdout",
     "output_type": "stream",
     "text": [
      "('chr3', 0, 92214016) ('chr3', 0, 92214016)\n",
      "('chr3', 92214016, 198295559) ('chr3', 92214016, 198295559)\n",
      "('chr4', 0, 50728006) ('chr4', 0, 50728006)\n",
      "('chr4', 50728006, 190214555) ('chr4', 50728006, 190214555)\n",
      "('chr5', 0, 48272853) ('chr5', 0, 48272853)\n",
      "('chr5', 48272853, 181538259) ('chr5', 48272853, 181538259)\n",
      "('chr6', 0, 59191911) ('chr6', 0, 59191911)\n",
      "('chr6', 59191911, 170805979) ('chr6', 59191911, 170805979)\n",
      "('chr7', 0, 59848836) ('chr7', 0, 59848836)\n",
      "('chr7', 59848836, 159345973) ('chr7', 59848836, 159345973)\n",
      "('chr8', 0, 44955504) ('chr8', 0, 44955504)\n",
      "('chr8', 44955504, 145138636) ('chr8', 44955504, 145138636)\n",
      "('chr9', 0, 44454096) ('chr9', 0, 44454096)\n",
      "('chr9', 44454096, 138394717) ('chr9', 44454096, 138394717)\n",
      "('chrX', 0, 60509060) ('chrX', 0, 60509060)\n",
      "('chrX', 60509060, 156040895) ('chrX', 60509060, 156040895)\n"
     ]
    },
    {
     "name": "stderr",
     "output_type": "stream",
     "text": [
      "/net/levsha/share/sameer/github/mirnylab-experimental/sameer/pileups/cooltools_pileups.py:82: RuntimeWarning: invalid value encountered in true_divide\n",
      "  coarse_expected = log_scaling[1:]/log_count[1:]\n"
     ]
    },
    {
     "name": "stdout",
     "output_type": "stream",
     "text": [
      "Saved to: pileups/dots/upset_plot/double_digest/DdeI-union-DpnII__MNase/U54-HFFc6-DSG-DdeI-DpnII-20190711-R1-R3_hg38.5000.npy\n",
      "\n",
      "\n",
      "\n",
      "\n",
      "DdeI-union-DpnII \n",
      "\n",
      "\t U54-HFFc6-DSG-DdeI-R1-R2_hg38\n",
      "('chr1', 0, 123479591) ('chr1', 0, 123479591)\n",
      "('chr10', 40640101, 133797422) ('chr10', 40640101, 133797422)\n",
      "('chr1', 123479591, 248956422) ('chr1', 123479591, 248956422)\n",
      "('chr10', 0, 40640101) ('chr10', 0, 40640101)\n",
      "('chr11', 0, 52751711) ('chr11', 0, 52751711)\n",
      "('chr12', 0, 35977329) ('chr12', 0, 35977329)\n",
      "('chr11', 52751711, 135086622) ('chr11', 52751711, 135086622)\n",
      "('chr12', 35977329, 133275309) ('chr12', 35977329, 133275309)\n",
      "('chr13', 17025624, 114364328) ('chr13', 17025624, 114364328)\n",
      "('chr14', 17086761, 107043718) ('chr14', 17086761, 107043718)\n",
      "('chr15', 18404463, 101991189) ('chr15', 18404463, 101991189)\n",
      "('chr16', 0, 37288413) ('chr16', 0, 37288413)\n",
      "('chr16', 37288413, 90338345) ('chr16', 37288413, 90338345)\n",
      "('chr17', 0, 24714921) ('chr17', 0, 24714921)\n",
      "('chr17', 24714921, 83257441) ('chr17', 24714921, 83257441)\n",
      "('chr18', 0, 18161052) ('chr18', 0, 18161052)\n",
      "('chr18', 18161052, 80373285) ('chr18', 18161052, 80373285)\n",
      "('chr19', 0, 25844927) ('chr19', 0, 25844927)\n",
      "('chr19', 25844927, 58617616) ('chr19', 25844927, 58617616)\n",
      "('chr2', 0, 93139351) ('chr2', 0, 93139351)\n",
      "('chr2', 93139351, 242193529) ('chr2', 93139351, 242193529)\n"
     ]
    },
    {
     "name": "stderr",
     "output_type": "stream",
     "text": [
      "/net/levsha/share/sameer/github/mirnylab-experimental/sameer/pileups/cooltools_pileups.py:82: RuntimeWarning: invalid value encountered in true_divide\n",
      "  coarse_expected = log_scaling[1:]/log_count[1:]\n"
     ]
    },
    {
     "name": "stdout",
     "output_type": "stream",
     "text": [
      "('chr20', 0, 28237290) ('chr20', 0, 28237290)\n",
      "('chr20', 28237290, 64444167) ('chr20', 28237290, 64444167)\n",
      "('chr21', 11890184, 46709983) ('chr21', 11890184, 46709983)\n",
      "('chr22', 14004553, 50818468) ('chr22', 14004553, 50818468)\n",
      "('chr3', 0, 92214016) ('chr3', 0, 92214016)\n",
      "('chr3', 92214016, 198295559) ('chr3', 92214016, 198295559)\n",
      "('chr4', 0, 50728006) ('chr4', 0, 50728006)\n",
      "('chr4', 50728006, 190214555) ('chr4', 50728006, 190214555)\n"
     ]
    },
    {
     "name": "stderr",
     "output_type": "stream",
     "text": [
      "/net/levsha/share/sameer/github/mirnylab-experimental/sameer/pileups/cooltools_pileups.py:82: RuntimeWarning: invalid value encountered in true_divide\n",
      "  coarse_expected = log_scaling[1:]/log_count[1:]\n"
     ]
    },
    {
     "name": "stdout",
     "output_type": "stream",
     "text": [
      "('chr5', 0, 48272853) ('chr5', 0, 48272853)\n",
      "('chr5', 48272853, 181538259) ('chr5', 48272853, 181538259)\n",
      "('chr6', 0, 59191911) ('chr6', 0, 59191911)\n",
      "('chr6', 59191911, 170805979) ('chr6', 59191911, 170805979)\n",
      "('chr7', 0, 59848836) ('chr7', 0, 59848836)\n",
      "('chr7', 59848836, 159345973) ('chr7', 59848836, 159345973)\n",
      "('chr8', 0, 44955504) ('chr8', 0, 44955504)\n",
      "('chr8', 44955504, 145138636) ('chr8', 44955504, 145138636)\n",
      "('chr9', 0, 44454096) ('chr9', 0, 44454096)\n",
      "('chr9', 44454096, 138394717) ('chr9', 44454096, 138394717)\n",
      "('chrX', 0, 60509060) ('chrX', 0, 60509060)\n",
      "('chrX', 60509060, 156040895) ('chrX', 60509060, 156040895)\n"
     ]
    },
    {
     "name": "stderr",
     "output_type": "stream",
     "text": [
      "/net/levsha/share/sameer/github/mirnylab-experimental/sameer/pileups/cooltools_pileups.py:82: RuntimeWarning: invalid value encountered in true_divide\n",
      "  coarse_expected = log_scaling[1:]/log_count[1:]\n"
     ]
    },
    {
     "name": "stdout",
     "output_type": "stream",
     "text": [
      "Saved to: pileups/dots/upset_plot/double_digest/DdeI-union-DpnII/U54-HFFc6-DSG-DdeI-R1-R2_hg38.5000.npy\n",
      "\n",
      "\t U54-HFFc6-DSG-DpnII-R1-R2_hg38\n",
      "('chr1', 0, 123479591) ('chr1', 0, 123479591)\n",
      "('chr1', 123479591, 248956422) ('chr1', 123479591, 248956422)\n",
      "('chr10', 0, 40640101) ('chr10', 0, 40640101)\n",
      "('chr10', 40640101, 133797422) ('chr10', 40640101, 133797422)\n",
      "('chr11', 52751711, 135086622) ('chr11', 52751711, 135086622)\n",
      "('chr11', 0, 52751711) ('chr11', 0, 52751711)\n",
      "('chr12', 0, 35977329) ('chr12', 0, 35977329)\n",
      "('chr12', 35977329, 133275309) ('chr12', 35977329, 133275309)\n",
      "('chr13', 17025624, 114364328) ('chr13', 17025624, 114364328)\n",
      "('chr14', 17086761, 107043718) ('chr14', 17086761, 107043718)\n",
      "('chr15', 18404463, 101991189) ('chr15', 18404463, 101991189)\n",
      "('chr16', 0, 37288413) ('chr16', 0, 37288413)\n",
      "('chr16', 37288413, 90338345) ('chr16', 37288413, 90338345)\n",
      "('chr17', 0, 24714921) ('chr17', 0, 24714921)\n",
      "('chr17', 24714921, 83257441) ('chr17', 24714921, 83257441)\n",
      "('chr18', 18161052, 80373285) ('chr18', 18161052, 80373285)\n",
      "('chr18', 0, 18161052) ('chr18', 0, 18161052)\n",
      "('chr19', 0, 25844927) ('chr19', 0, 25844927)\n",
      "('chr2', 0, 93139351) ('chr2', 0, 93139351)\n",
      "('chr19', 25844927, 58617616) ('chr19', 25844927, 58617616)\n"
     ]
    },
    {
     "name": "stderr",
     "output_type": "stream",
     "text": [
      "/net/levsha/share/sameer/github/mirnylab-experimental/sameer/pileups/cooltools_pileups.py:82: RuntimeWarning: invalid value encountered in true_divide\n",
      "  coarse_expected = log_scaling[1:]/log_count[1:]\n"
     ]
    },
    {
     "name": "stdout",
     "output_type": "stream",
     "text": [
      "('chr2', 93139351, 242193529) ('chr2', 93139351, 242193529)\n",
      "('chr20', 0, 28237290) ('chr20', 0, 28237290)\n",
      "('chr20', 28237290, 64444167) ('chr20', 28237290, 64444167)\n",
      "('chr21', 11890184, 46709983) ('chr21', 11890184, 46709983)\n",
      "('chr22', 14004553, 50818468) ('chr22', 14004553, 50818468)\n",
      "('chr3', 0, 92214016) ('chr3', 0, 92214016)\n",
      "('chr3', 92214016, 198295559) ('chr3', 92214016, 198295559)\n"
     ]
    },
    {
     "name": "stderr",
     "output_type": "stream",
     "text": [
      "/net/levsha/share/sameer/github/mirnylab-experimental/sameer/pileups/cooltools_pileups.py:82: RuntimeWarning: invalid value encountered in true_divide\n",
      "  coarse_expected = log_scaling[1:]/log_count[1:]\n"
     ]
    },
    {
     "name": "stdout",
     "output_type": "stream",
     "text": [
      "('chr4', 0, 50728006) ('chr4', 0, 50728006)\n",
      "('chr4', 50728006, 190214555) ('chr4', 50728006, 190214555)\n",
      "('chr5', 0, 48272853) ('chr5', 0, 48272853)\n",
      "('chr5', 48272853, 181538259) ('chr5', 48272853, 181538259)\n",
      "('chr6', 0, 59191911) ('chr6', 0, 59191911)\n",
      "('chr6', 59191911, 170805979) ('chr6', 59191911, 170805979)\n",
      "('chr7', 0, 59848836) ('chr7', 0, 59848836)\n",
      "('chr7', 59848836, 159345973) ('chr7', 59848836, 159345973)\n",
      "('chr8', 0, 44955504) ('chr8', 0, 44955504)\n",
      "('chr8', 44955504, 145138636) ('chr8', 44955504, 145138636)\n",
      "('chr9', 0, 44454096) ('chr9', 0, 44454096)\n",
      "('chr9', 44454096, 138394717) ('chr9', 44454096, 138394717)\n",
      "('chrX', 0, 60509060) ('chrX', 0, 60509060)\n",
      "('chrX', 60509060, 156040895) ('chrX', 60509060, 156040895)\n"
     ]
    },
    {
     "name": "stderr",
     "output_type": "stream",
     "text": [
      "/net/levsha/share/sameer/github/mirnylab-experimental/sameer/pileups/cooltools_pileups.py:82: RuntimeWarning: invalid value encountered in true_divide\n",
      "  coarse_expected = log_scaling[1:]/log_count[1:]\n"
     ]
    },
    {
     "name": "stdout",
     "output_type": "stream",
     "text": [
      "Saved to: pileups/dots/upset_plot/double_digest/DdeI-union-DpnII/U54-HFFc6-DSG-DpnII-R1-R2_hg38.5000.npy\n",
      "\n",
      "\t U54-HFFc6-FA-DSG-MNase-R1-R3_hg38\n",
      "('chr1', 0, 123479591) ('chr1', 0, 123479591)\n",
      "('chr1', 123479591, 248956422) ('chr1', 123479591, 248956422)\n",
      "('chr10', 0, 40640101) ('chr10', 0, 40640101)\n",
      "('chr10', 40640101, 133797422) ('chr10', 40640101, 133797422)\n",
      "('chr11', 52751711, 135086622) ('chr11', 52751711, 135086622)\n",
      "('chr11', 0, 52751711) ('chr11', 0, 52751711)\n",
      "('chr12', 35977329, 133275309) ('chr12', 35977329, 133275309)\n",
      "('chr12', 0, 35977329) ('chr12', 0, 35977329)\n",
      "('chr13', 17025624, 114364328) ('chr13', 17025624, 114364328)\n",
      "('chr14', 17086761, 107043718) ('chr14', 17086761, 107043718)\n",
      "('chr15', 18404463, 101991189) ('chr15', 18404463, 101991189)\n",
      "('chr16', 0, 37288413) ('chr16', 0, 37288413)\n",
      "('chr16', 37288413, 90338345) ('chr16', 37288413, 90338345)\n",
      "('chr17', 0, 24714921) ('chr17', 0, 24714921)\n",
      "('chr17', 24714921, 83257441) ('chr17', 24714921, 83257441)\n",
      "('chr18', 0, 18161052) ('chr18', 0, 18161052)\n",
      "('chr18', 18161052, 80373285) ('chr18', 18161052, 80373285)\n",
      "('chr19', 0, 25844927) ('chr19', 0, 25844927)\n",
      "('chr19', 25844927, 58617616) ('chr19', 25844927, 58617616)\n",
      "('chr2', 0, 93139351) ('chr2', 0, 93139351)\n"
     ]
    },
    {
     "name": "stderr",
     "output_type": "stream",
     "text": [
      "/net/levsha/share/sameer/github/mirnylab-experimental/sameer/pileups/cooltools_pileups.py:84: RuntimeWarning: divide by zero encountered in log10\n",
      "  f = interp1d(np.log10(bin_mids), np.log10(coarse_expected), kind='linear')\n",
      "/net/levsha/share/sameer/github/mirnylab-experimental/sameer/pileups/cooltools_pileups.py:89: RuntimeWarning: invalid value encountered in double_scalars\n",
      "  yremaining = y[-1] + ((y[-1]-y[-2])/(x[-1]-x[-2]))*(xremaining - x[-1])\n",
      "/net/levsha/share/sameer/github/mirnylab-experimental/sameer/pileups/cooltools_pileups.py:105: RuntimeWarning: divide by zero encountered in true_divide\n",
      "  matrix.data = data/fine_expected[diff]\n",
      "/net/levsha/share/sameer/github/mirnylab-experimental/sameer/pileups/cooltools_pileups.py:105: RuntimeWarning: invalid value encountered in true_divide\n",
      "  matrix.data = data/fine_expected[diff]\n"
     ]
    },
    {
     "name": "stdout",
     "output_type": "stream",
     "text": [
      "('chr2', 93139351, 242193529) ('chr2', 93139351, 242193529)\n",
      "('chr20', 0, 28237290) ('chr20', 0, 28237290)\n",
      "('chr20', 28237290, 64444167) ('chr20', 28237290, 64444167)\n"
     ]
    },
    {
     "name": "stderr",
     "output_type": "stream",
     "text": [
      "/net/levsha/share/sameer/github/mirnylab-experimental/sameer/pileups/cooltools_pileups.py:82: RuntimeWarning: invalid value encountered in true_divide\n",
      "  coarse_expected = log_scaling[1:]/log_count[1:]\n"
     ]
    },
    {
     "name": "stdout",
     "output_type": "stream",
     "text": [
      "('chr21', 11890184, 46709983) ('chr21', 11890184, 46709983)\n",
      "('chr22', 14004553, 50818468) ('chr22', 14004553, 50818468)\n",
      "('chr3', 0, 92214016) ('chr3', 0, 92214016)\n",
      "('chr3', 92214016, 198295559) ('chr3', 92214016, 198295559)\n",
      "('chr4', 0, 50728006) ('chr4', 0, 50728006)\n",
      "('chr4', 50728006, 190214555) ('chr4', 50728006, 190214555)\n",
      "('chr5', 0, 48272853) ('chr5', 0, 48272853)\n",
      "('chr5', 48272853, 181538259) ('chr5', 48272853, 181538259)\n",
      "('chr6', 0, 59191911) ('chr6', 0, 59191911)\n",
      "('chr6', 59191911, 170805979) ('chr6', 59191911, 170805979)\n",
      "('chr7', 0, 59848836) ('chr7', 0, 59848836)\n",
      "('chr7', 59848836, 159345973) ('chr7', 59848836, 159345973)\n",
      "('chr8', 0, 44955504) ('chr8', 0, 44955504)\n",
      "('chr8', 44955504, 145138636) ('chr8', 44955504, 145138636)\n",
      "('chr9', 0, 44454096) ('chr9', 0, 44454096)\n",
      "('chr9', 44454096, 138394717) ('chr9', 44454096, 138394717)\n",
      "('chrX', 0, 60509060) ('chrX', 0, 60509060)\n",
      "('chrX', 60509060, 156040895) ('chrX', 60509060, 156040895)\n"
     ]
    },
    {
     "name": "stderr",
     "output_type": "stream",
     "text": [
      "/net/levsha/share/sameer/github/mirnylab-experimental/sameer/pileups/cooltools_pileups.py:82: RuntimeWarning: invalid value encountered in true_divide\n",
      "  coarse_expected = log_scaling[1:]/log_count[1:]\n"
     ]
    },
    {
     "name": "stdout",
     "output_type": "stream",
     "text": [
      "Saved to: pileups/dots/upset_plot/double_digest/DdeI-union-DpnII/U54-HFFc6-FA-DSG-MNase-R1-R3_hg38.5000.npy\n",
      "\n",
      "\t U54-HFFc6-DSG-DdeI-DpnII-20190711-R1-R3_hg38\n",
      "('chr1', 0, 123479591) ('chr1', 0, 123479591)\n",
      "('chr1', 123479591, 248956422) ('chr1', 123479591, 248956422)\n",
      "('chr10', 0, 40640101) ('chr10', 0, 40640101)\n",
      "('chr11', 0, 52751711) ('chr11', 0, 52751711)\n",
      "('chr10', 40640101, 133797422) ('chr10', 40640101, 133797422)\n",
      "('chr12', 0, 35977329) ('chr12', 0, 35977329)\n",
      "('chr11', 52751711, 135086622) ('chr11', 52751711, 135086622)\n",
      "('chr12', 35977329, 133275309) ('chr12', 35977329, 133275309)\n",
      "('chr13', 17025624, 114364328) ('chr13', 17025624, 114364328)\n",
      "('chr14', 17086761, 107043718) ('chr14', 17086761, 107043718)\n",
      "('chr15', 18404463, 101991189) ('chr15', 18404463, 101991189)\n",
      "('chr16', 0, 37288413) ('chr16', 0, 37288413)\n",
      "('chr16', 37288413, 90338345) ('chr16', 37288413, 90338345)\n",
      "('chr17', 0, 24714921) ('chr17', 0, 24714921)\n",
      "('chr17', 24714921, 83257441) ('chr17', 24714921, 83257441)\n",
      "('chr18', 0, 18161052) ('chr18', 0, 18161052)\n",
      "('chr18', 18161052, 80373285) ('chr18', 18161052, 80373285)\n",
      "('chr19', 0, 25844927) ('chr19', 0, 25844927)\n",
      "('chr19', 25844927, 58617616) ('chr19', 25844927, 58617616)\n",
      "('chr2', 0, 93139351) ('chr2', 0, 93139351)\n"
     ]
    },
    {
     "name": "stderr",
     "output_type": "stream",
     "text": [
      "/net/levsha/share/sameer/github/mirnylab-experimental/sameer/pileups/cooltools_pileups.py:82: RuntimeWarning: invalid value encountered in true_divide\n",
      "  coarse_expected = log_scaling[1:]/log_count[1:]\n"
     ]
    },
    {
     "name": "stdout",
     "output_type": "stream",
     "text": [
      "('chr2', 93139351, 242193529) ('chr2', 93139351, 242193529)\n",
      "('chr20', 0, 28237290) ('chr20', 0, 28237290)\n",
      "('chr20', 28237290, 64444167) ('chr20', 28237290, 64444167)\n",
      "('chr21', 11890184, 46709983) ('chr21', 11890184, 46709983)\n",
      "('chr22', 14004553, 50818468) ('chr22', 14004553, 50818468)\n"
     ]
    },
    {
     "name": "stderr",
     "output_type": "stream",
     "text": [
      "/net/levsha/share/sameer/github/mirnylab-experimental/sameer/pileups/cooltools_pileups.py:82: RuntimeWarning: invalid value encountered in true_divide\n",
      "  coarse_expected = log_scaling[1:]/log_count[1:]\n"
     ]
    },
    {
     "name": "stdout",
     "output_type": "stream",
     "text": [
      "('chr3', 0, 92214016) ('chr3', 0, 92214016)\n",
      "('chr3', 92214016, 198295559) ('chr3', 92214016, 198295559)\n",
      "('chr4', 0, 50728006) ('chr4', 0, 50728006)\n",
      "('chr4', 50728006, 190214555) ('chr4', 50728006, 190214555)\n",
      "('chr5', 0, 48272853) ('chr5', 0, 48272853)\n",
      "('chr5', 48272853, 181538259) ('chr5', 48272853, 181538259)\n",
      "('chr6', 0, 59191911) ('chr6', 0, 59191911)\n",
      "('chr6', 59191911, 170805979) ('chr6', 59191911, 170805979)\n",
      "('chr7', 0, 59848836) ('chr7', 0, 59848836)\n",
      "('chr7', 59848836, 159345973) ('chr7', 59848836, 159345973)\n",
      "('chr8', 0, 44955504) ('chr8', 0, 44955504)\n",
      "('chr8', 44955504, 145138636) ('chr8', 44955504, 145138636)\n",
      "('chr9', 0, 44454096) ('chr9', 0, 44454096)\n",
      "('chr9', 44454096, 138394717) ('chr9', 44454096, 138394717)\n",
      "('chrX', 0, 60509060) ('chrX', 0, 60509060)\n",
      "('chrX', 60509060, 156040895) ('chrX', 60509060, 156040895)\n"
     ]
    },
    {
     "name": "stderr",
     "output_type": "stream",
     "text": [
      "/net/levsha/share/sameer/github/mirnylab-experimental/sameer/pileups/cooltools_pileups.py:82: RuntimeWarning: invalid value encountered in true_divide\n",
      "  coarse_expected = log_scaling[1:]/log_count[1:]\n"
     ]
    },
    {
     "name": "stdout",
     "output_type": "stream",
     "text": [
      "Saved to: pileups/dots/upset_plot/double_digest/DdeI-union-DpnII/U54-HFFc6-DSG-DdeI-DpnII-20190711-R1-R3_hg38.5000.npy\n",
      "\n",
      "\n",
      "\n",
      "\n",
      "double-digest \n",
      "\n",
      "\t U54-HFFc6-DSG-DdeI-R1-R2_hg38\n",
      "('chr1', 0, 123479591) ('chr1', 0, 123479591)\n",
      "('chr1', 123479591, 248956422) ('chr1', 123479591, 248956422)\n",
      "('chr10', 0, 40640101) ('chr10', 0, 40640101)\n",
      "('chr10', 40640101, 133797422) ('chr10', 40640101, 133797422)\n",
      "('chr11', 0, 52751711) ('chr11', 0, 52751711)\n",
      "('chr12', 0, 35977329) ('chr12', 0, 35977329)\n",
      "('chr11', 52751711, 135086622) ('chr11', 52751711, 135086622)\n",
      "('chr13', 17025624, 114364328) ('chr13', 17025624, 114364328)\n",
      "('chr12', 35977329, 133275309) ('chr12', 35977329, 133275309)\n",
      "('chr14', 17086761, 107043718) ('chr14', 17086761, 107043718)\n",
      "('chr15', 18404463, 101991189) ('chr15', 18404463, 101991189)\n",
      "('chr16', 0, 37288413) ('chr16', 0, 37288413)\n",
      "('chr16', 37288413, 90338345) ('chr16', 37288413, 90338345)\n",
      "('chr17', 0, 24714921) ('chr17', 0, 24714921)\n",
      "('chr17', 24714921, 83257441) ('chr17', 24714921, 83257441)\n",
      "('chr18', 0, 18161052) ('chr18', 0, 18161052)\n",
      "('chr18', 18161052, 80373285) ('chr18', 18161052, 80373285)\n",
      "('chr19', 0, 25844927) ('chr19', 0, 25844927)\n",
      "('chr19', 25844927, 58617616) ('chr19', 25844927, 58617616)\n",
      "('chr2', 0, 93139351) ('chr2', 0, 93139351)\n"
     ]
    },
    {
     "name": "stderr",
     "output_type": "stream",
     "text": [
      "/net/levsha/share/sameer/github/mirnylab-experimental/sameer/pileups/cooltools_pileups.py:82: RuntimeWarning: invalid value encountered in true_divide\n",
      "  coarse_expected = log_scaling[1:]/log_count[1:]\n"
     ]
    },
    {
     "name": "stdout",
     "output_type": "stream",
     "text": [
      "('chr2', 93139351, 242193529) ('chr2', 93139351, 242193529)\n",
      "('chr20', 0, 28237290) ('chr20', 0, 28237290)\n",
      "('chr20', 28237290, 64444167) ('chr20', 28237290, 64444167)\n",
      "('chr21', 11890184, 46709983) ('chr21', 11890184, 46709983)\n",
      "('chr22', 14004553, 50818468) ('chr22', 14004553, 50818468)\n",
      "('chr3', 0, 92214016) ('chr3', 0, 92214016)\n"
     ]
    },
    {
     "name": "stderr",
     "output_type": "stream",
     "text": [
      "/net/levsha/share/sameer/github/mirnylab-experimental/sameer/pileups/cooltools_pileups.py:82: RuntimeWarning: invalid value encountered in true_divide\n",
      "  coarse_expected = log_scaling[1:]/log_count[1:]\n"
     ]
    },
    {
     "name": "stdout",
     "output_type": "stream",
     "text": [
      "('chr3', 92214016, 198295559) ('chr3', 92214016, 198295559)\n",
      "('chr4', 0, 50728006) ('chr4', 0, 50728006)\n",
      "('chr4', 50728006, 190214555) ('chr4', 50728006, 190214555)\n",
      "('chr5', 0, 48272853) ('chr5', 0, 48272853)\n",
      "('chr5', 48272853, 181538259) ('chr5', 48272853, 181538259)\n",
      "('chr6', 0, 59191911) ('chr6', 0, 59191911)\n",
      "('chr6', 59191911, 170805979) ('chr6', 59191911, 170805979)\n",
      "('chr7', 0, 59848836) ('chr7', 0, 59848836)\n",
      "('chr7', 59848836, 159345973) ('chr7', 59848836, 159345973)\n",
      "('chr8', 0, 44955504) ('chr8', 0, 44955504)\n",
      "('chr8', 44955504, 145138636) ('chr8', 44955504, 145138636)\n",
      "('chr9', 0, 44454096) ('chr9', 0, 44454096)\n",
      "('chr9', 44454096, 138394717) ('chr9', 44454096, 138394717)\n",
      "('chrX', 0, 60509060) ('chrX', 0, 60509060)\n",
      "('chrX', 60509060, 156040895) ('chrX', 60509060, 156040895)\n"
     ]
    },
    {
     "name": "stderr",
     "output_type": "stream",
     "text": [
      "/net/levsha/share/sameer/github/mirnylab-experimental/sameer/pileups/cooltools_pileups.py:82: RuntimeWarning: invalid value encountered in true_divide\n",
      "  coarse_expected = log_scaling[1:]/log_count[1:]\n"
     ]
    },
    {
     "name": "stdout",
     "output_type": "stream",
     "text": [
      "Saved to: pileups/dots/upset_plot/double_digest/double-digest/U54-HFFc6-DSG-DdeI-R1-R2_hg38.5000.npy\n",
      "\n",
      "\t U54-HFFc6-DSG-DpnII-R1-R2_hg38\n",
      "('chr1', 0, 123479591) ('chr1', 0, 123479591)\n",
      "('chr13', 17025624, 114364328) ('chr13', 17025624, 114364328)\n",
      "('chr1', 123479591, 248956422) ('chr1', 123479591, 248956422)\n",
      "('chr10', 0, 40640101) ('chr10', 0, 40640101)\n",
      "('chr10', 40640101, 133797422) ('chr10', 40640101, 133797422)\n",
      "('chr11', 52751711, 135086622) ('chr11', 52751711, 135086622)\n",
      "('chr11', 0, 52751711) ('chr11', 0, 52751711)\n",
      "('chr12', 0, 35977329) ('chr12', 0, 35977329)\n",
      "('chr12', 35977329, 133275309) ('chr12', 35977329, 133275309)\n",
      "('chr14', 17086761, 107043718) ('chr14', 17086761, 107043718)\n",
      "('chr15', 18404463, 101991189) ('chr15', 18404463, 101991189)\n",
      "('chr16', 0, 37288413) ('chr16', 0, 37288413)\n",
      "('chr16', 37288413, 90338345) ('chr16', 37288413, 90338345)\n",
      "('chr17', 0, 24714921) ('chr17', 0, 24714921)\n",
      "('chr17', 24714921, 83257441) ('chr17', 24714921, 83257441)\n",
      "('chr18', 0, 18161052) ('chr18', 0, 18161052)\n",
      "('chr18', 18161052, 80373285) ('chr18', 18161052, 80373285)\n",
      "('chr19', 0, 25844927) ('chr19', 0, 25844927)\n",
      "('chr19', 25844927, 58617616) ('chr19', 25844927, 58617616)\n",
      "('chr2', 0, 93139351) ('chr2', 0, 93139351)\n"
     ]
    },
    {
     "name": "stderr",
     "output_type": "stream",
     "text": [
      "/net/levsha/share/sameer/github/mirnylab-experimental/sameer/pileups/cooltools_pileups.py:82: RuntimeWarning: invalid value encountered in true_divide\n",
      "  coarse_expected = log_scaling[1:]/log_count[1:]\n"
     ]
    },
    {
     "name": "stdout",
     "output_type": "stream",
     "text": [
      "('chr2', 93139351, 242193529) ('chr2', 93139351, 242193529)\n",
      "('chr20', 0, 28237290) ('chr20', 0, 28237290)\n",
      "('chr20', 28237290, 64444167) ('chr20', 28237290, 64444167)\n",
      "('chr21', 11890184, 46709983) ('chr21', 11890184, 46709983)\n",
      "('chr22', 14004553, 50818468) ('chr22', 14004553, 50818468)\n"
     ]
    },
    {
     "name": "stderr",
     "output_type": "stream",
     "text": [
      "/net/levsha/share/sameer/github/mirnylab-experimental/sameer/pileups/cooltools_pileups.py:82: RuntimeWarning: invalid value encountered in true_divide\n",
      "  coarse_expected = log_scaling[1:]/log_count[1:]\n"
     ]
    },
    {
     "name": "stdout",
     "output_type": "stream",
     "text": [
      "('chr3', 0, 92214016) ('chr3', 0, 92214016)\n",
      "('chr3', 92214016, 198295559) ('chr3', 92214016, 198295559)\n",
      "('chr4', 0, 50728006) ('chr4', 0, 50728006)\n",
      "('chr4', 50728006, 190214555) ('chr4', 50728006, 190214555)\n",
      "('chr5', 0, 48272853) ('chr5', 0, 48272853)\n",
      "('chr5', 48272853, 181538259) ('chr5', 48272853, 181538259)\n",
      "('chr6', 0, 59191911) ('chr6', 0, 59191911)\n",
      "('chr6', 59191911, 170805979) ('chr6', 59191911, 170805979)\n",
      "('chr7', 0, 59848836) ('chr7', 0, 59848836)\n",
      "('chr7', 59848836, 159345973) ('chr7', 59848836, 159345973)\n",
      "('chr8', 0, 44955504) ('chr8', 0, 44955504)\n",
      "('chr8', 44955504, 145138636) ('chr8', 44955504, 145138636)\n",
      "('chr9', 0, 44454096) ('chr9', 0, 44454096)\n",
      "('chr9', 44454096, 138394717) ('chr9', 44454096, 138394717)\n",
      "('chrX', 0, 60509060) ('chrX', 0, 60509060)\n",
      "('chrX', 60509060, 156040895) ('chrX', 60509060, 156040895)\n"
     ]
    },
    {
     "name": "stderr",
     "output_type": "stream",
     "text": [
      "/net/levsha/share/sameer/github/mirnylab-experimental/sameer/pileups/cooltools_pileups.py:82: RuntimeWarning: invalid value encountered in true_divide\n",
      "  coarse_expected = log_scaling[1:]/log_count[1:]\n"
     ]
    },
    {
     "name": "stdout",
     "output_type": "stream",
     "text": [
      "Saved to: pileups/dots/upset_plot/double_digest/double-digest/U54-HFFc6-DSG-DpnII-R1-R2_hg38.5000.npy\n",
      "\n",
      "\t U54-HFFc6-FA-DSG-MNase-R1-R3_hg38\n",
      "('chr1', 0, 123479591) ('chr1', 0, 123479591)\n",
      "('chr1', 123479591, 248956422) ('chr1', 123479591, 248956422)\n",
      "('chr10', 0, 40640101) ('chr10', 0, 40640101)\n",
      "('chr10', 40640101, 133797422) ('chr10', 40640101, 133797422)\n",
      "('chr11', 0, 52751711) ('chr11', 0, 52751711)\n",
      "('chr11', 52751711, 135086622) ('chr11', 52751711, 135086622)\n",
      "('chr12', 35977329, 133275309) ('chr12', 35977329, 133275309)\n",
      "('chr12', 0, 35977329) ('chr12', 0, 35977329)\n",
      "('chr13', 17025624, 114364328) ('chr13', 17025624, 114364328)\n",
      "('chr14', 17086761, 107043718) ('chr14', 17086761, 107043718)\n",
      "('chr15', 18404463, 101991189) ('chr15', 18404463, 101991189)\n",
      "('chr16', 0, 37288413) ('chr16', 0, 37288413)\n",
      "('chr16', 37288413, 90338345) ('chr16', 37288413, 90338345)\n",
      "('chr17', 0, 24714921) ('chr17', 0, 24714921)\n",
      "('chr17', 24714921, 83257441) ('chr17', 24714921, 83257441)\n",
      "('chr18', 0, 18161052) ('chr18', 0, 18161052)\n",
      "('chr18', 18161052, 80373285) ('chr18', 18161052, 80373285)\n",
      "('chr19', 0, 25844927) ('chr19', 0, 25844927)\n",
      "('chr19', 25844927, 58617616) ('chr19', 25844927, 58617616)\n",
      "('chr2', 0, 93139351) ('chr2', 0, 93139351)\n"
     ]
    },
    {
     "name": "stderr",
     "output_type": "stream",
     "text": [
      "/net/levsha/share/sameer/github/mirnylab-experimental/sameer/pileups/cooltools_pileups.py:84: RuntimeWarning: divide by zero encountered in log10\n",
      "  f = interp1d(np.log10(bin_mids), np.log10(coarse_expected), kind='linear')\n",
      "/net/levsha/share/sameer/github/mirnylab-experimental/sameer/pileups/cooltools_pileups.py:89: RuntimeWarning: invalid value encountered in double_scalars\n",
      "  yremaining = y[-1] + ((y[-1]-y[-2])/(x[-1]-x[-2]))*(xremaining - x[-1])\n",
      "/net/levsha/share/sameer/github/mirnylab-experimental/sameer/pileups/cooltools_pileups.py:105: RuntimeWarning: divide by zero encountered in true_divide\n",
      "  matrix.data = data/fine_expected[diff]\n",
      "/net/levsha/share/sameer/github/mirnylab-experimental/sameer/pileups/cooltools_pileups.py:105: RuntimeWarning: invalid value encountered in true_divide\n",
      "  matrix.data = data/fine_expected[diff]\n"
     ]
    },
    {
     "name": "stdout",
     "output_type": "stream",
     "text": [
      "('chr2', 93139351, 242193529) ('chr2', 93139351, 242193529)\n",
      "('chr20', 0, 28237290) ('chr20', 0, 28237290)\n",
      "('chr20', 28237290, 64444167) ('chr20', 28237290, 64444167)\n",
      "('chr21', 11890184, 46709983) ('chr21', 11890184, 46709983)\n",
      "('chr22', 14004553, 50818468) ('chr22', 14004553, 50818468)\n"
     ]
    },
    {
     "name": "stderr",
     "output_type": "stream",
     "text": [
      "/net/levsha/share/sameer/github/mirnylab-experimental/sameer/pileups/cooltools_pileups.py:82: RuntimeWarning: invalid value encountered in true_divide\n",
      "  coarse_expected = log_scaling[1:]/log_count[1:]\n"
     ]
    },
    {
     "name": "stdout",
     "output_type": "stream",
     "text": [
      "('chr3', 0, 92214016) ('chr3', 0, 92214016)\n",
      "('chr3', 92214016, 198295559) ('chr3', 92214016, 198295559)\n",
      "('chr4', 0, 50728006) ('chr4', 0, 50728006)\n",
      "('chr4', 50728006, 190214555) ('chr4', 50728006, 190214555)\n",
      "('chr5', 0, 48272853) ('chr5', 0, 48272853)\n",
      "('chr5', 48272853, 181538259) ('chr5', 48272853, 181538259)\n",
      "('chr6', 0, 59191911) ('chr6', 0, 59191911)\n",
      "('chr6', 59191911, 170805979) ('chr6', 59191911, 170805979)\n",
      "('chr7', 0, 59848836) ('chr7', 0, 59848836)\n",
      "('chr7', 59848836, 159345973) ('chr7', 59848836, 159345973)\n",
      "('chr8', 0, 44955504) ('chr8', 0, 44955504)\n",
      "('chr8', 44955504, 145138636) ('chr8', 44955504, 145138636)\n",
      "('chr9', 0, 44454096) ('chr9', 0, 44454096)\n",
      "('chr9', 44454096, 138394717) ('chr9', 44454096, 138394717)\n",
      "('chrX', 0, 60509060) ('chrX', 0, 60509060)\n",
      "('chrX', 60509060, 156040895) ('chrX', 60509060, 156040895)\n"
     ]
    },
    {
     "name": "stderr",
     "output_type": "stream",
     "text": [
      "/net/levsha/share/sameer/github/mirnylab-experimental/sameer/pileups/cooltools_pileups.py:82: RuntimeWarning: invalid value encountered in true_divide\n",
      "  coarse_expected = log_scaling[1:]/log_count[1:]\n"
     ]
    },
    {
     "name": "stdout",
     "output_type": "stream",
     "text": [
      "Saved to: pileups/dots/upset_plot/double_digest/double-digest/U54-HFFc6-FA-DSG-MNase-R1-R3_hg38.5000.npy\n",
      "\n",
      "\t U54-HFFc6-DSG-DdeI-DpnII-20190711-R1-R3_hg38\n",
      "('chr1', 123479591, 248956422) ('chr1', 123479591, 248956422)\n",
      "('chr1', 0, 123479591) ('chr1', 0, 123479591)\n",
      "('chr10', 0, 40640101) ('chr10', 0, 40640101)\n",
      "('chr10', 40640101, 133797422) ('chr10', 40640101, 133797422)\n",
      "('chr12', 0, 35977329) ('chr12', 0, 35977329)\n",
      "('chr11', 0, 52751711) ('chr11', 0, 52751711)\n",
      "('chr11', 52751711, 135086622) ('chr11', 52751711, 135086622)\n",
      "('chr12', 35977329, 133275309) ('chr12', 35977329, 133275309)\n",
      "('chr13', 17025624, 114364328) ('chr13', 17025624, 114364328)\n",
      "('chr14', 17086761, 107043718) ('chr14', 17086761, 107043718)\n",
      "('chr15', 18404463, 101991189) ('chr15', 18404463, 101991189)\n",
      "('chr16', 0, 37288413) ('chr16', 0, 37288413)\n",
      "('chr17', 0, 24714921) ('chr17', 0, 24714921)\n",
      "('chr16', 37288413, 90338345) ('chr16', 37288413, 90338345)\n",
      "('chr17', 24714921, 83257441) ('chr17', 24714921, 83257441)\n",
      "('chr18', 0, 18161052) ('chr18', 0, 18161052)\n",
      "('chr18', 18161052, 80373285) ('chr18', 18161052, 80373285)\n",
      "('chr19', 0, 25844927) ('chr19', 0, 25844927)\n",
      "('chr19', 25844927, 58617616) ('chr19', 25844927, 58617616)\n",
      "('chr2', 0, 93139351) ('chr2', 0, 93139351)\n"
     ]
    },
    {
     "name": "stderr",
     "output_type": "stream",
     "text": [
      "/net/levsha/share/sameer/github/mirnylab-experimental/sameer/pileups/cooltools_pileups.py:82: RuntimeWarning: invalid value encountered in true_divide\n",
      "  coarse_expected = log_scaling[1:]/log_count[1:]\n"
     ]
    },
    {
     "name": "stdout",
     "output_type": "stream",
     "text": [
      "('chr2', 93139351, 242193529) ('chr2', 93139351, 242193529)\n",
      "('chr20', 0, 28237290) ('chr20', 0, 28237290)\n",
      "('chr20', 28237290, 64444167) ('chr20', 28237290, 64444167)\n",
      "('chr21', 11890184, 46709983) ('chr21', 11890184, 46709983)\n"
     ]
    },
    {
     "name": "stderr",
     "output_type": "stream",
     "text": [
      "/net/levsha/share/sameer/github/mirnylab-experimental/sameer/pileups/cooltools_pileups.py:82: RuntimeWarning: invalid value encountered in true_divide\n",
      "  coarse_expected = log_scaling[1:]/log_count[1:]\n"
     ]
    },
    {
     "name": "stdout",
     "output_type": "stream",
     "text": [
      "('chr22', 14004553, 50818468) ('chr22', 14004553, 50818468)\n",
      "('chr3', 0, 92214016) ('chr3', 0, 92214016)\n",
      "('chr3', 92214016, 198295559) ('chr3', 92214016, 198295559)\n",
      "('chr4', 0, 50728006) ('chr4', 0, 50728006)\n",
      "('chr4', 50728006, 190214555) ('chr4', 50728006, 190214555)\n",
      "('chr5', 0, 48272853) ('chr5', 0, 48272853)\n",
      "('chr5', 48272853, 181538259) ('chr5', 48272853, 181538259)\n",
      "('chr6', 0, 59191911) ('chr6', 0, 59191911)\n",
      "('chr6', 59191911, 170805979) ('chr6', 59191911, 170805979)\n",
      "('chr7', 0, 59848836) ('chr7', 0, 59848836)\n",
      "('chr7', 59848836, 159345973) ('chr7', 59848836, 159345973)\n",
      "('chr8', 0, 44955504) ('chr8', 0, 44955504)\n",
      "('chr8', 44955504, 145138636) ('chr8', 44955504, 145138636)\n",
      "('chr9', 0, 44454096) ('chr9', 0, 44454096)\n",
      "('chr9', 44454096, 138394717) ('chr9', 44454096, 138394717)\n",
      "('chrX', 0, 60509060) ('chrX', 0, 60509060)\n",
      "('chrX', 60509060, 156040895) ('chrX', 60509060, 156040895)\n"
     ]
    },
    {
     "name": "stderr",
     "output_type": "stream",
     "text": [
      "/net/levsha/share/sameer/github/mirnylab-experimental/sameer/pileups/cooltools_pileups.py:82: RuntimeWarning: invalid value encountered in true_divide\n",
      "  coarse_expected = log_scaling[1:]/log_count[1:]\n"
     ]
    },
    {
     "name": "stdout",
     "output_type": "stream",
     "text": [
      "Saved to: pileups/dots/upset_plot/double_digest/double-digest/U54-HFFc6-DSG-DdeI-DpnII-20190711-R1-R3_hg38.5000.npy\n",
      "\n",
      "\n",
      "\n",
      "\n",
      "double-digest__MNase \n",
      "\n",
      "\t U54-HFFc6-DSG-DdeI-R1-R2_hg38\n",
      "('chr1', 0, 123479591) ('chr1', 0, 123479591)\n",
      "('chr1', 123479591, 248956422) ('chr1', 123479591, 248956422)\n",
      "('chr10', 0, 40640101) ('chr10', 0, 40640101)\n",
      "('chr10', 40640101, 133797422) ('chr10', 40640101, 133797422)\n",
      "('chr11', 52751711, 135086622) ('chr11', 52751711, 135086622)\n",
      "('chr11', 0, 52751711) ('chr11', 0, 52751711)\n",
      "('chr12', 0, 35977329) ('chr12', 0, 35977329)\n",
      "('chr12', 35977329, 133275309) ('chr12', 35977329, 133275309)\n",
      "('chr13', 17025624, 114364328) ('chr13', 17025624, 114364328)\n",
      "('chr14', 17086761, 107043718) ('chr14', 17086761, 107043718)\n",
      "('chr15', 18404463, 101991189) ('chr15', 18404463, 101991189)\n",
      "('chr16', 0, 37288413) ('chr16', 0, 37288413)\n",
      "('chr16', 37288413, 90338345) ('chr16', 37288413, 90338345)\n",
      "('chr17', 0, 24714921) ('chr17', 0, 24714921)\n",
      "('chr17', 24714921, 83257441) ('chr17', 24714921, 83257441)\n",
      "('chr18', 0, 18161052) ('chr18', 0, 18161052)\n",
      "('chr18', 18161052, 80373285) ('chr18', 18161052, 80373285)\n",
      "('chr19', 0, 25844927) ('chr19', 0, 25844927)\n",
      "('chr19', 25844927, 58617616) ('chr19', 25844927, 58617616)\n",
      "('chr2', 0, 93139351) ('chr2', 0, 93139351)\n"
     ]
    },
    {
     "name": "stderr",
     "output_type": "stream",
     "text": [
      "/net/levsha/share/sameer/github/mirnylab-experimental/sameer/pileups/cooltools_pileups.py:82: RuntimeWarning: invalid value encountered in true_divide\n",
      "  coarse_expected = log_scaling[1:]/log_count[1:]\n"
     ]
    },
    {
     "name": "stdout",
     "output_type": "stream",
     "text": [
      "('chr2', 93139351, 242193529) ('chr2', 93139351, 242193529)\n",
      "('chr20', 0, 28237290) ('chr20', 0, 28237290)\n",
      "('chr20', 28237290, 64444167) ('chr20', 28237290, 64444167)\n",
      "('chr21', 11890184, 46709983) ('chr21', 11890184, 46709983)\n",
      "('chr22', 14004553, 50818468) ('chr22', 14004553, 50818468)\n"
     ]
    },
    {
     "name": "stderr",
     "output_type": "stream",
     "text": [
      "/net/levsha/share/sameer/github/mirnylab-experimental/sameer/pileups/cooltools_pileups.py:82: RuntimeWarning: invalid value encountered in true_divide\n",
      "  coarse_expected = log_scaling[1:]/log_count[1:]\n"
     ]
    },
    {
     "name": "stdout",
     "output_type": "stream",
     "text": [
      "('chr3', 0, 92214016) ('chr3', 0, 92214016)\n",
      "('chr3', 92214016, 198295559) ('chr3', 92214016, 198295559)\n",
      "('chr4', 0, 50728006) ('chr4', 0, 50728006)\n",
      "('chr4', 50728006, 190214555) ('chr4', 50728006, 190214555)\n",
      "('chr5', 0, 48272853) ('chr5', 0, 48272853)\n",
      "('chr5', 48272853, 181538259) ('chr5', 48272853, 181538259)\n",
      "('chr6', 0, 59191911) ('chr6', 0, 59191911)\n",
      "('chr6', 59191911, 170805979) ('chr6', 59191911, 170805979)\n",
      "('chr7', 0, 59848836) ('chr7', 0, 59848836)\n",
      "('chr7', 59848836, 159345973) ('chr7', 59848836, 159345973)\n",
      "('chr8', 0, 44955504) ('chr8', 0, 44955504)\n",
      "('chr8', 44955504, 145138636) ('chr8', 44955504, 145138636)\n",
      "('chr9', 0, 44454096) ('chr9', 0, 44454096)\n",
      "('chr9', 44454096, 138394717) ('chr9', 44454096, 138394717)\n",
      "('chrX', 0, 60509060) ('chrX', 0, 60509060)\n",
      "('chrX', 60509060, 156040895) ('chrX', 60509060, 156040895)\n"
     ]
    },
    {
     "name": "stderr",
     "output_type": "stream",
     "text": [
      "/net/levsha/share/sameer/github/mirnylab-experimental/sameer/pileups/cooltools_pileups.py:82: RuntimeWarning: invalid value encountered in true_divide\n",
      "  coarse_expected = log_scaling[1:]/log_count[1:]\n"
     ]
    },
    {
     "name": "stdout",
     "output_type": "stream",
     "text": [
      "Saved to: pileups/dots/upset_plot/double_digest/double-digest__MNase/U54-HFFc6-DSG-DdeI-R1-R2_hg38.5000.npy\n",
      "\n",
      "\t U54-HFFc6-DSG-DpnII-R1-R2_hg38\n",
      "('chr1', 0, 123479591) ('chr1', 0, 123479591)\n",
      "('chr1', 123479591, 248956422) ('chr1', 123479591, 248956422)\n",
      "('chr10', 40640101, 133797422) ('chr10', 40640101, 133797422)\n",
      "('chr10', 0, 40640101) ('chr10', 0, 40640101)\n",
      "('chr12', 0, 35977329) ('chr12', 0, 35977329)\n",
      "('chr11', 0, 52751711) ('chr11', 0, 52751711)\n",
      "('chr11', 52751711, 135086622) ('chr11', 52751711, 135086622)\n",
      "('chr12', 35977329, 133275309) ('chr12', 35977329, 133275309)\n",
      "('chr14', 17086761, 107043718) ('chr14', 17086761, 107043718)\n",
      "('chr13', 17025624, 114364328) ('chr13', 17025624, 114364328)\n",
      "('chr15', 18404463, 101991189) ('chr15', 18404463, 101991189)\n",
      "('chr16', 0, 37288413) ('chr16', 0, 37288413)\n",
      "('chr16', 37288413, 90338345) ('chr16', 37288413, 90338345)\n",
      "('chr17', 0, 24714921) ('chr17', 0, 24714921)\n",
      "('chr17', 24714921, 83257441) ('chr17', 24714921, 83257441)\n",
      "('chr18', 0, 18161052) ('chr18', 0, 18161052)\n",
      "('chr18', 18161052, 80373285) ('chr18', 18161052, 80373285)\n",
      "('chr19', 0, 25844927) ('chr19', 0, 25844927)\n",
      "('chr19', 25844927, 58617616) ('chr19', 25844927, 58617616)\n",
      "('chr2', 0, 93139351) ('chr2', 0, 93139351)\n"
     ]
    },
    {
     "name": "stderr",
     "output_type": "stream",
     "text": [
      "/net/levsha/share/sameer/github/mirnylab-experimental/sameer/pileups/cooltools_pileups.py:82: RuntimeWarning: invalid value encountered in true_divide\n",
      "  coarse_expected = log_scaling[1:]/log_count[1:]\n"
     ]
    },
    {
     "name": "stdout",
     "output_type": "stream",
     "text": [
      "('chr2', 93139351, 242193529) ('chr2', 93139351, 242193529)\n",
      "('chr20', 28237290, 64444167) ('chr20', 28237290, 64444167)\n",
      "('chr20', 0, 28237290) ('chr20', 0, 28237290)\n",
      "('chr21', 11890184, 46709983) ('chr21', 11890184, 46709983)\n",
      "('chr22', 14004553, 50818468) ('chr22', 14004553, 50818468)\n"
     ]
    },
    {
     "name": "stderr",
     "output_type": "stream",
     "text": [
      "/net/levsha/share/sameer/github/mirnylab-experimental/sameer/pileups/cooltools_pileups.py:82: RuntimeWarning: invalid value encountered in true_divide\n",
      "  coarse_expected = log_scaling[1:]/log_count[1:]\n"
     ]
    },
    {
     "name": "stdout",
     "output_type": "stream",
     "text": [
      "('chr3', 0, 92214016) ('chr3', 0, 92214016)\n",
      "('chr3', 92214016, 198295559) ('chr3', 92214016, 198295559)\n",
      "('chr4', 0, 50728006) ('chr4', 0, 50728006)\n",
      "('chr4', 50728006, 190214555) ('chr4', 50728006, 190214555)\n",
      "('chr5', 0, 48272853) ('chr5', 0, 48272853)\n",
      "('chr5', 48272853, 181538259) ('chr5', 48272853, 181538259)\n",
      "('chr6', 0, 59191911) ('chr6', 0, 59191911)\n",
      "('chr6', 59191911, 170805979) ('chr6', 59191911, 170805979)\n",
      "('chr7', 0, 59848836) ('chr7', 0, 59848836)\n",
      "('chr7', 59848836, 159345973) ('chr7', 59848836, 159345973)\n",
      "('chr8', 0, 44955504) ('chr8', 0, 44955504)\n",
      "('chr8', 44955504, 145138636) ('chr8', 44955504, 145138636)\n",
      "('chr9', 0, 44454096) ('chr9', 0, 44454096)\n",
      "('chr9', 44454096, 138394717) ('chr9', 44454096, 138394717)\n",
      "('chrX', 0, 60509060) ('chrX', 0, 60509060)\n",
      "('chrX', 60509060, 156040895) ('chrX', 60509060, 156040895)\n"
     ]
    },
    {
     "name": "stderr",
     "output_type": "stream",
     "text": [
      "/net/levsha/share/sameer/github/mirnylab-experimental/sameer/pileups/cooltools_pileups.py:82: RuntimeWarning: invalid value encountered in true_divide\n",
      "  coarse_expected = log_scaling[1:]/log_count[1:]\n"
     ]
    },
    {
     "name": "stdout",
     "output_type": "stream",
     "text": [
      "Saved to: pileups/dots/upset_plot/double_digest/double-digest__MNase/U54-HFFc6-DSG-DpnII-R1-R2_hg38.5000.npy\n",
      "\n",
      "\t U54-HFFc6-FA-DSG-MNase-R1-R3_hg38\n",
      "('chr1', 0, 123479591) ('chr1', 0, 123479591)\n",
      "('chr10', 0, 40640101) ('chr10', 0, 40640101)\n",
      "('chr1', 123479591, 248956422) ('chr1', 123479591, 248956422)\n",
      "('chr10', 40640101, 133797422) ('chr10', 40640101, 133797422)\n",
      "('chr11', 52751711, 135086622) ('chr11', 52751711, 135086622)\n",
      "('chr11', 0, 52751711) ('chr11', 0, 52751711)\n",
      "('chr12', 35977329, 133275309) ('chr12', 35977329, 133275309)\n",
      "('chr12', 0, 35977329) ('chr12', 0, 35977329)\n",
      "('chr13', 17025624, 114364328) ('chr13', 17025624, 114364328)\n",
      "('chr14', 17086761, 107043718) ('chr14', 17086761, 107043718)\n",
      "('chr15', 18404463, 101991189) ('chr15', 18404463, 101991189)\n",
      "('chr16', 0, 37288413) ('chr16', 0, 37288413)\n",
      "('chr16', 37288413, 90338345) ('chr16', 37288413, 90338345)\n",
      "('chr17', 0, 24714921) ('chr17', 0, 24714921)\n",
      "('chr17', 24714921, 83257441) ('chr17', 24714921, 83257441)\n",
      "('chr18', 0, 18161052) ('chr18', 0, 18161052)\n",
      "('chr18', 18161052, 80373285) ('chr18', 18161052, 80373285)\n",
      "('chr19', 0, 25844927) ('chr19', 0, 25844927)\n",
      "('chr19', 25844927, 58617616) ('chr19', 25844927, 58617616)\n",
      "('chr2', 0, 93139351) ('chr2', 0, 93139351)\n"
     ]
    },
    {
     "name": "stderr",
     "output_type": "stream",
     "text": [
      "/net/levsha/share/sameer/github/mirnylab-experimental/sameer/pileups/cooltools_pileups.py:84: RuntimeWarning: divide by zero encountered in log10\n",
      "  f = interp1d(np.log10(bin_mids), np.log10(coarse_expected), kind='linear')\n",
      "/net/levsha/share/sameer/github/mirnylab-experimental/sameer/pileups/cooltools_pileups.py:89: RuntimeWarning: invalid value encountered in double_scalars\n",
      "  yremaining = y[-1] + ((y[-1]-y[-2])/(x[-1]-x[-2]))*(xremaining - x[-1])\n",
      "/net/levsha/share/sameer/github/mirnylab-experimental/sameer/pileups/cooltools_pileups.py:105: RuntimeWarning: divide by zero encountered in true_divide\n",
      "  matrix.data = data/fine_expected[diff]\n",
      "/net/levsha/share/sameer/github/mirnylab-experimental/sameer/pileups/cooltools_pileups.py:105: RuntimeWarning: invalid value encountered in true_divide\n",
      "  matrix.data = data/fine_expected[diff]\n"
     ]
    },
    {
     "name": "stdout",
     "output_type": "stream",
     "text": [
      "('chr2', 93139351, 242193529) ('chr2', 93139351, 242193529)\n",
      "('chr20', 0, 28237290) ('chr20', 0, 28237290)\n",
      "('chr20', 28237290, 64444167) ('chr20', 28237290, 64444167)\n",
      "('chr21', 11890184, 46709983) ('chr21', 11890184, 46709983)\n"
     ]
    },
    {
     "name": "stderr",
     "output_type": "stream",
     "text": [
      "/net/levsha/share/sameer/github/mirnylab-experimental/sameer/pileups/cooltools_pileups.py:82: RuntimeWarning: invalid value encountered in true_divide\n",
      "  coarse_expected = log_scaling[1:]/log_count[1:]\n"
     ]
    },
    {
     "name": "stdout",
     "output_type": "stream",
     "text": [
      "('chr22', 14004553, 50818468) ('chr22', 14004553, 50818468)\n",
      "('chr3', 0, 92214016) ('chr3', 0, 92214016)\n",
      "('chr3', 92214016, 198295559) ('chr3', 92214016, 198295559)\n",
      "('chr4', 0, 50728006) ('chr4', 0, 50728006)\n",
      "('chr4', 50728006, 190214555) ('chr4', 50728006, 190214555)\n",
      "('chr5', 0, 48272853) ('chr5', 0, 48272853)\n",
      "('chr5', 48272853, 181538259) ('chr5', 48272853, 181538259)\n",
      "('chr6', 0, 59191911) ('chr6', 0, 59191911)\n",
      "('chr6', 59191911, 170805979) ('chr6', 59191911, 170805979)\n",
      "('chr7', 0, 59848836) ('chr7', 0, 59848836)\n",
      "('chr7', 59848836, 159345973) ('chr7', 59848836, 159345973)\n",
      "('chr8', 0, 44955504) ('chr8', 0, 44955504)\n",
      "('chr8', 44955504, 145138636) ('chr8', 44955504, 145138636)\n",
      "('chr9', 0, 44454096) ('chr9', 0, 44454096)\n",
      "('chr9', 44454096, 138394717) ('chr9', 44454096, 138394717)\n",
      "('chrX', 0, 60509060) ('chrX', 0, 60509060)\n",
      "('chrX', 60509060, 156040895) ('chrX', 60509060, 156040895)\n"
     ]
    },
    {
     "name": "stderr",
     "output_type": "stream",
     "text": [
      "/net/levsha/share/sameer/github/mirnylab-experimental/sameer/pileups/cooltools_pileups.py:82: RuntimeWarning: invalid value encountered in true_divide\n",
      "  coarse_expected = log_scaling[1:]/log_count[1:]\n"
     ]
    },
    {
     "name": "stdout",
     "output_type": "stream",
     "text": [
      "Saved to: pileups/dots/upset_plot/double_digest/double-digest__MNase/U54-HFFc6-FA-DSG-MNase-R1-R3_hg38.5000.npy\n",
      "\n",
      "\t U54-HFFc6-DSG-DdeI-DpnII-20190711-R1-R3_hg38\n",
      "('chr1', 0, 123479591) ('chr1', 0, 123479591)\n",
      "('chr1', 123479591, 248956422) ('chr1', 123479591, 248956422)\n",
      "('chr10', 0, 40640101) ('chr10', 0, 40640101)\n",
      "('chr10', 40640101, 133797422) ('chr10', 40640101, 133797422)\n",
      "('chr11', 52751711, 135086622) ('chr11', 52751711, 135086622)\n",
      "('chr11', 0, 52751711) ('chr11', 0, 52751711)\n",
      "('chr12', 0, 35977329) ('chr12', 0, 35977329)\n",
      "('chr12', 35977329, 133275309) ('chr12', 35977329, 133275309)\n",
      "('chr14', 17086761, 107043718) ('chr14', 17086761, 107043718)\n",
      "('chr13', 17025624, 114364328) ('chr13', 17025624, 114364328)\n",
      "('chr15', 18404463, 101991189) ('chr15', 18404463, 101991189)\n",
      "('chr16', 0, 37288413) ('chr16', 0, 37288413)\n",
      "('chr16', 37288413, 90338345) ('chr16', 37288413, 90338345)\n",
      "('chr17', 0, 24714921) ('chr17', 0, 24714921)\n",
      "('chr17', 24714921, 83257441) ('chr17', 24714921, 83257441)\n",
      "('chr18', 0, 18161052) ('chr18', 0, 18161052)\n",
      "('chr18', 18161052, 80373285) ('chr18', 18161052, 80373285)\n",
      "('chr19', 0, 25844927) ('chr19', 0, 25844927)\n",
      "('chr19', 25844927, 58617616) ('chr19', 25844927, 58617616)\n",
      "('chr2', 0, 93139351) ('chr2', 0, 93139351)\n"
     ]
    },
    {
     "name": "stderr",
     "output_type": "stream",
     "text": [
      "/net/levsha/share/sameer/github/mirnylab-experimental/sameer/pileups/cooltools_pileups.py:82: RuntimeWarning: invalid value encountered in true_divide\n",
      "  coarse_expected = log_scaling[1:]/log_count[1:]\n"
     ]
    },
    {
     "name": "stdout",
     "output_type": "stream",
     "text": [
      "('chr2', 93139351, 242193529) ('chr2', 93139351, 242193529)\n",
      "('chr20', 0, 28237290) ('chr20', 0, 28237290)\n",
      "('chr20', 28237290, 64444167) ('chr20', 28237290, 64444167)\n",
      "('chr21', 11890184, 46709983) ('chr21', 11890184, 46709983)\n",
      "('chr22', 14004553, 50818468) ('chr22', 14004553, 50818468)\n"
     ]
    },
    {
     "name": "stderr",
     "output_type": "stream",
     "text": [
      "/net/levsha/share/sameer/github/mirnylab-experimental/sameer/pileups/cooltools_pileups.py:82: RuntimeWarning: invalid value encountered in true_divide\n",
      "  coarse_expected = log_scaling[1:]/log_count[1:]\n"
     ]
    },
    {
     "name": "stdout",
     "output_type": "stream",
     "text": [
      "('chr3', 0, 92214016) ('chr3', 0, 92214016)\n",
      "('chr3', 92214016, 198295559) ('chr3', 92214016, 198295559)\n",
      "('chr4', 0, 50728006) ('chr4', 0, 50728006)\n",
      "('chr4', 50728006, 190214555) ('chr4', 50728006, 190214555)\n",
      "('chr5', 0, 48272853) ('chr5', 0, 48272853)\n",
      "('chr5', 48272853, 181538259) ('chr5', 48272853, 181538259)\n",
      "('chr6', 0, 59191911) ('chr6', 0, 59191911)\n",
      "('chr6', 59191911, 170805979) ('chr6', 59191911, 170805979)\n",
      "('chr7', 0, 59848836) ('chr7', 0, 59848836)\n",
      "('chr7', 59848836, 159345973) ('chr7', 59848836, 159345973)\n",
      "('chr8', 0, 44955504) ('chr8', 0, 44955504)\n",
      "('chr8', 44955504, 145138636) ('chr8', 44955504, 145138636)\n",
      "('chr9', 0, 44454096) ('chr9', 0, 44454096)\n",
      "('chr9', 44454096, 138394717) ('chr9', 44454096, 138394717)\n",
      "('chrX', 0, 60509060) ('chrX', 0, 60509060)\n",
      "('chrX', 60509060, 156040895) ('chrX', 60509060, 156040895)\n"
     ]
    },
    {
     "name": "stderr",
     "output_type": "stream",
     "text": [
      "/net/levsha/share/sameer/github/mirnylab-experimental/sameer/pileups/cooltools_pileups.py:82: RuntimeWarning: invalid value encountered in true_divide\n",
      "  coarse_expected = log_scaling[1:]/log_count[1:]\n"
     ]
    },
    {
     "name": "stdout",
     "output_type": "stream",
     "text": [
      "Saved to: pileups/dots/upset_plot/double_digest/double-digest__MNase/U54-HFFc6-DSG-DdeI-DpnII-20190711-R1-R3_hg38.5000.npy\n",
      "\n",
      "\n",
      "\n",
      "\n",
      "MNase \n",
      "\n",
      "\t U54-HFFc6-DSG-DdeI-R1-R2_hg38\n",
      "('chr1', 0, 123479591) ('chr1', 0, 123479591)\n",
      "('chr11', 0, 52751711) ('chr11', 0, 52751711)\n",
      "('chr10', 0, 40640101) ('chr10', 0, 40640101)\n",
      "('chr10', 40640101, 133797422) ('chr10', 40640101, 133797422)\n",
      "('chr1', 123479591, 248956422) ('chr1', 123479591, 248956422)\n",
      "('chr11', 52751711, 135086622) ('chr11', 52751711, 135086622)\n",
      "('chr12', 0, 35977329) ('chr12', 0, 35977329)\n",
      "('chr12', 35977329, 133275309) ('chr12', 35977329, 133275309)\n",
      "('chr13', 17025624, 114364328) ('chr13', 17025624, 114364328)\n",
      "('chr14', 17086761, 107043718) ('chr14', 17086761, 107043718)\n",
      "('chr15', 18404463, 101991189) ('chr15', 18404463, 101991189)\n",
      "('chr16', 0, 37288413) ('chr16', 0, 37288413)\n",
      "('chr16', 37288413, 90338345) ('chr16', 37288413, 90338345)\n",
      "('chr17', 0, 24714921) ('chr17', 0, 24714921)\n",
      "('chr17', 24714921, 83257441) ('chr17', 24714921, 83257441)\n",
      "('chr18', 0, 18161052) ('chr18', 0, 18161052)\n",
      "('chr18', 18161052, 80373285) ('chr18', 18161052, 80373285)\n",
      "('chr19', 0, 25844927) ('chr19', 0, 25844927)\n",
      "('chr19', 25844927, 58617616) ('chr19', 25844927, 58617616)\n",
      "('chr2', 0, 93139351) ('chr2', 0, 93139351)\n"
     ]
    },
    {
     "name": "stderr",
     "output_type": "stream",
     "text": [
      "/net/levsha/share/sameer/github/mirnylab-experimental/sameer/pileups/cooltools_pileups.py:82: RuntimeWarning: invalid value encountered in true_divide\n",
      "  coarse_expected = log_scaling[1:]/log_count[1:]\n"
     ]
    },
    {
     "name": "stdout",
     "output_type": "stream",
     "text": [
      "('chr2', 93139351, 242193529) ('chr2', 93139351, 242193529)\n",
      "('chr20', 0, 28237290) ('chr20', 0, 28237290)\n",
      "('chr20', 28237290, 64444167) ('chr20', 28237290, 64444167)\n"
     ]
    },
    {
     "name": "stderr",
     "output_type": "stream",
     "text": [
      "/net/levsha/share/sameer/github/mirnylab-experimental/sameer/pileups/cooltools_pileups.py:82: RuntimeWarning: invalid value encountered in true_divide\n",
      "  coarse_expected = log_scaling[1:]/log_count[1:]\n"
     ]
    },
    {
     "name": "stdout",
     "output_type": "stream",
     "text": [
      "('chr21', 11890184, 46709983) ('chr21', 11890184, 46709983)\n",
      "('chr22', 14004553, 50818468) ('chr22', 14004553, 50818468)\n",
      "('chr3', 0, 92214016) ('chr3', 0, 92214016)\n",
      "('chr3', 92214016, 198295559) ('chr3', 92214016, 198295559)\n",
      "('chr4', 0, 50728006) ('chr4', 0, 50728006)\n",
      "('chr4', 50728006, 190214555) ('chr4', 50728006, 190214555)\n",
      "('chr5', 0, 48272853) ('chr5', 0, 48272853)\n",
      "('chr5', 48272853, 181538259) ('chr5', 48272853, 181538259)\n",
      "('chr6', 0, 59191911) ('chr6', 0, 59191911)\n",
      "('chr6', 59191911, 170805979) ('chr6', 59191911, 170805979)\n",
      "('chr7', 0, 59848836) ('chr7', 0, 59848836)\n",
      "('chr7', 59848836, 159345973) ('chr7', 59848836, 159345973)\n",
      "('chr8', 0, 44955504) ('chr8', 0, 44955504)\n",
      "('chr8', 44955504, 145138636) ('chr8', 44955504, 145138636)\n",
      "('chr9', 0, 44454096) ('chr9', 0, 44454096)\n",
      "('chr9', 44454096, 138394717) ('chr9', 44454096, 138394717)\n",
      "('chrX', 0, 60509060) ('chrX', 0, 60509060)\n",
      "('chrX', 60509060, 156040895) ('chrX', 60509060, 156040895)\n"
     ]
    },
    {
     "name": "stderr",
     "output_type": "stream",
     "text": [
      "/net/levsha/share/sameer/github/mirnylab-experimental/sameer/pileups/cooltools_pileups.py:82: RuntimeWarning: invalid value encountered in true_divide\n",
      "  coarse_expected = log_scaling[1:]/log_count[1:]\n"
     ]
    },
    {
     "name": "stdout",
     "output_type": "stream",
     "text": [
      "Saved to: pileups/dots/upset_plot/double_digest/MNase/U54-HFFc6-DSG-DdeI-R1-R2_hg38.5000.npy\n",
      "\n",
      "\t U54-HFFc6-DSG-DpnII-R1-R2_hg38\n",
      "('chr1', 0, 123479591) ('chr1', 0, 123479591)\n",
      "('chr1', 123479591, 248956422) ('chr1', 123479591, 248956422)\n",
      "('chr10', 0, 40640101) ('chr10', 0, 40640101)\n",
      "('chr10', 40640101, 133797422) ('chr10', 40640101, 133797422)\n",
      "('chr11', 0, 52751711) ('chr11', 0, 52751711)\n",
      "('chr11', 52751711, 135086622) ('chr11', 52751711, 135086622)\n",
      "('chr12', 0, 35977329) ('chr12', 0, 35977329)\n",
      "('chr12', 35977329, 133275309) ('chr12', 35977329, 133275309)\n",
      "('chr13', 17025624, 114364328) ('chr13', 17025624, 114364328)\n",
      "('chr14', 17086761, 107043718) ('chr14', 17086761, 107043718)\n",
      "('chr15', 18404463, 101991189) ('chr15', 18404463, 101991189)\n",
      "('chr16', 0, 37288413) ('chr16', 0, 37288413)\n",
      "('chr16', 37288413, 90338345) ('chr16', 37288413, 90338345)\n",
      "('chr17', 0, 24714921) ('chr17', 0, 24714921)\n",
      "('chr17', 24714921, 83257441) ('chr17', 24714921, 83257441)\n",
      "('chr18', 0, 18161052) ('chr18', 0, 18161052)\n",
      "('chr18', 18161052, 80373285) ('chr18', 18161052, 80373285)\n",
      "('chr19', 25844927, 58617616) ('chr19', 25844927, 58617616)\n",
      "('chr19', 0, 25844927) ('chr19', 0, 25844927)\n",
      "('chr2', 0, 93139351) ('chr2', 0, 93139351)\n"
     ]
    },
    {
     "name": "stderr",
     "output_type": "stream",
     "text": [
      "/net/levsha/share/sameer/github/mirnylab-experimental/sameer/pileups/cooltools_pileups.py:82: RuntimeWarning: invalid value encountered in true_divide\n",
      "  coarse_expected = log_scaling[1:]/log_count[1:]\n"
     ]
    },
    {
     "name": "stdout",
     "output_type": "stream",
     "text": [
      "('chr2', 93139351, 242193529) ('chr2', 93139351, 242193529)\n",
      "('chr20', 0, 28237290) ('chr20', 0, 28237290)\n",
      "('chr20', 28237290, 64444167) ('chr20', 28237290, 64444167)\n",
      "('chr21', 11890184, 46709983) ('chr21', 11890184, 46709983)\n",
      "('chr22', 14004553, 50818468) ('chr22', 14004553, 50818468)\n"
     ]
    },
    {
     "name": "stderr",
     "output_type": "stream",
     "text": [
      "/net/levsha/share/sameer/github/mirnylab-experimental/sameer/pileups/cooltools_pileups.py:82: RuntimeWarning: invalid value encountered in true_divide\n",
      "  coarse_expected = log_scaling[1:]/log_count[1:]\n"
     ]
    },
    {
     "name": "stdout",
     "output_type": "stream",
     "text": [
      "('chr3', 0, 92214016) ('chr3', 0, 92214016)\n",
      "('chr3', 92214016, 198295559) ('chr3', 92214016, 198295559)\n",
      "('chr4', 0, 50728006) ('chr4', 0, 50728006)\n",
      "('chr4', 50728006, 190214555) ('chr4', 50728006, 190214555)\n",
      "('chr5', 0, 48272853) ('chr5', 0, 48272853)\n",
      "('chr5', 48272853, 181538259) ('chr5', 48272853, 181538259)\n",
      "('chr6', 0, 59191911) ('chr6', 0, 59191911)\n",
      "('chr6', 59191911, 170805979) ('chr6', 59191911, 170805979)\n",
      "('chr7', 0, 59848836) ('chr7', 0, 59848836)\n",
      "('chr7', 59848836, 159345973) ('chr7', 59848836, 159345973)\n",
      "('chr8', 0, 44955504) ('chr8', 0, 44955504)\n",
      "('chr8', 44955504, 145138636) ('chr8', 44955504, 145138636)\n",
      "('chr9', 0, 44454096) ('chr9', 0, 44454096)\n",
      "('chr9', 44454096, 138394717) ('chr9', 44454096, 138394717)\n",
      "('chrX', 0, 60509060) ('chrX', 0, 60509060)\n",
      "('chrX', 60509060, 156040895) ('chrX', 60509060, 156040895)\n"
     ]
    },
    {
     "name": "stderr",
     "output_type": "stream",
     "text": [
      "/net/levsha/share/sameer/github/mirnylab-experimental/sameer/pileups/cooltools_pileups.py:82: RuntimeWarning: invalid value encountered in true_divide\n",
      "  coarse_expected = log_scaling[1:]/log_count[1:]\n"
     ]
    },
    {
     "name": "stdout",
     "output_type": "stream",
     "text": [
      "Saved to: pileups/dots/upset_plot/double_digest/MNase/U54-HFFc6-DSG-DpnII-R1-R2_hg38.5000.npy\n",
      "\n",
      "\t U54-HFFc6-FA-DSG-MNase-R1-R3_hg38\n",
      "('chr1', 0, 123479591) ('chr1', 0, 123479591)\n",
      "('chr1', 123479591, 248956422) ('chr1', 123479591, 248956422)\n",
      "('chr10', 0, 40640101) ('chr10', 0, 40640101)\n",
      "('chr10', 40640101, 133797422) ('chr10', 40640101, 133797422)\n",
      "('chr11', 0, 52751711) ('chr11', 0, 52751711)\n",
      "('chr11', 52751711, 135086622) ('chr11', 52751711, 135086622)\n",
      "('chr12', 0, 35977329) ('chr12', 0, 35977329)\n",
      "('chr12', 35977329, 133275309) ('chr12', 35977329, 133275309)\n",
      "('chr13', 17025624, 114364328) ('chr13', 17025624, 114364328)\n",
      "('chr14', 17086761, 107043718) ('chr14', 17086761, 107043718)\n",
      "('chr15', 18404463, 101991189) ('chr15', 18404463, 101991189)\n",
      "('chr16', 0, 37288413) ('chr16', 0, 37288413)\n",
      "('chr16', 37288413, 90338345) ('chr16', 37288413, 90338345)\n",
      "('chr17', 0, 24714921) ('chr17', 0, 24714921)\n",
      "('chr17', 24714921, 83257441) ('chr17', 24714921, 83257441)\n",
      "('chr18', 0, 18161052) ('chr18', 0, 18161052)\n",
      "('chr18', 18161052, 80373285) ('chr18', 18161052, 80373285)\n",
      "('chr19', 0, 25844927) ('chr19', 0, 25844927)\n",
      "('chr19', 25844927, 58617616) ('chr19', 25844927, 58617616)\n",
      "('chr2', 0, 93139351) ('chr2', 0, 93139351)\n"
     ]
    },
    {
     "name": "stderr",
     "output_type": "stream",
     "text": [
      "/net/levsha/share/sameer/github/mirnylab-experimental/sameer/pileups/cooltools_pileups.py:84: RuntimeWarning: divide by zero encountered in log10\n",
      "  f = interp1d(np.log10(bin_mids), np.log10(coarse_expected), kind='linear')\n",
      "/net/levsha/share/sameer/github/mirnylab-experimental/sameer/pileups/cooltools_pileups.py:89: RuntimeWarning: invalid value encountered in double_scalars\n",
      "  yremaining = y[-1] + ((y[-1]-y[-2])/(x[-1]-x[-2]))*(xremaining - x[-1])\n",
      "/net/levsha/share/sameer/github/mirnylab-experimental/sameer/pileups/cooltools_pileups.py:105: RuntimeWarning: divide by zero encountered in true_divide\n",
      "  matrix.data = data/fine_expected[diff]\n",
      "/net/levsha/share/sameer/github/mirnylab-experimental/sameer/pileups/cooltools_pileups.py:105: RuntimeWarning: invalid value encountered in true_divide\n",
      "  matrix.data = data/fine_expected[diff]\n"
     ]
    },
    {
     "name": "stdout",
     "output_type": "stream",
     "text": [
      "('chr2', 93139351, 242193529) ('chr2', 93139351, 242193529)\n",
      "('chr20', 0, 28237290) ('chr20', 0, 28237290)\n",
      "('chr20', 28237290, 64444167) ('chr20', 28237290, 64444167)\n"
     ]
    },
    {
     "name": "stderr",
     "output_type": "stream",
     "text": [
      "/net/levsha/share/sameer/github/mirnylab-experimental/sameer/pileups/cooltools_pileups.py:82: RuntimeWarning: invalid value encountered in true_divide\n",
      "  coarse_expected = log_scaling[1:]/log_count[1:]\n"
     ]
    },
    {
     "name": "stdout",
     "output_type": "stream",
     "text": [
      "('chr21', 11890184, 46709983) ('chr21', 11890184, 46709983)\n",
      "('chr22', 14004553, 50818468) ('chr22', 14004553, 50818468)\n",
      "('chr3', 0, 92214016) ('chr3', 0, 92214016)\n",
      "('chr3', 92214016, 198295559) ('chr3', 92214016, 198295559)\n",
      "('chr4', 0, 50728006) ('chr4', 0, 50728006)\n",
      "('chr4', 50728006, 190214555) ('chr4', 50728006, 190214555)\n",
      "('chr5', 0, 48272853) ('chr5', 0, 48272853)\n",
      "('chr5', 48272853, 181538259) ('chr5', 48272853, 181538259)\n",
      "('chr6', 0, 59191911) ('chr6', 0, 59191911)\n",
      "('chr6', 59191911, 170805979) ('chr6', 59191911, 170805979)\n",
      "('chr7', 0, 59848836) ('chr7', 0, 59848836)\n",
      "('chr7', 59848836, 159345973) ('chr7', 59848836, 159345973)\n",
      "('chr8', 0, 44955504) ('chr8', 0, 44955504)\n",
      "('chr8', 44955504, 145138636) ('chr8', 44955504, 145138636)\n",
      "('chr9', 0, 44454096) ('chr9', 0, 44454096)\n",
      "('chr9', 44454096, 138394717) ('chr9', 44454096, 138394717)\n",
      "('chrX', 0, 60509060) ('chrX', 0, 60509060)\n",
      "('chrX', 60509060, 156040895) ('chrX', 60509060, 156040895)\n"
     ]
    },
    {
     "name": "stderr",
     "output_type": "stream",
     "text": [
      "/net/levsha/share/sameer/github/mirnylab-experimental/sameer/pileups/cooltools_pileups.py:82: RuntimeWarning: invalid value encountered in true_divide\n",
      "  coarse_expected = log_scaling[1:]/log_count[1:]\n"
     ]
    },
    {
     "name": "stdout",
     "output_type": "stream",
     "text": [
      "Saved to: pileups/dots/upset_plot/double_digest/MNase/U54-HFFc6-FA-DSG-MNase-R1-R3_hg38.5000.npy\n",
      "\n",
      "\t U54-HFFc6-DSG-DdeI-DpnII-20190711-R1-R3_hg38\n",
      "('chr1', 0, 123479591) ('chr1', 0, 123479591)\n",
      "('chr12', 0, 35977329) ('chr12', 0, 35977329)\n",
      "('chr1', 123479591, 248956422) ('chr1', 123479591, 248956422)\n",
      "('chr10', 40640101, 133797422) ('chr10', 40640101, 133797422)\n",
      "('chr10', 0, 40640101) ('chr10', 0, 40640101)\n",
      "('chr11', 0, 52751711) ('chr11', 0, 52751711)\n",
      "('chr11', 52751711, 135086622) ('chr11', 52751711, 135086622)\n",
      "('chr12', 35977329, 133275309) ('chr12', 35977329, 133275309)\n",
      "('chr13', 17025624, 114364328) ('chr13', 17025624, 114364328)\n",
      "('chr14', 17086761, 107043718) ('chr14', 17086761, 107043718)\n",
      "('chr15', 18404463, 101991189) ('chr15', 18404463, 101991189)\n",
      "('chr16', 0, 37288413) ('chr16', 0, 37288413)\n",
      "('chr16', 37288413, 90338345) ('chr16', 37288413, 90338345)\n",
      "('chr17', 0, 24714921) ('chr17', 0, 24714921)\n",
      "('chr17', 24714921, 83257441) ('chr17', 24714921, 83257441)\n",
      "('chr18', 0, 18161052) ('chr18', 0, 18161052)\n",
      "('chr18', 18161052, 80373285) ('chr18', 18161052, 80373285)\n",
      "('chr19', 0, 25844927) ('chr19', 0, 25844927)\n",
      "('chr2', 0, 93139351) ('chr2', 0, 93139351)\n",
      "('chr19', 25844927, 58617616) ('chr19', 25844927, 58617616)\n"
     ]
    },
    {
     "name": "stderr",
     "output_type": "stream",
     "text": [
      "/net/levsha/share/sameer/github/mirnylab-experimental/sameer/pileups/cooltools_pileups.py:82: RuntimeWarning: invalid value encountered in true_divide\n",
      "  coarse_expected = log_scaling[1:]/log_count[1:]\n"
     ]
    },
    {
     "name": "stdout",
     "output_type": "stream",
     "text": [
      "('chr2', 93139351, 242193529) ('chr2', 93139351, 242193529)\n",
      "('chr20', 0, 28237290) ('chr20', 0, 28237290)\n",
      "('chr20', 28237290, 64444167) ('chr20', 28237290, 64444167)\n",
      "('chr21', 11890184, 46709983) ('chr21', 11890184, 46709983)\n",
      "('chr22', 14004553, 50818468) ('chr22', 14004553, 50818468)\n",
      "('chr3', 0, 92214016) ('chr3', 0, 92214016)\n",
      "('chr3', 92214016, 198295559) ('chr3', 92214016, 198295559)\n"
     ]
    },
    {
     "name": "stderr",
     "output_type": "stream",
     "text": [
      "/net/levsha/share/sameer/github/mirnylab-experimental/sameer/pileups/cooltools_pileups.py:82: RuntimeWarning: invalid value encountered in true_divide\n",
      "  coarse_expected = log_scaling[1:]/log_count[1:]\n"
     ]
    },
    {
     "name": "stdout",
     "output_type": "stream",
     "text": [
      "('chr4', 0, 50728006) ('chr4', 0, 50728006)\n",
      "('chr4', 50728006, 190214555) ('chr4', 50728006, 190214555)\n",
      "('chr5', 0, 48272853) ('chr5', 0, 48272853)\n",
      "('chr5', 48272853, 181538259) ('chr5', 48272853, 181538259)\n",
      "('chr6', 0, 59191911) ('chr6', 0, 59191911)\n",
      "('chr6', 59191911, 170805979) ('chr6', 59191911, 170805979)\n",
      "('chr7', 0, 59848836) ('chr7', 0, 59848836)\n",
      "('chr7', 59848836, 159345973) ('chr7', 59848836, 159345973)\n",
      "('chr8', 0, 44955504) ('chr8', 0, 44955504)\n",
      "('chr8', 44955504, 145138636) ('chr8', 44955504, 145138636)\n",
      "('chr9', 0, 44454096) ('chr9', 0, 44454096)\n",
      "('chr9', 44454096, 138394717) ('chr9', 44454096, 138394717)\n",
      "('chrX', 0, 60509060) ('chrX', 0, 60509060)\n",
      "('chrX', 60509060, 156040895) ('chrX', 60509060, 156040895)\n"
     ]
    },
    {
     "name": "stderr",
     "output_type": "stream",
     "text": [
      "/net/levsha/share/sameer/github/mirnylab-experimental/sameer/pileups/cooltools_pileups.py:82: RuntimeWarning: invalid value encountered in true_divide\n",
      "  coarse_expected = log_scaling[1:]/log_count[1:]\n"
     ]
    },
    {
     "name": "stdout",
     "output_type": "stream",
     "text": [
      "Saved to: pileups/dots/upset_plot/double_digest/MNase/U54-HFFc6-DSG-DdeI-DpnII-20190711-R1-R3_hg38.5000.npy\n",
      "\n",
      "\n",
      "\n",
      "\n",
      "DdeI-union-DpnII__double-digest__MNase \n",
      "\n",
      "\t U54-HFFc6-DSG-DdeI-R1-R2_hg38\n",
      "('chr1', 0, 123479591) ('chr1', 0, 123479591)\n",
      "('chr1', 123479591, 248956422) ('chr1', 123479591, 248956422)\n",
      "('chr10', 0, 40640101) ('chr10', 0, 40640101)\n",
      "('chr11', 0, 52751711) ('chr11', 0, 52751711)\n",
      "('chr10', 40640101, 133797422) ('chr10', 40640101, 133797422)\n",
      "('chr11', 52751711, 135086622) ('chr11', 52751711, 135086622)\n",
      "('chr12', 0, 35977329) ('chr12', 0, 35977329)\n",
      "('chr12', 35977329, 133275309) ('chr12', 35977329, 133275309)\n",
      "('chr13', 17025624, 114364328) ('chr13', 17025624, 114364328)\n",
      "('chr14', 17086761, 107043718) ('chr14', 17086761, 107043718)\n",
      "('chr16', 0, 37288413) ('chr16', 0, 37288413)\n",
      "('chr15', 18404463, 101991189) ('chr15', 18404463, 101991189)\n",
      "('chr16', 37288413, 90338345) ('chr16', 37288413, 90338345)\n",
      "('chr17', 0, 24714921) ('chr17', 0, 24714921)\n",
      "('chr17', 24714921, 83257441) ('chr17', 24714921, 83257441)\n",
      "('chr18', 0, 18161052) ('chr18', 0, 18161052)\n",
      "('chr18', 18161052, 80373285) ('chr18', 18161052, 80373285)\n",
      "('chr19', 0, 25844927) ('chr19', 0, 25844927)\n",
      "('chr19', 25844927, 58617616) ('chr19', 25844927, 58617616)\n",
      "('chr2', 0, 93139351) ('chr2', 0, 93139351)\n"
     ]
    },
    {
     "name": "stderr",
     "output_type": "stream",
     "text": [
      "/net/levsha/share/sameer/github/mirnylab-experimental/sameer/pileups/cooltools_pileups.py:82: RuntimeWarning: invalid value encountered in true_divide\n",
      "  coarse_expected = log_scaling[1:]/log_count[1:]\n"
     ]
    },
    {
     "name": "stdout",
     "output_type": "stream",
     "text": [
      "('chr2', 93139351, 242193529) ('chr2', 93139351, 242193529)\n",
      "('chr20', 0, 28237290) ('chr20', 0, 28237290)\n",
      "('chr20', 28237290, 64444167) ('chr20', 28237290, 64444167)\n"
     ]
    },
    {
     "name": "stderr",
     "output_type": "stream",
     "text": [
      "/net/levsha/share/sameer/github/mirnylab-experimental/sameer/pileups/cooltools_pileups.py:82: RuntimeWarning: invalid value encountered in true_divide\n",
      "  coarse_expected = log_scaling[1:]/log_count[1:]\n"
     ]
    },
    {
     "name": "stdout",
     "output_type": "stream",
     "text": [
      "('chr21', 11890184, 46709983) ('chr21', 11890184, 46709983)\n",
      "('chr22', 14004553, 50818468) ('chr22', 14004553, 50818468)\n",
      "('chr3', 0, 92214016) ('chr3', 0, 92214016)\n",
      "('chr3', 92214016, 198295559) ('chr3', 92214016, 198295559)\n",
      "('chr4', 0, 50728006) ('chr4', 0, 50728006)\n",
      "('chr4', 50728006, 190214555) ('chr4', 50728006, 190214555)\n",
      "('chr5', 0, 48272853) ('chr5', 0, 48272853)\n",
      "('chr5', 48272853, 181538259) ('chr5', 48272853, 181538259)\n",
      "('chr6', 0, 59191911) ('chr6', 0, 59191911)\n",
      "('chr6', 59191911, 170805979) ('chr6', 59191911, 170805979)\n",
      "('chr7', 0, 59848836) ('chr7', 0, 59848836)\n",
      "('chr7', 59848836, 159345973) ('chr7', 59848836, 159345973)\n",
      "('chr8', 0, 44955504) ('chr8', 0, 44955504)\n",
      "('chr8', 44955504, 145138636) ('chr8', 44955504, 145138636)\n",
      "('chr9', 0, 44454096) ('chr9', 0, 44454096)\n",
      "('chr9', 44454096, 138394717) ('chr9', 44454096, 138394717)\n",
      "('chrX', 0, 60509060) ('chrX', 0, 60509060)\n",
      "('chrX', 60509060, 156040895) ('chrX', 60509060, 156040895)\n"
     ]
    },
    {
     "name": "stderr",
     "output_type": "stream",
     "text": [
      "/net/levsha/share/sameer/github/mirnylab-experimental/sameer/pileups/cooltools_pileups.py:82: RuntimeWarning: invalid value encountered in true_divide\n",
      "  coarse_expected = log_scaling[1:]/log_count[1:]\n"
     ]
    },
    {
     "name": "stdout",
     "output_type": "stream",
     "text": [
      "Saved to: pileups/dots/upset_plot/double_digest/DdeI-union-DpnII__double-digest__MNase/U54-HFFc6-DSG-DdeI-R1-R2_hg38.5000.npy\n",
      "\n",
      "\t U54-HFFc6-DSG-DpnII-R1-R2_hg38\n",
      "('chr1', 0, 123479591) ('chr1', 0, 123479591)\n",
      "('chr1', 123479591, 248956422) ('chr1', 123479591, 248956422)\n",
      "('chr10', 0, 40640101) ('chr10', 0, 40640101)\n",
      "('chr10', 40640101, 133797422) ('chr10', 40640101, 133797422)\n",
      "('chr11', 0, 52751711) ('chr11', 0, 52751711)\n",
      "('chr11', 52751711, 135086622) ('chr11', 52751711, 135086622)\n",
      "('chr12', 0, 35977329) ('chr12', 0, 35977329)\n",
      "('chr12', 35977329, 133275309) ('chr12', 35977329, 133275309)\n",
      "('chr13', 17025624, 114364328) ('chr13', 17025624, 114364328)\n",
      "('chr14', 17086761, 107043718) ('chr14', 17086761, 107043718)\n",
      "('chr15', 18404463, 101991189) ('chr15', 18404463, 101991189)\n",
      "('chr16', 0, 37288413) ('chr16', 0, 37288413)\n",
      "('chr16', 37288413, 90338345) ('chr16', 37288413, 90338345)\n",
      "('chr17', 0, 24714921) ('chr17', 0, 24714921)\n",
      "('chr17', 24714921, 83257441) ('chr17', 24714921, 83257441)\n",
      "('chr18', 0, 18161052) ('chr18', 0, 18161052)\n",
      "('chr18', 18161052, 80373285) ('chr18', 18161052, 80373285)\n",
      "('chr19', 0, 25844927) ('chr19', 0, 25844927)\n",
      "('chr19', 25844927, 58617616) ('chr19', 25844927, 58617616)\n",
      "('chr2', 0, 93139351) ('chr2', 0, 93139351)\n"
     ]
    },
    {
     "name": "stderr",
     "output_type": "stream",
     "text": [
      "/net/levsha/share/sameer/github/mirnylab-experimental/sameer/pileups/cooltools_pileups.py:82: RuntimeWarning: invalid value encountered in true_divide\n",
      "  coarse_expected = log_scaling[1:]/log_count[1:]\n"
     ]
    },
    {
     "name": "stdout",
     "output_type": "stream",
     "text": [
      "('chr2', 93139351, 242193529) ('chr2', 93139351, 242193529)\n",
      "('chr20', 0, 28237290) ('chr20', 0, 28237290)\n",
      "('chr20', 28237290, 64444167) ('chr20', 28237290, 64444167)\n"
     ]
    },
    {
     "name": "stderr",
     "output_type": "stream",
     "text": [
      "/net/levsha/share/sameer/github/mirnylab-experimental/sameer/pileups/cooltools_pileups.py:82: RuntimeWarning: invalid value encountered in true_divide\n",
      "  coarse_expected = log_scaling[1:]/log_count[1:]\n"
     ]
    },
    {
     "name": "stdout",
     "output_type": "stream",
     "text": [
      "('chr21', 11890184, 46709983) ('chr21', 11890184, 46709983)\n",
      "('chr22', 14004553, 50818468) ('chr22', 14004553, 50818468)\n",
      "('chr3', 0, 92214016) ('chr3', 0, 92214016)\n",
      "('chr3', 92214016, 198295559) ('chr3', 92214016, 198295559)\n",
      "('chr4', 0, 50728006) ('chr4', 0, 50728006)\n",
      "('chr4', 50728006, 190214555) ('chr4', 50728006, 190214555)\n",
      "('chr5', 0, 48272853) ('chr5', 0, 48272853)\n",
      "('chr5', 48272853, 181538259) ('chr5', 48272853, 181538259)\n",
      "('chr6', 0, 59191911) ('chr6', 0, 59191911)\n",
      "('chr6', 59191911, 170805979) ('chr6', 59191911, 170805979)\n",
      "('chr7', 0, 59848836) ('chr7', 0, 59848836)\n",
      "('chr7', 59848836, 159345973) ('chr7', 59848836, 159345973)\n",
      "('chr8', 0, 44955504) ('chr8', 0, 44955504)\n",
      "('chr8', 44955504, 145138636) ('chr8', 44955504, 145138636)\n",
      "('chr9', 0, 44454096) ('chr9', 0, 44454096)\n",
      "('chr9', 44454096, 138394717) ('chr9', 44454096, 138394717)\n",
      "('chrX', 0, 60509060) ('chrX', 0, 60509060)\n",
      "('chrX', 60509060, 156040895) ('chrX', 60509060, 156040895)\n"
     ]
    },
    {
     "name": "stderr",
     "output_type": "stream",
     "text": [
      "/net/levsha/share/sameer/github/mirnylab-experimental/sameer/pileups/cooltools_pileups.py:82: RuntimeWarning: invalid value encountered in true_divide\n",
      "  coarse_expected = log_scaling[1:]/log_count[1:]\n"
     ]
    },
    {
     "name": "stdout",
     "output_type": "stream",
     "text": [
      "Saved to: pileups/dots/upset_plot/double_digest/DdeI-union-DpnII__double-digest__MNase/U54-HFFc6-DSG-DpnII-R1-R2_hg38.5000.npy\n",
      "\n",
      "\t U54-HFFc6-FA-DSG-MNase-R1-R3_hg38\n",
      "('chr1', 0, 123479591) ('chr1', 0, 123479591)\n",
      "('chr1', 123479591, 248956422) ('chr1', 123479591, 248956422)\n",
      "('chr10', 40640101, 133797422) ('chr10', 40640101, 133797422)\n",
      "('chr10', 0, 40640101) ('chr10', 0, 40640101)\n",
      "('chr11', 0, 52751711) ('chr11', 0, 52751711)\n",
      "('chr11', 52751711, 135086622) ('chr11', 52751711, 135086622)\n",
      "('chr12', 0, 35977329) ('chr12', 0, 35977329)\n",
      "('chr12', 35977329, 133275309) ('chr12', 35977329, 133275309)\n",
      "('chr13', 17025624, 114364328) ('chr13', 17025624, 114364328)\n",
      "('chr14', 17086761, 107043718) ('chr14', 17086761, 107043718)\n",
      "('chr16', 37288413, 90338345) ('chr16', 37288413, 90338345)\n",
      "('chr15', 18404463, 101991189) ('chr15', 18404463, 101991189)\n",
      "('chr16', 0, 37288413) ('chr16', 0, 37288413)\n",
      "('chr17', 0, 24714921) ('chr17', 0, 24714921)\n",
      "('chr17', 24714921, 83257441) ('chr17', 24714921, 83257441)\n",
      "('chr18', 0, 18161052) ('chr18', 0, 18161052)\n",
      "('chr18', 18161052, 80373285) ('chr18', 18161052, 80373285)\n",
      "('chr19', 0, 25844927) ('chr19', 0, 25844927)\n",
      "('chr19', 25844927, 58617616) ('chr19', 25844927, 58617616)\n",
      "('chr2', 0, 93139351) ('chr2', 0, 93139351)\n"
     ]
    },
    {
     "name": "stderr",
     "output_type": "stream",
     "text": [
      "/net/levsha/share/sameer/github/mirnylab-experimental/sameer/pileups/cooltools_pileups.py:84: RuntimeWarning: divide by zero encountered in log10\n",
      "  f = interp1d(np.log10(bin_mids), np.log10(coarse_expected), kind='linear')\n",
      "/net/levsha/share/sameer/github/mirnylab-experimental/sameer/pileups/cooltools_pileups.py:89: RuntimeWarning: invalid value encountered in double_scalars\n",
      "  yremaining = y[-1] + ((y[-1]-y[-2])/(x[-1]-x[-2]))*(xremaining - x[-1])\n",
      "/net/levsha/share/sameer/github/mirnylab-experimental/sameer/pileups/cooltools_pileups.py:105: RuntimeWarning: divide by zero encountered in true_divide\n",
      "  matrix.data = data/fine_expected[diff]\n",
      "/net/levsha/share/sameer/github/mirnylab-experimental/sameer/pileups/cooltools_pileups.py:105: RuntimeWarning: invalid value encountered in true_divide\n",
      "  matrix.data = data/fine_expected[diff]\n"
     ]
    },
    {
     "name": "stdout",
     "output_type": "stream",
     "text": [
      "('chr2', 93139351, 242193529) ('chr2', 93139351, 242193529)\n",
      "('chr20', 0, 28237290) ('chr20', 0, 28237290)\n",
      "('chr20', 28237290, 64444167) ('chr20', 28237290, 64444167)\n"
     ]
    },
    {
     "name": "stderr",
     "output_type": "stream",
     "text": [
      "/net/levsha/share/sameer/github/mirnylab-experimental/sameer/pileups/cooltools_pileups.py:82: RuntimeWarning: invalid value encountered in true_divide\n",
      "  coarse_expected = log_scaling[1:]/log_count[1:]\n"
     ]
    },
    {
     "name": "stdout",
     "output_type": "stream",
     "text": [
      "('chr21', 11890184, 46709983) ('chr21', 11890184, 46709983)\n",
      "('chr22', 14004553, 50818468) ('chr22', 14004553, 50818468)\n",
      "('chr3', 0, 92214016) ('chr3', 0, 92214016)\n",
      "('chr3', 92214016, 198295559) ('chr3', 92214016, 198295559)\n",
      "('chr4', 0, 50728006) ('chr4', 0, 50728006)\n",
      "('chr4', 50728006, 190214555) ('chr4', 50728006, 190214555)\n",
      "('chr5', 0, 48272853) ('chr5', 0, 48272853)\n",
      "('chr5', 48272853, 181538259) ('chr5', 48272853, 181538259)\n",
      "('chr6', 0, 59191911) ('chr6', 0, 59191911)\n",
      "('chr6', 59191911, 170805979) ('chr6', 59191911, 170805979)\n",
      "('chr7', 0, 59848836) ('chr7', 0, 59848836)\n",
      "('chr7', 59848836, 159345973) ('chr7', 59848836, 159345973)\n",
      "('chr8', 0, 44955504) ('chr8', 0, 44955504)\n",
      "('chr8', 44955504, 145138636) ('chr8', 44955504, 145138636)\n",
      "('chr9', 0, 44454096) ('chr9', 0, 44454096)\n",
      "('chr9', 44454096, 138394717) ('chr9', 44454096, 138394717)\n",
      "('chrX', 0, 60509060) ('chrX', 0, 60509060)\n",
      "('chrX', 60509060, 156040895) ('chrX', 60509060, 156040895)\n"
     ]
    },
    {
     "name": "stderr",
     "output_type": "stream",
     "text": [
      "/net/levsha/share/sameer/github/mirnylab-experimental/sameer/pileups/cooltools_pileups.py:82: RuntimeWarning: invalid value encountered in true_divide\n",
      "  coarse_expected = log_scaling[1:]/log_count[1:]\n"
     ]
    },
    {
     "name": "stdout",
     "output_type": "stream",
     "text": [
      "Saved to: pileups/dots/upset_plot/double_digest/DdeI-union-DpnII__double-digest__MNase/U54-HFFc6-FA-DSG-MNase-R1-R3_hg38.5000.npy\n",
      "\n",
      "\t U54-HFFc6-DSG-DdeI-DpnII-20190711-R1-R3_hg38\n",
      "('chr1', 0, 123479591) ('chr1', 0, 123479591)\n",
      "('chr1', 123479591, 248956422) ('chr1', 123479591, 248956422)\n",
      "('chr10', 40640101, 133797422) ('chr10', 40640101, 133797422)\n",
      "('chr10', 0, 40640101) ('chr10', 0, 40640101)\n",
      "('chr11', 0, 52751711) ('chr11', 0, 52751711)\n",
      "('chr11', 52751711, 135086622) ('chr11', 52751711, 135086622)\n",
      "('chr12', 0, 35977329) ('chr12', 0, 35977329)\n",
      "('chr12', 35977329, 133275309) ('chr12', 35977329, 133275309)\n",
      "('chr13', 17025624, 114364328) ('chr13', 17025624, 114364328)\n",
      "('chr14', 17086761, 107043718) ('chr14', 17086761, 107043718)\n",
      "('chr15', 18404463, 101991189) ('chr15', 18404463, 101991189)\n",
      "('chr16', 0, 37288413) ('chr16', 0, 37288413)\n",
      "('chr16', 37288413, 90338345) ('chr16', 37288413, 90338345)\n",
      "('chr17', 0, 24714921) ('chr17', 0, 24714921)\n",
      "('chr17', 24714921, 83257441) ('chr17', 24714921, 83257441)\n",
      "('chr18', 0, 18161052) ('chr18', 0, 18161052)\n",
      "('chr18', 18161052, 80373285) ('chr18', 18161052, 80373285)\n",
      "('chr19', 25844927, 58617616) ('chr19', 25844927, 58617616)\n",
      "('chr19', 0, 25844927) ('chr19', 0, 25844927)\n",
      "('chr2', 0, 93139351) ('chr2', 0, 93139351)\n"
     ]
    },
    {
     "name": "stderr",
     "output_type": "stream",
     "text": [
      "/net/levsha/share/sameer/github/mirnylab-experimental/sameer/pileups/cooltools_pileups.py:82: RuntimeWarning: invalid value encountered in true_divide\n",
      "  coarse_expected = log_scaling[1:]/log_count[1:]\n"
     ]
    },
    {
     "name": "stdout",
     "output_type": "stream",
     "text": [
      "('chr2', 93139351, 242193529) ('chr2', 93139351, 242193529)\n",
      "('chr20', 0, 28237290) ('chr20', 0, 28237290)\n",
      "('chr20', 28237290, 64444167) ('chr20', 28237290, 64444167)\n"
     ]
    },
    {
     "name": "stderr",
     "output_type": "stream",
     "text": [
      "/net/levsha/share/sameer/github/mirnylab-experimental/sameer/pileups/cooltools_pileups.py:82: RuntimeWarning: invalid value encountered in true_divide\n",
      "  coarse_expected = log_scaling[1:]/log_count[1:]\n"
     ]
    },
    {
     "name": "stdout",
     "output_type": "stream",
     "text": [
      "('chr21', 11890184, 46709983) ('chr21', 11890184, 46709983)\n",
      "('chr22', 14004553, 50818468) ('chr22', 14004553, 50818468)\n",
      "('chr3', 0, 92214016) ('chr3', 0, 92214016)\n",
      "('chr3', 92214016, 198295559) ('chr3', 92214016, 198295559)\n",
      "('chr4', 0, 50728006) ('chr4', 0, 50728006)\n",
      "('chr4', 50728006, 190214555) ('chr4', 50728006, 190214555)\n",
      "('chr5', 0, 48272853) ('chr5', 0, 48272853)\n",
      "('chr5', 48272853, 181538259) ('chr5', 48272853, 181538259)\n",
      "('chr6', 0, 59191911) ('chr6', 0, 59191911)\n",
      "('chr6', 59191911, 170805979) ('chr6', 59191911, 170805979)\n",
      "('chr7', 0, 59848836) ('chr7', 0, 59848836)\n",
      "('chr7', 59848836, 159345973) ('chr7', 59848836, 159345973)\n",
      "('chr8', 0, 44955504) ('chr8', 0, 44955504)\n",
      "('chr8', 44955504, 145138636) ('chr8', 44955504, 145138636)\n",
      "('chr9', 0, 44454096) ('chr9', 0, 44454096)\n",
      "('chr9', 44454096, 138394717) ('chr9', 44454096, 138394717)\n",
      "('chrX', 0, 60509060) ('chrX', 0, 60509060)\n",
      "('chrX', 60509060, 156040895) ('chrX', 60509060, 156040895)\n"
     ]
    },
    {
     "name": "stderr",
     "output_type": "stream",
     "text": [
      "/net/levsha/share/sameer/github/mirnylab-experimental/sameer/pileups/cooltools_pileups.py:82: RuntimeWarning: invalid value encountered in true_divide\n",
      "  coarse_expected = log_scaling[1:]/log_count[1:]\n"
     ]
    },
    {
     "name": "stdout",
     "output_type": "stream",
     "text": [
      "Saved to: pileups/dots/upset_plot/double_digest/DdeI-union-DpnII__double-digest__MNase/U54-HFFc6-DSG-DdeI-DpnII-20190711-R1-R3_hg38.5000.npy\n",
      "\n",
      "\n",
      "\n",
      "\n"
     ]
    }
   ],
   "source": [
    "imp.reload(mm)\n",
    "\n",
    "db = mm.Dataset()\n",
    "table = db.get_tables()\n",
    "\n",
    "for ct in ['double_digest', 'ESC','HFF']:\n",
    "    path = paths[ct]\n",
    "    \n",
    "    if ct == 'double_digest':\n",
    "        filt_dict = {'seq':'deep', 'celltype':'HFF','xlink':'DSG'}\n",
    "    else:\n",
    "        filt_dict = {'seq':'deep', 'celltype':ct}\n",
    "    df = mm.filter_data(table, filter_dict=filt_dict)\n",
    "    df = mm.get_coolers(df, res=res)\n",
    "    \n",
    "    for list_file in os.listdir(path):\n",
    "        list_name = list_file.split('.')[0]\n",
    "        print(list_name, '\\n')\n",
    "        dot_list = pd.read_csv(f'{path}{list_file}', sep='\\t', index_col=0).reset_index(drop=True)\n",
    "        l1 = dot_list[['chrom1','start1','end1']].rename(columns=lambda x: x[0:-1])\n",
    "        l1 = snipping.assign_regions(l1, arms)\n",
    "        l2 = dot_list[['chrom2','start2','end2']].rename(columns=lambda x: x[0:-1])\n",
    "        l2 = snipping.assign_regions(l2, arms)\n",
    "        dot_list = l1.merge(l2, left_index=True, right_index=True, suffixes=('1','2'))\n",
    "        dot_list = dot_list[dot_list['region1']==dot_list['region2']].reset_index(drop=True)\n",
    "        dot_list['pos1'] = (dot_list['start1'] + dot_list['end1'])//2\n",
    "        dot_list['pos2'] = (dot_list['start2'] + dot_list['end2'])//2\n",
    "       \n",
    "        binned_list1 = snipping.make_bin_aligned_windows(res, dot_list['chrom1'].values, \n",
    "                                               dot_list['pos1'].values, flank_bp=20*res)\n",
    "        binned_list2 = snipping.make_bin_aligned_windows(res, dot_list['chrom2'].values, \n",
    "                                               dot_list['pos2'].values, flank_bp=20*res)\n",
    "        binned_list1 = binned_list1.merge(binned_list2, left_index=True, right_index=True,\n",
    "                                          suffixes=('1','2'))\n",
    "        \n",
    "        features = snipping.assign_regions(binned_list1, arms)\n",
    "        assert np.all(features['region'].apply(lambda x: isinstance(x, str)))\n",
    "        \n",
    "        os.makedirs(f'pileups/dots/upset_plot/{ct}/{list_name}/', exist_ok=True)\n",
    "        features.to_csv(f'pileups/dots/upset_plot/{ct}/{list_name}/{list_name}.txt', sep='\\t', \n",
    "                        header=True, index=False)\n",
    "        \n",
    "        for i, row in df.iterrows():\n",
    "            name = row['lib_name']\n",
    "            print('\\t', name)\n",
    "            savename = f'{name}.{res}.npy'\n",
    "\n",
    "            cool = row[f'cooler_{res}']\n",
    "            snipper = cooltools_pileups.LocalObsExpSnipper(cool, cooler_opts={'balance':True})\n",
    "            with mp.Pool(20) as p:\n",
    "                pileup = snipping.pileup(features, snipper.select, snipper.snip, map=p.map)\n",
    "\n",
    "            np.save(f'pileups/dots/upset_plot/{ct}/{list_name}/{savename}', pileup)\n",
    "            print(f'Saved to: pileups/dots/upset_plot/{ct}/{list_name}/{savename}\\n')\n",
    "                  \n",
    "        print('\\n\\n')\n",
    "        \n",
    "    break"
   ]
  },
  {
   "cell_type": "code",
   "execution_count": 51,
   "metadata": {
    "ExecuteTime": {
     "end_time": "2020-03-23T02:24:20.767454Z",
     "start_time": "2020-03-23T02:24:20.750257Z"
    }
   },
   "outputs": [],
   "source": [
    "def parse_name(full_name):\n",
    "    names = full_name.split('__')\n",
    "    parsed_name = ''\n",
    "    for name in names:\n",
    "        if parsed_name != '':\n",
    "            parsed_name = parsed_name+'\\n'\n",
    "        \n",
    "        if 'MNase' in name:\n",
    "            parsed_name = parsed_name+'DSG-MNase'\n",
    "        elif 'FA-DpnII' in name:\n",
    "            parsed_name = parsed_name+'FA-DpnII'\n",
    "        elif 'DSG-DpnII' in name:\n",
    "            parsed_name = parsed_name+'DSG-DpnII'\n",
    "        elif 'DdeI-union-DpnII' in name:\n",
    "            parsed_name = parsed_name+'DdeI-union-DpnII'\n",
    "        elif 'double-digest' in name:\n",
    "            parsed_name = parsed_name+'double digest'\n",
    "    return parsed_name\n",
    "\n",
    "\n",
    "def bootstrap_score(all_snips, \n",
    "                    score_fn=lambda x:np.mean(x[19:22,19:22])/np.mean(x[28:39,28:39]), \n",
    "                    n=1000):\n",
    "    all_inds = np.arange(all_snips.shape[2])\n",
    "    scores = []\n",
    "    \n",
    "    def func(n):\n",
    "        if n % 1000 == 0:\n",
    "            print(n)\n",
    "            \n",
    "        inds = np.random.choice(all_inds, size = all_snips.shape[2], replace=True)\n",
    "        snips = all_snips[:,:,inds]\n",
    "        pileup = np.nanmean(snips, axis=2)\n",
    "        \n",
    "        score = score_fn(pileup)\n",
    "        \n",
    "        return score\n",
    "    \n",
    "    with mp.Pool(10) as p:\n",
    "        scores = list(p.map(func, np.arange(n)))\n",
    "        \n",
    "    return np.asarray(scores)"
   ]
  },
  {
   "cell_type": "code",
   "execution_count": 53,
   "metadata": {
    "ExecuteTime": {
     "end_time": "2020-03-23T03:50:20.074527Z",
     "start_time": "2020-03-23T02:30:21.859937Z"
    },
    "scrolled": true
   },
   "outputs": [
    {
     "name": "stdout",
     "output_type": "stream",
     "text": [
      "DdeI-union-DpnII \n",
      "\n",
      "0\n",
      "1000\n",
      "2000\n",
      "3000\n",
      "4000\n",
      "0\n",
      "1000\n",
      "2000\n",
      "3000\n",
      "4000\n",
      "0\n",
      "1000\n",
      "2000\n",
      "3000\n",
      "4000\n",
      "0\n",
      "1000\n",
      "2000\n",
      "3000\n",
      "4000\n",
      "double digest \n",
      "\n",
      "0\n",
      "1000\n",
      "2000\n",
      "3000\n",
      "4000\n",
      "0\n",
      "1000\n",
      "2000\n",
      "3000\n",
      "4000\n",
      "0\n",
      "1000\n",
      "2000\n",
      "3000\n",
      "4000\n",
      "0\n",
      "1000\n",
      "2000\n",
      "3000\n",
      "4000\n",
      "DSG-MNase \n",
      "\n",
      "0\n",
      "1000\n",
      "2000\n",
      "3000\n",
      "4000\n",
      "0\n",
      "1000\n",
      "2000\n",
      "3000\n",
      "4000\n",
      "0\n",
      "1000\n",
      "2000\n",
      "3000\n",
      "4000\n",
      "0\n",
      "1000\n",
      "2000\n",
      "3000\n",
      "4000\n",
      "DdeI-union-DpnII\n",
      "double digest \n",
      "\n",
      "0\n",
      "1000\n",
      "2000\n",
      "3000\n",
      "4000\n",
      "0\n",
      "1000\n",
      "2000\n",
      "3000\n",
      "4000\n",
      "0\n",
      "1000\n",
      "2000\n",
      "3000\n",
      "4000\n",
      "0\n",
      "1000\n",
      "2000\n",
      "3000\n",
      "4000\n",
      "DdeI-union-DpnII\n",
      "DSG-MNase \n",
      "\n",
      "0\n",
      "1000\n",
      "2000\n",
      "3000\n",
      "4000\n",
      "0\n",
      "1000\n",
      "2000\n",
      "3000\n",
      "4000\n",
      "0\n",
      "1000\n",
      "2000\n",
      "3000\n",
      "4000\n",
      "0\n",
      "1000\n",
      "2000\n",
      "3000\n",
      "4000\n",
      "double digest\n",
      "DSG-MNase \n",
      "\n",
      "0\n",
      "1000\n",
      "2000\n",
      "3000\n",
      "4000\n",
      "0\n",
      "1000\n",
      "2000\n",
      "3000\n",
      "4000\n",
      "0\n",
      "1000\n",
      "2000\n",
      "3000\n",
      "4000\n",
      "0\n",
      "1000\n",
      "2000\n",
      "3000\n",
      "4000\n",
      "DdeI-union-DpnII\n",
      "double digest\n",
      "DSG-MNase \n",
      "\n",
      "0\n",
      "1000\n",
      "2000\n",
      "3000\n",
      "4000\n",
      "0\n",
      "1000\n",
      "2000\n",
      "3000\n",
      "4000\n",
      "0\n",
      "1000\n",
      "2000\n",
      "3000\n",
      "4000\n",
      "0\n",
      "1000\n",
      "2000\n",
      "3000\n",
      "4000\n"
     ]
    },
    {
     "data": {
      "image/png": "[encoded data removed]",
      "text/plain": [
       "<Figure size 1080x576 with 29 Axes>"
      ]
     },
     "metadata": {
      "needs_background": "light"
     },
     "output_type": "display_data"
    }
   ],
   "source": [
    "ct = 'double_digest'\n",
    "path = paths[ct]\n",
    "\n",
    "loadpath = f'pileups/dots/upset_plot/{ct}/'\n",
    "\n",
    "all_lists = {parse_name(name):name for name in os.listdir(path)}\n",
    "\n",
    "fig = plt.figure(figsize=(2*len(all_lists)+1 , 8))\n",
    "\n",
    "fig.suptitle(f'Dot intersections for HFF-DSG', fontsize=18, fontweight='bold')\n",
    "gs = GridSpec(nrows=4, ncols=len(all_lists)+1, width_ratios=[90]*len(all_lists) +[5])\n",
    "lim = 0.6\n",
    "for c, ax_title in enumerate(['DdeI-union-DpnII', 'double digest', 'DSG-MNase', \n",
    "                              'DdeI-union-DpnII\\ndouble digest', 'DdeI-union-DpnII\\nDSG-MNase',\n",
    "                              'double digest\\nDSG-MNase',  \n",
    "                              'DdeI-union-DpnII\\ndouble digest\\nDSG-MNase']):\n",
    "\n",
    "    print(ax_title,'\\n')\n",
    "    list_name = all_lists[ax_title].split('.')[0]\n",
    "    pileup_path = f'{loadpath}{list_name}/'\n",
    "    \n",
    "    for file in os.listdir(pileup_path):\n",
    "        if not '.npy' in file:\n",
    "            continue\n",
    "        \n",
    "        snips = np.load(f'{pileup_path}{file}')\n",
    "        pileup = np.nanmean(snips, axis=2)\n",
    "#         print(np.nanmin(np.log10(pileup)), np.nanmax(np.log10(pileup)))\n",
    "        \n",
    "        if 'DSG-DdeI-DpnII' in file:\n",
    "            ax = fig.add_subplot(gs[0,c])\n",
    "            ax.set_title(ax_title)\n",
    "            if not c:\n",
    "                ax.set_ylabel('DdeI-DpnII')\n",
    "        elif 'DSG-DpnII' in file:\n",
    "            ax = fig.add_subplot(gs[1,c])\n",
    "            if not c:\n",
    "                ax.set_ylabel('DpnII')\n",
    "        elif 'DSG-DdeI' in file:\n",
    "            ax = fig.add_subplot(gs[2,c])\n",
    "            if not c:\n",
    "                ax.set_ylabel('DdeI')\n",
    "        else:\n",
    "            ax = fig.add_subplot(gs[3,c])\n",
    "            if not c:\n",
    "                ax.set_ylabel('MNase')\n",
    "                \n",
    "        scores = bootstrap_score(snips, n=5000)\n",
    "        mu = np.round(np.mean(scores), 3)\n",
    "        sd = np.round(np.sqrt(np.var(scores)), 4)\n",
    "        ax.text(-18, -14, f'{mu} +/- {sd}', fontsize=11)\n",
    "        rect = patches.Rectangle((-2,-2), 4, 4, \n",
    "                                 facecolor='none', edgecolor='black', linewidth=1)\n",
    "        ax.add_patch(rect)\n",
    "        rect = patches.Rectangle((7,7), 11, 11, \n",
    "                                 facecolor='none', edgecolor='black', linewidth=1)\n",
    "        ax.add_patch(rect)\n",
    "    \n",
    "        ax.set_xticks([])\n",
    "        ax.set_yticks([])\n",
    "        img = ax.imshow(np.log10(pileup), cmap='coolwarm', \n",
    "                        vmin=-lim, vmax=lim,\n",
    "                       extent=[-20, 20, 20, -20])\n",
    "\n",
    "cax = fig.add_subplot(gs[:,-1])\n",
    "cbar = plt.colorbar(img, cax=cax, ticks=[-lim, -lim/2, 0, lim/2, lim])\n",
    "cax.set_yticklabels([f'<= -{lim}', f'-{lim/2}', '0', f'{lim/2}', f'>= {lim}'], fontsize=12) \n",
    "fig.tight_layout(pad=3, w_pad=1, h_pad=1)\n",
    "fig.savefig(f'/home/sameer/Dropbox (MIT)/Research/U54_matrix/dots/upset_plots/{ct}.pdf', format='pdf')\n",
    "fig.savefig(f'/home/sameer/Dropbox (MIT)/Research/U54_matrix/dots/upset_plots/{ct}.png', format='png')"
   ]
  },
  {
   "cell_type": "markdown",
   "metadata": {
    "ExecuteTime": {
     "end_time": "2020-03-22T22:53:35.397338Z",
     "start_time": "2020-03-22T22:48:25.649842Z"
    },
    "scrolled": true
   },
   "source": [
    "# Comparing my snipping code and cooltool's version"
   ]
  },
  {
   "cell_type": "code",
   "execution_count": 51,
   "metadata": {
    "ExecuteTime": {
     "end_time": "2020-03-28T21:48:25.538236Z",
     "start_time": "2020-03-28T21:47:29.484734Z"
    }
   },
   "outputs": [
    {
     "name": "stdout",
     "output_type": "stream",
     "text": [
      "/net/levsha/share/lab/U54/2019_mapping_hg38/U54_deep/upset_dots/HFF/U54-HFFc6-FA-DSG-MNase-R1-R3_hg38__U54-HFFc6-FA-DpnII-R1-R2_hg38.txt\n"
     ]
    },
    {
     "data": {
      "text/html": [
       "<div>\n",
       "<style scoped>\n",
       "    .dataframe tbody tr th:only-of-type {\n",
       "        vertical-align: middle;\n",
       "    }\n",
       "\n",
       "    .dataframe tbody tr th {\n",
       "        vertical-align: top;\n",
       "    }\n",
       "\n",
       "    .dataframe thead th {\n",
       "        text-align: right;\n",
       "    }\n",
       "</style>\n",
       "<table border=\"1\" class=\"dataframe\">\n",
       "  <thead>\n",
       "    <tr style=\"text-align: right;\">\n",
       "      <th></th>\n",
       "      <th>lib_name</th>\n",
       "      <th>seq</th>\n",
       "      <th>celltype</th>\n",
       "      <th>xlink</th>\n",
       "      <th>enzyme</th>\n",
       "      <th>cycle</th>\n",
       "      <th>cooler_5000</th>\n",
       "    </tr>\n",
       "  </thead>\n",
       "  <tbody>\n",
       "    <tr>\n",
       "      <th>0</th>\n",
       "      <td>U54-HFFc6-DSG-DdeI-R1-R2_hg38</td>\n",
       "      <td>deep</td>\n",
       "      <td>HFF</td>\n",
       "      <td>DSG</td>\n",
       "      <td>DdeI</td>\n",
       "      <td>NS</td>\n",
       "      <td>&lt;Cooler \"U54-HFFc6-DSG-DdeI-R1-R2_hg38.hg38.ma...</td>\n",
       "    </tr>\n",
       "    <tr>\n",
       "      <th>1</th>\n",
       "      <td>U54-HFFc6-DSG-DpnII-R1-R2_hg38</td>\n",
       "      <td>deep</td>\n",
       "      <td>HFF</td>\n",
       "      <td>DSG</td>\n",
       "      <td>DpnII</td>\n",
       "      <td>NS</td>\n",
       "      <td>&lt;Cooler \"U54-HFFc6-DSG-DpnII-R1-R2_hg38.hg38.m...</td>\n",
       "    </tr>\n",
       "    <tr>\n",
       "      <th>2</th>\n",
       "      <td>U54-HFFc6-FA-DSG-MNase-R1-R3_hg38</td>\n",
       "      <td>deep</td>\n",
       "      <td>HFF</td>\n",
       "      <td>DSG</td>\n",
       "      <td>MNase</td>\n",
       "      <td>NS</td>\n",
       "      <td>&lt;Cooler \"U54-HFFc6-FA-DSG-MNase-R1-R3_hg38.hg3...</td>\n",
       "    </tr>\n",
       "    <tr>\n",
       "      <th>3</th>\n",
       "      <td>U54-HFFc6-DSG-DdeI-DpnII-20190711-R1-R3_hg38</td>\n",
       "      <td>deep</td>\n",
       "      <td>HFF</td>\n",
       "      <td>DSG</td>\n",
       "      <td>double</td>\n",
       "      <td>NS</td>\n",
       "      <td>&lt;Cooler \"U54-HFFc6-DSG-DdeI-DpnII-20190711-R1-...</td>\n",
       "    </tr>\n",
       "    <tr>\n",
       "      <th>4</th>\n",
       "      <td>U54-HFFc6-FA-DpnII-R1-R2_hg38</td>\n",
       "      <td>deep</td>\n",
       "      <td>HFF</td>\n",
       "      <td>FA</td>\n",
       "      <td>DpnII</td>\n",
       "      <td>NS</td>\n",
       "      <td>&lt;Cooler \"U54-HFFc6-FA-DpnII-R1-R2_hg38.hg38.ma...</td>\n",
       "    </tr>\n",
       "  </tbody>\n",
       "</table>\n",
       "</div>"
      ],
      "text/plain": [
       "                                       lib_name   seq celltype xlink  enzyme  \\\n",
       "0                 U54-HFFc6-DSG-DdeI-R1-R2_hg38  deep      HFF   DSG    DdeI   \n",
       "1                U54-HFFc6-DSG-DpnII-R1-R2_hg38  deep      HFF   DSG   DpnII   \n",
       "2             U54-HFFc6-FA-DSG-MNase-R1-R3_hg38  deep      HFF   DSG   MNase   \n",
       "3  U54-HFFc6-DSG-DdeI-DpnII-20190711-R1-R3_hg38  deep      HFF   DSG  double   \n",
       "4                 U54-HFFc6-FA-DpnII-R1-R2_hg38  deep      HFF    FA   DpnII   \n",
       "\n",
       "  cycle                                        cooler_5000  \n",
       "0    NS  <Cooler \"U54-HFFc6-DSG-DdeI-R1-R2_hg38.hg38.ma...  \n",
       "1    NS  <Cooler \"U54-HFFc6-DSG-DpnII-R1-R2_hg38.hg38.m...  \n",
       "2    NS  <Cooler \"U54-HFFc6-FA-DSG-MNase-R1-R3_hg38.hg3...  \n",
       "3    NS  <Cooler \"U54-HFFc6-DSG-DdeI-DpnII-20190711-R1-...  \n",
       "4    NS  <Cooler \"U54-HFFc6-FA-DpnII-R1-R2_hg38.hg38.ma...  "
      ]
     },
     "metadata": {},
     "output_type": "display_data"
    },
    {
     "name": "stdout",
     "output_type": "stream",
     "text": [
      "U54-HFFc6-DSG-DdeI-R1-R2_hg38\n"
     ]
    },
    {
     "data": {
      "text/html": [
       "<div>\n",
       "<style scoped>\n",
       "    .dataframe tbody tr th:only-of-type {\n",
       "        vertical-align: middle;\n",
       "    }\n",
       "\n",
       "    .dataframe tbody tr th {\n",
       "        vertical-align: top;\n",
       "    }\n",
       "\n",
       "    .dataframe thead th {\n",
       "        text-align: right;\n",
       "    }\n",
       "</style>\n",
       "<table border=\"1\" class=\"dataframe\">\n",
       "  <thead>\n",
       "    <tr style=\"text-align: right;\">\n",
       "      <th></th>\n",
       "      <th>chrom</th>\n",
       "      <th>diag</th>\n",
       "      <th>n_valid</th>\n",
       "      <th>count.sum</th>\n",
       "      <th>balanced.sum</th>\n",
       "      <th>count.avg</th>\n",
       "      <th>balanced.avg</th>\n",
       "    </tr>\n",
       "  </thead>\n",
       "  <tbody>\n",
       "    <tr>\n",
       "      <th>0</th>\n",
       "      <td>chr1</td>\n",
       "      <td>0</td>\n",
       "      <td>42283</td>\n",
       "      <td>NaN</td>\n",
       "      <td>NaN</td>\n",
       "      <td>NaN</td>\n",
       "      <td>NaN</td>\n",
       "    </tr>\n",
       "    <tr>\n",
       "      <th>1</th>\n",
       "      <td>chr1</td>\n",
       "      <td>1</td>\n",
       "      <td>41461</td>\n",
       "      <td>NaN</td>\n",
       "      <td>NaN</td>\n",
       "      <td>NaN</td>\n",
       "      <td>NaN</td>\n",
       "    </tr>\n",
       "    <tr>\n",
       "      <th>2</th>\n",
       "      <td>chr1</td>\n",
       "      <td>2</td>\n",
       "      <td>41391</td>\n",
       "      <td>10117222.0</td>\n",
       "      <td>1640.766522</td>\n",
       "      <td>244.430480</td>\n",
       "      <td>0.039641</td>\n",
       "    </tr>\n",
       "    <tr>\n",
       "      <th>3</th>\n",
       "      <td>chr1</td>\n",
       "      <td>3</td>\n",
       "      <td>41340</td>\n",
       "      <td>6289777.0</td>\n",
       "      <td>1021.010518</td>\n",
       "      <td>152.147484</td>\n",
       "      <td>0.024698</td>\n",
       "    </tr>\n",
       "    <tr>\n",
       "      <th>4</th>\n",
       "      <td>chr1</td>\n",
       "      <td>4</td>\n",
       "      <td>41314</td>\n",
       "      <td>4538649.0</td>\n",
       "      <td>737.220950</td>\n",
       "      <td>109.857409</td>\n",
       "      <td>0.017844</td>\n",
       "    </tr>\n",
       "  </tbody>\n",
       "</table>\n",
       "</div>"
      ],
      "text/plain": [
       "  chrom  diag  n_valid   count.sum  balanced.sum   count.avg  balanced.avg\n",
       "0  chr1     0    42283         NaN           NaN         NaN           NaN\n",
       "1  chr1     1    41461         NaN           NaN         NaN           NaN\n",
       "2  chr1     2    41391  10117222.0   1640.766522  244.430480      0.039641\n",
       "3  chr1     3    41340   6289777.0   1021.010518  152.147484      0.024698\n",
       "4  chr1     4    41314   4538649.0    737.220950  109.857409      0.017844"
      ]
     },
     "metadata": {},
     "output_type": "display_data"
    }
   ],
   "source": [
    "# regions = DNA_info.get_chromosome_arms('hg38')\n",
    "# regions = bioframe.fetch_chromsizes('hg38')\n",
    "celltype = 'HFF'\n",
    "list_name = os.listdir(paths[celltype])[4].split('.')[0]\n",
    "list_path = paths[celltype]+list_name+'.txt'\n",
    "print(list_path)\n",
    "\n",
    "db = mm.Dataset()\n",
    "table = db.get_tables()\n",
    "table = mm.filter_data(table, filter_dict={'celltype':celltype, 'seq':'deep'})\n",
    "table = mm.get_coolers(table, res=res)\n",
    "display(table)\n",
    "ind = np.random.choice(table.index.values)\n",
    "name = table.loc[ind, 'lib_name']\n",
    "print(name)\n",
    "cool = table.loc[ind, f'cooler_{res}']\n",
    "\n",
    "supports = [(chrom, 0, cool.chromsizes[chrom]) for chrom in cool.chromnames]\n",
    "regions = supports\n",
    "transforms = {\"balanced\": lambda p: p[\"count\"] * p['weight1'] * p['weight2']}\n",
    "with mp.Pool(15) as p:\n",
    "    result = expected.diagsum(cool, supports, transforms=transforms, map=p.map)\n",
    "expt = pd.concat(\n",
    "                [result[support] for support in supports],\n",
    "                keys=[support[0] for support in supports],\n",
    "                names=[\"chrom\"],\n",
    "            )\n",
    "expt = expt.reset_index()\n",
    "expt[\"count.avg\"] = expt[\"count.sum\"] / expt[\"n_valid\"]\n",
    "for key in transforms.keys():\n",
    "    expt[key + \".avg\"] = expt[key + \".sum\"] / expt[\"n_valid\"]\n",
    "\n",
    "display(expt.head())"
   ]
  },
  {
   "cell_type": "code",
   "execution_count": 54,
   "metadata": {
    "ExecuteTime": {
     "end_time": "2020-03-28T22:03:07.231030Z",
     "start_time": "2020-03-28T22:02:28.502359Z"
    },
    "scrolled": false
   },
   "outputs": [
    {
     "data": {
      "application/javascript": [
       "/* Put everything inside the global mpl namespace */\n",
       "window.mpl = {};\n",
       "\n",
       "\n",
       "mpl.get_websocket_type = function() {\n",
       "    if (typeof(WebSocket) !== 'undefined') {\n",
       "        return WebSocket;\n",
       "    } else if (typeof(MozWebSocket) !== 'undefined') {\n",
       "        return MozWebSocket;\n",
       "    } else {\n",
       "        alert('Your browser does not have WebSocket support. ' +\n",
       "              'Please try Chrome, Safari or Firefox ≥ 6. ' +\n",
       "              'Firefox 4 and 5 are also supported but you ' +\n",
       "              'have to enable WebSockets in about:config.');\n",
       "    };\n",
       "}\n",
       "\n",
       "mpl.figure = function(figure_id, websocket, ondownload, parent_element) {\n",
       "    this.id = figure_id;\n",
       "\n",
       "    this.ws = websocket;\n",
       "\n",
       "    this.supports_binary = (this.ws.binaryType != undefined);\n",
       "\n",
       "    if (!this.supports_binary) {\n",
       "        var warnings = document.getElementById(\"mpl-warnings\");\n",
       "        if (warnings) {\n",
       "            warnings.style.display = 'block';\n",
       "            warnings.textContent = (\n",
       "                \"This browser does not support binary websocket messages. \" +\n",
       "                    \"Performance may be slow.\");\n",
       "        }\n",
       "    }\n",
       "\n",
       "    this.imageObj = new Image();\n",
       "\n",
       "    this.context = undefined;\n",
       "    this.message = undefined;\n",
       "    this.canvas = undefined;\n",
       "    this.rubberband_canvas = undefined;\n",
       "    this.rubberband_context = undefined;\n",
       "    this.format_dropdown = undefined;\n",
       "\n",
       "    this.image_mode = 'full';\n",
       "\n",
       "    this.root = $('<div/>');\n",
       "    this._root_extra_style(this.root)\n",
       "    this.root.attr('style', 'display: inline-block');\n",
       "\n",
       "    $(parent_element).append(this.root);\n",
       "\n",
       "    this._init_header(this);\n",
       "    this._init_canvas(this);\n",
       "    this._init_toolbar(this);\n",
       "\n",
       "    var fig = this;\n",
       "\n",
       "    this.waiting = false;\n",
       "\n",
       "    this.ws.onopen =  function () {\n",
       "            fig.send_message(\"supports_binary\", {value: fig.supports_binary});\n",
       "            fig.send_message(\"send_image_mode\", {});\n",
       "            if (mpl.ratio != 1) {\n",
       "                fig.send_message(\"set_dpi_ratio\", {'dpi_ratio': mpl.ratio});\n",
       "            }\n",
       "            fig.send_message(\"refresh\", {});\n",
       "        }\n",
       "\n",
       "    this.imageObj.onload = function() {\n",
       "            if (fig.image_mode == 'full') {\n",
       "                // Full images could contain transparency (where diff images\n",
       "                // almost always do), so we need to clear the canvas so that\n",
       "                // there is no ghosting.\n",
       "                fig.context.clearRect(0, 0, fig.canvas.width, fig.canvas.height);\n",
       "            }\n",
       "            fig.context.drawImage(fig.imageObj, 0, 0);\n",
       "        };\n",
       "\n",
       "    this.imageObj.onunload = function() {\n",
       "        fig.ws.close();\n",
       "    }\n",
       "\n",
       "    this.ws.onmessage = this._make_on_message_function(this);\n",
       "\n",
       "    this.ondownload = ondownload;\n",
       "}\n",
       "\n",
       "mpl.figure.prototype._init_header = function() {\n",
       "    var titlebar = $(\n",
       "        '<div class=\"ui-dialog-titlebar ui-widget-header ui-corner-all ' +\n",
       "        'ui-helper-clearfix\"/>');\n",
       "    var titletext = $(\n",
       "        '<div class=\"ui-dialog-title\" style=\"width: 100%; ' +\n",
       "        'text-align: center; padding: 3px;\"/>');\n",
       "    titlebar.append(titletext)\n",
       "    this.root.append(titlebar);\n",
       "    this.header = titletext[0];\n",
       "}\n",
       "\n",
       "\n",
       "\n",
       "mpl.figure.prototype._canvas_extra_style = function(canvas_div) {\n",
       "\n",
       "}\n",
       "\n",
       "\n",
       "mpl.figure.prototype._root_extra_style = function(canvas_div) {\n",
       "\n",
       "}\n",
       "\n",
       "mpl.figure.prototype._init_canvas = function() {\n",
       "    var fig = this;\n",
       "\n",
       "    var canvas_div = $('<div/>');\n",
       "\n",
       "    canvas_div.attr('style', 'position: relative; clear: both; outline: 0');\n",
       "\n",
       "    function canvas_keyboard_event(event) {\n",
       "        return fig.key_event(event, event['data']);\n",
       "    }\n",
       "\n",
       "    canvas_div.keydown('key_press', canvas_keyboard_event);\n",
       "    canvas_div.keyup('key_release', canvas_keyboard_event);\n",
       "    this.canvas_div = canvas_div\n",
       "    this._canvas_extra_style(canvas_div)\n",
       "    this.root.append(canvas_div);\n",
       "\n",
       "    var canvas = $('<canvas/>');\n",
       "    canvas.addClass('mpl-canvas');\n",
       "    canvas.attr('style', \"left: 0; top: 0; z-index: 0; outline: 0\")\n",
       "\n",
       "    this.canvas = canvas[0];\n",
       "    this.context = canvas[0].getContext(\"2d\");\n",
       "\n",
       "    var backingStore = this.context.backingStorePixelRatio ||\n",
       "\tthis.context.webkitBackingStorePixelRatio ||\n",
       "\tthis.context.mozBackingStorePixelRatio ||\n",
       "\tthis.context.msBackingStorePixelRatio ||\n",
       "\tthis.context.oBackingStorePixelRatio ||\n",
       "\tthis.context.backingStorePixelRatio || 1;\n",
       "\n",
       "    mpl.ratio = (window.devicePixelRatio || 1) / backingStore;\n",
       "\n",
       "    var rubberband = $('<canvas/>');\n",
       "    rubberband.attr('style', \"position: absolute; left: 0; top: 0; z-index: 1;\")\n",
       "\n",
       "    var pass_mouse_events = true;\n",
       "\n",
       "    canvas_div.resizable({\n",
       "        start: function(event, ui) {\n",
       "            pass_mouse_events = false;\n",
       "        },\n",
       "        resize: function(event, ui) {\n",
       "            fig.request_resize(ui.size.width, ui.size.height);\n",
       "        },\n",
       "        stop: function(event, ui) {\n",
       "            pass_mouse_events = true;\n",
       "            fig.request_resize(ui.size.width, ui.size.height);\n",
       "        },\n",
       "    });\n",
       "\n",
       "    function mouse_event_fn(event) {\n",
       "        if (pass_mouse_events)\n",
       "            return fig.mouse_event(event, event['data']);\n",
       "    }\n",
       "\n",
       "    rubberband.mousedown('button_press', mouse_event_fn);\n",
       "    rubberband.mouseup('button_release', mouse_event_fn);\n",
       "    // Throttle sequential mouse events to 1 every 20ms.\n",
       "    rubberband.mousemove('motion_notify', mouse_event_fn);\n",
       "\n",
       "    rubberband.mouseenter('figure_enter', mouse_event_fn);\n",
       "    rubberband.mouseleave('figure_leave', mouse_event_fn);\n",
       "\n",
       "    canvas_div.on(\"wheel\", function (event) {\n",
       "        event = event.originalEvent;\n",
       "        event['data'] = 'scroll'\n",
       "        if (event.deltaY < 0) {\n",
       "            event.step = 1;\n",
       "        } else {\n",
       "            event.step = -1;\n",
       "        }\n",
       "        mouse_event_fn(event);\n",
       "    });\n",
       "\n",
       "    canvas_div.append(canvas);\n",
       "    canvas_div.append(rubberband);\n",
       "\n",
       "    this.rubberband = rubberband;\n",
       "    this.rubberband_canvas = rubberband[0];\n",
       "    this.rubberband_context = rubberband[0].getContext(\"2d\");\n",
       "    this.rubberband_context.strokeStyle = \"#000000\";\n",
       "\n",
       "    this._resize_canvas = function(width, height) {\n",
       "        // Keep the size of the canvas, canvas container, and rubber band\n",
       "        // canvas in synch.\n",
       "        canvas_div.css('width', width)\n",
       "        canvas_div.css('height', height)\n",
       "\n",
       "        canvas.attr('width', width * mpl.ratio);\n",
       "        canvas.attr('height', height * mpl.ratio);\n",
       "        canvas.attr('style', 'width: ' + width + 'px; height: ' + height + 'px;');\n",
       "\n",
       "        rubberband.attr('width', width);\n",
       "        rubberband.attr('height', height);\n",
       "    }\n",
       "\n",
       "    // Set the figure to an initial 600x600px, this will subsequently be updated\n",
       "    // upon first draw.\n",
       "    this._resize_canvas(600, 600);\n",
       "\n",
       "    // Disable right mouse context menu.\n",
       "    $(this.rubberband_canvas).bind(\"contextmenu\",function(e){\n",
       "        return false;\n",
       "    });\n",
       "\n",
       "    function set_focus () {\n",
       "        canvas.focus();\n",
       "        canvas_div.focus();\n",
       "    }\n",
       "\n",
       "    window.setTimeout(set_focus, 100);\n",
       "}\n",
       "\n",
       "mpl.figure.prototype._init_toolbar = function() {\n",
       "    var fig = this;\n",
       "\n",
       "    var nav_element = $('<div/>');\n",
       "    nav_element.attr('style', 'width: 100%');\n",
       "    this.root.append(nav_element);\n",
       "\n",
       "    // Define a callback function for later on.\n",
       "    function toolbar_event(event) {\n",
       "        return fig.toolbar_button_onclick(event['data']);\n",
       "    }\n",
       "    function toolbar_mouse_event(event) {\n",
       "        return fig.toolbar_button_onmouseover(event['data']);\n",
       "    }\n",
       "\n",
       "    for(var toolbar_ind in mpl.toolbar_items) {\n",
       "        var name = mpl.toolbar_items[toolbar_ind][0];\n",
       "        var tooltip = mpl.toolbar_items[toolbar_ind][1];\n",
       "        var image = mpl.toolbar_items[toolbar_ind][2];\n",
       "        var method_name = mpl.toolbar_items[toolbar_ind][3];\n",
       "\n",
       "        if (!name) {\n",
       "            // put a spacer in here.\n",
       "            continue;\n",
       "        }\n",
       "        var button = $('<button/>');\n",
       "        button.addClass('ui-button ui-widget ui-state-default ui-corner-all ' +\n",
       "                        'ui-button-icon-only');\n",
       "        button.attr('role', 'button');\n",
       "        button.attr('aria-disabled', 'false');\n",
       "        button.click(method_name, toolbar_event);\n",
       "        button.mouseover(tooltip, toolbar_mouse_event);\n",
       "\n",
       "        var icon_img = $('<span/>');\n",
       "        icon_img.addClass('ui-button-icon-primary ui-icon');\n",
       "        icon_img.addClass(image);\n",
       "        icon_img.addClass('ui-corner-all');\n",
       "\n",
       "        var tooltip_span = $('<span/>');\n",
       "        tooltip_span.addClass('ui-button-text');\n",
       "        tooltip_span.html(tooltip);\n",
       "\n",
       "        button.append(icon_img);\n",
       "        button.append(tooltip_span);\n",
       "\n",
       "        nav_element.append(button);\n",
       "    }\n",
       "\n",
       "    var fmt_picker_span = $('<span/>');\n",
       "\n",
       "    var fmt_picker = $('<select/>');\n",
       "    fmt_picker.addClass('mpl-toolbar-option ui-widget ui-widget-content');\n",
       "    fmt_picker_span.append(fmt_picker);\n",
       "    nav_element.append(fmt_picker_span);\n",
       "    this.format_dropdown = fmt_picker[0];\n",
       "\n",
       "    for (var ind in mpl.extensions) {\n",
       "        var fmt = mpl.extensions[ind];\n",
       "        var option = $(\n",
       "            '<option/>', {selected: fmt === mpl.default_extension}).html(fmt);\n",
       "        fmt_picker.append(option);\n",
       "    }\n",
       "\n",
       "    // Add hover states to the ui-buttons\n",
       "    $( \".ui-button\" ).hover(\n",
       "        function() { $(this).addClass(\"ui-state-hover\");},\n",
       "        function() { $(this).removeClass(\"ui-state-hover\");}\n",
       "    );\n",
       "\n",
       "    var status_bar = $('<span class=\"mpl-message\"/>');\n",
       "    nav_element.append(status_bar);\n",
       "    this.message = status_bar[0];\n",
       "}\n",
       "\n",
       "mpl.figure.prototype.request_resize = function(x_pixels, y_pixels) {\n",
       "    // Request matplotlib to resize the figure. Matplotlib will then trigger a resize in the client,\n",
       "    // which will in turn request a refresh of the image.\n",
       "    this.send_message('resize', {'width': x_pixels, 'height': y_pixels});\n",
       "}\n",
       "\n",
       "mpl.figure.prototype.send_message = function(type, properties) {\n",
       "    properties['type'] = type;\n",
       "    properties['figure_id'] = this.id;\n",
       "    this.ws.send(JSON.stringify(properties));\n",
       "}\n",
       "\n",
       "mpl.figure.prototype.send_draw_message = function() {\n",
       "    if (!this.waiting) {\n",
       "        this.waiting = true;\n",
       "        this.ws.send(JSON.stringify({type: \"draw\", figure_id: this.id}));\n",
       "    }\n",
       "}\n",
       "\n",
       "\n",
       "mpl.figure.prototype.handle_save = function(fig, msg) {\n",
       "    var format_dropdown = fig.format_dropdown;\n",
       "    var format = format_dropdown.options[format_dropdown.selectedIndex].value;\n",
       "    fig.ondownload(fig, format);\n",
       "}\n",
       "\n",
       "\n",
       "mpl.figure.prototype.handle_resize = function(fig, msg) {\n",
       "    var size = msg['size'];\n",
       "    if (size[0] != fig.canvas.width || size[1] != fig.canvas.height) {\n",
       "        fig._resize_canvas(size[0], size[1]);\n",
       "        fig.send_message(\"refresh\", {});\n",
       "    };\n",
       "}\n",
       "\n",
       "mpl.figure.prototype.handle_rubberband = function(fig, msg) {\n",
       "    var x0 = msg['x0'] / mpl.ratio;\n",
       "    var y0 = (fig.canvas.height - msg['y0']) / mpl.ratio;\n",
       "    var x1 = msg['x1'] / mpl.ratio;\n",
       "    var y1 = (fig.canvas.height - msg['y1']) / mpl.ratio;\n",
       "    x0 = Math.floor(x0) + 0.5;\n",
       "    y0 = Math.floor(y0) + 0.5;\n",
       "    x1 = Math.floor(x1) + 0.5;\n",
       "    y1 = Math.floor(y1) + 0.5;\n",
       "    var min_x = Math.min(x0, x1);\n",
       "    var min_y = Math.min(y0, y1);\n",
       "    var width = Math.abs(x1 - x0);\n",
       "    var height = Math.abs(y1 - y0);\n",
       "\n",
       "    fig.rubberband_context.clearRect(\n",
       "        0, 0, fig.canvas.width / mpl.ratio, fig.canvas.height / mpl.ratio);\n",
       "\n",
       "    fig.rubberband_context.strokeRect(min_x, min_y, width, height);\n",
       "}\n",
       "\n",
       "mpl.figure.prototype.handle_figure_label = function(fig, msg) {\n",
       "    // Updates the figure title.\n",
       "    fig.header.textContent = msg['label'];\n",
       "}\n",
       "\n",
       "mpl.figure.prototype.handle_cursor = function(fig, msg) {\n",
       "    var cursor = msg['cursor'];\n",
       "    switch(cursor)\n",
       "    {\n",
       "    case 0:\n",
       "        cursor = 'pointer';\n",
       "        break;\n",
       "    case 1:\n",
       "        cursor = 'default';\n",
       "        break;\n",
       "    case 2:\n",
       "        cursor = 'crosshair';\n",
       "        break;\n",
       "    case 3:\n",
       "        cursor = 'move';\n",
       "        break;\n",
       "    }\n",
       "    fig.rubberband_canvas.style.cursor = cursor;\n",
       "}\n",
       "\n",
       "mpl.figure.prototype.handle_message = function(fig, msg) {\n",
       "    fig.message.textContent = msg['message'];\n",
       "}\n",
       "\n",
       "mpl.figure.prototype.handle_draw = function(fig, msg) {\n",
       "    // Request the server to send over a new figure.\n",
       "    fig.send_draw_message();\n",
       "}\n",
       "\n",
       "mpl.figure.prototype.handle_image_mode = function(fig, msg) {\n",
       "    fig.image_mode = msg['mode'];\n",
       "}\n",
       "\n",
       "mpl.figure.prototype.updated_canvas_event = function() {\n",
       "    // Called whenever the canvas gets updated.\n",
       "    this.send_message(\"ack\", {});\n",
       "}\n",
       "\n",
       "// A function to construct a web socket function for onmessage handling.\n",
       "// Called in the figure constructor.\n",
       "mpl.figure.prototype._make_on_message_function = function(fig) {\n",
       "    return function socket_on_message(evt) {\n",
       "        if (evt.data instanceof Blob) {\n",
       "            /* FIXME: We get \"Resource interpreted as Image but\n",
       "             * transferred with MIME type text/plain:\" errors on\n",
       "             * Chrome.  But how to set the MIME type?  It doesn't seem\n",
       "             * to be part of the websocket stream */\n",
       "            evt.data.type = \"image/png\";\n",
       "\n",
       "            /* Free the memory for the previous frames */\n",
       "            if (fig.imageObj.src) {\n",
       "                (window.URL || window.webkitURL).revokeObjectURL(\n",
       "                    fig.imageObj.src);\n",
       "            }\n",
       "\n",
       "            fig.imageObj.src = (window.URL || window.webkitURL).createObjectURL(\n",
       "                evt.data);\n",
       "            fig.updated_canvas_event();\n",
       "            fig.waiting = false;\n",
       "            return;\n",
       "        }\n",
       "        else if (typeof evt.data === 'string' && evt.data.slice(0, 21) == \"data:image/png;base64\") {\n",
       "            fig.imageObj.src = evt.data;\n",
       "            fig.updated_canvas_event();\n",
       "            fig.waiting = false;\n",
       "            return;\n",
       "        }\n",
       "\n",
       "        var msg = JSON.parse(evt.data);\n",
       "        var msg_type = msg['type'];\n",
       "\n",
       "        // Call the  \"handle_{type}\" callback, which takes\n",
       "        // the figure and JSON message as its only arguments.\n",
       "        try {\n",
       "            var callback = fig[\"handle_\" + msg_type];\n",
       "        } catch (e) {\n",
       "            console.log(\"No handler for the '\" + msg_type + \"' message type: \", msg);\n",
       "            return;\n",
       "        }\n",
       "\n",
       "        if (callback) {\n",
       "            try {\n",
       "                // console.log(\"Handling '\" + msg_type + \"' message: \", msg);\n",
       "                callback(fig, msg);\n",
       "            } catch (e) {\n",
       "                console.log(\"Exception inside the 'handler_\" + msg_type + \"' callback:\", e, e.stack, msg);\n",
       "            }\n",
       "        }\n",
       "    };\n",
       "}\n",
       "\n",
       "// from http://stackoverflow.com/questions/1114465/getting-mouse-location-in-canvas\n",
       "mpl.findpos = function(e) {\n",
       "    //this section is from http://www.quirksmode.org/js/events_properties.html\n",
       "    var targ;\n",
       "    if (!e)\n",
       "        e = window.event;\n",
       "    if (e.target)\n",
       "        targ = e.target;\n",
       "    else if (e.srcElement)\n",
       "        targ = e.srcElement;\n",
       "    if (targ.nodeType == 3) // defeat Safari bug\n",
       "        targ = targ.parentNode;\n",
       "\n",
       "    // jQuery normalizes the pageX and pageY\n",
       "    // pageX,Y are the mouse positions relative to the document\n",
       "    // offset() returns the position of the element relative to the document\n",
       "    var x = e.pageX - $(targ).offset().left;\n",
       "    var y = e.pageY - $(targ).offset().top;\n",
       "\n",
       "    return {\"x\": x, \"y\": y};\n",
       "};\n",
       "\n",
       "/*\n",
       " * return a copy of an object with only non-object keys\n",
       " * we need this to avoid circular references\n",
       " * http://stackoverflow.com/a/24161582/3208463\n",
       " */\n",
       "function simpleKeys (original) {\n",
       "  return Object.keys(original).reduce(function (obj, key) {\n",
       "    if (typeof original[key] !== 'object')\n",
       "        obj[key] = original[key]\n",
       "    return obj;\n",
       "  }, {});\n",
       "}\n",
       "\n",
       "mpl.figure.prototype.mouse_event = function(event, name) {\n",
       "    var canvas_pos = mpl.findpos(event)\n",
       "\n",
       "    if (name === 'button_press')\n",
       "    {\n",
       "        this.canvas.focus();\n",
       "        this.canvas_div.focus();\n",
       "    }\n",
       "\n",
       "    var x = canvas_pos.x * mpl.ratio;\n",
       "    var y = canvas_pos.y * mpl.ratio;\n",
       "\n",
       "    this.send_message(name, {x: x, y: y, button: event.button,\n",
       "                             step: event.step,\n",
       "                             guiEvent: simpleKeys(event)});\n",
       "\n",
       "    /* This prevents the web browser from automatically changing to\n",
       "     * the text insertion cursor when the button is pressed.  We want\n",
       "     * to control all of the cursor setting manually through the\n",
       "     * 'cursor' event from matplotlib */\n",
       "    event.preventDefault();\n",
       "    return false;\n",
       "}\n",
       "\n",
       "mpl.figure.prototype._key_event_extra = function(event, name) {\n",
       "    // Handle any extra behaviour associated with a key event\n",
       "}\n",
       "\n",
       "mpl.figure.prototype.key_event = function(event, name) {\n",
       "\n",
       "    // Prevent repeat events\n",
       "    if (name == 'key_press')\n",
       "    {\n",
       "        if (event.which === this._key)\n",
       "            return;\n",
       "        else\n",
       "            this._key = event.which;\n",
       "    }\n",
       "    if (name == 'key_release')\n",
       "        this._key = null;\n",
       "\n",
       "    var value = '';\n",
       "    if (event.ctrlKey && event.which != 17)\n",
       "        value += \"ctrl+\";\n",
       "    if (event.altKey && event.which != 18)\n",
       "        value += \"alt+\";\n",
       "    if (event.shiftKey && event.which != 16)\n",
       "        value += \"shift+\";\n",
       "\n",
       "    value += 'k';\n",
       "    value += event.which.toString();\n",
       "\n",
       "    this._key_event_extra(event, name);\n",
       "\n",
       "    this.send_message(name, {key: value,\n",
       "                             guiEvent: simpleKeys(event)});\n",
       "    return false;\n",
       "}\n",
       "\n",
       "mpl.figure.prototype.toolbar_button_onclick = function(name) {\n",
       "    if (name == 'download') {\n",
       "        this.handle_save(this, null);\n",
       "    } else {\n",
       "        this.send_message(\"toolbar_button\", {name: name});\n",
       "    }\n",
       "};\n",
       "\n",
       "mpl.figure.prototype.toolbar_button_onmouseover = function(tooltip) {\n",
       "    this.message.textContent = tooltip;\n",
       "};\n",
       "mpl.toolbar_items = [[\"Home\", \"Reset original view\", \"fa fa-home icon-home\", \"home\"], [\"Back\", \"Back to previous view\", \"fa fa-arrow-left icon-arrow-left\", \"back\"], [\"Forward\", \"Forward to next view\", \"fa fa-arrow-right icon-arrow-right\", \"forward\"], [\"\", \"\", \"\", \"\"], [\"Pan\", \"Pan axes with left mouse, zoom with right\", \"fa fa-arrows icon-move\", \"pan\"], [\"Zoom\", \"Zoom to rectangle\", \"fa fa-square-o icon-check-empty\", \"zoom\"], [\"\", \"\", \"\", \"\"], [\"Download\", \"Download plot\", \"fa fa-floppy-o icon-save\", \"download\"]];\n",
       "\n",
       "mpl.extensions = [\"eps\", \"pdf\", \"png\", \"ps\", \"raw\", \"svg\"];\n",
       "\n",
       "mpl.default_extension = \"png\";var comm_websocket_adapter = function(comm) {\n",
       "    // Create a \"websocket\"-like object which calls the given IPython comm\n",
       "    // object with the appropriate methods. Currently this is a non binary\n",
       "    // socket, so there is still some room for performance tuning.\n",
       "    var ws = {};\n",
       "\n",
       "    ws.close = function() {\n",
       "        comm.close()\n",
       "    };\n",
       "    ws.send = function(m) {\n",
       "        //console.log('sending', m);\n",
       "        comm.send(m);\n",
       "    };\n",
       "    // Register the callback with on_msg.\n",
       "    comm.on_msg(function(msg) {\n",
       "        //console.log('receiving', msg['content']['data'], msg);\n",
       "        // Pass the mpl event to the overridden (by mpl) onmessage function.\n",
       "        ws.onmessage(msg['content']['data'])\n",
       "    });\n",
       "    return ws;\n",
       "}\n",
       "\n",
       "mpl.mpl_figure_comm = function(comm, msg) {\n",
       "    // This is the function which gets called when the mpl process\n",
       "    // starts-up an IPython Comm through the \"matplotlib\" channel.\n",
       "\n",
       "    var id = msg.content.data.id;\n",
       "    // Get hold of the div created by the display call when the Comm\n",
       "    // socket was opened in Python.\n",
       "    var element = $(\"#\" + id);\n",
       "    var ws_proxy = comm_websocket_adapter(comm)\n",
       "\n",
       "    function ondownload(figure, format) {\n",
       "        window.open(figure.imageObj.src);\n",
       "    }\n",
       "\n",
       "    var fig = new mpl.figure(id, ws_proxy,\n",
       "                           ondownload,\n",
       "                           element.get(0));\n",
       "\n",
       "    // Call onopen now - mpl needs it, as it is assuming we've passed it a real\n",
       "    // web socket which is closed, not our websocket->open comm proxy.\n",
       "    ws_proxy.onopen();\n",
       "\n",
       "    fig.parent_element = element.get(0);\n",
       "    fig.cell_info = mpl.find_output_cell(\"<div id='\" + id + \"'></div>\");\n",
       "    if (!fig.cell_info) {\n",
       "        console.error(\"Failed to find cell for figure\", id, fig);\n",
       "        return;\n",
       "    }\n",
       "\n",
       "    var output_index = fig.cell_info[2]\n",
       "    var cell = fig.cell_info[0];\n",
       "\n",
       "};\n",
       "\n",
       "mpl.figure.prototype.handle_close = function(fig, msg) {\n",
       "    var width = fig.canvas.width/mpl.ratio\n",
       "    fig.root.unbind('remove')\n",
       "\n",
       "    // Update the output cell to use the data from the current canvas.\n",
       "    fig.push_to_output();\n",
       "    var dataURL = fig.canvas.toDataURL();\n",
       "    // Re-enable the keyboard manager in IPython - without this line, in FF,\n",
       "    // the notebook keyboard shortcuts fail.\n",
       "    IPython.keyboard_manager.enable()\n",
       "    $(fig.parent_element).html('<img src=\"' + dataURL + '\" width=\"' + width + '\">');\n",
       "    fig.close_ws(fig, msg);\n",
       "}\n",
       "\n",
       "mpl.figure.prototype.close_ws = function(fig, msg){\n",
       "    fig.send_message('closing', msg);\n",
       "    // fig.ws.close()\n",
       "}\n",
       "\n",
       "mpl.figure.prototype.push_to_output = function(remove_interactive) {\n",
       "    // Turn the data on the canvas into data in the output cell.\n",
       "    var width = this.canvas.width/mpl.ratio\n",
       "    var dataURL = this.canvas.toDataURL();\n",
       "    this.cell_info[1]['text/html'] = '<img src=\"' + dataURL + '\" width=\"' + width + '\">';\n",
       "}\n",
       "\n",
       "mpl.figure.prototype.updated_canvas_event = function() {\n",
       "    // Tell IPython that the notebook contents must change.\n",
       "    IPython.notebook.set_dirty(true);\n",
       "    this.send_message(\"ack\", {});\n",
       "    var fig = this;\n",
       "    // Wait a second, then push the new image to the DOM so\n",
       "    // that it is saved nicely (might be nice to debounce this).\n",
       "    setTimeout(function () { fig.push_to_output() }, 1000);\n",
       "}\n",
       "\n",
       "mpl.figure.prototype._init_toolbar = function() {\n",
       "    var fig = this;\n",
       "\n",
       "    var nav_element = $('<div/>');\n",
       "    nav_element.attr('style', 'width: 100%');\n",
       "    this.root.append(nav_element);\n",
       "\n",
       "    // Define a callback function for later on.\n",
       "    function toolbar_event(event) {\n",
       "        return fig.toolbar_button_onclick(event['data']);\n",
       "    }\n",
       "    function toolbar_mouse_event(event) {\n",
       "        return fig.toolbar_button_onmouseover(event['data']);\n",
       "    }\n",
       "\n",
       "    for(var toolbar_ind in mpl.toolbar_items){\n",
       "        var name = mpl.toolbar_items[toolbar_ind][0];\n",
       "        var tooltip = mpl.toolbar_items[toolbar_ind][1];\n",
       "        var image = mpl.toolbar_items[toolbar_ind][2];\n",
       "        var method_name = mpl.toolbar_items[toolbar_ind][3];\n",
       "\n",
       "        if (!name) { continue; };\n",
       "\n",
       "        var button = $('<button class=\"btn btn-default\" href=\"#\" title=\"' + name + '\"><i class=\"fa ' + image + ' fa-lg\"></i></button>');\n",
       "        button.click(method_name, toolbar_event);\n",
       "        button.mouseover(tooltip, toolbar_mouse_event);\n",
       "        nav_element.append(button);\n",
       "    }\n",
       "\n",
       "    // Add the status bar.\n",
       "    var status_bar = $('<span class=\"mpl-message\" style=\"text-align:right; float: right;\"/>');\n",
       "    nav_element.append(status_bar);\n",
       "    this.message = status_bar[0];\n",
       "\n",
       "    // Add the close button to the window.\n",
       "    var buttongrp = $('<div class=\"btn-group inline pull-right\"></div>');\n",
       "    var button = $('<button class=\"btn btn-mini btn-primary\" href=\"#\" title=\"Stop Interaction\"><i class=\"fa fa-power-off icon-remove icon-large\"></i></button>');\n",
       "    button.click(function (evt) { fig.handle_close(fig, {}); } );\n",
       "    button.mouseover('Stop Interaction', toolbar_mouse_event);\n",
       "    buttongrp.append(button);\n",
       "    var titlebar = this.root.find($('.ui-dialog-titlebar'));\n",
       "    titlebar.prepend(buttongrp);\n",
       "}\n",
       "\n",
       "mpl.figure.prototype._root_extra_style = function(el){\n",
       "    var fig = this\n",
       "    el.on(\"remove\", function(){\n",
       "\tfig.close_ws(fig, {});\n",
       "    });\n",
       "}\n",
       "\n",
       "mpl.figure.prototype._canvas_extra_style = function(el){\n",
       "    // this is important to make the div 'focusable\n",
       "    el.attr('tabindex', 0)\n",
       "    // reach out to IPython and tell the keyboard manager to turn it's self\n",
       "    // off when our div gets focus\n",
       "\n",
       "    // location in version 3\n",
       "    if (IPython.notebook.keyboard_manager) {\n",
       "        IPython.notebook.keyboard_manager.register_events(el);\n",
       "    }\n",
       "    else {\n",
       "        // location in version 2\n",
       "        IPython.keyboard_manager.register_events(el);\n",
       "    }\n",
       "\n",
       "}\n",
       "\n",
       "mpl.figure.prototype._key_event_extra = function(event, name) {\n",
       "    var manager = IPython.notebook.keyboard_manager;\n",
       "    if (!manager)\n",
       "        manager = IPython.keyboard_manager;\n",
       "\n",
       "    // Check for shift+enter\n",
       "    if (event.shiftKey && event.which == 13) {\n",
       "        this.canvas_div.blur();\n",
       "        event.shiftKey = false;\n",
       "        // Send a \"J\" for go to next cell\n",
       "        event.which = 74;\n",
       "        event.keyCode = 74;\n",
       "        manager.command_mode();\n",
       "        manager.handle_keydown(event);\n",
       "    }\n",
       "}\n",
       "\n",
       "mpl.figure.prototype.handle_save = function(fig, msg) {\n",
       "    fig.ondownload(fig, null);\n",
       "}\n",
       "\n",
       "\n",
       "mpl.find_output_cell = function(html_output) {\n",
       "    // Return the cell and output element which can be found *uniquely* in the notebook.\n",
       "    // Note - this is a bit hacky, but it is done because the \"notebook_saving.Notebook\"\n",
       "    // IPython event is triggered only after the cells have been serialised, which for\n",
       "    // our purposes (turning an active figure into a static one), is too late.\n",
       "    var cells = IPython.notebook.get_cells();\n",
       "    var ncells = cells.length;\n",
       "    for (var i=0; i<ncells; i++) {\n",
       "        var cell = cells[i];\n",
       "        if (cell.cell_type === 'code'){\n",
       "            for (var j=0; j<cell.output_area.outputs.length; j++) {\n",
       "                var data = cell.output_area.outputs[j];\n",
       "                if (data.data) {\n",
       "                    // IPython >= 3 moved mimebundle to data attribute of output\n",
       "                    data = data.data;\n",
       "                }\n",
       "                if (data['text/html'] == html_output) {\n",
       "                    return [cell, data, j];\n",
       "                }\n",
       "            }\n",
       "        }\n",
       "    }\n",
       "}\n",
       "\n",
       "// Register the function which deals with the matplotlib target/channel.\n",
       "// The kernel may be null if the page has been refreshed.\n",
       "if (IPython.notebook.kernel != null) {\n",
       "    IPython.notebook.kernel.comm_manager.register_target('matplotlib', mpl.mpl_figure_comm);\n",
       "}\n"
      ],
      "text/plain": [
       "<IPython.core.display.Javascript object>"
      ]
     },
     "metadata": {},
     "output_type": "display_data"
    },
    {
     "data": {
      "text/html": [
       "<img src=\"data:image/png;base64,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\" width=\"900\">"
      ],
      "text/plain": [
       "<IPython.core.display.HTML object>"
      ]
     },
     "metadata": {},
     "output_type": "display_data"
    },
    {
     "name": "stdout",
     "output_type": "stream",
     "text": [
      "('chr1', 0, 248956422) ('chr1', 0, 248956422)\n",
      "('chr10', 0, 133797422) ('chr10', 0, 133797422)\n",
      "('chr11', 0, 135086622) ('chr11', 0, 135086622)\n",
      "('chr12', 0, 133275309) ('chr12', 0, 133275309)\n",
      "('chr14', 0, 107043718) ('chr14', 0, 107043718)\n",
      "('chr13', 0, 114364328) ('chr13', 0, 114364328)\n",
      "('chr16', 0, 90338345) ('chr16', 0, 90338345)\n",
      "('chr15', 0, 101991189) ('chr15', 0, 101991189)\n",
      "('chr17', 0, 83257441) ('chr17', 0, 83257441)\n",
      "('chr19', 0, 58617616) ('chr19', 0, 58617616)\n",
      "('chr18', 0, 80373285) ('chr18', 0, 80373285)\n",
      "('chr2', 0, 242193529) ('chr2', 0, 242193529)\n",
      "('chr20', 0, 64444167) ('chr20', 0, 64444167)\n",
      "('chr21', 0, 46709983) ('chr21', 0, 46709983)\n",
      "('chr22', 0, 50818468) ('chr22', 0, 50818468)\n",
      "('chr3', 0, 198295559) ('chr3', 0, 198295559)\n",
      "('chr4', 0, 190214555) ('chr4', 0, 190214555)\n",
      "('chr5', 0, 181538259) ('chr5', 0, 181538259)\n",
      "('chr6', 0, 170805979) ('chr6', 0, 170805979)\n",
      "('chr7', 0, 159345973) ('chr7', 0, 159345973)\n"
     ]
    },
    {
     "name": "stderr",
     "output_type": "stream",
     "text": [
      "/net/levsha/share/sameer/github/mirnylab-experimental/sameer/pileups/cooltools_pileups.py:82: RuntimeWarning: invalid value encountered in true_divide\n",
      "  coarse_expected = log_scaling[1:]/log_count[1:]\n",
      "/net/levsha/share/sameer/github/mirnylab-experimental/sameer/pileups/cooltools_pileups.py:82: RuntimeWarning: invalid value encountered in true_divide\n",
      "  coarse_expected = log_scaling[1:]/log_count[1:]\n"
     ]
    },
    {
     "name": "stdout",
     "output_type": "stream",
     "text": [
      "('chr8', 0, 145138636) ('chr8', 0, 145138636)\n",
      "('chr9', 0, 138394717) ('chr9', 0, 138394717)\n",
      "('chrX', 0, 156040895) ('chrX', 0, 156040895)\n"
     ]
    },
    {
     "name": "stderr",
     "output_type": "stream",
     "text": [
      "/net/levsha/share/sameer/github/mirnylab-experimental/sameer/pileups/cooltools_pileups.py:82: RuntimeWarning: invalid value encountered in true_divide\n",
      "  coarse_expected = log_scaling[1:]/log_count[1:]\n",
      "/net/levsha/share/sameer/github/mirnylab-experimental/sameer/pileups/cooltools_pileups.py:82: RuntimeWarning: invalid value encountered in true_divide\n",
      "  coarse_expected = log_scaling[1:]/log_count[1:]\n"
     ]
    }
   ],
   "source": [
    "dot_list = pd.read_csv(list_path, sep='\\t', index_col=0).reset_index(drop=True)\n",
    "l1 = dot_list[['chrom1','start1','end1']].rename(columns=lambda x: x[0:-1])\n",
    "l1 = snipping.assign_regions(l1, regions)\n",
    "l2 = dot_list[['chrom2','start2','end2']].rename(columns=lambda x: x[0:-1])\n",
    "l2 = snipping.assign_regions(l2, regions)\n",
    "dot_list = l1.merge(l2, left_index=True, right_index=True, suffixes=('1','2'))\n",
    "dot_list = dot_list[dot_list['region1']==dot_list['region2']].reset_index(drop=True)\n",
    "dot_list['pos1'] = (dot_list['start1'] + dot_list['end1'])//2\n",
    "dot_list['pos2'] = (dot_list['start2'] + dot_list['end2'])//2\n",
    "\n",
    "binned_list1 = snipping.make_bin_aligned_windows(res, dot_list['chrom1'].values, \n",
    "                                       dot_list['pos1'].values, flank_bp=40*res)\n",
    "binned_list2 = snipping.make_bin_aligned_windows(res, dot_list['chrom2'].values, \n",
    "                                       dot_list['pos2'].values, flank_bp=40*res)\n",
    "binned_list1 = binned_list1.merge(binned_list2, left_index=True, right_index=True,\n",
    "                                  suffixes=('1','2'))\n",
    "\n",
    "features = snipping.assign_regions(binned_list1, regions)\n",
    "assert np.all(features['region'].apply(lambda x: isinstance(x, str)))\n",
    "\n",
    "fig = plt.figure(figsize=(9, 3))\n",
    "fig.suptitle(f'{celltype} dot list: (DSG-DpnII)&(DSG-MNase)&(FA-DpnII) ', fontweight='bold')\n",
    "gs = GridSpec(nrows=1, ncols=4, width_ratios=[90,90,90, 2])\n",
    "\n",
    "snipper = cooltools_pileups.LocalObsExpSnipper(cool)#, cooler_opts={'balance':True})\n",
    "with mp.Pool(20) as p:\n",
    "    snips = snipping.pileup(features, snipper.select, snipper.snip, map=p.map)\n",
    "    \n",
    "pileup1 = np.nanmean(snips, axis=2)\n",
    "\n",
    "ax = fig.add_subplot(gs[0])\n",
    "ax.set_title(\"log10(Sameer's Pileup)\")\n",
    "ax.set_xticks([])\n",
    "ax.set_yticks([])\n",
    "ax.set_ylabel(f'{celltype}-DSG-DdeI')\n",
    "\n",
    "lim = 0.25\n",
    "img = ax.imshow(np.log10(pileup1), cmap='coolwarm', \n",
    "                        vmin=-lim, vmax=lim,\n",
    "                       extent=[-20, 20, 20, -20])\n",
    "\n",
    "snipper = snipping.ObsExpSnipper(cool, expt)#, cooler_opts={'balance':True})\n",
    "with mp.Pool(20) as p:\n",
    "    snips = snipping.pileup(features, snipper.select, snipper.snip, map=p.map)\n",
    "    \n",
    "pileup2 = np.nanmean(snips, axis=2)\n",
    "\n",
    "ax = fig.add_subplot(gs[1])\n",
    "ax.set_title(\"log10(Betul's Pileup)\")\n",
    "ax.set_xticks([])\n",
    "ax.set_yticks([])\n",
    "\n",
    "img = ax.imshow(np.log10(pileup2), cmap='coolwarm', \n",
    "                        vmin=-lim, vmax=lim,\n",
    "                       extent=[-20, 20, 20, -20])\n",
    "\n",
    "ax = fig.add_subplot(gs[2])\n",
    "ax.set_title(\"log10(Sameer's/Betul's)\")\n",
    "ax.set_xticks([])\n",
    "ax.set_yticks([])\n",
    "\n",
    "img = ax.imshow(np.log10(pileup1/pileup2), cmap='coolwarm', \n",
    "                        vmin=-lim, vmax=lim,\n",
    "                       extent=[-20, 20, 20, -20])\n",
    "\n",
    "cax = fig.add_subplot(gs[3])\n",
    "cbar = plt.colorbar(img, cax=cax, ticks=[-3*lim/4, -lim/4, lim/4, 3*lim/4], extend='both') \n",
    "fig.tight_layout(pad=3)\n",
    "fig.savefig('/home/sameer/Dropbox (MIT)/Research/U54_matrix/dot_pileup_comparison.png', format='png')"
   ]
  },
  {
   "cell_type": "code",
   "execution_count": null,
   "metadata": {
    "ExecuteTime": {
     "end_time": "2020-03-27T18:30:14.325716Z",
     "start_time": "2020-03-27T18:30:14.316885Z"
    },
    "scrolled": true
   },
   "outputs": [],
   "source": []
  },
  {
   "cell_type": "code",
   "execution_count": null,
   "metadata": {},
   "outputs": [],
   "source": []
  },
  {
   "cell_type": "code",
   "execution_count": null,
   "metadata": {
    "ExecuteTime": {
     "end_time": "2019-08-26T20:52:12.897933Z",
     "start_time": "2019-08-26T20:52:12.304665Z"
    }
   },
   "outputs": [],
   "source": []
  },
  {
   "cell_type": "code",
   "execution_count": null,
   "metadata": {
    "ExecuteTime": {
     "end_time": "2019-08-29T17:55:12.659017Z",
     "start_time": "2019-08-29T17:55:03.945353Z"
    },
    "scrolled": true
   },
   "outputs": [],
   "source": []
  },
  {
   "cell_type": "code",
   "execution_count": null,
   "metadata": {
    "ExecuteTime": {
     "end_time": "2019-08-30T01:47:15.562724Z",
     "start_time": "2019-08-30T01:47:14.425490Z"
    },
    "scrolled": false
   },
   "outputs": [],
   "source": []
  },
  {
   "cell_type": "code",
   "execution_count": null,
   "metadata": {},
   "outputs": [],
   "source": []
  }
 ],
 "metadata": {
  "kernelspec": {
   "display_name": "Python 3",
   "language": "python",
   "name": "python3"
  },
  "language_info": {
   "codemirror_mode": {
    "name": "ipython",
    "version": 3
   },
   "file_extension": ".py",
   "mimetype": "text/x-python",
   "name": "python",
   "nbconvert_exporter": "python",
   "pygments_lexer": "ipython3",
   "version": "3.7.6"
  }
 },
 "nbformat": 4,
 "nbformat_minor": 2
}
