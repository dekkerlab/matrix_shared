{
 "cells": [
  {
   "cell_type": "code",
   "execution_count": 1,
   "metadata": {
    "ExecuteTime": {
     "end_time": "2020-06-02T17:20:53.245330Z",
     "start_time": "2020-06-02T17:20:52.811690Z"
    }
   },
   "outputs": [],
   "source": [
    "\n",
    "from cooltools import insulation, snipping\n",
    "from sklearn.mixture import GaussianMixture\n",
    "from mirnylib.numutils import zoomArray\n",
    "from functools import partial\n",
    "\n",
    "import DNA_info\n",
    "import matrix_manager as mm\n",
    "import cooltools_pileups\n",
    "%matplotlib inline"
   ]
  },
  {
   "cell_type": "markdown",
   "metadata": {},
   "source": [
    "# Performing boundary pileup"
   ]
  },
  {
   "cell_type": "code",
   "execution_count": null,
   "metadata": {
    "ExecuteTime": {
     "end_time": "2020-01-11T02:38:38.617999Z",
     "start_time": "2020-01-11T02:38:38.601685Z"
    },
    "code_folding": [],
    "scrolled": true
   },
   "outputs": [],
   "source": [
    "def rao_insulations():\n",
    "    rao_path = './GSE63525_GM12878_primary+replicate_Arrowhead_domainlist_hg38.txt'\n",
    "    rao_ins = pd.read_csv(rao_path, sep='\\t')\n",
    "    rao_starts = rao_ins[['chrom1','start1']].rename(columns={'chrom1':'chrom', 'start1':'pos'})\n",
    "    rao_ends = rao_ins[['chrom1','end1']].rename(columns={'chrom1':'chrom', 'end1':'pos'})\n",
    "    rao_ins = pd.concat([rao_starts, rao_ends]).sort_values(['chrom','pos'])\n",
    "\n",
    "    ind = (rao_ins.iloc[1:]['pos'].values - rao_ins.iloc[0:-1]['pos'].values < 20000)\n",
    "    ind = ind & (rao_ins.iloc[1:]['chrom'].values == rao_ins.iloc[0:-1]['chrom'].values)\n",
    "    ind  = np.append(ind, True)\n",
    "    rao_ins = rao_ins[~ind].reset_index(drop=True)\n",
    "    \n",
    "    return rao_ins"
   ]
  },
  {
   "cell_type": "code",
   "execution_count": null,
   "metadata": {
    "ExecuteTime": {
     "end_time": "2020-01-11T02:38:45.825641Z",
     "start_time": "2020-01-11T02:38:42.442116Z"
    },
    "scrolled": true
   },
   "outputs": [],
   "source": [
    "db = mm.Database()\n",
    "table = db.get_tables()\n",
    "insulations = mm.filter_data(table, filter_dict={'seq':'deep'})\n",
    "list_names = list(insulations['lib_name'].values) \n",
    "insulations = db.get_insulation(insulations, subdir='./insulation/10000/window_20px/')\n",
    "\n",
    "table = mm.get_coolers(table, res=10000)\n",
    "\n",
    "arms = DNA_info.get_chromosome_arms('hg38')\n",
    "basepath = './pileups/boundaries/'\n",
    "\n",
    "for lib_name in list_names:\n",
    "    print(f'\\n***** {lib_name} ****\\n')\n",
    "    \n",
    "    if lib_name == 'rao2014':\n",
    "        insul = rao_insulations()\n",
    "    else:\n",
    "        insul = insulations.loc[insulations.lib_name == lib_name, 'insulation_10000'].values[0]\n",
    "        insul = insul.rename(columns={'log2_insulation_score_100000':'insul_score',\n",
    "                                      'boundary_strength_100000':'strength'})\n",
    "        insul['pos'] = (insul['start'] + insul['end'])//2\n",
    "        insul = insul[['chrom','pos','insul_score','strength','category']].dropna()\n",
    "\n",
    "    for cat in ['strong','weak']:\n",
    "        ins = insul.copy()\n",
    "        ins = ins[ins.category == cat]\n",
    "        \n",
    "        binned_list = snipping.make_bin_aligned_windows(10000, ins['chrom'].values, \n",
    "                                               ins['pos'].values, flank_bp=200000)\n",
    "        features = snipping.assign_regions(binned_list, arms)\n",
    "        assert np.all(features['region'].apply(lambda x: isinstance(x, str)))\n",
    "\n",
    "        savepath = f'{basepath}{lib_name}/{cat}/10000/'\n",
    "        os.makedirs(savepath, exist_ok=True)\n",
    "    #         df = insul_tads[['chrom1','start1','start2','pos','strength1','strength2']]\n",
    "    #         df = df.rename(columns={'chrom1':'chrom','start1':'start','start2':'end',\n",
    "    #                                 'strength1':'start_strength', 'strength2':'end_strength'})\n",
    "        assert len(ins) == len(features)\n",
    "        ins.to_csv(f'{savepath}/boundaries.txt', sep='\\t', header=True, index=False)\n",
    "\n",
    "        for _, row in table.iterrows():\n",
    "            name = row['lib_name']\n",
    "            print(name)\n",
    "\n",
    "            cool = row[f'cooler_{10000}']\n",
    "\n",
    "            snipper = cooltools_pileups.LocalObsExpSnipper(cool, cooler_opts={'balance':True})\n",
    "            with mp.Pool(20) as p:\n",
    "                pileup = snipping.pileup(features, snipper.select, snipper.snip, map=p.map)\n",
    "\n",
    "            np.save(f'{savepath}/{name}.npy', pileup)\n",
    "            print(f'Saved to: {savepath}/{name}.npy')\n",
    "\n"
   ]
  },
  {
   "cell_type": "markdown",
   "metadata": {
    "ExecuteTime": {
     "end_time": "2019-12-31T22:31:14.870122Z",
     "start_time": "2019-12-31T22:31:14.353938Z"
    },
    "scrolled": true
   },
   "source": [
    "# Visualization of the boundary enrichment score"
   ]
  },
  {
   "cell_type": "code",
   "execution_count": 4,
   "metadata": {
    "ExecuteTime": {
     "end_time": "2020-06-02T17:25:10.302037Z",
     "start_time": "2020-06-02T17:25:07.264793Z"
    },
    "scrolled": true
   },
   "outputs": [],
   "source": [
    "imp.reload(mm)\n",
    "db = mm.Database('./metadata/U54_matrix_info')\n",
    "table = db.get_tables()\n",
    "table = db.get_pileups(table, subdir='./pileups/boundaries/rao2014/10000/', col_name='boundaries')\n",
    "pu = table.loc[28, 'boundaries'].load()"
   ]
  },
  {
   "cell_type": "code",
   "execution_count": 5,
   "metadata": {
    "ExecuteTime": {
     "end_time": "2020-06-02T17:25:11.192645Z",
     "start_time": "2020-06-02T17:25:11.184758Z"
    }
   },
   "outputs": [
    {
     "data": {
      "text/plain": [
       "(41, 41, 14036)"
      ]
     },
     "execution_count": 5,
     "metadata": {},
     "output_type": "execute_result"
    }
   ],
   "source": [
    "pu.shape"
   ]
  },
  {
   "cell_type": "code",
   "execution_count": 6,
   "metadata": {
    "ExecuteTime": {
     "end_time": "2020-06-02T17:25:18.695874Z",
     "start_time": "2020-06-02T17:25:17.851001Z"
    }
   },
   "outputs": [
    {
     "name": "stderr",
     "output_type": "stream",
     "text": [
      "/home/sameer/anaconda3/lib/python3.7/site-packages/ipykernel_launcher.py:15: RuntimeWarning: divide by zero encountered in log10\n",
      "  from ipykernel import kernelapp as app\n",
      "/home/sameer/anaconda3/lib/python3.7/site-packages/ipykernel_launcher.py:23: RuntimeWarning: divide by zero encountered in log10\n",
      "/home/sameer/anaconda3/lib/python3.7/site-packages/ipykernel_launcher.py:31: RuntimeWarning: divide by zero encountered in log10\n"
     ]
    },
    {
     "data": {
      "text/plain": [
       "1.3293929680177758"
      ]
     },
     "execution_count": 6,
     "metadata": {},
     "output_type": "execute_result"
    },
    {
     "data": {
      "image/png": "[encoded data removed]",
      "text/plain": [
       "<Figure size 432x288 with 4 Axes>"
      ]
     },
     "metadata": {
      "needs_background": "light"
     },
     "output_type": "display_data"
    }
   ],
   "source": [
    "fig, ax  = plt.subplots(nrows=2, ncols=2, constrained_layout=True)\n",
    "p = np.nanmean(pu, axis=2)\n",
    "l = p.shape[0]\n",
    "ax[0,0].imshow(np.log10(p), cmap='coolwarm', vmin=-0.1, vmax=0.1)\n",
    "ax[0,0].axhline(l//2, color='k')\n",
    "ax[0,0].axvline(l//2, color='k')\n",
    "\n",
    "\n",
    "mask = np.arange(p.shape[0])\n",
    "mask = mask[None,:] - mask[:, None]\n",
    "\n",
    "p1 = p.copy()\n",
    "p1[:,0:(l//2 + l//20)] = 0\n",
    "p1[(l//2 - l//20 + 1):, :] = 0\n",
    "ax[0,1].imshow(np.log10(p1), cmap='coolwarm', vmin=-0.1, vmax=0.1)\n",
    "ax[0,1].axhline(l//2, color='k')\n",
    "ax[0,1].axvline(l//2, color='k')\n",
    "\n",
    "\n",
    "p2 = p.copy()\n",
    "p2[mask < 5] = 0\n",
    "p2[:,(l//2 - l//20 + 1):] = 0\n",
    "ax[1,0].imshow(np.log10(p2), cmap='coolwarm', vmin=-0.1, vmax=0.1)\n",
    "ax[1,0].axhline(l//2, color='k')\n",
    "ax[1,0].axvline(l//2, color='k')\n",
    "\n",
    "\n",
    "p3 = p.copy()\n",
    "p3[mask < 5] = 0\n",
    "p3[0:(l//2 + l//20),:] = 0\n",
    "ax[1,1].imshow(np.log10(p3), cmap='coolwarm', vmin=-0.1, vmax=0.1)\n",
    "ax[1,1].axhline(l//2, color='k')\n",
    "ax[1,1].axvline(l//2, color='k')\n",
    "\n",
    "in1 = np.mean(p3[p3 != 0])\n",
    "in2 = np.mean(p2[p2 != 0])\n",
    "\n",
    "out = np.mean(p1[p1 != 0])\n",
    "\n",
    "(in1 + in2)/(2*out)\n",
    "\n",
    "# fig.savefig('/home/sameer/Dropbox (MIT)/Research/U54_matrix/insulation/boundaries/boundary_scores_image.png')"
   ]
  },
  {
   "cell_type": "markdown",
   "metadata": {},
   "source": [
    "# Extracting Boundary Enrichment"
   ]
  },
  {
   "cell_type": "code",
   "execution_count": 2,
   "metadata": {
    "ExecuteTime": {
     "end_time": "2020-03-23T11:33:01.638457Z",
     "start_time": "2020-03-23T11:33:01.616717Z"
    }
   },
   "outputs": [],
   "source": [
    "def boundary_metric_rao(pileup):\n",
    "    \n",
    "    l = pileup.shape[0]\n",
    "    mask = np.arange(l)\n",
    "    mask = mask[None,:] - mask[:, None]\n",
    "    \n",
    "    out = pileup.copy()\n",
    "    out[:,0:(l//2 + l//20)] = 0\n",
    "    out[(l//2 - l//20 + 1):, :] = 0\n",
    "    out = np.mean(out[out != 0])\n",
    "    \n",
    "    in1 = pileup.copy()\n",
    "    in1[mask < 5] = 0\n",
    "    in1[:,(l//2 - l//20 + 1):] = 0\n",
    "    in1 = np.mean(in1[in1 != 0])\n",
    "    \n",
    "    in2 = pileup.copy()\n",
    "    in2[mask < 5] = 0\n",
    "    in2[0:(l//2 + l//20),:] = 0\n",
    "    in2 = np.mean(in2[in2 != 0])\n",
    "    \n",
    "    return (in1 + in2)/(2*out)\n",
    "\n",
    "def parallelize(tad_list, good_inds, name_snips):\n",
    "    name, snips = name_snips\n",
    "    print(name)\n",
    "    \n",
    "    snips = snips.load()\n",
    "    if np.all(np.isnan(snips)):\n",
    "        print(np.nan)\n",
    "        return np.nan\n",
    "    \n",
    "    snips = snips[:,:, good_inds]\n",
    "    arguments = [(snips[:,:,i], tad_list.loc[i, 'size']) for i in range(len(tad_list))]        \n",
    "    new_snips = list(map(rescale_snips, arguments))\n",
    "    new_snips = np.dstack(new_snips)\n",
    "\n",
    "    pileup = np.nanmean(new_snips, axis=2)\n",
    "    score = tad_metric_rao(pileup)\n",
    "    \n",
    "    print(score)\n",
    "    return score\n"
   ]
  },
  {
   "cell_type": "code",
   "execution_count": null,
   "metadata": {
    "ExecuteTime": {
     "end_time": "2020-01-06T03:55:01.104405Z",
     "start_time": "2020-01-06T03:55:01.087913Z"
    }
   },
   "outputs": [],
   "source": [
    "db = mm.Dataset()\n",
    "scores_df = db.get_tables()\n",
    "scores_df = scores_df[['lib_name']]\n",
    "scores_df.to_csv('./boundary_scores_strong.txt', sep='\\t', header=True, index=False)"
   ]
  },
  {
   "cell_type": "code",
   "execution_count": null,
   "metadata": {
    "ExecuteTime": {
     "end_time": "2020-01-06T04:39:20.828457Z",
     "start_time": "2020-01-06T03:55:38.570697Z"
    },
    "scrolled": true
   },
   "outputs": [],
   "source": [
    "base_path = '/net/levsha/share/sameer/U54/hic_matrix/pileups/boundaries/'\n",
    "db = mm.Dataset()\n",
    "list_names = db.get_tables()\n",
    "list_names = mm.filter_data(list_names, filter_dict={'seq':'deep'})\n",
    "list_names = ['rao2014'] + list(list_names['lib_name'].values) \n",
    "\n",
    "for cat in ['strong','weak']:\n",
    "    \n",
    "    for name in list_names[0:-1]:\n",
    "        print(f'\\n***** {name} ****\\n')\n",
    "\n",
    "        if name == 'rao2014':\n",
    "            subfolder = name\n",
    "        else:\n",
    "            subfolder = f'insulations/boundaries/{name}/10000'\n",
    "        table = db.get_tables()\n",
    "        table = db.get_pileups(table, subdir=subfolder, col_name='boundaries')\n",
    "        scores = []\n",
    "        for i, row in table.iterrows():\n",
    "            print(row['lib_name'])\n",
    "\n",
    "            snips = row['boundaries_10000'].load()\n",
    "\n",
    "            if np.all(np.isnan(snips)):\n",
    "                scores.append(np.nan)\n",
    "                print(np.nan)\n",
    "                continue\n",
    "\n",
    "            pileup = np.nanmean(snips, axis=2)\n",
    "            score = boundary_metric_rao(pileup)\n",
    "            print(score)\n",
    "            scores.append(score)\n",
    "\n",
    "            if np.random.random() < (3/70):\n",
    "                plt.figure()\n",
    "                plt.imshow(pileup, cmap='coolwarm')\n",
    "\n",
    "        scores_df[f'{name}'] = scores\n",
    "        scores_df.to_csv(f'./boundary_scores_{cat}.txt', sep='\\t', header=True, index=False)"
   ]
  },
  {
   "cell_type": "code",
   "execution_count": null,
   "metadata": {
    "ExecuteTime": {
     "start_time": "2020-01-11T02:43:42.757Z"
    }
   },
   "outputs": [],
   "source": [
    "cat = '_weak'\n",
    "bound_df = pd.read_csv(f'./boundary_scores{cat}.txt', sep='\\t')\n",
    "db = mm.Dataset()\n",
    "df = db.get_tables(['scaling_metrics'])\n",
    "df = mm.filter_data(df, filter_dict={'cycle':['NS'], 'seq':['-','control']})\n",
    "df = df.merge(bound_df, on='lib_name', how='outer').dropna()\n",
    "df"
   ]
  },
  {
   "cell_type": "code",
   "execution_count": null,
   "metadata": {
    "ExecuteTime": {
     "end_time": "2020-01-11T02:42:52.364912Z",
     "start_time": "2020-01-11T02:42:51.187826Z"
    }
   },
   "outputs": [],
   "source": [
    "list_names = [col for col in bound_df.columns if col != 'lib_name']\n",
    "fig, ax = plt.subplots(nrows=3, ncols=3, figsize=(9,6), sharex=True, sharey=False, constrained_layout=True)\n",
    "ax = ax.ravel()\n",
    "\n",
    "cat1 = 'celltype'\n",
    "if cat1 == 'celltype':\n",
    "    colors = {'END':'g', 'ESC':'r', 'HFF':'b', 'HelaS3':'y'}\n",
    "elif cat1 == 'xlink':\n",
    "    colors = {'DSG':'r', 'EGS':'b', 'FA':'g'}\n",
    "else:\n",
    "    colors = {'MNase':'g', 'DpnII':'r', 'DdeI':'b', 'HindIII':'y'}\n",
    "    \n",
    "for i, name in enumerate(list_names):\n",
    "\n",
    "    ax[i].set_title(name)\n",
    "    for ct, group in df.groupby(cat1):\n",
    "        if ct == 'double':\n",
    "            continue\n",
    "        x = group['avg_slope_100kb'].values\n",
    "        y = group[name].values\n",
    "        ax[i].scatter(x, y, label=ct, color=colors[ct])\n",
    "ax[2].legend(bbox_to_anchor=[1, 0.5], loc='center left')\n",
    "\n",
    "fig.savefig(f'/net/wiz/home/sameer/Dropbox (MIT)/Research/U54_matrix/insulation/boundaries/boundary_score_v_slope{cat}.pdf',\n",
    "           format='pdf')"
   ]
  },
  {
   "cell_type": "markdown",
   "metadata": {},
   "source": [
    "## Visualization of pileups"
   ]
  },
  {
   "cell_type": "code",
   "execution_count": null,
   "metadata": {
    "ExecuteTime": {
     "end_time": "2020-01-07T22:33:58.390607Z",
     "start_time": "2020-01-07T22:33:58.384075Z"
    }
   },
   "outputs": [],
   "source": [
    "list_names"
   ]
  },
  {
   "cell_type": "code",
   "execution_count": null,
   "metadata": {
    "ExecuteTime": {
     "end_time": "2020-01-13T01:25:13.636715Z",
     "start_time": "2020-01-13T01:25:13.625531Z"
    },
    "scrolled": true
   },
   "outputs": [],
   "source": [
    "imp.reload(mm)\n",
    "db = mm.Database()\n",
    "table = db.get_tables()"
   ]
  },
  {
   "cell_type": "code",
   "execution_count": null,
   "metadata": {
    "ExecuteTime": {
     "end_time": "2020-01-13T01:31:41.900640Z",
     "start_time": "2020-01-13T01:31:41.894376Z"
    }
   },
   "outputs": [],
   "source": [
    "ind = np.random.choice(table.index.values)\n",
    "name = 'U54-HFFc64DN-FA-DSG-MNase-R1-R2'#table.loc[ind, 'lib_name']\n",
    "print(name)"
   ]
  },
  {
   "cell_type": "code",
   "execution_count": null,
   "metadata": {
    "ExecuteTime": {
     "end_time": "2020-01-13T01:31:46.722793Z",
     "start_time": "2020-01-13T01:31:42.323395Z"
    },
    "scrolled": false
   },
   "outputs": [],
   "source": [
    "fig, ax  = plt.subplots(ncols=2, constrained_layout=True, figsize=(8,5))\n",
    "list_name = 'U54-HFFc64DN-FA-DSG-MNase-R1-R2'\n",
    "fig.suptitle(f'List from: {list_name}\\n\\n Pileup done on: {name}')\n",
    "lim = 0.1\n",
    "cat_list = ['strong', 'weak']\n",
    "for i in range(2):\n",
    "    df = mm.get_boundaries(table, f'{list_name}/{cat_list[i]}', 10000)\n",
    "    pu = df.loc[ind, 'boundaries_10000'].load()\n",
    "    p = np.nanmean(pu, axis=2)\n",
    "    print(np.log10(p).min(), np.log10(p).max())\n",
    "    ax[i].set_title(cat_list[i])\n",
    "    ax[i].imshow(np.log10(p), cmap='coolwarm', vmin=-lim, vmax=lim)\n",
    "    ax[i].axhline(20, color='k')\n",
    "    ax[i].axvline(20, color='k')\n",
    "    \n",
    "fig.savefig(f'/home/sameer/Dropbox (MIT)/Research/U54_matrix/insulation/boundaries/sample_weak_strong_{name}.png')"
   ]
  },
  {
   "cell_type": "markdown",
   "metadata": {},
   "source": [
    "## Control Case of Insulations + Random Shifts"
   ]
  },
  {
   "cell_type": "code",
   "execution_count": null,
   "metadata": {
    "ExecuteTime": {
     "end_time": "2020-01-25T19:03:14.948390Z",
     "start_time": "2020-01-25T19:03:12.096840Z"
    },
    "scrolled": true
   },
   "outputs": [],
   "source": [
    "db = mm.Dataset()\n",
    "table = db.get_tables()\n",
    "insulations = mm.filter_data(table, filter_dict={'seq':'deep'})\n",
    "table = mm.get_coolers(table, res=10000)\n",
    "insulations = mm.get_insulation(insulations, res=10000)\n",
    "display(insulations)\n",
    "insulations = insulations.loc[7,'insulation_10000']\n",
    "cool = table.loc[7, 'cooler_10000']\n",
    "insulations = insulations.rename(columns={'log2_insulation_score_100000':'insul_score',\n",
    "                                      'boundary_strength_100000':'strength'})\n",
    "insulations['pos'] = (insulations['start'] + insulations['end'])//2\n",
    "insulations = insulations[['chrom','pos','insul_score','strength','category']].dropna()\n",
    "\n",
    "insulations"
   ]
  },
  {
   "cell_type": "markdown",
   "metadata": {
    "ExecuteTime": {
     "end_time": "2020-01-25T18:31:08.441911Z",
     "start_time": "2020-01-25T18:31:08.434973Z"
    }
   },
   "source": [
    "# Random Shift Control"
   ]
  },
  {
   "cell_type": "code",
   "execution_count": null,
   "metadata": {
    "ExecuteTime": {
     "end_time": "2020-01-25T19:55:53.655817Z",
     "start_time": "2020-01-25T19:55:45.693297Z"
    },
    "scrolled": true
   },
   "outputs": [],
   "source": [
    "arms = DNA_info.get_chromosome_arms('hg38')\n",
    "results = []\n",
    "ins = insulations[insulations.category == 'strong']\n",
    "for i in range(2):\n",
    "    shifts = 0\n",
    "    if i:\n",
    "        shifts = np.round(np.random.uniform(low=200000, high=1000000, size=len(ins))).astype(int)\n",
    "        directions = 2*np.random.binomial(1, 0.5, size=len(ins)) - 1\n",
    "        shifts = shifts*directions\n",
    "        \n",
    "    binned_list = snipping.make_bin_aligned_windows(10000, ins['chrom'].values, \n",
    "                                               ins['pos'].values + shifts, flank_bp=200000)\n",
    "    \n",
    "    features = snipping.assign_regions(binned_list, arms).dropna()\n",
    "    assert np.all(features['region'].apply(lambda x: isinstance(x, str)))\n",
    "\n",
    "#     snipper = cooltools_pileups.LocalObsExpSnipper(cool, cooler_opts={'balance':True})\n",
    "    snipper = snipping.CoolerSnipper(cool, cooler_opts={'balance':True})\n",
    "    with mp.Pool(20) as p:\n",
    "        pileup = snipping.pileup(features, snipper.select, snipper.snip, map=p.map)\n",
    "\n",
    "    results.append(pileup)"
   ]
  },
  {
   "cell_type": "code",
   "execution_count": null,
   "metadata": {
    "ExecuteTime": {
     "end_time": "2020-01-25T19:58:30.037641Z",
     "start_time": "2020-01-25T19:58:29.771038Z"
    }
   },
   "outputs": [],
   "source": [
    "fig, ax  = plt.subplots(ncols=2, constrained_layout=True, figsize=(8,5))\n",
    "list_name = 'U54-HFFc64DN-FA-DSG-MNase-R1-R2'\n",
    "fig.suptitle(list_name)\n",
    "ax[0].set_title('No shifts')\n",
    "ax[1].set_title('With shifts')\n",
    "lim = 0.2\n",
    "for i in range(2):\n",
    "    pileup = results[i]\n",
    "    p = np.nanmean(pileup, axis=2)\n",
    "    print(np.log10(p).min(), np.log10(p).max())\n",
    "    ax[i].imshow(np.log10(p), cmap='fall', vmin=-2.75, vmax=-1.25)\n",
    "    ax[i].axhline(20, color='k')\n",
    "    ax[i].axvline(20, color='k')\n",
    "\n",
    "# fig.savefig(f'/home/sameer/Dropbox (MIT)/Research/U54_matrix/insulation/boundaries/shifted_control.png')"
   ]
  },
  {
   "cell_type": "markdown",
   "metadata": {},
   "source": [
    "# No OOE control"
   ]
  },
  {
   "cell_type": "code",
   "execution_count": null,
   "metadata": {
    "ExecuteTime": {
     "end_time": "2020-01-25T19:05:19.810431Z",
     "start_time": "2020-01-25T19:05:19.786650Z"
    }
   },
   "outputs": [],
   "source": [
    "insulations"
   ]
  },
  {
   "cell_type": "code",
   "execution_count": null,
   "metadata": {
    "ExecuteTime": {
     "end_time": "2020-01-25T19:54:43.495594Z",
     "start_time": "2020-01-25T19:54:26.195502Z"
    },
    "scrolled": true
   },
   "outputs": [],
   "source": [
    "fig, ax  = plt.subplots(nrows=2, ncols=2, constrained_layout=True, figsize=(7,7))\n",
    "list_name = 'U54-HFFc64DN-FA-DSG-MNase-R1-R2'\n",
    "fig.suptitle(list_name)\n",
    "lim = 0.2\n",
    "\n",
    "arms = DNA_info.get_chromosome_arms('hg38')\n",
    "\n",
    "for i, cat in enumerate(['weak','strong']):\n",
    "    ins = insulations[insulations.category == cat]\n",
    "    results = []\n",
    "    for j in range(2):\n",
    "\n",
    "        binned_list = snipping.make_bin_aligned_windows(10000, ins['chrom'].values, \n",
    "                                                   ins['pos'].values, flank_bp=200000)\n",
    "\n",
    "        features = snipping.assign_regions(binned_list, arms).dropna()\n",
    "        assert np.all(features['region'].apply(lambda x: isinstance(x, str)))\n",
    "\n",
    "        if not j:\n",
    "            snipper = cooltools_pileups.LocalObsExpSnipper(cool, cooler_opts={'balance':True})\n",
    "        else:\n",
    "            snipper = snipping.CoolerSnipper(cool, cooler_opts={'balance':True})\n",
    "\n",
    "        with mp.Pool(20) as p:\n",
    "            pileup = snipping.pileup(features, snipper.select, snipper.snip, map=p.map)\n",
    "\n",
    "        p = np.nanmean(pileup, axis=2)\n",
    "        print(np.log10(p).min(), np.log10(p).max())\n",
    "        ax[i,j].set_xticks([])\n",
    "        ax[i,j].set_yticks([])\n",
    "        if not j:\n",
    "            ax[i,j].imshow(np.log10(p), cmap='coolwarm', vmin=-lim, vmax=lim)\n",
    "            ax[i,j].set_title('Obs Over Exp Pileup')\n",
    "            ax[i,j].set_ylabel(f'{cat} boundaries')\n",
    "        else:\n",
    "            ax[i,j].imshow(np.log10(p), cmap='fall', vmin=-2.75, vmax=-1.75)\n",
    "            ax[i,j].set_title('Raw Pileup')\n",
    "\n",
    "fig.savefig(f'/home/sameer/Dropbox (MIT)/Research/U54_matrix/insulation/boundaries/ooe_control.png')       "
   ]
  },
  {
   "cell_type": "markdown",
   "metadata": {},
   "source": [
    "# Pileups of Insulations peaks with and without dot anchors"
   ]
  },
  {
   "cell_type": "code",
   "execution_count": null,
   "metadata": {
    "ExecuteTime": {
     "end_time": "2020-01-25T20:28:58.830904Z",
     "start_time": "2020-01-25T20:28:50.626098Z"
    }
   },
   "outputs": [],
   "source": [
    "imp.reload(mm)\n",
    "ds = mm.Dataset()\n",
    "table = ds.get_tables()\n",
    "table = mm.filter_data(table, filter_dict={'seq':'deep'}).reset_index(drop=True)\n",
    "table = mm.get_coolers(table, res=10000)\n",
    "table = mm.get_insulation(table, res=10000)\n",
    "table = mm.get_compartments(table, res=10000)\n",
    "table = mm.get_dot_calls(table, anchors=True, anchor_rad=10000).dropna()\n",
    "\n",
    "table"
   ]
  },
  {
   "cell_type": "code",
   "execution_count": null,
   "metadata": {
    "ExecuteTime": {
     "end_time": "2020-01-24T16:58:40.852292Z",
     "start_time": "2020-01-24T16:52:35.476109Z"
    },
    "scrolled": true
   },
   "outputs": [],
   "source": [
    "arms = DNA_info.get_chromosome_arms('hg38')\n",
    "\n",
    "for i, row in table.iterrows():\n",
    "    list_name = row['lib_name']\n",
    "    cool = row['cooler_10000']\n",
    "    insulations = row['insulation_10000']\n",
    "    insulations = insulations.rename(columns={'log2_insulation_score_100000':'insulation',\n",
    "                                      'boundary_strength_100000':'strength'})\n",
    "    insulations = insulations[['chrom','start','end','insulation','strength','category']].dropna()\n",
    "\n",
    "    anchors = row['anchors_10000']\n",
    "    anchors = anchors.groupby('clust_id').aggregate({'chrom':'first','start':'min', 'end':'max', 'dot_id':'count'})\n",
    "    anchors = anchors.rename(columns={'dot_id':'count'}).reset_index(drop=True)\n",
    "\n",
    "    with tsv(insulations) as a, tsv(anchors) as b:\n",
    "        out = bedtools.intersect(a=a.name, b=b.name, loj=True, wa=True, wb=True)\n",
    "        out.columns = [x for x in insulations.columns] + ['dot_'+x for x in anchors.columns]\n",
    "\n",
    "    out['pos'] = (out['start'] + out['end'])//2\n",
    "    out['dot_count'] = out['dot_count'].apply(lambda x: 0 if x == '.' else int(x))\n",
    "    out = out[['chrom', 'pos', 'insulation', 'strength', 'category', 'dot_count']]\n",
    "    out['dot_occ'] = out['dot_count'].apply(lambda x: False if x==0 else True)\n",
    "\n",
    "    results = []\n",
    "    n_snips = []\n",
    "    for cat in ['strong','weak']:\n",
    "        \n",
    "        for dot_occ in [True, False]:\n",
    "            pu_list = out[(out.category == cat) & (out.dot_occ == dot_occ)]\n",
    "            binned_list = snipping.make_bin_aligned_windows(10000, pu_list['chrom'].values, \n",
    "                                                       pu_list['pos'].values, flank_bp=200000)\n",
    "\n",
    "            features = snipping.assign_regions(binned_list, arms).dropna()\n",
    "            assert np.all(features['region'].apply(lambda x: isinstance(x, str)))\n",
    "\n",
    "            snipper = cooltools_pileups.LocalObsExpSnipper(cool, cooler_opts={'balance':True})\n",
    "            with mp.Pool(20) as p:\n",
    "                pileup = snipping.pileup(features, snipper.select, snipper.snip, map=p.map)\n",
    "\n",
    "            results.append(pileup)\n",
    "            n_snips.append(len(features))\n",
    "            \n",
    "    fig, ax  = plt.subplots(nrows=2, ncols=2, constrained_layout=True, figsize=(8,8))\n",
    "    fig.suptitle(list_name, fontsize=16)\n",
    "    # ax[0].set_title('No shifts')\n",
    "    # ax[1].set_title('With shifts')\n",
    "    lim=0.1\n",
    "    for i in range(4):\n",
    "        r = i//2\n",
    "        c = i%2\n",
    "\n",
    "        pileup = results[i]\n",
    "        p = np.nanmean(pileup, axis=2)\n",
    "        print(np.log10(p).min(), np.log10(p).max())\n",
    "\n",
    "        if i == 0:\n",
    "            ax[r,c].set_ylabel('Strong Boundary', fontsize=14)\n",
    "            ax[r,c].set_title('With Dot Anchor', fontsize=14)\n",
    "        if i == 1:\n",
    "            ax[r,c].set_title('No Dot Anchor', fontsize=14)\n",
    "        if i == 2:\n",
    "            ax[r,c].set_ylabel('Weak Boundary', fontsize=14)\n",
    "\n",
    "        ax[r,c].set_xlabel(n_snips[i])\n",
    "        ax[r,c].set_xticks([])\n",
    "        ax[r,c].set_yticks([])\n",
    "        ax[r,c].imshow(np.log10(p), cmap='coolwarm', vmin=-lim, vmax=lim)\n",
    "        ax[r,c].axhline(20, color='k')\n",
    "        ax[r,c].axvline(20, color='k')\n",
    "\n",
    "    fig.savefig(f'/home/sameer/Dropbox (MIT)/Research/U54_matrix/insulation/dot_anchors/{list_name}.png')\n",
    "    \n",
    "    \n",
    "    "
   ]
  },
  {
   "cell_type": "markdown",
   "metadata": {
    "ExecuteTime": {
     "end_time": "2020-01-24T16:50:29.992987Z",
     "start_time": "2020-01-24T16:50:29.985780Z"
    },
    "scrolled": true
   },
   "source": [
    "### Playing with thresholds on what constitutes a weak anchor with a dot"
   ]
  },
  {
   "cell_type": "code",
   "execution_count": null,
   "metadata": {
    "ExecuteTime": {
     "start_time": "2020-01-25T20:34:42.107Z"
    },
    "scrolled": true
   },
   "outputs": [],
   "source": [
    "arms = DNA_info.get_chromosome_arms('hg38')\n",
    "\n",
    "list_name = table.loc[7, 'lib_name']\n",
    "cool = table.loc[7, 'cooler_10000']\n",
    "\n",
    "insulations = table.loc[7, 'insulation_10000']\n",
    "insulations = insulations.rename(columns={'log2_insulation_score_100000':'insulation',\n",
    "                                  'boundary_strength_100000':'strength'})\n",
    "insulations = insulations[['chrom','start','end','insulation','strength','category']].dropna()\n",
    "\n",
    "anchors = row['anchors_10000']\n",
    "anchors = anchors.groupby('clust_id').aggregate({'chrom':'first','start':'min', 'end':'max', 'dot_id':'count'})\n",
    "anchors = anchors.rename(columns={'dot_id':'count'}).reset_index(drop=True)\n",
    "\n",
    "with tsv(insulations) as a, tsv(anchors) as b:\n",
    "    out = bedtools.intersect(a=a.name, b=b.name, loj=True, wa=True, wb=True)\n",
    "    out.columns = [x for x in insulations.columns] + ['dot_'+x for x in anchors.columns]\n",
    "\n",
    "out['pos'] = (out['start'] + out['end'])//2\n",
    "out['dot_count'] = out['dot_count'].apply(lambda x: 0 if x == '.' else int(x))\n",
    "out = out[['chrom', 'pos', 'insulation', 'strength', 'category', 'dot_count']]\n",
    "\n",
    "\n",
    "fig, ax  = plt.subplots(nrows=2, ncols=2, constrained_layout=True, figsize=(9,9))\n",
    "ax = ax.ravel()\n",
    "fig.suptitle(f'Weak Boundaries for {list_name}', fontsize=14)\n",
    "\n",
    "lim=0.1\n",
    "\n",
    "for i, thres in enumerate([0, 2, 4, 6]):\n",
    "    out['dot_occ'] = out['dot_count'].apply(lambda x: False if x<=thres else True)\n",
    "\n",
    "    \n",
    "\n",
    "    pu_list = out[(out.category == 'weak') & (out.dot_occ == False)]\n",
    "    binned_list = snipping.make_bin_aligned_windows(10000, pu_list['chrom'].values, \n",
    "                                               pu_list['pos'].values, flank_bp=200000)\n",
    "\n",
    "    features = snipping.assign_regions(binned_list, arms).dropna()\n",
    "    assert np.all(features['region'].apply(lambda x: isinstance(x, str)))\n",
    "\n",
    "    snipper = cooltools_pileups.LocalObsExpSnipper(cool, cooler_opts={'balance':True})\n",
    "    with mp.Pool(20) as p:\n",
    "        pileup = snipping.pileup(features, snipper.select, snipper.snip, map=p.map)\n",
    "\n",
    "\n",
    "    p = np.nanmean(pileup, axis=2)\n",
    "    print(np.log10(p).min(), np.log10(p).max())\n",
    "\n",
    "    ax[i].set_title(f'more than {thres} dot anchors: {len(features)}', fontsize=10)\n",
    "    ax[i].set_xticks([])\n",
    "    ax[i].set_yticks([])\n",
    "    ax[i].imshow(np.log10(p), cmap='coolwarm', vmin=-lim, vmax=lim)\n",
    "    ax[i].axhline(20, color='k')\n",
    "    ax[i].axvline(20, color='k')\n",
    "    \n",
    "# fig.savefig(f'/home/sameer/Dropbox (MIT)/Research/U54_matrix/insulation/dot_anchors/{list_name}_weak_dot_occ.png')"
   ]
  },
  {
   "cell_type": "code",
   "execution_count": null,
   "metadata": {
    "ExecuteTime": {
     "end_time": "2020-01-25T20:26:15.976556Z",
     "start_time": "2020-01-25T20:26:15.847256Z"
    }
   },
   "outputs": [],
   "source": [
    "fig, ax = plt.subplots()\n",
    "for cat in ['weak','strong']:\n",
    "    _ = ax.hist(out.loc[out.category == cat, 'dot_count'].values, \n",
    "                bins=np.arange(1,16), histtype='step', label=cat)\n",
    "ax.set_title(list_name)\n",
    "ax.set_xlabel('Number of dot anchors associated with a boundary')\n",
    "ax.set_xticks(np.arange(0.5, 15.5))\n",
    "ax.set_xticklabels(np.arange(0, 16))\n",
    "ax.legend()\n",
    "\n",
    "fig.savefig(f'/home/sameer/Dropbox (MIT)/Research/U54_matrix/insulation/dot_anchors/{list_name}_dot_occ_hist.png')"
   ]
  },
  {
   "cell_type": "markdown",
   "metadata": {
    "ExecuteTime": {
     "end_time": "2019-12-31T22:30:00.745181Z",
     "start_time": "2019-12-31T22:30:00.357695Z"
    }
   },
   "source": [
    "# Dots anchors, Boundaries and Compartments"
   ]
  },
  {
   "cell_type": "code",
   "execution_count": null,
   "metadata": {
    "ExecuteTime": {
     "end_time": "2020-01-25T02:13:10.647208Z",
     "start_time": "2020-01-25T02:00:26.999143Z"
    },
    "scrolled": true
   },
   "outputs": [],
   "source": [
    "arms = DNA_info.get_chromosome_arms('hg38')\n",
    "lim=0.1\n",
    "for i, row in table.iterrows():\n",
    "    list_name = row['lib_name']\n",
    "    cool = row['cooler_10000']\n",
    "    insulations = row['insulation_10000']\n",
    "    insulations = insulations.rename(columns={'log2_insulation_score_100000':'insulation',\n",
    "                                      'boundary_strength_100000':'strength'})\n",
    "    insulations = insulations[['chrom','start','end','insulation','strength','category']].dropna()\n",
    "\n",
    "    anchors = row['anchors_10000']\n",
    "    anchors = anchors.groupby('clust_id').aggregate({'chrom':'first','start':'min', 'end':'max', 'dot_id':'count'})\n",
    "    anchors = anchors.rename(columns={'dot_id':'count'}).reset_index(drop=True)\n",
    "\n",
    "    with tsv(insulations) as a, tsv(anchors) as b:\n",
    "        out = bedtools.intersect(a=a.name, b=b.name, loj=True, wa=True, wb=True)\n",
    "        out.columns = [x for x in insulations.columns] + ['dot_'+x for x in anchors.columns]\n",
    "\n",
    "    out['dot_count'] = out['dot_count'].apply(lambda x: 0 if x == '.' else int(x))\n",
    "    out = out[['chrom', 'start', 'end', 'insulation', 'strength', 'category', 'dot_count']]\n",
    "    out['dot_occ'] = out['dot_count'].apply(lambda x: False if x==0 else True)\n",
    "\n",
    "    vector = table.loc[4, 'vectors_10000']   \n",
    "    merged = out.merge(vector[['chrom','start','end','E1']], on=['chrom','start','end'], how='inner') \n",
    "    merged['comp'] = merged['E1'].apply(lambda x: 'A' if x>=0 else 'B')\n",
    "    merged['pos'] = (merged['start'] + merged['end'])//2\n",
    "    \n",
    "\n",
    "    for compartment in ['A', 'B']:\n",
    "        fig, ax  = plt.subplots(nrows=2, ncols=2, constrained_layout=True, figsize=(8,8))\n",
    "        fig.suptitle(f'{list_name} {compartment} Compartment', fontsize=16)\n",
    "\n",
    "        for i, cat in enumerate(['strong','weak']):\n",
    "\n",
    "            for j, dot_occ in enumerate([True, False]):\n",
    "                df = merged[merged.comp == compartment]\n",
    "                pu_list = df[(df.category == cat) & (df.dot_occ == dot_occ)]\n",
    "                binned_list = snipping.make_bin_aligned_windows(10000, pu_list['chrom'].values, \n",
    "                                                           pu_list['pos'].values, flank_bp=200000)\n",
    "\n",
    "                features = snipping.assign_regions(binned_list, arms).dropna()\n",
    "                assert np.all(features['region'].apply(lambda x: isinstance(x, str)))\n",
    "\n",
    "                snipper = cooltools_pileups.LocalObsExpSnipper(cool, cooler_opts={'balance':True})\n",
    "                with mp.Pool(20) as p:\n",
    "                    pileup = snipping.pileup(features, snipper.select, snipper.snip, map=p.map)\n",
    "\n",
    "\n",
    "\n",
    "                p = np.nanmean(pileup, axis=2)\n",
    "                print(np.log10(p).min(), np.log10(p).max())\n",
    "\n",
    "                if j == 0:\n",
    "                    ax[i,j].set_ylabel(f'{cat} boundary', fontsize=14)\n",
    "                if i == 0:\n",
    "                    ax[i,j].set_title(f\"{'With'*dot_occ + 'No'*(not dot_occ)} Dot Anchor\", fontsize=14)\n",
    "    #             if i == 1:\n",
    "    #                 ax[r,c].set_title('No Dot Anchor', fontsize=14)\n",
    "    #             if i == 2:\n",
    "    #                 ax[r,c].set_ylabel('Weak Boundary', fontsize=14)\n",
    "\n",
    "                ax[i,j].set_xlabel(f'# of sites: {len(features)}')\n",
    "                ax[i,j].set_xticks([])\n",
    "                ax[i,j].set_yticks([])\n",
    "                ax[i,j].imshow(np.log10(p), cmap='coolwarm', vmin=-lim, vmax=lim)\n",
    "                ax[i,j].axhline(20, color='k')\n",
    "                ax[i,j].axvline(20, color='k')\n",
    "\n",
    "\n",
    "        fig.savefig(f'/home/sameer/Dropbox (MIT)/Research/U54_matrix/insulation/dot_anchors/{compartment}_comp_pileup_{list_name}.png')\n",
    "\n",
    "\n"
   ]
  },
  {
   "cell_type": "code",
   "execution_count": null,
   "metadata": {
    "ExecuteTime": {
     "end_time": "2020-01-25T01:34:42.208381Z",
     "start_time": "2020-01-25T01:34:42.170607Z"
    }
   },
   "outputs": [],
   "source": [
    "merged"
   ]
  },
  {
   "cell_type": "markdown",
   "metadata": {},
   "source": [
    "# Controlling for Insulations Score Parameters"
   ]
  },
  {
   "cell_type": "code",
   "execution_count": null,
   "metadata": {
    "ExecuteTime": {
     "end_time": "2020-02-05T20:51:02.676312Z",
     "start_time": "2020-02-05T20:51:02.610002Z"
    }
   },
   "outputs": [],
   "source": [
    "db = mm.Dataset()\n",
    "table = db.get_tables()\n",
    "table = mm.filter_data(table, filter_dict={'seq':'deep'}).reset_index(drop=True)\n",
    "table\n",
    "# \n",
    "# display(insulations)\n",
    "# insulations = insulations.loc[7,'insulation_10000']\n",
    "# cool = table.loc[7, 'cooler_10000']\n",
    "# \n",
    "\n",
    "# insulations"
   ]
  },
  {
   "cell_type": "code",
   "execution_count": null,
   "metadata": {
    "ExecuteTime": {
     "end_time": "2020-02-05T22:16:33.021856Z",
     "start_time": "2020-02-05T20:51:36.424645Z"
    },
    "scrolled": true
   },
   "outputs": [],
   "source": [
    "imp.reload(cooltools_pileups)\n",
    "arms = DNA_info.get_chromosome_arms('hg38')\n",
    "lim = 0.2\n",
    "\n",
    "for ind in table.index.values:\n",
    "    name = table.loc[ind, 'lib_name']\n",
    "    \n",
    "    for cat in ['strong', 'weak']:\n",
    "        fig  = plt.figure(figsize=(10,10))\n",
    "        fig.suptitle(f'{name} {cat}')\n",
    "        gs = GridSpec(nrows=3, ncols=4, width_ratios=[90,90,90,5])\n",
    "\n",
    "        for i, res in enumerate([1000, 10000, 25000]):\n",
    "            print(res, '\\n')\n",
    "            coolers = mm.get_coolers(table, res=res)\n",
    "            cool = coolers.loc[ind, f'cooler_{res}']\n",
    "\n",
    "            for j, window in enumerate([5, 10, 20]):\n",
    "                print(window, '\\n')\n",
    "\n",
    "                insulations = mm.get_insulation(table, res=res, window_px=window)\n",
    "                ins = insulations.loc[ind, f'insulation_{res}_win{window}']\n",
    "                ins = ins[ins.category == cat]\n",
    "                ins = ins.rename(columns={'log2_insulation_score_100000':'insul_score',\n",
    "                                          'boundary_strength_100000':'strength'})\n",
    "                ins['pos'] = (ins['start'] + ins['end'])//2\n",
    "\n",
    "                binned_list = snipping.make_bin_aligned_windows(res, ins['chrom'].values, \n",
    "                                                       ins['pos'].values, flank_bp=2*window*res)\n",
    "\n",
    "                features = snipping.assign_regions(binned_list, arms).dropna()\n",
    "                assert np.all(features['region'].apply(lambda x: isinstance(x, str)))\n",
    "\n",
    "                snipper = cooltools_pileups.LocalObsExpSnipper(cool, cooler_opts={'balance':True})\n",
    "\n",
    "                with mp.Pool(20) as p:\n",
    "                    pileup = snipping.pileup(features, snipper.select, snipper.snip, map=p.map)\n",
    "\n",
    "                ax = fig.add_subplot(gs[i,j])\n",
    "                p = np.nanmean(pileup, axis=2)\n",
    "                print(np.log10(p).min(), np.log10(p).max())\n",
    "                ax.set_title(f'Res: {res}, Window: {window}')\n",
    "                ax.set_xticks([])\n",
    "                ax.set_yticks([])\n",
    "                img = ax.imshow(np.log10(p), cmap='coolwarm', vmin=-lim, vmax=lim)\n",
    "\n",
    "        cax = fig.add_subplot(gs[:,3])\n",
    "        cbar = plt.colorbar(img, cax=cax, ticks=[-lim, -lim/2, 0, lim/2, lim])\n",
    "        cax.set_yticklabels([f'<= -{lim}', f'-{lim/2}', '0', f'{lim/2}', f'>= {lim}'])\n",
    "        fig.tight_layout(pad=3)\n",
    "        fig.savefig(f'/home/sameer/Dropbox (MIT)/Research/U54_matrix/insulation/boundaries/res_window/{name}_{cat}.png')"
   ]
  },
  {
   "cell_type": "code",
   "execution_count": null,
   "metadata": {
    "ExecuteTime": {
     "end_time": "2020-02-05T20:51:33.238636Z",
     "start_time": "2020-02-05T20:51:33.233186Z"
    }
   },
   "outputs": [],
   "source": [
    "arms"
   ]
  },
  {
   "cell_type": "code",
   "execution_count": null,
   "metadata": {
    "ExecuteTime": {
     "end_time": "2020-02-03T02:00:57.700323Z",
     "start_time": "2020-02-03T02:00:48.601696Z"
    },
    "scrolled": true
   },
   "outputs": [],
   "source": [
    "fig  = plt.figure(figsize=(10,10))#.subplots(nrows=3, ncols=3, constrained_layout=True, figsize=(9,6))\n",
    "gs = GridSpec(nrows=3, ncols=4, width_ratios=[90,90,90,5])\n",
    "\n",
    "# ax = ax.ravel()\n",
    "# list_name = 'U54-HFFc64DN-FA-DSG-MNase-R1-R2'\n",
    "# fig.suptitle(list_name)\n",
    "# ax[0].set_title('No shifts')\n",
    "# ax[1].set_title('With shifts')\n",
    "lim = 0.2\n",
    "for i in range(len(results)):\n",
    "#     if i // 3 == 0:\n",
    "#         r = 1\n",
    "#     elif i // 3 == 1:\n",
    "#         r = 10\n",
    "#     else:\n",
    "#         r = 25\n",
    "        \n",
    "#     if i % 3 == 0:\n",
    "#         win = 5\n",
    "#     elif i % 3 == 1:\n",
    "#         win = 10\n",
    "#     else:\n",
    "#         win = 20\n",
    "\n",
    "    r = i//3\n",
    "    c = i%3\n",
    "    \n",
    "    ax = fig.add_subplot(gs[r,c])\n",
    "    fig.suptitle('Title')\n",
    "    pileup = results[i]\n",
    "    p = np.nanmean(pileup, axis=2)\n",
    "    print(np.log10(p).min(), np.log10(p).max())\n",
    "    ax.set_title(f'Res: {r}, Window: {win}')\n",
    "    ax.set_xticks([])\n",
    "    ax.set_yticks([])\n",
    "    img = ax.imshow(np.log10(p), cmap='coolwarm', vmin=-lim, vmax=lim)\n",
    "    \n",
    "cax = fig.add_subplot(gs[:,3])\n",
    "cbar = plt.colorbar(img, cax=cax, ticks=[-lim, -lim/2, 0, lim/2, lim])\n",
    "cax.set_yticklabels([f'<= -{lim}', f'-{lim/2}', '0', f'{lim/2}', f'>= {lim}'])\n",
    "#     ax[i].axhline(20, color='k')\n",
    "#     ax[i].axvline(20, color='k')\n",
    "fig.tight_layout(pad=3)\n",
    "# fig.savefig(f'/home/sameer/Dropbox (MIT)/Research/U54_matrix/insulation/boundaries/shifted_control.png')"
   ]
  },
  {
   "cell_type": "markdown",
   "metadata": {},
   "source": [
    "# Boundary Scores for different Insulation Parameters"
   ]
  },
  {
   "cell_type": "code",
   "execution_count": null,
   "metadata": {
    "ExecuteTime": {
     "end_time": "2020-02-05T22:46:09.501768Z",
     "start_time": "2020-02-05T22:46:09.467385Z"
    },
    "scrolled": true
   },
   "outputs": [],
   "source": [
    "df = db.get_tables('scaling_metrics')\n",
    "df = df[['lib_name','celltype','xlink','enzyme','avg_slope_100kb']]\n",
    "df['score'] = np.nan\n",
    "df"
   ]
  },
  {
   "cell_type": "code",
   "execution_count": null,
   "metadata": {
    "ExecuteTime": {
     "end_time": "2020-02-06T18:48:40.297173Z",
     "start_time": "2020-02-06T18:48:40.267820Z"
    },
    "scrolled": true
   },
   "outputs": [],
   "source": [
    "coolers"
   ]
  },
  {
   "cell_type": "code",
   "execution_count": null,
   "metadata": {
    "ExecuteTime": {
     "end_time": "2020-02-06T17:37:10.146381Z",
     "start_time": "2020-02-06T17:21:12.112381Z"
    },
    "scrolled": true
   },
   "outputs": [],
   "source": [
    "db = mm.Dataset()\n",
    "table = db.get_tables()\n",
    "table = mm.filter_data(table, filter_dict={'cycle':'NS'})\n",
    "arms = DNA_info.get_chromosome_arms('hg38')\n",
    "\n",
    "fig, ax = plt.subplots(nrows=2, ncols=2, figsize=(10,10), \n",
    "                       sharex=True, sharey=False, constrained_layout=True)\n",
    "fig.suptitle('Boundary Score v/s Scaling Slope', fontsize=18, fontweight='bold')\n",
    "color_dict = {'END':'g','ESC':'r','HFF':'b', 'HelaS3':'m'}\n",
    "for i, res in enumerate([10000, 25000]):\n",
    "    print(f'\\n\\n>>>>>>>>>>>>>>>>>{res}<<<<<<<<<<<<<<<<<<\\n\\n')\n",
    "    \n",
    "    coolers = mm.get_coolers(table, res=res)\n",
    "\n",
    "    for j, window in enumerate([10, 20]):\n",
    "        print(f'\\n\\n>>>>>>>>>>>>>>>>>{window}<<<<<<<<<<<<<<<<<<\\n\\n')\n",
    "        \n",
    "        ins_path = f'./insulation/{res}/window_{window}px/U54-HFFc6-DSG-DpnII-R1-R2.txt'\n",
    "        insulations = pd.read_csv(ins_path, sep='\\t')\n",
    "        insulations = insulations.rename(columns={f'log2_insulation_score_{res*window}':'insul_score',\n",
    "                                      f'boundary_strength_{res*window}':'strength'})\n",
    "        insulations['pos'] = (insulations['start'] + insulations['end'])//2\n",
    "        insulations = insulations[['chrom','pos','insul_score','strength','category']].dropna()\n",
    "\n",
    "         \n",
    "        ins = insulations.copy()\n",
    "        ins = ins[ins.category == 'strong']\n",
    "        \n",
    "        binned_list = snipping.make_bin_aligned_windows(res, ins['chrom'].values, \n",
    "                                               ins['pos'].values, flank_bp=2*window*res)\n",
    "        features = snipping.assign_regions(binned_list, arms)\n",
    "        assert np.all(features['region'].apply(lambda x: isinstance(x, str)))\n",
    "        \n",
    "        result_df = db.get_tables('scaling_metrics')\n",
    "        result_df = mm.filter_data(result_df, filter_dict={'cycle':'NS'})\n",
    "        result_df = result_df[['lib_name','celltype','xlink','enzyme','avg_slope_100kb']]\n",
    "        result_df['score'] = np.nan\n",
    "        \n",
    "        for k, row in coolers.iterrows():\n",
    "            name = row['lib_name']\n",
    "            print(name)\n",
    "\n",
    "            cool = row[f'cooler_{res}']\n",
    "\n",
    "            snipper = cooltools_pileups.LocalObsExpSnipper(cool, cooler_opts={'balance':True})\n",
    "            with mp.Pool(20) as p:\n",
    "                snips = snipping.pileup(features, snipper.select, snipper.snip, map=p.map)\n",
    "\n",
    "\n",
    "            if np.all(np.isnan(snips)):\n",
    "                print(np.nan)\n",
    "                continue\n",
    "\n",
    "            pileup = np.nanmean(snips, axis=2)\n",
    "            score = boundary_metric_rao(pileup)\n",
    "            print(score)\n",
    "            result_df.loc[k, 'score'] = score\n",
    "\n",
    "        \n",
    "        if not i:\n",
    "            ax[i,j].set_title(f'Window: {window} pixels', fontsize=14, fontweight='bold')\n",
    "        else:\n",
    "            ax[i,j].set_xlabel('Avg. Slope (1-100kb)', fontsize=14)\n",
    "        if not j:\n",
    "            ax[i,j].set_ylabel(f'Resolution: {res}', fontsize=14, fontweight='bold')\n",
    "            \n",
    "        \n",
    "        for ct, group in result_df.groupby('celltype'):\n",
    "            x = group['avg_slope_100kb'].values\n",
    "            y = group['score'].values\n",
    "            \n",
    "            ax[i,j].scatter(x, y, s=20, c=color_dict[ct], label=ct)\n",
    "            \n",
    "        ax[i,j].legend()\n",
    "             \n",
    "fig.savefig('/home/sameer/Dropbox (MIT)/Research/U54_matrix/insulation/boundaries/res_window/scatter.png')\n"
   ]
  },
  {
   "cell_type": "markdown",
   "metadata": {
    "ExecuteTime": {
     "end_time": "2020-02-06T17:03:11.059765Z",
     "start_time": "2020-02-06T17:03:11.052449Z"
    }
   },
   "source": [
    "# Pileup for Betul"
   ]
  },
  {
   "cell_type": "code",
   "execution_count": 3,
   "metadata": {
    "ExecuteTime": {
     "end_time": "2020-03-23T11:33:07.733451Z",
     "start_time": "2020-03-23T11:33:06.739627Z"
    },
    "code_folding": [
     0
    ]
   },
   "outputs": [
    {
     "name": "stderr",
     "output_type": "stream",
     "text": [
      "INFO:numexpr.utils:Note: NumExpr detected 40 cores but \"NUMEXPR_MAX_THREADS\" not set, so enforcing safe limit of 8.\n"
     ]
    }
   ],
   "source": [
    "arms = DNA_info.get_chromosome_arms('hg38')\n",
    "\n",
    "savepath = f'/home/sameer/Dropbox (MIT)/Research/U54_matrix/betul/boundary/union/'\n",
    "os.makedirs(savepath, exist_ok=True)\n",
    "ins_path = '/home/sameer/Dropbox (MIT)/Research/U54_matrix/betul/'\n",
    "ins_dict = {'ESC':'ESC4DN-FA-DpnII-ESC4DN-DSG-DpnII-H1ESC4DN-FA-DSG-MNase_union.txt',\n",
    "            'HFF':'HFFc6-FA-DpnII-HFFc6-DSG-DpnII-HFFc6-FA-DSG-MNase_union.txt'}"
   ]
  },
  {
   "cell_type": "code",
   "execution_count": 14,
   "metadata": {
    "ExecuteTime": {
     "end_time": "2020-03-23T11:49:14.451296Z",
     "start_time": "2020-03-23T11:48:23.467152Z"
    },
    "scrolled": true
   },
   "outputs": [
    {
     "name": "stdout",
     "output_type": "stream",
     "text": [
      "\n",
      " U54-HFF-plate-DSG-MNase-20190509-R2-T1__hg38 \n",
      "\n",
      "('chr1', 0, 123479591) ('chr1', 0, 123479591)\n",
      "('chr1', 123479591, 248956422) ('chr1', 123479591, 248956422)\n",
      "('chr10', 40640101, 133797422) ('chr10', 40640101, 133797422)\n",
      "('chr10', 0, 40640101) ('chr10', 0, 40640101)\n",
      "('chr11', 0, 52751711) ('chr11', 0, 52751711)\n",
      "('chr11', 52751711, 135086622) ('chr11', 52751711, 135086622)\n",
      "('chr12', 0, 35977329) ('chr12', 0, 35977329)\n",
      "('chr12', 35977329, 133275309) ('chr12', 35977329, 133275309)\n",
      "('chr13', 17025624, 114364328) ('chr13', 17025624, 114364328)\n",
      "('chr14', 17086761, 107043718) ('chr14', 17086761, 107043718)\n",
      "('chr15', 18404463, 101991189) ('chr15', 18404463, 101991189)\n",
      "('chr16', 0, 37288413) ('chr16', 0, 37288413)\n",
      "('chr16', 37288413, 90338345) ('chr16', 37288413, 90338345)\n",
      "('chr17', 0, 24714921) ('chr17', 0, 24714921)\n",
      "('chr17', 24714921, 83257441) ('chr17', 24714921, 83257441)\n",
      "('chr18', 0, 18161052) ('chr18', 0, 18161052)\n",
      "('chr18', 18161052, 80373285) ('chr18', 18161052, 80373285)\n",
      "('chr19', 0, 25844927) ('chr19', 0, 25844927)\n",
      "('chr19', 25844927, 58617616) ('chr19', 25844927, 58617616)\n",
      "('chr2', 0, 93139351) ('chr2', 0, 93139351)\n",
      "('chr2', 93139351, 242193529) ('chr2', 93139351, 242193529)\n"
     ]
    },
    {
     "name": "stderr",
     "output_type": "stream",
     "text": [
      "/net/levsha/share/sameer/github/mirnylab-experimental/sameer/pileups/cooltools_pileups.py:82: RuntimeWarning: invalid value encountered in true_divide\n",
      "  coarse_expected = log_scaling[1:]/log_count[1:]\n"
     ]
    },
    {
     "name": "stdout",
     "output_type": "stream",
     "text": [
      "('chr20', 0, 28237290) ('chr20', 0, 28237290)\n"
     ]
    },
    {
     "name": "stderr",
     "output_type": "stream",
     "text": [
      "/net/levsha/share/sameer/github/mirnylab-experimental/sameer/pileups/cooltools_pileups.py:82: RuntimeWarning: invalid value encountered in true_divide\n",
      "  coarse_expected = log_scaling[1:]/log_count[1:]\n"
     ]
    },
    {
     "name": "stdout",
     "output_type": "stream",
     "text": [
      "('chr20', 28237290, 64444167) ('chr20', 28237290, 64444167)\n",
      "('chr21', 11890184, 46709983) ('chr21', 11890184, 46709983)\n",
      "('chr22', 14004553, 50818468) ('chr22', 14004553, 50818468)\n",
      "('chr3', 0, 92214016) ('chr3', 0, 92214016)\n",
      "('chr5', 48272853, 181538259) ('chr5', 48272853, 181538259)\n",
      "('chr3', 92214016, 198295559) ('chr3', 92214016, 198295559)\n",
      "('chr4', 0, 50728006) ('chr4', 0, 50728006)\n",
      "('chr4', 50728006, 190214555) ('chr4', 50728006, 190214555)\n",
      "('chr5', 0, 48272853) ('chr5', 0, 48272853)\n",
      "('chr6', 0, 59191911) ('chr6', 0, 59191911)\n",
      "('chr6', 59191911, 170805979) ('chr6', 59191911, 170805979)\n",
      "('chr7', 0, 59848836) ('chr7', 0, 59848836)\n",
      "('chr7', 59848836, 159345973) ('chr7', 59848836, 159345973)\n",
      "('chr8', 0, 44955504) ('chr8', 0, 44955504)\n",
      "('chr8', 44955504, 145138636) ('chr8', 44955504, 145138636)\n",
      "('chr9', 0, 44454096) ('chr9', 0, 44454096)\n",
      "('chr9', 44454096, 138394717) ('chr9', 44454096, 138394717)\n",
      "('chrX', 0, 60509060) ('chrX', 0, 60509060)\n",
      "('chrX', 60509060, 156040895) ('chrX', 60509060, 156040895)\n",
      "('chrY', 0, 10430491) ('chrY', 0, 10430491)\n",
      "('chrY', 10430491, 57227415) ('chrY', 10430491, 57227415)\n"
     ]
    },
    {
     "name": "stderr",
     "output_type": "stream",
     "text": [
      "/net/levsha/share/sameer/github/mirnylab-experimental/sameer/pileups/cooltools_pileups.py:82: RuntimeWarning: invalid value encountered in true_divide\n",
      "  coarse_expected = log_scaling[1:]/log_count[1:]\n",
      "/net/levsha/share/sameer/github/mirnylab-experimental/sameer/pileups/cooltools_pileups.py:82: RuntimeWarning: invalid value encountered in true_divide\n",
      "  coarse_expected = log_scaling[1:]/log_count[1:]\n",
      "/net/levsha/share/sameer/github/mirnylab-experimental/sameer/pileups/cooltools_pileups.py:82: RuntimeWarning: invalid value encountered in true_divide\n",
      "  coarse_expected = log_scaling[1:]/log_count[1:]\n"
     ]
    },
    {
     "name": "stdout",
     "output_type": "stream",
     "text": [
      "-0.4111024889499679 0.32083725664635265\n",
      "\n",
      " U54-HFF-plate-EGS-MNase-20190509-R2-T1__hg38 \n",
      "\n",
      "('chr1', 0, 123479591) ('chr1', 0, 123479591)\n",
      "('chr10', 0, 40640101) ('chr10', 0, 40640101)\n",
      "('chr1', 123479591, 248956422) ('chr1', 123479591, 248956422)\n",
      "('chr11', 0, 52751711) ('chr11', 0, 52751711)\n",
      "('chr10', 40640101, 133797422) ('chr10', 40640101, 133797422)\n",
      "('chr11', 52751711, 135086622) ('chr11', 52751711, 135086622)\n",
      "('chr12', 0, 35977329) ('chr12', 0, 35977329)\n",
      "('chr12', 35977329, 133275309) ('chr12', 35977329, 133275309)\n",
      "('chr13', 17025624, 114364328) ('chr13', 17025624, 114364328)\n",
      "('chr14', 17086761, 107043718) ('chr14', 17086761, 107043718)\n",
      "('chr15', 18404463, 101991189) ('chr15', 18404463, 101991189)\n",
      "('chr16', 0, 37288413) ('chr16', 0, 37288413)\n",
      "('chr16', 37288413, 90338345) ('chr16', 37288413, 90338345)\n",
      "('chr17', 0, 24714921) ('chr17', 0, 24714921)\n",
      "('chr17', 24714921, 83257441) ('chr17', 24714921, 83257441)\n",
      "('chr18', 0, 18161052) ('chr18', 0, 18161052)\n",
      "('chr18', 18161052, 80373285) ('chr18', 18161052, 80373285)\n",
      "('chr19', 0, 25844927) ('chr19', 0, 25844927)\n",
      "('chr19', 25844927, 58617616) ('chr19', 25844927, 58617616)\n",
      "('chr2', 0, 93139351) ('chr2', 0, 93139351)\n"
     ]
    },
    {
     "name": "stderr",
     "output_type": "stream",
     "text": [
      "/net/levsha/share/sameer/github/mirnylab-experimental/sameer/pileups/cooltools_pileups.py:84: RuntimeWarning: divide by zero encountered in log10\n",
      "  f = interp1d(np.log10(bin_mids), np.log10(coarse_expected), kind='linear')\n",
      "/net/levsha/share/sameer/github/mirnylab-experimental/sameer/pileups/cooltools_pileups.py:89: RuntimeWarning: invalid value encountered in double_scalars\n",
      "  yremaining = y[-1] + ((y[-1]-y[-2])/(x[-1]-x[-2]))*(xremaining - x[-1])\n",
      "/net/levsha/share/sameer/github/mirnylab-experimental/sameer/pileups/cooltools_pileups.py:105: RuntimeWarning: divide by zero encountered in true_divide\n",
      "  matrix.data = data/fine_expected[diff]\n",
      "/net/levsha/share/sameer/github/mirnylab-experimental/sameer/pileups/cooltools_pileups.py:105: RuntimeWarning: invalid value encountered in true_divide\n",
      "  matrix.data = data/fine_expected[diff]\n",
      "/net/levsha/share/sameer/github/mirnylab-experimental/sameer/pileups/cooltools_pileups.py:82: RuntimeWarning: invalid value encountered in true_divide\n",
      "  coarse_expected = log_scaling[1:]/log_count[1:]\n"
     ]
    },
    {
     "name": "stdout",
     "output_type": "stream",
     "text": [
      "('chr2', 93139351, 242193529) ('chr2', 93139351, 242193529)\n",
      "('chr20', 0, 28237290) ('chr20', 0, 28237290)\n",
      "('chr20', 28237290, 64444167) ('chr20', 28237290, 64444167)\n",
      "('chr21', 11890184, 46709983) ('chr21', 11890184, 46709983)\n",
      "('chr22', 14004553, 50818468) ('chr22', 14004553, 50818468)\n",
      "('chr3', 0, 92214016) ('chr3', 0, 92214016)\n",
      "('chr3', 92214016, 198295559) ('chr3', 92214016, 198295559)\n",
      "('chr4', 0, 50728006) ('chr4', 0, 50728006)\n",
      "('chr4', 50728006, 190214555) ('chr4', 50728006, 190214555)\n",
      "('chr5', 0, 48272853) ('chr5', 0, 48272853)\n",
      "('chr5', 48272853, 181538259) ('chr5', 48272853, 181538259)\n",
      "('chr6', 0, 59191911) ('chr6', 0, 59191911)\n",
      "('chr6', 59191911, 170805979) ('chr6', 59191911, 170805979)\n",
      "('chr7', 0, 59848836) ('chr7', 0, 59848836)\n",
      "('chr8', 0, 44955504) ('chr8', 0, 44955504)\n",
      "('chr7', 59848836, 159345973) ('chr7', 59848836, 159345973)\n",
      "('chr8', 44955504, 145138636) ('chr8', 44955504, 145138636)\n",
      "('chr9', 0, 44454096) ('chr9', 0, 44454096)\n",
      "('chr9', 44454096, 138394717) ('chr9', 44454096, 138394717)\n",
      "('chrX', 0, 60509060) ('chrX', 0, 60509060)\n",
      "('chrX', 60509060, 156040895) ('chrX', 60509060, 156040895)\n",
      "('chrY', 0, 10430491) ('chrY', 0, 10430491)\n",
      "('chrY', 10430491, 57227415) ('chrY', 10430491, 57227415)\n"
     ]
    },
    {
     "name": "stderr",
     "output_type": "stream",
     "text": [
      "/net/levsha/share/sameer/github/mirnylab-experimental/sameer/pileups/cooltools_pileups.py:82: RuntimeWarning: invalid value encountered in true_divide\n",
      "  coarse_expected = log_scaling[1:]/log_count[1:]\n",
      "/net/levsha/share/sameer/github/mirnylab-experimental/sameer/pileups/cooltools_pileups.py:82: RuntimeWarning: invalid value encountered in true_divide\n",
      "  coarse_expected = log_scaling[1:]/log_count[1:]\n",
      "/net/levsha/share/sameer/github/mirnylab-experimental/sameer/pileups/cooltools_pileups.py:82: RuntimeWarning: invalid value encountered in true_divide\n",
      "  coarse_expected = log_scaling[1:]/log_count[1:]\n"
     ]
    },
    {
     "name": "stdout",
     "output_type": "stream",
     "text": [
      "-0.4188538531986912 0.32458997194570727\n",
      "\n",
      " U54-HFF-plate-FA-MNase-20190509-R2-T1__hg38 \n",
      "\n"
     ]
    },
    {
     "name": "stderr",
     "output_type": "stream",
     "text": [
      "/home/sameer/miniconda3/lib/python3.6/site-packages/ipykernel_launcher.py:71: MatplotlibDeprecationWarning: Adding an axes using the same arguments as a previous axes currently reuses the earlier instance.  In a future version, a new instance will always be created and returned.  Meanwhile, this warning can be suppressed, and the future behavior ensured, by passing a unique label to each axes instance.\n"
     ]
    },
    {
     "name": "stdout",
     "output_type": "stream",
     "text": [
      "('chr1', 0, 123479591) ('chr1', 0, 123479591)\n",
      "('chr11', 52751711, 135086622) ('chr11', 52751711, 135086622)\n",
      "('chr1', 123479591, 248956422) ('chr1', 123479591, 248956422)\n",
      "('chr10', 0, 40640101) ('chr10', 0, 40640101)\n",
      "('chr10', 40640101, 133797422) ('chr10', 40640101, 133797422)\n",
      "('chr11', 0, 52751711) ('chr11', 0, 52751711)\n",
      "('chr12', 0, 35977329) ('chr12', 0, 35977329)\n",
      "('chr12', 35977329, 133275309) ('chr12', 35977329, 133275309)\n",
      "('chr13', 17025624, 114364328) ('chr13', 17025624, 114364328)\n",
      "('chr14', 17086761, 107043718) ('chr14', 17086761, 107043718)\n",
      "('chr15', 18404463, 101991189) ('chr15', 18404463, 101991189)\n",
      "('chr16', 0, 37288413) ('chr16', 0, 37288413)\n",
      "('chr16', 37288413, 90338345) ('chr16', 37288413, 90338345)\n",
      "('chr17', 0, 24714921) ('chr17', 0, 24714921)\n",
      "('chr17', 24714921, 83257441) ('chr17', 24714921, 83257441)\n",
      "('chr18', 0, 18161052) ('chr18', 0, 18161052)\n",
      "('chr18', 18161052, 80373285) ('chr18', 18161052, 80373285)\n",
      "('chr19', 0, 25844927) ('chr19', 0, 25844927)\n",
      "('chr19', 25844927, 58617616) ('chr19', 25844927, 58617616)\n",
      "('chr2', 0, 93139351) ('chr2', 0, 93139351)\n"
     ]
    },
    {
     "name": "stderr",
     "output_type": "stream",
     "text": [
      "/net/levsha/share/sameer/github/mirnylab-experimental/sameer/pileups/cooltools_pileups.py:82: RuntimeWarning: invalid value encountered in true_divide\n",
      "  coarse_expected = log_scaling[1:]/log_count[1:]\n",
      "/net/levsha/share/sameer/github/mirnylab-experimental/sameer/pileups/cooltools_pileups.py:82: RuntimeWarning: invalid value encountered in true_divide\n",
      "  coarse_expected = log_scaling[1:]/log_count[1:]\n"
     ]
    },
    {
     "name": "stdout",
     "output_type": "stream",
     "text": [
      "('chr2', 93139351, 242193529) ('chr2', 93139351, 242193529)\n",
      "('chr20', 0, 28237290) ('chr20', 0, 28237290)\n",
      "('chr20', 28237290, 64444167) ('chr20', 28237290, 64444167)\n",
      "('chr21', 11890184, 46709983) ('chr21', 11890184, 46709983)\n",
      "('chr22', 14004553, 50818468) ('chr22', 14004553, 50818468)\n",
      "('chr3', 0, 92214016) ('chr3', 0, 92214016)\n",
      "('chr3', 92214016, 198295559) ('chr3', 92214016, 198295559)\n",
      "('chr4', 0, 50728006) ('chr4', 0, 50728006)\n",
      "('chr5', 0, 48272853) ('chr5', 0, 48272853)\n",
      "('chr4', 50728006, 190214555) ('chr4', 50728006, 190214555)\n",
      "('chr5', 48272853, 181538259) ('chr5', 48272853, 181538259)\n",
      "('chr6', 0, 59191911) ('chr6', 0, 59191911)\n",
      "('chr6', 59191911, 170805979) ('chr6', 59191911, 170805979)\n",
      "('chr7', 0, 59848836) ('chr7', 0, 59848836)\n",
      "('chr7', 59848836, 159345973) ('chr7', 59848836, 159345973)\n",
      "('chr8', 0, 44955504) ('chr8', 0, 44955504)\n",
      "('chr8', 44955504, 145138636) ('chr8', 44955504, 145138636)\n",
      "('chr9', 0, 44454096) ('chr9', 0, 44454096)\n",
      "('chr9', 44454096, 138394717) ('chr9', 44454096, 138394717)\n",
      "('chrX', 0, 60509060) ('chrX', 0, 60509060)\n",
      "('chrX', 60509060, 156040895) ('chrX', 60509060, 156040895)\n",
      "('chrY', 0, 10430491) ('chrY', 0, 10430491)\n",
      "('chrY', 10430491, 57227415) ('chrY', 10430491, 57227415)\n"
     ]
    },
    {
     "name": "stderr",
     "output_type": "stream",
     "text": [
      "/net/levsha/share/sameer/github/mirnylab-experimental/sameer/pileups/cooltools_pileups.py:82: RuntimeWarning: invalid value encountered in true_divide\n",
      "  coarse_expected = log_scaling[1:]/log_count[1:]\n",
      "/net/levsha/share/sameer/github/mirnylab-experimental/sameer/pileups/cooltools_pileups.py:84: RuntimeWarning: divide by zero encountered in log10\n",
      "  f = interp1d(np.log10(bin_mids), np.log10(coarse_expected), kind='linear')\n",
      "/net/levsha/share/sameer/github/mirnylab-experimental/sameer/pileups/cooltools_pileups.py:105: RuntimeWarning: divide by zero encountered in true_divide\n",
      "  matrix.data = data/fine_expected[diff]\n",
      "/net/levsha/share/sameer/github/mirnylab-experimental/sameer/pileups/cooltools_pileups.py:82: RuntimeWarning: invalid value encountered in true_divide\n",
      "  coarse_expected = log_scaling[1:]/log_count[1:]\n",
      "/net/levsha/share/sameer/github/mirnylab-experimental/sameer/pileups/cooltools_pileups.py:82: RuntimeWarning: invalid value encountered in true_divide\n",
      "  coarse_expected = log_scaling[1:]/log_count[1:]\n"
     ]
    },
    {
     "name": "stdout",
     "output_type": "stream",
     "text": [
      "-0.36104764425768476 0.30059687917882005\n",
      "\n",
      " U54-HFF-plate-DSG-DdeI-20160812-R1-T1__hg38 \n",
      "\n"
     ]
    },
    {
     "name": "stderr",
     "output_type": "stream",
     "text": [
      "/home/sameer/miniconda3/lib/python3.6/site-packages/ipykernel_launcher.py:71: MatplotlibDeprecationWarning: Adding an axes using the same arguments as a previous axes currently reuses the earlier instance.  In a future version, a new instance will always be created and returned.  Meanwhile, this warning can be suppressed, and the future behavior ensured, by passing a unique label to each axes instance.\n"
     ]
    },
    {
     "name": "stdout",
     "output_type": "stream",
     "text": [
      "('chr1', 0, 123479591) ('chr1', 0, 123479591)\n",
      "('chr1', 123479591, 248956422) ('chr1', 123479591, 248956422)\n",
      "('chr10', 0, 40640101) ('chr10', 0, 40640101)\n",
      "('chr10', 40640101, 133797422) ('chr10', 40640101, 133797422)\n",
      "('chr11', 0, 52751711) ('chr11', 0, 52751711)\n",
      "('chr11', 52751711, 135086622) ('chr11', 52751711, 135086622)\n",
      "('chr12', 0, 35977329) ('chr12', 0, 35977329)\n",
      "('chr12', 35977329, 133275309) ('chr12', 35977329, 133275309)\n",
      "('chr13', 17025624, 114364328) ('chr13', 17025624, 114364328)\n",
      "('chr14', 17086761, 107043718) ('chr14', 17086761, 107043718)\n",
      "('chr15', 18404463, 101991189) ('chr15', 18404463, 101991189)\n",
      "('chr16', 0, 37288413) ('chr16', 0, 37288413)\n",
      "('chr16', 37288413, 90338345) ('chr16', 37288413, 90338345)\n",
      "('chr17', 0, 24714921) ('chr17', 0, 24714921)\n",
      "('chr17', 24714921, 83257441) ('chr17', 24714921, 83257441)\n",
      "('chr18', 0, 18161052) ('chr18', 0, 18161052)\n",
      "('chr18', 18161052, 80373285) ('chr18', 18161052, 80373285)\n",
      "('chr19', 0, 25844927) ('chr19', 0, 25844927)\n",
      "('chr19', 25844927, 58617616) ('chr19', 25844927, 58617616)\n",
      "('chr2', 0, 93139351) ('chr2', 0, 93139351)\n"
     ]
    },
    {
     "name": "stderr",
     "output_type": "stream",
     "text": [
      "/net/levsha/share/sameer/github/mirnylab-experimental/sameer/pileups/cooltools_pileups.py:82: RuntimeWarning: invalid value encountered in true_divide\n",
      "  coarse_expected = log_scaling[1:]/log_count[1:]\n"
     ]
    },
    {
     "name": "stdout",
     "output_type": "stream",
     "text": [
      "('chr2', 93139351, 242193529) ('chr2', 93139351, 242193529)\n",
      "('chr20', 0, 28237290) ('chr20', 0, 28237290)\n",
      "('chr20', 28237290, 64444167) ('chr20', 28237290, 64444167)\n",
      "('chr21', 11890184, 46709983) ('chr21', 11890184, 46709983)\n",
      "('chr22', 14004553, 50818468) ('chr22', 14004553, 50818468)\n",
      "('chr3', 0, 92214016) ('chr3', 0, 92214016)\n"
     ]
    },
    {
     "name": "stderr",
     "output_type": "stream",
     "text": [
      "/net/levsha/share/sameer/github/mirnylab-experimental/sameer/pileups/cooltools_pileups.py:82: RuntimeWarning: invalid value encountered in true_divide\n",
      "  coarse_expected = log_scaling[1:]/log_count[1:]\n"
     ]
    },
    {
     "name": "stdout",
     "output_type": "stream",
     "text": [
      "('chr3', 92214016, 198295559) ('chr3', 92214016, 198295559)\n",
      "('chr4', 0, 50728006) ('chr4', 0, 50728006)\n",
      "('chr4', 50728006, 190214555) ('chr4', 50728006, 190214555)\n",
      "('chr5', 0, 48272853) ('chr5', 0, 48272853)\n",
      "('chr5', 48272853, 181538259) ('chr5', 48272853, 181538259)\n",
      "('chr6', 0, 59191911) ('chr6', 0, 59191911)\n",
      "('chr6', 59191911, 170805979) ('chr6', 59191911, 170805979)\n",
      "('chr7', 0, 59848836) ('chr7', 0, 59848836)\n",
      "('chr7', 59848836, 159345973) ('chr7', 59848836, 159345973)\n",
      "('chr8', 0, 44955504) ('chr8', 0, 44955504)\n",
      "('chr8', 44955504, 145138636) ('chr8', 44955504, 145138636)\n",
      "('chr9', 0, 44454096) ('chr9', 0, 44454096)\n",
      "('chr9', 44454096, 138394717) ('chr9', 44454096, 138394717)\n",
      "('chrX', 0, 60509060) ('chrX', 0, 60509060)\n",
      "('chrX', 60509060, 156040895) ('chrX', 60509060, 156040895)\n",
      "('chrY', 0, 10430491) ('chrY', 0, 10430491)\n",
      "('chrY', 10430491, 57227415) ('chrY', 10430491, 57227415)\n"
     ]
    },
    {
     "name": "stderr",
     "output_type": "stream",
     "text": [
      "/net/levsha/share/sameer/github/mirnylab-experimental/sameer/pileups/cooltools_pileups.py:82: RuntimeWarning: invalid value encountered in true_divide\n",
      "  coarse_expected = log_scaling[1:]/log_count[1:]\n",
      "/net/levsha/share/sameer/github/mirnylab-experimental/sameer/pileups/cooltools_pileups.py:82: RuntimeWarning: invalid value encountered in true_divide\n",
      "  coarse_expected = log_scaling[1:]/log_count[1:]\n",
      "/net/levsha/share/sameer/github/mirnylab-experimental/sameer/pileups/cooltools_pileups.py:84: RuntimeWarning: divide by zero encountered in log10\n",
      "  f = interp1d(np.log10(bin_mids), np.log10(coarse_expected), kind='linear')\n",
      "/net/levsha/share/sameer/github/mirnylab-experimental/sameer/pileups/cooltools_pileups.py:105: RuntimeWarning: divide by zero encountered in true_divide\n",
      "  matrix.data = data/fine_expected[diff]\n",
      "/net/levsha/share/sameer/github/mirnylab-experimental/sameer/pileups/cooltools_pileups.py:105: RuntimeWarning: invalid value encountered in true_divide\n",
      "  matrix.data = data/fine_expected[diff]\n",
      "/net/levsha/share/sameer/github/mirnylab-experimental/sameer/pileups/cooltools_pileups.py:82: RuntimeWarning: invalid value encountered in true_divide\n",
      "  coarse_expected = log_scaling[1:]/log_count[1:]\n"
     ]
    },
    {
     "name": "stdout",
     "output_type": "stream",
     "text": [
      "-0.22318185329551668 0.31446911878931155\n",
      "\n",
      " U54-HFF-plate-EGS-DdeI-20161031-R1-T1__hg38 \n",
      "\n"
     ]
    },
    {
     "name": "stderr",
     "output_type": "stream",
     "text": [
      "/home/sameer/miniconda3/lib/python3.6/site-packages/ipykernel_launcher.py:71: MatplotlibDeprecationWarning: Adding an axes using the same arguments as a previous axes currently reuses the earlier instance.  In a future version, a new instance will always be created and returned.  Meanwhile, this warning can be suppressed, and the future behavior ensured, by passing a unique label to each axes instance.\n"
     ]
    },
    {
     "name": "stdout",
     "output_type": "stream",
     "text": [
      "('chr1', 0, 123479591) ('chr1', 0, 123479591)\n",
      "('chr12', 0, 35977329) ('chr12', 0, 35977329)\n",
      "('chr10', 0, 40640101) ('chr10', 0, 40640101)\n",
      "('chr1', 123479591, 248956422) ('chr1', 123479591, 248956422)\n",
      "('chr10', 40640101, 133797422) ('chr10', 40640101, 133797422)\n",
      "('chr11', 0, 52751711) ('chr11', 0, 52751711)\n",
      "('chr11', 52751711, 135086622) ('chr11', 52751711, 135086622)\n",
      "('chr12', 35977329, 133275309) ('chr12', 35977329, 133275309)\n",
      "('chr13', 17025624, 114364328) ('chr13', 17025624, 114364328)\n",
      "('chr14', 17086761, 107043718) ('chr14', 17086761, 107043718)\n",
      "('chr15', 18404463, 101991189) ('chr15', 18404463, 101991189)\n",
      "('chr16', 0, 37288413) ('chr16', 0, 37288413)\n",
      "('chr16', 37288413, 90338345) ('chr16', 37288413, 90338345)\n",
      "('chr17', 0, 24714921) ('chr17', 0, 24714921)\n",
      "('chr17', 24714921, 83257441) ('chr17', 24714921, 83257441)\n",
      "('chr18', 0, 18161052) ('chr18', 0, 18161052)\n",
      "('chr18', 18161052, 80373285) ('chr18', 18161052, 80373285)\n",
      "('chr19', 0, 25844927) ('chr19', 0, 25844927)\n",
      "('chr19', 25844927, 58617616) ('chr19', 25844927, 58617616)\n",
      "('chr2', 0, 93139351) ('chr2', 0, 93139351)\n"
     ]
    },
    {
     "name": "stderr",
     "output_type": "stream",
     "text": [
      "/net/levsha/share/sameer/github/mirnylab-experimental/sameer/pileups/cooltools_pileups.py:82: RuntimeWarning: invalid value encountered in true_divide\n",
      "  coarse_expected = log_scaling[1:]/log_count[1:]\n"
     ]
    },
    {
     "name": "stdout",
     "output_type": "stream",
     "text": [
      "('chr2', 93139351, 242193529) ('chr2', 93139351, 242193529)\n",
      "('chr20', 0, 28237290) ('chr20', 0, 28237290)\n",
      "('chr21', 11890184, 46709983) ('chr21', 11890184, 46709983)\n"
     ]
    },
    {
     "name": "stderr",
     "output_type": "stream",
     "text": [
      "/net/levsha/share/sameer/github/mirnylab-experimental/sameer/pileups/cooltools_pileups.py:82: RuntimeWarning: invalid value encountered in true_divide\n",
      "  coarse_expected = log_scaling[1:]/log_count[1:]\n"
     ]
    },
    {
     "name": "stdout",
     "output_type": "stream",
     "text": [
      "('chr20', 28237290, 64444167) ('chr20', 28237290, 64444167)\n",
      "('chr22', 14004553, 50818468) ('chr22', 14004553, 50818468)\n",
      "('chr3', 0, 92214016) ('chr3', 0, 92214016)\n",
      "('chr3', 92214016, 198295559) ('chr3', 92214016, 198295559)\n",
      "('chr4', 0, 50728006) ('chr4', 0, 50728006)\n",
      "('chr4', 50728006, 190214555) ('chr4', 50728006, 190214555)\n",
      "('chr5', 0, 48272853) ('chr5', 0, 48272853)\n",
      "('chr5', 48272853, 181538259) ('chr5', 48272853, 181538259)\n",
      "('chr6', 0, 59191911) ('chr6', 0, 59191911)\n",
      "('chr6', 59191911, 170805979) ('chr6', 59191911, 170805979)\n",
      "('chr7', 0, 59848836) ('chr7', 0, 59848836)\n",
      "('chr8', 0, 44955504) ('chr8', 0, 44955504)\n",
      "('chr7', 59848836, 159345973) ('chr7', 59848836, 159345973)\n",
      "('chr8', 44955504, 145138636) ('chr8', 44955504, 145138636)\n",
      "('chr9', 0, 44454096) ('chr9', 0, 44454096)\n",
      "('chr9', 44454096, 138394717) ('chr9', 44454096, 138394717)\n",
      "('chrX', 0, 60509060) ('chrX', 0, 60509060)\n",
      "('chrX', 60509060, 156040895) ('chrX', 60509060, 156040895)\n",
      "('chrY', 0, 10430491) ('chrY', 0, 10430491)\n",
      "('chrY', 10430491, 57227415) ('chrY', 10430491, 57227415)\n"
     ]
    },
    {
     "name": "stderr",
     "output_type": "stream",
     "text": [
      "/net/levsha/share/sameer/github/mirnylab-experimental/sameer/pileups/cooltools_pileups.py:82: RuntimeWarning: invalid value encountered in true_divide\n",
      "  coarse_expected = log_scaling[1:]/log_count[1:]\n",
      "/net/levsha/share/sameer/github/mirnylab-experimental/sameer/pileups/cooltools_pileups.py:84: RuntimeWarning: divide by zero encountered in log10\n",
      "  f = interp1d(np.log10(bin_mids), np.log10(coarse_expected), kind='linear')\n",
      "/net/levsha/share/sameer/github/mirnylab-experimental/sameer/pileups/cooltools_pileups.py:105: RuntimeWarning: divide by zero encountered in true_divide\n",
      "  matrix.data = data/fine_expected[diff]\n",
      "/net/levsha/share/sameer/github/mirnylab-experimental/sameer/pileups/cooltools_pileups.py:105: RuntimeWarning: invalid value encountered in true_divide\n",
      "  matrix.data = data/fine_expected[diff]\n",
      "/net/levsha/share/sameer/github/mirnylab-experimental/sameer/pileups/cooltools_pileups.py:82: RuntimeWarning: invalid value encountered in true_divide\n",
      "  coarse_expected = log_scaling[1:]/log_count[1:]\n",
      "/net/levsha/share/sameer/github/mirnylab-experimental/sameer/pileups/cooltools_pileups.py:84: RuntimeWarning: divide by zero encountered in log10\n",
      "  f = interp1d(np.log10(bin_mids), np.log10(coarse_expected), kind='linear')\n",
      "/net/levsha/share/sameer/github/mirnylab-experimental/sameer/pileups/cooltools_pileups.py:105: RuntimeWarning: invalid value encountered in true_divide\n",
      "  matrix.data = data/fine_expected[diff]\n",
      "/net/levsha/share/sameer/github/mirnylab-experimental/sameer/pileups/cooltools_pileups.py:82: RuntimeWarning: invalid value encountered in true_divide\n",
      "  coarse_expected = log_scaling[1:]/log_count[1:]\n"
     ]
    },
    {
     "name": "stdout",
     "output_type": "stream",
     "text": [
      "-0.18145255012048017 0.3077424652567266\n"
     ]
    },
    {
     "name": "stderr",
     "output_type": "stream",
     "text": [
      "/home/sameer/miniconda3/lib/python3.6/site-packages/ipykernel_launcher.py:71: MatplotlibDeprecationWarning: Adding an axes using the same arguments as a previous axes currently reuses the earlier instance.  In a future version, a new instance will always be created and returned.  Meanwhile, this warning can be suppressed, and the future behavior ensured, by passing a unique label to each axes instance.\n"
     ]
    },
    {
     "name": "stdout",
     "output_type": "stream",
     "text": [
      "\n",
      " U54-HFF-plate-FA-DdeI-20170119-R2-T1__hg38 \n",
      "\n",
      "('chr1', 0, 123479591) ('chr1', 0, 123479591)\n",
      "('chr12', 35977329, 133275309) ('chr12', 35977329, 133275309)\n",
      "('chr1', 123479591, 248956422) ('chr1', 123479591, 248956422)\n",
      "('chr10', 0, 40640101) ('chr10', 0, 40640101)\n",
      "('chr10', 40640101, 133797422) ('chr10', 40640101, 133797422)\n",
      "('chr11', 0, 52751711) ('chr11', 0, 52751711)\n",
      "('chr11', 52751711, 135086622) ('chr11', 52751711, 135086622)\n",
      "('chr12', 0, 35977329) ('chr12', 0, 35977329)\n",
      "('chr13', 17025624, 114364328) ('chr13', 17025624, 114364328)\n",
      "('chr14', 17086761, 107043718) ('chr14', 17086761, 107043718)\n",
      "('chr15', 18404463, 101991189) ('chr15', 18404463, 101991189)\n",
      "('chr16', 0, 37288413) ('chr16', 0, 37288413)\n",
      "('chr16', 37288413, 90338345) ('chr16', 37288413, 90338345)\n",
      "('chr17', 0, 24714921) ('chr17', 0, 24714921)\n",
      "('chr17', 24714921, 83257441) ('chr17', 24714921, 83257441)\n",
      "('chr18', 0, 18161052) ('chr18', 0, 18161052)\n",
      "('chr18', 18161052, 80373285) ('chr18', 18161052, 80373285)\n",
      "('chr19', 0, 25844927) ('chr19', 0, 25844927)\n",
      "('chr19', 25844927, 58617616) ('chr19', 25844927, 58617616)\n",
      "('chr2', 0, 93139351) ('chr2', 0, 93139351)\n"
     ]
    },
    {
     "name": "stderr",
     "output_type": "stream",
     "text": [
      "/net/levsha/share/sameer/github/mirnylab-experimental/sameer/pileups/cooltools_pileups.py:82: RuntimeWarning: invalid value encountered in true_divide\n",
      "  coarse_expected = log_scaling[1:]/log_count[1:]\n"
     ]
    },
    {
     "name": "stdout",
     "output_type": "stream",
     "text": [
      "('chr2', 93139351, 242193529) ('chr2', 93139351, 242193529)\n"
     ]
    },
    {
     "name": "stderr",
     "output_type": "stream",
     "text": [
      "/net/levsha/share/sameer/github/mirnylab-experimental/sameer/pileups/cooltools_pileups.py:82: RuntimeWarning: invalid value encountered in true_divide\n",
      "  coarse_expected = log_scaling[1:]/log_count[1:]\n"
     ]
    },
    {
     "name": "stdout",
     "output_type": "stream",
     "text": [
      "('chr20', 0, 28237290) ('chr20', 0, 28237290)\n",
      "('chr20', 28237290, 64444167) ('chr20', 28237290, 64444167)\n",
      "('chr21', 11890184, 46709983) ('chr21', 11890184, 46709983)\n",
      "('chr22', 14004553, 50818468) ('chr22', 14004553, 50818468)\n",
      "('chr3', 0, 92214016) ('chr3', 0, 92214016)\n",
      "('chr3', 92214016, 198295559) ('chr3', 92214016, 198295559)\n",
      "('chr4', 0, 50728006) ('chr4', 0, 50728006)\n",
      "('chr4', 50728006, 190214555) ('chr4', 50728006, 190214555)\n",
      "('chr5', 0, 48272853) ('chr5', 0, 48272853)\n",
      "('chr5', 48272853, 181538259) ('chr5', 48272853, 181538259)\n",
      "('chr6', 0, 59191911) ('chr6', 0, 59191911)\n",
      "('chr6', 59191911, 170805979) ('chr6', 59191911, 170805979)\n",
      "('chr7', 0, 59848836) ('chr7', 0, 59848836)\n",
      "('chr7', 59848836, 159345973) ('chr7', 59848836, 159345973)\n",
      "('chr8', 0, 44955504) ('chr8', 0, 44955504)\n",
      "('chr8', 44955504, 145138636) ('chr8', 44955504, 145138636)\n",
      "('chr9', 0, 44454096) ('chr9', 0, 44454096)\n",
      "('chr9', 44454096, 138394717) ('chr9', 44454096, 138394717)\n",
      "('chrX', 0, 60509060) ('chrX', 0, 60509060)\n",
      "('chrX', 60509060, 156040895) ('chrX', 60509060, 156040895)\n",
      "('chrY', 0, 10430491) ('chrY', 0, 10430491)\n"
     ]
    },
    {
     "name": "stderr",
     "output_type": "stream",
     "text": [
      "/net/levsha/share/sameer/github/mirnylab-experimental/sameer/pileups/cooltools_pileups.py:82: RuntimeWarning: invalid value encountered in true_divide\n",
      "  coarse_expected = log_scaling[1:]/log_count[1:]\n"
     ]
    },
    {
     "name": "stdout",
     "output_type": "stream",
     "text": [
      "('chrY', 10430491, 57227415) ('chrY', 10430491, 57227415)\n"
     ]
    },
    {
     "name": "stderr",
     "output_type": "stream",
     "text": [
      "/net/levsha/share/sameer/github/mirnylab-experimental/sameer/pileups/cooltools_pileups.py:82: RuntimeWarning: invalid value encountered in true_divide\n",
      "  coarse_expected = log_scaling[1:]/log_count[1:]\n"
     ]
    },
    {
     "name": "stdout",
     "output_type": "stream",
     "text": [
      "-0.1851598506657965 0.3022317897394452\n"
     ]
    },
    {
     "name": "stderr",
     "output_type": "stream",
     "text": [
      "/home/sameer/miniconda3/lib/python3.6/site-packages/ipykernel_launcher.py:71: MatplotlibDeprecationWarning: Adding an axes using the same arguments as a previous axes currently reuses the earlier instance.  In a future version, a new instance will always be created and returned.  Meanwhile, this warning can be suppressed, and the future behavior ensured, by passing a unique label to each axes instance.\n"
     ]
    },
    {
     "name": "stdout",
     "output_type": "stream",
     "text": [
      "\n",
      " U54-HFF-plate-DSG-DpnII-20170119-R2-T1__hg38 \n",
      "\n",
      "('chr1', 0, 123479591) ('chr1', 0, 123479591)\n",
      "('chr1', 123479591, 248956422) ('chr1', 123479591, 248956422)\n",
      "('chr10', 0, 40640101) ('chr10', 0, 40640101)\n",
      "('chr10', 40640101, 133797422) ('chr10', 40640101, 133797422)\n",
      "('chr11', 0, 52751711) ('chr11', 0, 52751711)\n",
      "('chr11', 52751711, 135086622) ('chr11', 52751711, 135086622)\n",
      "('chr12', 0, 35977329) ('chr12', 0, 35977329)\n",
      "('chr13', 17025624, 114364328) ('chr13', 17025624, 114364328)\n",
      "('chr12', 35977329, 133275309) ('chr12', 35977329, 133275309)\n",
      "('chr14', 17086761, 107043718) ('chr14', 17086761, 107043718)\n",
      "('chr15', 18404463, 101991189) ('chr15', 18404463, 101991189)\n",
      "('chr16', 0, 37288413) ('chr16', 0, 37288413)\n",
      "('chr16', 37288413, 90338345) ('chr16', 37288413, 90338345)\n",
      "('chr17', 0, 24714921) ('chr17', 0, 24714921)\n",
      "('chr17', 24714921, 83257441) ('chr17', 24714921, 83257441)\n",
      "('chr18', 0, 18161052) ('chr18', 0, 18161052)\n",
      "('chr18', 18161052, 80373285) ('chr18', 18161052, 80373285)\n",
      "('chr19', 0, 25844927) ('chr19', 0, 25844927)\n",
      "('chr19', 25844927, 58617616) ('chr19', 25844927, 58617616)\n",
      "('chr2', 0, 93139351) ('chr2', 0, 93139351)\n"
     ]
    },
    {
     "name": "stderr",
     "output_type": "stream",
     "text": [
      "/net/levsha/share/sameer/github/mirnylab-experimental/sameer/pileups/cooltools_pileups.py:82: RuntimeWarning: invalid value encountered in true_divide\n",
      "  coarse_expected = log_scaling[1:]/log_count[1:]\n"
     ]
    },
    {
     "name": "stdout",
     "output_type": "stream",
     "text": [
      "('chr2', 93139351, 242193529) ('chr2', 93139351, 242193529)\n"
     ]
    },
    {
     "name": "stderr",
     "output_type": "stream",
     "text": [
      "/net/levsha/share/sameer/github/mirnylab-experimental/sameer/pileups/cooltools_pileups.py:82: RuntimeWarning: invalid value encountered in true_divide\n",
      "  coarse_expected = log_scaling[1:]/log_count[1:]\n"
     ]
    },
    {
     "name": "stdout",
     "output_type": "stream",
     "text": [
      "('chr20', 0, 28237290) ('chr20', 0, 28237290)\n",
      "('chr20', 28237290, 64444167) ('chr20', 28237290, 64444167)\n",
      "('chr21', 11890184, 46709983) ('chr21', 11890184, 46709983)\n",
      "('chr22', 14004553, 50818468) ('chr22', 14004553, 50818468)\n",
      "('chr3', 0, 92214016) ('chr3', 0, 92214016)\n",
      "('chr3', 92214016, 198295559) ('chr3', 92214016, 198295559)\n",
      "('chr5', 0, 48272853) ('chr5', 0, 48272853)\n",
      "('chr4', 0, 50728006) ('chr4', 0, 50728006)\n",
      "('chr4', 50728006, 190214555) ('chr4', 50728006, 190214555)\n",
      "('chr5', 48272853, 181538259) ('chr5', 48272853, 181538259)\n",
      "('chr6', 0, 59191911) ('chr6', 0, 59191911)\n",
      "('chr6', 59191911, 170805979) ('chr6', 59191911, 170805979)\n",
      "('chr7', 0, 59848836) ('chr7', 0, 59848836)\n",
      "('chr7', 59848836, 159345973) ('chr7', 59848836, 159345973)\n",
      "('chr8', 0, 44955504) ('chr8', 0, 44955504)\n",
      "('chr8', 44955504, 145138636) ('chr8', 44955504, 145138636)\n",
      "('chr9', 0, 44454096) ('chr9', 0, 44454096)\n",
      "('chr9', 44454096, 138394717) ('chr9', 44454096, 138394717)\n",
      "('chrX', 0, 60509060) ('chrX', 0, 60509060)\n",
      "('chrX', 60509060, 156040895) ('chrX', 60509060, 156040895)\n",
      "('chrY', 0, 10430491) ('chrY', 0, 10430491)\n",
      "('chrY', 10430491, 57227415) ('chrY', 10430491, 57227415)\n"
     ]
    },
    {
     "name": "stderr",
     "output_type": "stream",
     "text": [
      "/net/levsha/share/sameer/github/mirnylab-experimental/sameer/pileups/cooltools_pileups.py:82: RuntimeWarning: invalid value encountered in true_divide\n",
      "  coarse_expected = log_scaling[1:]/log_count[1:]\n",
      "/net/levsha/share/sameer/github/mirnylab-experimental/sameer/pileups/cooltools_pileups.py:82: RuntimeWarning: invalid value encountered in true_divide\n",
      "  coarse_expected = log_scaling[1:]/log_count[1:]\n",
      "/net/levsha/share/sameer/github/mirnylab-experimental/sameer/pileups/cooltools_pileups.py:82: RuntimeWarning: invalid value encountered in true_divide\n",
      "  coarse_expected = log_scaling[1:]/log_count[1:]\n"
     ]
    },
    {
     "name": "stdout",
     "output_type": "stream",
     "text": [
      "-0.21693072071766994 0.30504256623621817\n"
     ]
    },
    {
     "name": "stderr",
     "output_type": "stream",
     "text": [
      "/home/sameer/miniconda3/lib/python3.6/site-packages/ipykernel_launcher.py:71: MatplotlibDeprecationWarning: Adding an axes using the same arguments as a previous axes currently reuses the earlier instance.  In a future version, a new instance will always be created and returned.  Meanwhile, this warning can be suppressed, and the future behavior ensured, by passing a unique label to each axes instance.\n"
     ]
    },
    {
     "name": "stdout",
     "output_type": "stream",
     "text": [
      "\n",
      " U54-HFF-plate-EGS-DpnII-20160902-R1-T1__hg38 \n",
      "\n",
      "('chr1', 0, 123479591) ('chr1', 0, 123479591)\n",
      "('chr1', 123479591, 248956422) ('chr1', 123479591, 248956422)\n",
      "('chr10', 0, 40640101) ('chr10', 0, 40640101)\n",
      "('chr10', 40640101, 133797422) ('chr10', 40640101, 133797422)\n",
      "('chr11', 52751711, 135086622) ('chr11', 52751711, 135086622)\n",
      "('chr11', 0, 52751711) ('chr11', 0, 52751711)\n",
      "('chr12', 0, 35977329) ('chr12', 0, 35977329)\n",
      "('chr13', 17025624, 114364328) ('chr13', 17025624, 114364328)\n",
      "('chr12', 35977329, 133275309) ('chr12', 35977329, 133275309)\n",
      "('chr14', 17086761, 107043718) ('chr14', 17086761, 107043718)\n",
      "('chr15', 18404463, 101991189) ('chr15', 18404463, 101991189)\n",
      "('chr16', 0, 37288413) ('chr16', 0, 37288413)\n",
      "('chr16', 37288413, 90338345) ('chr16', 37288413, 90338345)\n",
      "('chr17', 0, 24714921) ('chr17', 0, 24714921)\n",
      "('chr17', 24714921, 83257441) ('chr17', 24714921, 83257441)\n",
      "('chr18', 0, 18161052) ('chr18', 0, 18161052)\n",
      "('chr18', 18161052, 80373285) ('chr18', 18161052, 80373285)\n",
      "('chr19', 0, 25844927) ('chr19', 0, 25844927)\n",
      "('chr19', 25844927, 58617616) ('chr19', 25844927, 58617616)\n",
      "('chr2', 0, 93139351) ('chr2', 0, 93139351)\n"
     ]
    },
    {
     "name": "stderr",
     "output_type": "stream",
     "text": [
      "/net/levsha/share/sameer/github/mirnylab-experimental/sameer/pileups/cooltools_pileups.py:82: RuntimeWarning: invalid value encountered in true_divide\n",
      "  coarse_expected = log_scaling[1:]/log_count[1:]\n"
     ]
    },
    {
     "name": "stdout",
     "output_type": "stream",
     "text": [
      "('chr2', 93139351, 242193529) ('chr2', 93139351, 242193529)\n",
      "('chr20', 0, 28237290) ('chr20', 0, 28237290)\n"
     ]
    },
    {
     "name": "stderr",
     "output_type": "stream",
     "text": [
      "/net/levsha/share/sameer/github/mirnylab-experimental/sameer/pileups/cooltools_pileups.py:82: RuntimeWarning: invalid value encountered in true_divide\n",
      "  coarse_expected = log_scaling[1:]/log_count[1:]\n"
     ]
    },
    {
     "name": "stdout",
     "output_type": "stream",
     "text": [
      "('chr20', 28237290, 64444167) ('chr20', 28237290, 64444167)\n",
      "('chr21', 11890184, 46709983) ('chr21', 11890184, 46709983)\n",
      "('chr22', 14004553, 50818468) ('chr22', 14004553, 50818468)\n",
      "('chr3', 0, 92214016) ('chr3', 0, 92214016)\n",
      "('chr3', 92214016, 198295559) ('chr3', 92214016, 198295559)\n",
      "('chr4', 0, 50728006) ('chr4', 0, 50728006)\n",
      "('chr4', 50728006, 190214555) ('chr4', 50728006, 190214555)\n",
      "('chr5', 0, 48272853) ('chr5', 0, 48272853)\n",
      "('chr5', 48272853, 181538259) ('chr5', 48272853, 181538259)\n",
      "('chr6', 0, 59191911) ('chr6', 0, 59191911)\n",
      "('chr6', 59191911, 170805979) ('chr6', 59191911, 170805979)\n",
      "('chr7', 0, 59848836) ('chr7', 0, 59848836)\n",
      "('chr7', 59848836, 159345973) ('chr7', 59848836, 159345973)\n",
      "('chr8', 0, 44955504) ('chr8', 0, 44955504)\n",
      "('chr8', 44955504, 145138636) ('chr8', 44955504, 145138636)\n",
      "('chr9', 0, 44454096) ('chr9', 0, 44454096)\n",
      "('chr9', 44454096, 138394717) ('chr9', 44454096, 138394717)\n",
      "('chrX', 0, 60509060) ('chrX', 0, 60509060)\n",
      "('chrX', 60509060, 156040895) ('chrX', 60509060, 156040895)\n",
      "('chrY', 0, 10430491) ('chrY', 0, 10430491)\n",
      "('chrY', 10430491, 57227415) ('chrY', 10430491, 57227415)\n"
     ]
    },
    {
     "name": "stderr",
     "output_type": "stream",
     "text": [
      "/net/levsha/share/sameer/github/mirnylab-experimental/sameer/pileups/cooltools_pileups.py:82: RuntimeWarning: invalid value encountered in true_divide\n",
      "  coarse_expected = log_scaling[1:]/log_count[1:]\n",
      "/net/levsha/share/sameer/github/mirnylab-experimental/sameer/pileups/cooltools_pileups.py:82: RuntimeWarning: invalid value encountered in true_divide\n",
      "  coarse_expected = log_scaling[1:]/log_count[1:]\n",
      "/net/levsha/share/sameer/github/mirnylab-experimental/sameer/pileups/cooltools_pileups.py:82: RuntimeWarning: invalid value encountered in true_divide\n",
      "  coarse_expected = log_scaling[1:]/log_count[1:]\n"
     ]
    },
    {
     "name": "stdout",
     "output_type": "stream",
     "text": [
      "-0.21825601555340624 0.3082148458027656\n"
     ]
    },
    {
     "name": "stderr",
     "output_type": "stream",
     "text": [
      "/home/sameer/miniconda3/lib/python3.6/site-packages/ipykernel_launcher.py:71: MatplotlibDeprecationWarning: Adding an axes using the same arguments as a previous axes currently reuses the earlier instance.  In a future version, a new instance will always be created and returned.  Meanwhile, this warning can be suppressed, and the future behavior ensured, by passing a unique label to each axes instance.\n"
     ]
    },
    {
     "name": "stdout",
     "output_type": "stream",
     "text": [
      "\n",
      " U54-HFF-plate-FA-DpnII-20180904-R1-T1__hg38 \n",
      "\n",
      "('chr1', 0, 123479591) ('chr1', 0, 123479591)\n",
      "('chr1', 123479591, 248956422) ('chr1', 123479591, 248956422)\n",
      "('chr10', 0, 40640101) ('chr10', 0, 40640101)\n",
      "('chr10', 40640101, 133797422) ('chr10', 40640101, 133797422)\n",
      "('chr11', 0, 52751711) ('chr11', 0, 52751711)\n",
      "('chr11', 52751711, 135086622) ('chr11', 52751711, 135086622)\n",
      "('chr12', 0, 35977329) ('chr12', 0, 35977329)\n",
      "('chr12', 35977329, 133275309) ('chr12', 35977329, 133275309)\n",
      "('chr13', 17025624, 114364328) ('chr13', 17025624, 114364328)\n",
      "('chr14', 17086761, 107043718) ('chr14', 17086761, 107043718)\n",
      "('chr15', 18404463, 101991189) ('chr15', 18404463, 101991189)\n",
      "('chr16', 0, 37288413) ('chr16', 0, 37288413)\n",
      "('chr16', 37288413, 90338345) ('chr16', 37288413, 90338345)\n",
      "('chr17', 0, 24714921) ('chr17', 0, 24714921)\n",
      "('chr17', 24714921, 83257441) ('chr17', 24714921, 83257441)\n",
      "('chr18', 0, 18161052) ('chr18', 0, 18161052)\n",
      "('chr18', 18161052, 80373285) ('chr18', 18161052, 80373285)\n",
      "('chr19', 0, 25844927) ('chr19', 0, 25844927)\n",
      "('chr19', 25844927, 58617616) ('chr19', 25844927, 58617616)\n",
      "('chr2', 0, 93139351) ('chr2', 0, 93139351)\n"
     ]
    },
    {
     "name": "stderr",
     "output_type": "stream",
     "text": [
      "/net/levsha/share/sameer/github/mirnylab-experimental/sameer/pileups/cooltools_pileups.py:82: RuntimeWarning: invalid value encountered in true_divide\n",
      "  coarse_expected = log_scaling[1:]/log_count[1:]\n",
      "/net/levsha/share/sameer/github/mirnylab-experimental/sameer/pileups/cooltools_pileups.py:82: RuntimeWarning: invalid value encountered in true_divide\n",
      "  coarse_expected = log_scaling[1:]/log_count[1:]\n"
     ]
    },
    {
     "name": "stdout",
     "output_type": "stream",
     "text": [
      "('chr2', 93139351, 242193529) ('chr2', 93139351, 242193529)\n",
      "('chr20', 0, 28237290) ('chr20', 0, 28237290)\n",
      "('chr20', 28237290, 64444167) ('chr20', 28237290, 64444167)\n",
      "('chr21', 11890184, 46709983) ('chr21', 11890184, 46709983)\n",
      "('chr22', 14004553, 50818468) ('chr22', 14004553, 50818468)\n",
      "('chr3', 0, 92214016) ('chr3', 0, 92214016)\n",
      "('chr3', 92214016, 198295559) ('chr3', 92214016, 198295559)\n",
      "('chr4', 0, 50728006) ('chr4', 0, 50728006)\n",
      "('chr4', 50728006, 190214555) ('chr4', 50728006, 190214555)\n",
      "('chr5', 0, 48272853) ('chr5', 0, 48272853)\n",
      "('chr5', 48272853, 181538259) ('chr5', 48272853, 181538259)\n",
      "('chr6', 0, 59191911) ('chr6', 0, 59191911)\n",
      "('chr6', 59191911, 170805979) ('chr6', 59191911, 170805979)\n",
      "('chr7', 0, 59848836) ('chr7', 0, 59848836)\n",
      "('chr7', 59848836, 159345973) ('chr7', 59848836, 159345973)\n",
      "('chr8', 0, 44955504) ('chr8', 0, 44955504)\n",
      "('chr8', 44955504, 145138636) ('chr8', 44955504, 145138636)\n",
      "('chr9', 0, 44454096) ('chr9', 0, 44454096)\n",
      "('chr9', 44454096, 138394717) ('chr9', 44454096, 138394717)\n",
      "('chrX', 0, 60509060) ('chrX', 0, 60509060)\n",
      "('chrX', 60509060, 156040895) ('chrX', 60509060, 156040895)\n",
      "('chrY', 0, 10430491) ('chrY', 0, 10430491)\n",
      "('chrY', 10430491, 57227415) ('chrY', 10430491, 57227415)\n"
     ]
    },
    {
     "name": "stderr",
     "output_type": "stream",
     "text": [
      "/net/levsha/share/sameer/github/mirnylab-experimental/sameer/pileups/cooltools_pileups.py:82: RuntimeWarning: invalid value encountered in true_divide\n",
      "  coarse_expected = log_scaling[1:]/log_count[1:]\n",
      "/net/levsha/share/sameer/github/mirnylab-experimental/sameer/pileups/cooltools_pileups.py:84: RuntimeWarning: divide by zero encountered in log10\n",
      "  f = interp1d(np.log10(bin_mids), np.log10(coarse_expected), kind='linear')\n",
      "/net/levsha/share/sameer/github/mirnylab-experimental/sameer/pileups/cooltools_pileups.py:105: RuntimeWarning: divide by zero encountered in true_divide\n",
      "  matrix.data = data/fine_expected[diff]\n",
      "/net/levsha/share/sameer/github/mirnylab-experimental/sameer/pileups/cooltools_pileups.py:105: RuntimeWarning: invalid value encountered in true_divide\n",
      "  matrix.data = data/fine_expected[diff]\n",
      "/net/levsha/share/sameer/github/mirnylab-experimental/sameer/pileups/cooltools_pileups.py:82: RuntimeWarning: invalid value encountered in true_divide\n",
      "  coarse_expected = log_scaling[1:]/log_count[1:]\n",
      "/net/levsha/share/sameer/github/mirnylab-experimental/sameer/pileups/cooltools_pileups.py:82: RuntimeWarning: invalid value encountered in true_divide\n",
      "  coarse_expected = log_scaling[1:]/log_count[1:]\n"
     ]
    },
    {
     "name": "stdout",
     "output_type": "stream",
     "text": [
      "-0.17971441604967528 0.2999265925319545\n"
     ]
    },
    {
     "name": "stderr",
     "output_type": "stream",
     "text": [
      "/home/sameer/miniconda3/lib/python3.6/site-packages/ipykernel_launcher.py:71: MatplotlibDeprecationWarning: Adding an axes using the same arguments as a previous axes currently reuses the earlier instance.  In a future version, a new instance will always be created and returned.  Meanwhile, this warning can be suppressed, and the future behavior ensured, by passing a unique label to each axes instance.\n"
     ]
    },
    {
     "name": "stdout",
     "output_type": "stream",
     "text": [
      "\n",
      " U54-HFF-plate-DSG-HindIII-20160226-R1-T1__hg38 \n",
      "\n",
      "('chr1', 0, 123479591) ('chr1', 0, 123479591)\n",
      "('chr1', 123479591, 248956422) ('chr1', 123479591, 248956422)\n",
      "('chr10', 0, 40640101) ('chr10', 0, 40640101)\n",
      "('chr10', 40640101, 133797422) ('chr10', 40640101, 133797422)\n",
      "('chr11', 0, 52751711) ('chr11', 0, 52751711)\n",
      "('chr11', 52751711, 135086622) ('chr11', 52751711, 135086622)\n",
      "('chr12', 0, 35977329) ('chr12', 0, 35977329)\n",
      "('chr12', 35977329, 133275309) ('chr12', 35977329, 133275309)\n",
      "('chr13', 17025624, 114364328) ('chr13', 17025624, 114364328)\n",
      "('chr14', 17086761, 107043718) ('chr14', 17086761, 107043718)\n",
      "('chr15', 18404463, 101991189) ('chr15', 18404463, 101991189)\n",
      "('chr16', 0, 37288413) ('chr16', 0, 37288413)\n",
      "('chr17', 0, 24714921) ('chr17', 0, 24714921)\n",
      "('chr16', 37288413, 90338345) ('chr16', 37288413, 90338345)\n",
      "('chr18', 0, 18161052) ('chr18', 0, 18161052)\n",
      "('chr17', 24714921, 83257441) ('chr17', 24714921, 83257441)\n",
      "('chr18', 18161052, 80373285) ('chr18', 18161052, 80373285)\n",
      "('chr19', 0, 25844927) ('chr19', 0, 25844927)\n",
      "('chr19', 25844927, 58617616) ('chr19', 25844927, 58617616)\n",
      "('chr2', 0, 93139351) ('chr2', 0, 93139351)\n",
      "('chr2', 93139351, 242193529) ('chr2', 93139351, 242193529)\n",
      "('chr20', 0, 28237290) ('chr20', 0, 28237290)\n",
      "('chr20', 28237290, 64444167) ('chr20', 28237290, 64444167)\n",
      "('chr21', 11890184, 46709983) ('chr21', 11890184, 46709983)\n",
      "('chr22', 14004553, 50818468) ('chr22', 14004553, 50818468)\n"
     ]
    },
    {
     "name": "stderr",
     "output_type": "stream",
     "text": [
      "/net/levsha/share/sameer/github/mirnylab-experimental/sameer/pileups/cooltools_pileups.py:82: RuntimeWarning: invalid value encountered in true_divide\n",
      "  coarse_expected = log_scaling[1:]/log_count[1:]\n"
     ]
    },
    {
     "name": "stdout",
     "output_type": "stream",
     "text": [
      "('chr3', 0, 92214016) ('chr3', 0, 92214016)\n",
      "('chr3', 92214016, 198295559) ('chr3', 92214016, 198295559)\n",
      "('chr4', 0, 50728006) ('chr4', 0, 50728006)\n",
      "('chr4', 50728006, 190214555) ('chr4', 50728006, 190214555)\n",
      "('chr5', 0, 48272853) ('chr5', 0, 48272853)\n",
      "('chr5', 48272853, 181538259) ('chr5', 48272853, 181538259)\n",
      "('chr6', 0, 59191911) ('chr6', 0, 59191911)\n",
      "('chr6', 59191911, 170805979) ('chr6', 59191911, 170805979)\n",
      "('chr7', 0, 59848836) ('chr7', 0, 59848836)\n",
      "('chr7', 59848836, 159345973) ('chr7', 59848836, 159345973)\n",
      "('chr8', 0, 44955504) ('chr8', 0, 44955504)\n",
      "('chr8', 44955504, 145138636) ('chr8', 44955504, 145138636)\n",
      "('chr9', 0, 44454096) ('chr9', 0, 44454096)\n",
      "('chr9', 44454096, 138394717) ('chr9', 44454096, 138394717)\n",
      "('chrX', 0, 60509060) ('chrX', 0, 60509060)\n",
      "('chrX', 60509060, 156040895) ('chrX', 60509060, 156040895)\n",
      "('chrY', 0, 10430491) ('chrY', 0, 10430491)\n",
      "('chrY', 10430491, 57227415) ('chrY', 10430491, 57227415)\n"
     ]
    },
    {
     "name": "stderr",
     "output_type": "stream",
     "text": [
      "/net/levsha/share/sameer/github/mirnylab-experimental/sameer/pileups/cooltools_pileups.py:82: RuntimeWarning: invalid value encountered in true_divide\n",
      "  coarse_expected = log_scaling[1:]/log_count[1:]\n",
      "/net/levsha/share/sameer/github/mirnylab-experimental/sameer/pileups/cooltools_pileups.py:84: RuntimeWarning: divide by zero encountered in log10\n",
      "  f = interp1d(np.log10(bin_mids), np.log10(coarse_expected), kind='linear')\n",
      "/net/levsha/share/sameer/github/mirnylab-experimental/sameer/pileups/cooltools_pileups.py:105: RuntimeWarning: divide by zero encountered in true_divide\n",
      "  matrix.data = data/fine_expected[diff]\n",
      "/net/levsha/share/sameer/github/mirnylab-experimental/sameer/pileups/cooltools_pileups.py:105: RuntimeWarning: invalid value encountered in true_divide\n",
      "  matrix.data = data/fine_expected[diff]\n",
      "/net/levsha/share/sameer/github/mirnylab-experimental/sameer/pileups/cooltools_pileups.py:82: RuntimeWarning: invalid value encountered in true_divide\n",
      "  coarse_expected = log_scaling[1:]/log_count[1:]\n"
     ]
    },
    {
     "name": "stdout",
     "output_type": "stream",
     "text": [
      "-0.20368442317495156 0.3107331850614655\n"
     ]
    },
    {
     "name": "stderr",
     "output_type": "stream",
     "text": [
      "/home/sameer/miniconda3/lib/python3.6/site-packages/ipykernel_launcher.py:71: MatplotlibDeprecationWarning: Adding an axes using the same arguments as a previous axes currently reuses the earlier instance.  In a future version, a new instance will always be created and returned.  Meanwhile, this warning can be suppressed, and the future behavior ensured, by passing a unique label to each axes instance.\n"
     ]
    },
    {
     "name": "stdout",
     "output_type": "stream",
     "text": [
      "\n",
      " U54-HFF-plate-EGS-HindIII-20190718-R2-T1__hg38 \n",
      "\n",
      "('chr1', 0, 123479591) ('chr1', 0, 123479591)\n",
      "('chr12', 0, 35977329) ('chr12', 0, 35977329)\n",
      "('chr10', 0, 40640101) ('chr10', 0, 40640101)\n",
      "('chr1', 123479591, 248956422) ('chr1', 123479591, 248956422)\n",
      "('chr11', 0, 52751711) ('chr11', 0, 52751711)\n",
      "('chr10', 40640101, 133797422) ('chr10', 40640101, 133797422)\n",
      "('chr11', 52751711, 135086622) ('chr11', 52751711, 135086622)\n",
      "('chr12', 35977329, 133275309) ('chr12', 35977329, 133275309)\n",
      "('chr13', 17025624, 114364328) ('chr13', 17025624, 114364328)\n",
      "('chr14', 17086761, 107043718) ('chr14', 17086761, 107043718)\n",
      "('chr15', 18404463, 101991189) ('chr15', 18404463, 101991189)\n",
      "('chr16', 0, 37288413) ('chr16', 0, 37288413)\n",
      "('chr16', 37288413, 90338345) ('chr16', 37288413, 90338345)\n",
      "('chr17', 0, 24714921) ('chr17', 0, 24714921)\n",
      "('chr18', 0, 18161052) ('chr18', 0, 18161052)\n",
      "('chr17', 24714921, 83257441) ('chr17', 24714921, 83257441)\n",
      "('chr18', 18161052, 80373285) ('chr18', 18161052, 80373285)\n",
      "('chr19', 0, 25844927) ('chr19', 0, 25844927)\n",
      "('chr19', 25844927, 58617616) ('chr19', 25844927, 58617616)\n",
      "('chr2', 0, 93139351) ('chr2', 0, 93139351)\n"
     ]
    },
    {
     "name": "stderr",
     "output_type": "stream",
     "text": [
      "/net/levsha/share/sameer/github/mirnylab-experimental/sameer/pileups/cooltools_pileups.py:82: RuntimeWarning: invalid value encountered in true_divide\n",
      "  coarse_expected = log_scaling[1:]/log_count[1:]\n"
     ]
    },
    {
     "name": "stdout",
     "output_type": "stream",
     "text": [
      "('chr2', 93139351, 242193529) ('chr2', 93139351, 242193529)\n",
      "('chr20', 0, 28237290) ('chr20', 0, 28237290)\n",
      "('chr20', 28237290, 64444167) ('chr20', 28237290, 64444167)\n",
      "('chr21', 11890184, 46709983) ('chr21', 11890184, 46709983)\n",
      "('chr22', 14004553, 50818468) ('chr22', 14004553, 50818468)\n",
      "('chr3', 0, 92214016) ('chr3', 0, 92214016)\n",
      "('chr3', 92214016, 198295559) ('chr3', 92214016, 198295559)\n",
      "('chr4', 0, 50728006) ('chr4', 0, 50728006)\n",
      "('chr4', 50728006, 190214555) ('chr4', 50728006, 190214555)\n",
      "('chr5', 0, 48272853) ('chr5', 0, 48272853)\n",
      "('chr5', 48272853, 181538259) ('chr5', 48272853, 181538259)\n",
      "('chr6', 0, 59191911) ('chr6', 0, 59191911)\n",
      "('chr6', 59191911, 170805979) ('chr6', 59191911, 170805979)\n",
      "('chr7', 0, 59848836) ('chr7', 0, 59848836)\n",
      "('chr7', 59848836, 159345973) ('chr7', 59848836, 159345973)\n",
      "('chr8', 0, 44955504) ('chr8', 0, 44955504)\n",
      "('chr8', 44955504, 145138636) ('chr8', 44955504, 145138636)\n",
      "('chr9', 0, 44454096) ('chr9', 0, 44454096)\n",
      "('chr9', 44454096, 138394717) ('chr9', 44454096, 138394717)\n",
      "('chrX', 0, 60509060) ('chrX', 0, 60509060)\n",
      "('chrX', 60509060, 156040895) ('chrX', 60509060, 156040895)\n",
      "('chrY', 0, 10430491) ('chrY', 0, 10430491)\n",
      "('chrY', 10430491, 57227415) ('chrY', 10430491, 57227415)\n"
     ]
    },
    {
     "name": "stderr",
     "output_type": "stream",
     "text": [
      "/net/levsha/share/sameer/github/mirnylab-experimental/sameer/pileups/cooltools_pileups.py:82: RuntimeWarning: invalid value encountered in true_divide\n",
      "  coarse_expected = log_scaling[1:]/log_count[1:]\n",
      "/net/levsha/share/sameer/github/mirnylab-experimental/sameer/pileups/cooltools_pileups.py:82: RuntimeWarning: invalid value encountered in true_divide\n",
      "  coarse_expected = log_scaling[1:]/log_count[1:]\n",
      "/net/levsha/share/sameer/github/mirnylab-experimental/sameer/pileups/cooltools_pileups.py:82: RuntimeWarning: invalid value encountered in true_divide\n",
      "  coarse_expected = log_scaling[1:]/log_count[1:]\n"
     ]
    },
    {
     "name": "stdout",
     "output_type": "stream",
     "text": [
      "-0.17871215611964947 0.3118265054849485\n"
     ]
    },
    {
     "name": "stderr",
     "output_type": "stream",
     "text": [
      "/home/sameer/miniconda3/lib/python3.6/site-packages/ipykernel_launcher.py:71: MatplotlibDeprecationWarning: Adding an axes using the same arguments as a previous axes currently reuses the earlier instance.  In a future version, a new instance will always be created and returned.  Meanwhile, this warning can be suppressed, and the future behavior ensured, by passing a unique label to each axes instance.\n"
     ]
    },
    {
     "name": "stdout",
     "output_type": "stream",
     "text": [
      "\n",
      " U54-HFF-plate-FA-HindIIII-20160226-R2-T1__hg38 \n",
      "\n",
      "('chr1', 0, 123479591) ('chr1', 0, 123479591)\n",
      "('chr1', 123479591, 248956422) ('chr1', 123479591, 248956422)\n",
      "('chr10', 0, 40640101) ('chr10', 0, 40640101)\n",
      "('chr10', 40640101, 133797422) ('chr10', 40640101, 133797422)\n",
      "('chr11', 0, 52751711) ('chr11', 0, 52751711)\n",
      "('chr11', 52751711, 135086622) ('chr11', 52751711, 135086622)\n",
      "('chr12', 0, 35977329) ('chr12', 0, 35977329)\n",
      "('chr12', 35977329, 133275309) ('chr12', 35977329, 133275309)\n",
      "('chr13', 17025624, 114364328) ('chr13', 17025624, 114364328)\n",
      "('chr14', 17086761, 107043718) ('chr14', 17086761, 107043718)\n",
      "('chr15', 18404463, 101991189) ('chr15', 18404463, 101991189)\n",
      "('chr16', 0, 37288413) ('chr16', 0, 37288413)\n",
      "('chr16', 37288413, 90338345) ('chr16', 37288413, 90338345)\n",
      "('chr17', 0, 24714921) ('chr17', 0, 24714921)\n",
      "('chr17', 24714921, 83257441) ('chr17', 24714921, 83257441)\n",
      "('chr18', 0, 18161052) ('chr18', 0, 18161052)\n",
      "('chr18', 18161052, 80373285) ('chr18', 18161052, 80373285)\n",
      "('chr19', 0, 25844927) ('chr19', 0, 25844927)\n",
      "('chr19', 25844927, 58617616) ('chr19', 25844927, 58617616)\n",
      "('chr2', 0, 93139351) ('chr2', 0, 93139351)\n",
      "('chr2', 93139351, 242193529) ('chr2', 93139351, 242193529)\n",
      "('chr20', 0, 28237290) ('chr20', 0, 28237290)\n",
      "('chr20', 28237290, 64444167) ('chr20', 28237290, 64444167)\n"
     ]
    },
    {
     "name": "stderr",
     "output_type": "stream",
     "text": [
      "/net/levsha/share/sameer/github/mirnylab-experimental/sameer/pileups/cooltools_pileups.py:82: RuntimeWarning: invalid value encountered in true_divide\n",
      "  coarse_expected = log_scaling[1:]/log_count[1:]\n"
     ]
    },
    {
     "name": "stdout",
     "output_type": "stream",
     "text": [
      "('chr21', 11890184, 46709983) ('chr21', 11890184, 46709983)\n",
      "('chr22', 14004553, 50818468) ('chr22', 14004553, 50818468)\n",
      "('chr3', 0, 92214016) ('chr3', 0, 92214016)\n",
      "('chr3', 92214016, 198295559) ('chr3', 92214016, 198295559)\n",
      "('chr4', 0, 50728006) ('chr4', 0, 50728006)\n",
      "('chr4', 50728006, 190214555) ('chr4', 50728006, 190214555)\n",
      "('chr5', 0, 48272853) ('chr5', 0, 48272853)\n",
      "('chr5', 48272853, 181538259) ('chr5', 48272853, 181538259)\n",
      "('chr6', 0, 59191911) ('chr6', 0, 59191911)\n",
      "('chr6', 59191911, 170805979) ('chr6', 59191911, 170805979)\n",
      "('chr7', 0, 59848836) ('chr7', 0, 59848836)\n",
      "('chr7', 59848836, 159345973) ('chr7', 59848836, 159345973)\n",
      "('chr8', 0, 44955504) ('chr8', 0, 44955504)\n",
      "('chr8', 44955504, 145138636) ('chr8', 44955504, 145138636)\n",
      "('chr9', 0, 44454096) ('chr9', 0, 44454096)\n",
      "('chr9', 44454096, 138394717) ('chr9', 44454096, 138394717)\n",
      "('chrX', 0, 60509060) ('chrX', 0, 60509060)\n",
      "('chrX', 60509060, 156040895) ('chrX', 60509060, 156040895)\n",
      "('chrY', 0, 10430491) ('chrY', 0, 10430491)\n",
      "('chrY', 10430491, 57227415) ('chrY', 10430491, 57227415)\n"
     ]
    },
    {
     "name": "stderr",
     "output_type": "stream",
     "text": [
      "/net/levsha/share/sameer/github/mirnylab-experimental/sameer/pileups/cooltools_pileups.py:82: RuntimeWarning: invalid value encountered in true_divide\n",
      "  coarse_expected = log_scaling[1:]/log_count[1:]\n",
      "/net/levsha/share/sameer/github/mirnylab-experimental/sameer/pileups/cooltools_pileups.py:82: RuntimeWarning: invalid value encountered in true_divide\n",
      "  coarse_expected = log_scaling[1:]/log_count[1:]\n",
      "/net/levsha/share/sameer/github/mirnylab-experimental/sameer/pileups/cooltools_pileups.py:82: RuntimeWarning: invalid value encountered in true_divide\n",
      "  coarse_expected = log_scaling[1:]/log_count[1:]\n"
     ]
    },
    {
     "name": "stdout",
     "output_type": "stream",
     "text": [
      "-0.17229299982822238 0.308661160524838\n"
     ]
    },
    {
     "name": "stderr",
     "output_type": "stream",
     "text": [
      "/home/sameer/miniconda3/lib/python3.6/site-packages/ipykernel_launcher.py:71: MatplotlibDeprecationWarning: Adding an axes using the same arguments as a previous axes currently reuses the earlier instance.  In a future version, a new instance will always be created and returned.  Meanwhile, this warning can be suppressed, and the future behavior ensured, by passing a unique label to each axes instance.\n"
     ]
    },
    {
     "data": {
      "image/png": "[encoded data removed]",
      "text/plain": [
       "<Figure size 936x576 with 13 Axes>"
      ]
     },
     "metadata": {
      "needs_background": "light"
     },
     "output_type": "display_data"
    }
   ],
   "source": [
    "celltype = 'HFF'\n",
    "lim=0.2\n",
    "res = 10000\n",
    "win = 10 \n",
    "\n",
    "ins_list = pd.read_csv(f'{ins_path}{ins_dict[celltype]}', sep=',', header=None)\n",
    "ins_list = ins_list[0].apply(lambda x: pd.Series(x.split('\\t')[0:3]))\n",
    "ins_list = ins_list.rename(columns={0:'chrom',1:'start',2:'end'})\n",
    "ins_list['start'] = ins_list['start'].astype(int)\n",
    "ins_list['end'] = ins_list['end'].astype(int)\n",
    "ins_list = ins_list.sort_values(['chrom','start','end']).reset_index(drop=True)\n",
    "ins_list['pos'] = (ins_list['start'] + ins_list['end'])//2\n",
    "# display(ins_list.head())\n",
    "\n",
    "binned_list = snipping.make_bin_aligned_windows(res, ins_list['chrom'].values, \n",
    "                                                   ins_list['pos'].values, flank_bp=2*win*res)\n",
    "features = snipping.assign_regions(binned_list, arms)\n",
    "assert np.all(features['region'].apply(lambda x: isinstance(x, str)))\n",
    "\n",
    "# display(features.head())\n",
    "filt_dict = {'celltype':celltype, 'seq':['-','control'], \n",
    "             'xlink':['DSG','EGS','FA'], 'enzyme':['MNase','DdeI','DpnII','HindIII']}\n",
    "\n",
    "db = mm.Dataset()\n",
    "table = db.get_tables()\n",
    "table = mm.filter_data(table, filter_dict=filt_dict)\n",
    "table = mm.get_coolers(table, res=res)\n",
    "\n",
    "table['order'] = table['xlink'].replace({'DSG':0,'EGS':1,'FA':2})\n",
    "table = table.set_index('order').sort_index().reset_index(drop=True)\n",
    "\n",
    "table['order'] = table['enzyme'].replace({'MNase':0,'double':1,'DdeI':2,'DpnII':3, 'HindIII':4,})\n",
    "table = table.set_index('order').sort_index().reset_index(drop=True)\n",
    "\n",
    "fig = plt.figure(figsize=(13, 8))\n",
    "fig.suptitle(f'Boundary pileup for {celltype}', fontsize=20, fontweight='bold')\n",
    "gs = GridSpec(nrows=3, ncols=5, width_ratios=[90,90,90,90,2])\n",
    "\n",
    "for i, row in table.iterrows():\n",
    "    \n",
    "    r = i%3\n",
    "    c = i//3\n",
    "    \n",
    "    print('\\n', row['lib_name'], '\\n')\n",
    "    xl = row['xlink']\n",
    "    enz = row['enzyme']\n",
    "\n",
    "    cool = row[f'cooler_{res}']\n",
    "    snipper = cooltools_pileups.LocalObsExpSnipper(cool, cooler_opts={'balance':True})\n",
    "    with mp.Pool(20) as p:\n",
    "        snips = snipping.pileup(features, snipper.select, snipper.snip, map=p.map)\n",
    "\n",
    "    if np.all(np.isnan(snips)):\n",
    "        print(np.nan)\n",
    "        continue\n",
    "\n",
    "    pileup = np.nanmean(snips, axis=2)\n",
    "    score = np.round(boundary_metric_rao(pileup), 2)\n",
    "#     np.savetxt(f'{savepath}{ct}_{xl}_{enz}_pileup.txt', pileup, delimiter=',') \n",
    "    print(np.log10(pileup).min(), np.log10(pileup).max())\n",
    "    ax = fig.add_subplot(gs[r,c])\n",
    "    if r == 0:\n",
    "        ax.set_title(enz, fontsize=14, fontweight='bold')\n",
    "    if c == 0:\n",
    "        ax.set_ylabel(xl, fontsize=14, fontweight='bold')\n",
    "    ax.set_xticks([])\n",
    "    ax.set_yticks([])\n",
    "    img = ax.imshow(np.log10(pileup), cmap='coolwarm', vmin=-lim, vmax=lim)\n",
    "    ax.text(int(pileup.shape[0]*0.8),int(pileup.shape[0])*0.2, score, fontsize=12)\n",
    "\n",
    "    cax = fig.add_subplot(gs[:,-1])\n",
    "    cbar = plt.colorbar(img, cax=cax, ticks=[-lim, -lim/2, 0, lim/2, lim])\n",
    "    cax.set_yticklabels([f'<= -{lim}', f'-{lim/2}', '0', f'{lim/2}', f'>= {lim}'])\n",
    "    fig.tight_layout(pad=4, w_pad=1, h_pad=1)\n",
    "\n",
    "# #     x = np.log10(insul['strength'].values)\n",
    "# #     _ = ax.hist(x, bins=bins)\n",
    "    fig.savefig(f'{savepath}/{celltype}.pdf', format='pdf')\n",
    "    fig.savefig(f'{savepath}/{celltype}.png', format='png')\n",
    "\n"
   ]
  },
  {
   "cell_type": "code",
   "execution_count": null,
   "metadata": {
    "ExecuteTime": {
     "end_time": "2020-03-02T14:49:55.490999Z",
     "start_time": "2020-03-02T14:49:40.777570Z"
    },
    "scrolled": true
   },
   "outputs": [],
   "source": [
    "imp.reload(mm)\n",
    "ds = mm.Dataset()\n",
    "table = ds.get_tables()\n",
    "table = mm.filter_data(table, filter_dict={'seq':'deep'})\n",
    "ins_res = 1000\n",
    "win = 20\n",
    "table = mm.get_insulation(table, res=ins_res, window_px=win)\n",
    "table = mm.get_dot_calls(table, anchors=True, anchor_rad=10000)\n",
    "table = mm.get_coolers(table, res=1000).dropna()\n",
    "table"
   ]
  },
  {
   "cell_type": "code",
   "execution_count": null,
   "metadata": {
    "ExecuteTime": {
     "end_time": "2020-03-02T15:02:46.539124Z",
     "start_time": "2020-03-02T15:01:15.489898Z"
    },
    "scrolled": true
   },
   "outputs": [],
   "source": [
    "dot_thres = 0\n",
    "distance = 500000\n",
    "dist_range = 200000\n",
    "\n",
    "arms = DNA_info.get_chromosome_arms('hg38')\n",
    "for _, row in table.iterrows():\n",
    "    name = row['lib_name']\n",
    "    fig, ax = plt.subplots(nrows=1, ncols=2, figsize=(6, 3), constrained_layout=True,\n",
    "                       sharex=True, sharey=True)\n",
    "    fig.suptitle(name)\n",
    "\n",
    "    ins = row[f'insulation_{ins_res}_win{win}'].dropna().reset_index(drop=True)\n",
    "    ins = ins.rename(columns={f'log2_insulation_score_{ins_res*win}':'insulation',\n",
    "                              f'boundary_strength_{ins_res*win}':'strength'})\n",
    "    ins = ins[['chrom','start','end', 'insulation', 'strength', 'category']]\n",
    "    anchors = row['anchors_10000']\n",
    "    anchors = anchors.groupby('clust_id').aggregate({'chrom':'first','start':'min', 'end':'max', 'dot_id':'count'})\n",
    "    anchors = anchors.rename(columns={'dot_id':'count'}).reset_index(drop=True)\n",
    "\n",
    "    with tsv(ins) as a, tsv(anchors) as b:\n",
    "        out = bedtools.intersect(a=a.name, b=b.name, loj=True, wa=True, wb=True)\n",
    "        out.columns = [x for x in ins.columns] + ['dot_'+x for x in anchors.columns]\n",
    "\n",
    "    out['dot_count'] = out['dot_count'].apply(lambda x: 0 if x == '.' else int(x))\n",
    "    out = out[['chrom', 'start', 'end', 'insulation', 'strength', 'category', 'dot_count']]\n",
    "    out['dot_occ'] = out['dot_count'].apply(lambda x: False if x<=dot_thres else True)\n",
    "\n",
    "\n",
    "\n",
    "    for j, cat in enumerate(['strong', 'weak']):\n",
    "\n",
    "        df = out.loc[out.dot_occ & (out['category'] == cat)].copy()\n",
    "        df = snipping.assign_regions(df, arms)\n",
    "        df['strand'] = '.'\n",
    "        df = df.set_index('region')\n",
    "        paired = snipping.pair_sites(df, distance, dist_range)\n",
    "        paired = paired.rename(columns=lambda x: x[0:-2]+'1' if '_r' in x else x[0:-2]+'2')\n",
    "        paired = paired[paired['site_id1'] == paired['site_id2']]\n",
    "        paired = paired[['chrom1','snip_mid1','chrom2','snip_mid2']]\n",
    "\n",
    "        binned_df1 = snipping.make_bin_aligned_windows(1000, paired['chrom1'].values, \n",
    "                                               paired['snip_mid1'].values, flank_bp=200000)\n",
    "        binned_df2 = snipping.make_bin_aligned_windows(1000, paired['chrom2'].values, \n",
    "                                               paired['snip_mid2'].values, flank_bp=200000)\n",
    "        binned_df1 = binned_df1[['chrom', 'start', 'end']].merge(binned_df2[['chrom', 'start', 'end']], \n",
    "                                                        left_index=True, right_index=True, suffixes=('1', '2'))\n",
    "        features = snipping.assign_regions(binned_df1, arms)\n",
    "        assert np.all(features['region'].apply(lambda x: isinstance(x, str)))\n",
    "\n",
    "        cool = row['cooler_1000']\n",
    "\n",
    "        snipper = cooltools_pileups.LocalObsExpSnipper(cool, cooler_opts={'balance':True})\n",
    "    #     snipper = snipping.CoolerSnipper(cool, cooler_opts={'balance':True})\n",
    "        with mp.Pool(20) as p:\n",
    "            snips = snipping.pileup(features, snipper.select, snipper.snip, map=p.map)\n",
    "\n",
    "        if np.all(np.isnan(snips)):\n",
    "            print(np.nan)\n",
    "            continue\n",
    "\n",
    "        pileup = np.log10(np.nanmean(snips, axis=2))\n",
    "        thres = np.percentile(np.abs(pileup.flatten()), 80)\n",
    "        print(np.nanmax(pileup), np.nanmin(pileup))\n",
    "        ax[j].set_title(f'{features.shape[0]} {cat} boundaries')\n",
    "        ax[j].imshow(pileup, cmap='coolwarm', vmin=-thres, vmax=thres)\n",
    "\n",
    "    fig.savefig(f'/home/sameer/Dropbox (MIT)/Research/U54_matrix/insulation/dot_anchors/no_dots/{name}_{ins_res}.png')"
   ]
  },
  {
   "cell_type": "code",
   "execution_count": null,
   "metadata": {
    "ExecuteTime": {
     "end_time": "2020-03-02T04:50:24.376792Z",
     "start_time": "2020-03-02T04:50:24.359360Z"
    }
   },
   "outputs": [],
   "source": []
  },
  {
   "cell_type": "code",
   "execution_count": null,
   "metadata": {
    "ExecuteTime": {
     "end_time": "2020-03-02T04:50:17.809543Z",
     "start_time": "2020-03-02T04:50:17.793108Z"
    }
   },
   "outputs": [],
   "source": [
    "pileup"
   ]
  },
  {
   "cell_type": "code",
   "execution_count": null,
   "metadata": {
    "ExecuteTime": {
     "end_time": "2020-03-02T02:03:03.449720Z",
     "start_time": "2020-03-02T02:03:00.144615Z"
    }
   },
   "outputs": [],
   "source": [
    "celltypes = ['HFF']#table.celltype.unique()\n",
    "bins = np.linspace(-6, 1, 100)\n",
    "\n",
    "for ct in celltypes:\n",
    "    if ct =='HelaS3':\n",
    "        continue\n",
    "    df = table[table.celltype==ct].reset_index(drop=True)\n",
    "\n",
    "    fig, ax = plt.subplots(nrows=2, ncols=len(df), figsize=(2*len(df), 4), constrained_layout=True,\n",
    "                       sharex=True, sharey=True)\n",
    "    fig.suptitle(f'Celltype: {ct}')\n",
    "\n",
    "    for i, row in df.iterrows():\n",
    "\n",
    "        ins = row['insulation_10000_win10'].dropna().reset_index(drop=True)\n",
    "        ins = ins.rename(columns={'log2_insulation_score_100000':'insulation',\n",
    "                                  'boundary_strength_100000':'strength'})\n",
    "        ins = ins[['chrom','start','end', 'insulation', 'strength', 'category']]\n",
    "        anchors = row['anchors_10000']\n",
    "        anchors = anchors.groupby('clust_id').aggregate({'chrom':'first','start':'min', 'end':'max', 'dot_id':'count'})\n",
    "        anchors = anchors.rename(columns={'dot_id':'count'}).reset_index(drop=True)\n",
    "\n",
    "        with tsv(ins) as a, tsv(anchors) as b:\n",
    "            out = bedtools.intersect(a=a.name, b=b.name, loj=True, wa=True, wb=True)\n",
    "            out.columns = [x for x in ins.columns] + ['dot_'+x for x in anchors.columns]\n",
    "\n",
    "        out['dot_count'] = out['dot_count'].apply(lambda x: 0 if x == '.' else int(x))\n",
    "        out = out[['chrom', 'start', 'end', 'insulation', 'strength', 'category', 'dot_count']]\n",
    "        out['dot_occ'] = out['dot_count'].apply(lambda x: False if x==0 else True)\n",
    "        \n",
    "        if not i:\n",
    "            ax[0,i].set_ylabel('With dot anchors')\n",
    "            ax[1,i].set_ylabel('NO dot anchors')\n",
    "        \n",
    "        ax[0,i].set_title(f\"{row['xlink']}-{row['enzyme']}\")\n",
    "        x = out.loc[out.dot_occ & (out['category'] == 'weak'), 'strength'].values\n",
    "        x = np.log10(x)\n",
    "        _ = ax[0,i].hist(x, bins=bins, label='weak', color='royalblue')#, histtype='step')\n",
    "        x = out.loc[out.dot_occ & (out['category'] == 'strong'), 'strength'].values\n",
    "        x = np.log10(x)\n",
    "        _ = ax[0,i].hist(x, bins=bins, label='strong',color='darkorange')#, histtype='step')\n",
    "\n",
    "        x = out.loc[(~out.dot_occ) & (out['category'] == 'weak'), 'strength'].values\n",
    "        x = np.log10(x)\n",
    "        _ = ax[1,i].hist(x, bins=bins, label='weak', color='royalblue')#, histtype='step')\n",
    "        x = out.loc[(~out.dot_occ) & (out['category'] == 'strong'), 'strength'].values\n",
    "        x = np.log10(x)\n",
    "        _ = ax[1,i].hist(x, bins=bins, label='strong',color='darkorange')#', histtype='step')\n",
    "\n",
    "        x = out.loc[(out['category'] == 'weak'), 'strength'].values\n",
    "        x = np.log10(x)\n",
    "        _ = ax[0,i].hist(x, bins=bins, label='weak', color='royalblue', histtype='step')\n",
    "        _ = ax[1,i].hist(x, bins=bins, label='weak', color='royalblue', histtype='step')\n",
    "        x = out.loc[(out['category'] == 'strong'), 'strength'].values\n",
    "        x = np.log10(x)\n",
    "        _ = ax[0,i].hist(x, bins=bins, label='strong', color='darkorange', histtype='step')\n",
    "        _ = ax[1,i].hist(x, bins=bins, label='strong', color='darkorange', histtype='step')\n",
    "#     fig.savefig(f'/home/sameer/Dropbox (MIT)/Research/U54_matrix/insulation/dot_anchors/{ct}_hist.png')"
   ]
  },
  {
   "cell_type": "code",
   "execution_count": null,
   "metadata": {
    "ExecuteTime": {
     "end_time": "2019-07-29T10:55:19.292890Z",
     "start_time": "2019-07-29T10:55:19.209052Z"
    }
   },
   "outputs": [],
   "source": []
  },
  {
   "cell_type": "code",
   "execution_count": null,
   "metadata": {
    "ExecuteTime": {
     "end_time": "2019-07-29T10:46:40.211575Z",
     "start_time": "2019-07-29T10:46:40.108082Z"
    }
   },
   "outputs": [],
   "source": []
  },
  {
   "cell_type": "code",
   "execution_count": null,
   "metadata": {
    "ExecuteTime": {
     "end_time": "2019-07-29T11:57:45.457684Z",
     "start_time": "2019-07-29T11:57:45.220410Z"
    }
   },
   "outputs": [],
   "source": []
  },
  {
   "cell_type": "code",
   "execution_count": null,
   "metadata": {
    "ExecuteTime": {
     "end_time": "2019-07-29T12:00:01.769625Z",
     "start_time": "2019-07-29T11:57:59.325095Z"
    },
    "scrolled": true
   },
   "outputs": [],
   "source": []
  },
  {
   "cell_type": "code",
   "execution_count": null,
   "metadata": {
    "ExecuteTime": {
     "end_time": "2019-07-29T12:00:59.270098Z",
     "start_time": "2019-07-29T12:00:59.254114Z"
    }
   },
   "outputs": [],
   "source": []
  },
  {
   "cell_type": "code",
   "execution_count": null,
   "metadata": {
    "ExecuteTime": {
     "end_time": "2019-07-29T11:09:12.352807Z",
     "start_time": "2019-07-29T11:09:12.344598Z"
    }
   },
   "outputs": [],
   "source": []
  },
  {
   "cell_type": "code",
   "execution_count": null,
   "metadata": {
    "ExecuteTime": {
     "end_time": "2019-07-29T12:01:14.211765Z",
     "start_time": "2019-07-29T12:01:14.170256Z"
    },
    "scrolled": true
   },
   "outputs": [],
   "source": []
  },
  {
   "cell_type": "code",
   "execution_count": null,
   "metadata": {
    "ExecuteTime": {
     "end_time": "2019-07-29T11:42:33.506925Z",
     "start_time": "2019-07-29T11:42:33.498767Z"
    }
   },
   "outputs": [],
   "source": []
  },
  {
   "cell_type": "code",
   "execution_count": null,
   "metadata": {
    "ExecuteTime": {
     "start_time": "2019-07-29T11:48:00.612Z"
    }
   },
   "outputs": [],
   "source": []
  },
  {
   "cell_type": "code",
   "execution_count": null,
   "metadata": {
    "ExecuteTime": {
     "end_time": "2019-07-29T12:08:56.489293Z",
     "start_time": "2019-07-29T12:08:56.175796Z"
    },
    "scrolled": false
   },
   "outputs": [],
   "source": []
  },
  {
   "cell_type": "code",
   "execution_count": null,
   "metadata": {
    "ExecuteTime": {
     "end_time": "2019-07-29T11:33:03.359603Z",
     "start_time": "2019-07-29T11:33:03.350356Z"
    }
   },
   "outputs": [],
   "source": []
  },
  {
   "cell_type": "code",
   "execution_count": null,
   "metadata": {},
   "outputs": [],
   "source": []
  }
 ],
 "metadata": {
  "_draft": {
   "nbviewer_url": "https://gist.github.com/9f36a8968656f712c5d3acd58e89a798"
  },
  "gist": {
   "data": {
    "description": "net/levsha/share/sameer/U54/hic_matrix/TAD_pileup.ipynb",
    "public": false
   },
   "id": "9f36a8968656f712c5d3acd58e89a798"
  },
  "kernelspec": {
   "display_name": "Python 3",
   "language": "python",
   "name": "python3"
  },
  "language_info": {
   "codemirror_mode": {
    "name": "ipython",
    "version": 3
   },
   "file_extension": ".py",
   "mimetype": "text/x-python",
   "name": "python",
   "nbconvert_exporter": "python",
   "pygments_lexer": "ipython3",
   "version": "3.7.6"
  }
 },
 "nbformat": 4,
 "nbformat_minor": 2
}
